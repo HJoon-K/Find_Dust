{
  "nbformat": 4,
  "nbformat_minor": 0,
  "metadata": {
    "colab": {
      "provenance": [],
      "mount_file_id": "1qEogE2LH5lRyij1k-b2PCFIXVQ_fwoL_",
      "authorship_tag": "ABX9TyNKQ5av/gNQ3f8O5Ym/qjwR",
      "include_colab_link": true
    },
    "kernelspec": {
      "name": "python3",
      "display_name": "Python 3"
    },
    "language_info": {
      "name": "python"
    }
  },
  "cells": [
    {
      "cell_type": "markdown",
      "metadata": {
        "id": "view-in-github",
        "colab_type": "text"
      },
      "source": [
        "<a href=\"https://colab.research.google.com/github/HJoon-K/Find_Dust/blob/kim/04%EB%8D%B0%EC%9D%B4%ED%84%B0%EB%B6%84%EC%84%9D.ipynb\" target=\"_parent\"><img src=\"https://colab.research.google.com/assets/colab-badge.svg\" alt=\"Open In Colab\"/></a>"
      ]
    },
    {
      "cell_type": "code",
      "source": [
        "import numpy as np\n",
        "import pandas as pd\n",
        "import matplotlib.pyplot as plt\n",
        "import seaborn as sns\n",
        "import sklearn"
      ],
      "metadata": {
        "id": "9abNezsGFCHZ"
      },
      "execution_count": null,
      "outputs": []
    },
    {
      "cell_type": "code",
      "source": [
        "df = pd.read_csv('/content/drive/MyDrive/Colab Notebooks/dustdata/seoul_dust1620.csv')\n",
        "df.drop('연도', axis=1, inplace=True)\n",
        "df.head()"
      ],
      "metadata": {
        "colab": {
          "base_uri": "https://localhost:8080/",
          "height": 206
        },
        "id": "EOrAm-pSEiK-",
        "outputId": "13f625e4-3e54-4a25-8470-ceab71fceb89"
      },
      "execution_count": null,
      "outputs": [
        {
          "output_type": "execute_result",
          "data": {
            "text/plain": [
              "   자치구  미세먼지나쁨일수       공원율     도로율   가로수량\n",
              "0  강남구        90  0.167034  0.2346  23654\n",
              "1  강남구        84  0.166874  0.2346  23729\n",
              "2  강남구        64  0.166874  0.2347  23451\n",
              "3  강남구        65  0.166940  0.2358  23349\n",
              "4  강남구        45  0.196671  0.2358  23479"
            ],
            "text/html": [
              "\n",
              "  <div id=\"df-569141ad-deae-4e70-9d79-3fc30afdbde8\">\n",
              "    <div class=\"colab-df-container\">\n",
              "      <div>\n",
              "<style scoped>\n",
              "    .dataframe tbody tr th:only-of-type {\n",
              "        vertical-align: middle;\n",
              "    }\n",
              "\n",
              "    .dataframe tbody tr th {\n",
              "        vertical-align: top;\n",
              "    }\n",
              "\n",
              "    .dataframe thead th {\n",
              "        text-align: right;\n",
              "    }\n",
              "</style>\n",
              "<table border=\"1\" class=\"dataframe\">\n",
              "  <thead>\n",
              "    <tr style=\"text-align: right;\">\n",
              "      <th></th>\n",
              "      <th>자치구</th>\n",
              "      <th>미세먼지나쁨일수</th>\n",
              "      <th>공원율</th>\n",
              "      <th>도로율</th>\n",
              "      <th>가로수량</th>\n",
              "    </tr>\n",
              "  </thead>\n",
              "  <tbody>\n",
              "    <tr>\n",
              "      <th>0</th>\n",
              "      <td>강남구</td>\n",
              "      <td>90</td>\n",
              "      <td>0.167034</td>\n",
              "      <td>0.2346</td>\n",
              "      <td>23654</td>\n",
              "    </tr>\n",
              "    <tr>\n",
              "      <th>1</th>\n",
              "      <td>강남구</td>\n",
              "      <td>84</td>\n",
              "      <td>0.166874</td>\n",
              "      <td>0.2346</td>\n",
              "      <td>23729</td>\n",
              "    </tr>\n",
              "    <tr>\n",
              "      <th>2</th>\n",
              "      <td>강남구</td>\n",
              "      <td>64</td>\n",
              "      <td>0.166874</td>\n",
              "      <td>0.2347</td>\n",
              "      <td>23451</td>\n",
              "    </tr>\n",
              "    <tr>\n",
              "      <th>3</th>\n",
              "      <td>강남구</td>\n",
              "      <td>65</td>\n",
              "      <td>0.166940</td>\n",
              "      <td>0.2358</td>\n",
              "      <td>23349</td>\n",
              "    </tr>\n",
              "    <tr>\n",
              "      <th>4</th>\n",
              "      <td>강남구</td>\n",
              "      <td>45</td>\n",
              "      <td>0.196671</td>\n",
              "      <td>0.2358</td>\n",
              "      <td>23479</td>\n",
              "    </tr>\n",
              "  </tbody>\n",
              "</table>\n",
              "</div>\n",
              "      <button class=\"colab-df-convert\" onclick=\"convertToInteractive('df-569141ad-deae-4e70-9d79-3fc30afdbde8')\"\n",
              "              title=\"Convert this dataframe to an interactive table.\"\n",
              "              style=\"display:none;\">\n",
              "        \n",
              "  <svg xmlns=\"http://www.w3.org/2000/svg\" height=\"24px\"viewBox=\"0 0 24 24\"\n",
              "       width=\"24px\">\n",
              "    <path d=\"M0 0h24v24H0V0z\" fill=\"none\"/>\n",
              "    <path d=\"M18.56 5.44l.94 2.06.94-2.06 2.06-.94-2.06-.94-.94-2.06-.94 2.06-2.06.94zm-11 1L8.5 8.5l.94-2.06 2.06-.94-2.06-.94L8.5 2.5l-.94 2.06-2.06.94zm10 10l.94 2.06.94-2.06 2.06-.94-2.06-.94-.94-2.06-.94 2.06-2.06.94z\"/><path d=\"M17.41 7.96l-1.37-1.37c-.4-.4-.92-.59-1.43-.59-.52 0-1.04.2-1.43.59L10.3 9.45l-7.72 7.72c-.78.78-.78 2.05 0 2.83L4 21.41c.39.39.9.59 1.41.59.51 0 1.02-.2 1.41-.59l7.78-7.78 2.81-2.81c.8-.78.8-2.07 0-2.86zM5.41 20L4 18.59l7.72-7.72 1.47 1.35L5.41 20z\"/>\n",
              "  </svg>\n",
              "      </button>\n",
              "      \n",
              "  <style>\n",
              "    .colab-df-container {\n",
              "      display:flex;\n",
              "      flex-wrap:wrap;\n",
              "      gap: 12px;\n",
              "    }\n",
              "\n",
              "    .colab-df-convert {\n",
              "      background-color: #E8F0FE;\n",
              "      border: none;\n",
              "      border-radius: 50%;\n",
              "      cursor: pointer;\n",
              "      display: none;\n",
              "      fill: #1967D2;\n",
              "      height: 32px;\n",
              "      padding: 0 0 0 0;\n",
              "      width: 32px;\n",
              "    }\n",
              "\n",
              "    .colab-df-convert:hover {\n",
              "      background-color: #E2EBFA;\n",
              "      box-shadow: 0px 1px 2px rgba(60, 64, 67, 0.3), 0px 1px 3px 1px rgba(60, 64, 67, 0.15);\n",
              "      fill: #174EA6;\n",
              "    }\n",
              "\n",
              "    [theme=dark] .colab-df-convert {\n",
              "      background-color: #3B4455;\n",
              "      fill: #D2E3FC;\n",
              "    }\n",
              "\n",
              "    [theme=dark] .colab-df-convert:hover {\n",
              "      background-color: #434B5C;\n",
              "      box-shadow: 0px 1px 3px 1px rgba(0, 0, 0, 0.15);\n",
              "      filter: drop-shadow(0px 1px 2px rgba(0, 0, 0, 0.3));\n",
              "      fill: #FFFFFF;\n",
              "    }\n",
              "  </style>\n",
              "\n",
              "      <script>\n",
              "        const buttonEl =\n",
              "          document.querySelector('#df-569141ad-deae-4e70-9d79-3fc30afdbde8 button.colab-df-convert');\n",
              "        buttonEl.style.display =\n",
              "          google.colab.kernel.accessAllowed ? 'block' : 'none';\n",
              "\n",
              "        async function convertToInteractive(key) {\n",
              "          const element = document.querySelector('#df-569141ad-deae-4e70-9d79-3fc30afdbde8');\n",
              "          const dataTable =\n",
              "            await google.colab.kernel.invokeFunction('convertToInteractive',\n",
              "                                                     [key], {});\n",
              "          if (!dataTable) return;\n",
              "\n",
              "          const docLinkHtml = 'Like what you see? Visit the ' +\n",
              "            '<a target=\"_blank\" href=https://colab.research.google.com/notebooks/data_table.ipynb>data table notebook</a>'\n",
              "            + ' to learn more about interactive tables.';\n",
              "          element.innerHTML = '';\n",
              "          dataTable['output_type'] = 'display_data';\n",
              "          await google.colab.output.renderOutput(dataTable, element);\n",
              "          const docLink = document.createElement('div');\n",
              "          docLink.innerHTML = docLinkHtml;\n",
              "          element.appendChild(docLink);\n",
              "        }\n",
              "      </script>\n",
              "    </div>\n",
              "  </div>\n",
              "  "
            ]
          },
          "metadata": {},
          "execution_count": 2
        }
      ]
    },
    {
      "cell_type": "code",
      "execution_count": null,
      "metadata": {
        "id": "sAP6szYyDwd3"
      },
      "outputs": [],
      "source": [
        "from sklearn.linear_model import LinearRegression\n",
        "from sklearn.metrics import r2_score \n",
        "lr = LinearRegression()"
      ]
    },
    {
      "cell_type": "code",
      "source": [
        "for feature in df.columns[2: ]:\n",
        "    X = df[feature].values.reshape((-1,1))\n",
        "    lr.fit(X, df['미세먼지나쁨일수'])\n",
        "    score = lr.score(X,df['미세먼지나쁨일수'])\n",
        "    print(f'{feature} : {score:.4f} \\t{lr.coef_} \\t{lr.intercept_}')"
      ],
      "metadata": {
        "colab": {
          "base_uri": "https://localhost:8080/"
        },
        "id": "lesuMbGwEEmQ",
        "outputId": "a8730dde-a6e4-4ccc-9f3f-f5d602e6694c"
      },
      "execution_count": null,
      "outputs": [
        {
          "output_type": "stream",
          "name": "stdout",
          "text": [
            "공원율 : 0.0189 \t[-14.77114654] \t70.71237477404563\n",
            "도로율 : 0.0417 \t[100.08105771] \t44.01385855593716\n",
            "가로수량 : 0.0110 \t[0.00033651] \t62.893703325626774\n"
          ]
        }
      ]
    },
    {
      "cell_type": "code",
      "source": [
        "df19 = pd.read_csv('/content/drive/MyDrive/Colab Notebooks/dustdata/seoul_dust2019.csv')\n",
        "df19.head()"
      ],
      "metadata": {
        "id": "qVxJ07ovF5jn",
        "colab": {
          "base_uri": "https://localhost:8080/",
          "height": 206
        },
        "outputId": "ae874431-8147-4786-c3dd-7cab05a2289f"
      },
      "execution_count": null,
      "outputs": [
        {
          "output_type": "execute_result",
          "data": {
            "text/plain": [
              "   자치구  미세먼지나쁨일수       공원율     도로율  가로수량도로면적당    교통량\n",
              "0  강남구        65  0.166940  0.2358       4096  24.41\n",
              "1  강동구        70  0.137039  0.2428       4845  23.40\n",
              "2  강북구        67  0.607725  0.2091       3933  21.45\n",
              "3  강서구        69  0.105471  0.2683       2727  23.24\n",
              "4  관악구        76  0.371230  0.2541       3351  25.09"
            ],
            "text/html": [
              "\n",
              "  <div id=\"df-67daaf3b-f47d-4841-8768-fbea603100bf\">\n",
              "    <div class=\"colab-df-container\">\n",
              "      <div>\n",
              "<style scoped>\n",
              "    .dataframe tbody tr th:only-of-type {\n",
              "        vertical-align: middle;\n",
              "    }\n",
              "\n",
              "    .dataframe tbody tr th {\n",
              "        vertical-align: top;\n",
              "    }\n",
              "\n",
              "    .dataframe thead th {\n",
              "        text-align: right;\n",
              "    }\n",
              "</style>\n",
              "<table border=\"1\" class=\"dataframe\">\n",
              "  <thead>\n",
              "    <tr style=\"text-align: right;\">\n",
              "      <th></th>\n",
              "      <th>자치구</th>\n",
              "      <th>미세먼지나쁨일수</th>\n",
              "      <th>공원율</th>\n",
              "      <th>도로율</th>\n",
              "      <th>가로수량도로면적당</th>\n",
              "      <th>교통량</th>\n",
              "    </tr>\n",
              "  </thead>\n",
              "  <tbody>\n",
              "    <tr>\n",
              "      <th>0</th>\n",
              "      <td>강남구</td>\n",
              "      <td>65</td>\n",
              "      <td>0.166940</td>\n",
              "      <td>0.2358</td>\n",
              "      <td>4096</td>\n",
              "      <td>24.41</td>\n",
              "    </tr>\n",
              "    <tr>\n",
              "      <th>1</th>\n",
              "      <td>강동구</td>\n",
              "      <td>70</td>\n",
              "      <td>0.137039</td>\n",
              "      <td>0.2428</td>\n",
              "      <td>4845</td>\n",
              "      <td>23.40</td>\n",
              "    </tr>\n",
              "    <tr>\n",
              "      <th>2</th>\n",
              "      <td>강북구</td>\n",
              "      <td>67</td>\n",
              "      <td>0.607725</td>\n",
              "      <td>0.2091</td>\n",
              "      <td>3933</td>\n",
              "      <td>21.45</td>\n",
              "    </tr>\n",
              "    <tr>\n",
              "      <th>3</th>\n",
              "      <td>강서구</td>\n",
              "      <td>69</td>\n",
              "      <td>0.105471</td>\n",
              "      <td>0.2683</td>\n",
              "      <td>2727</td>\n",
              "      <td>23.24</td>\n",
              "    </tr>\n",
              "    <tr>\n",
              "      <th>4</th>\n",
              "      <td>관악구</td>\n",
              "      <td>76</td>\n",
              "      <td>0.371230</td>\n",
              "      <td>0.2541</td>\n",
              "      <td>3351</td>\n",
              "      <td>25.09</td>\n",
              "    </tr>\n",
              "  </tbody>\n",
              "</table>\n",
              "</div>\n",
              "      <button class=\"colab-df-convert\" onclick=\"convertToInteractive('df-67daaf3b-f47d-4841-8768-fbea603100bf')\"\n",
              "              title=\"Convert this dataframe to an interactive table.\"\n",
              "              style=\"display:none;\">\n",
              "        \n",
              "  <svg xmlns=\"http://www.w3.org/2000/svg\" height=\"24px\"viewBox=\"0 0 24 24\"\n",
              "       width=\"24px\">\n",
              "    <path d=\"M0 0h24v24H0V0z\" fill=\"none\"/>\n",
              "    <path d=\"M18.56 5.44l.94 2.06.94-2.06 2.06-.94-2.06-.94-.94-2.06-.94 2.06-2.06.94zm-11 1L8.5 8.5l.94-2.06 2.06-.94-2.06-.94L8.5 2.5l-.94 2.06-2.06.94zm10 10l.94 2.06.94-2.06 2.06-.94-2.06-.94-.94-2.06-.94 2.06-2.06.94z\"/><path d=\"M17.41 7.96l-1.37-1.37c-.4-.4-.92-.59-1.43-.59-.52 0-1.04.2-1.43.59L10.3 9.45l-7.72 7.72c-.78.78-.78 2.05 0 2.83L4 21.41c.39.39.9.59 1.41.59.51 0 1.02-.2 1.41-.59l7.78-7.78 2.81-2.81c.8-.78.8-2.07 0-2.86zM5.41 20L4 18.59l7.72-7.72 1.47 1.35L5.41 20z\"/>\n",
              "  </svg>\n",
              "      </button>\n",
              "      \n",
              "  <style>\n",
              "    .colab-df-container {\n",
              "      display:flex;\n",
              "      flex-wrap:wrap;\n",
              "      gap: 12px;\n",
              "    }\n",
              "\n",
              "    .colab-df-convert {\n",
              "      background-color: #E8F0FE;\n",
              "      border: none;\n",
              "      border-radius: 50%;\n",
              "      cursor: pointer;\n",
              "      display: none;\n",
              "      fill: #1967D2;\n",
              "      height: 32px;\n",
              "      padding: 0 0 0 0;\n",
              "      width: 32px;\n",
              "    }\n",
              "\n",
              "    .colab-df-convert:hover {\n",
              "      background-color: #E2EBFA;\n",
              "      box-shadow: 0px 1px 2px rgba(60, 64, 67, 0.3), 0px 1px 3px 1px rgba(60, 64, 67, 0.15);\n",
              "      fill: #174EA6;\n",
              "    }\n",
              "\n",
              "    [theme=dark] .colab-df-convert {\n",
              "      background-color: #3B4455;\n",
              "      fill: #D2E3FC;\n",
              "    }\n",
              "\n",
              "    [theme=dark] .colab-df-convert:hover {\n",
              "      background-color: #434B5C;\n",
              "      box-shadow: 0px 1px 3px 1px rgba(0, 0, 0, 0.15);\n",
              "      filter: drop-shadow(0px 1px 2px rgba(0, 0, 0, 0.3));\n",
              "      fill: #FFFFFF;\n",
              "    }\n",
              "  </style>\n",
              "\n",
              "      <script>\n",
              "        const buttonEl =\n",
              "          document.querySelector('#df-67daaf3b-f47d-4841-8768-fbea603100bf button.colab-df-convert');\n",
              "        buttonEl.style.display =\n",
              "          google.colab.kernel.accessAllowed ? 'block' : 'none';\n",
              "\n",
              "        async function convertToInteractive(key) {\n",
              "          const element = document.querySelector('#df-67daaf3b-f47d-4841-8768-fbea603100bf');\n",
              "          const dataTable =\n",
              "            await google.colab.kernel.invokeFunction('convertToInteractive',\n",
              "                                                     [key], {});\n",
              "          if (!dataTable) return;\n",
              "\n",
              "          const docLinkHtml = 'Like what you see? Visit the ' +\n",
              "            '<a target=\"_blank\" href=https://colab.research.google.com/notebooks/data_table.ipynb>data table notebook</a>'\n",
              "            + ' to learn more about interactive tables.';\n",
              "          element.innerHTML = '';\n",
              "          dataTable['output_type'] = 'display_data';\n",
              "          await google.colab.output.renderOutput(dataTable, element);\n",
              "          const docLink = document.createElement('div');\n",
              "          docLink.innerHTML = docLinkHtml;\n",
              "          element.appendChild(docLink);\n",
              "        }\n",
              "      </script>\n",
              "    </div>\n",
              "  </div>\n",
              "  "
            ]
          },
          "metadata": {},
          "execution_count": 5
        }
      ]
    },
    {
      "cell_type": "code",
      "source": [
        "df19_a = np.array(df19.iloc[:,2:])\n",
        "df19_a"
      ],
      "metadata": {
        "id": "Zc9bOznct3c4"
      },
      "execution_count": null,
      "outputs": []
    },
    {
      "cell_type": "code",
      "source": [
        "from sklearn.preprocessing import MinMaxScaler\n",
        "dust19_a = np.array(df19.iloc[:,2:])\n",
        "a19_mm = MinMaxScaler().fit_transform(df19_a)\n",
        "df19_mm = pd.DataFrame(a19_mm, columns=df19.columns[2:])\n",
        "df19_mm.describe()"
      ],
      "metadata": {
        "colab": {
          "base_uri": "https://localhost:8080/",
          "height": 300
        },
        "id": "HLFumct_sXlv",
        "outputId": "ac28456c-050b-4fb2-cbe7-63c56df2c217"
      },
      "execution_count": null,
      "outputs": [
        {
          "output_type": "execute_result",
          "data": {
            "text/plain": [
              "             공원율        도로율  가로수량도로면적당        교통량\n",
              "count  25.000000  25.000000  25.000000  25.000000\n",
              "mean    0.346115   0.490626   0.467223   0.593459\n",
              "std     0.274572   0.278562   0.273945   0.237395\n",
              "min     0.000000   0.000000   0.000000   0.000000\n",
              "25%     0.160414   0.321337   0.244920   0.464544\n",
              "50%     0.219911   0.508141   0.467380   0.609262\n",
              "75%     0.495690   0.706941   0.674866   0.767004\n",
              "max     1.000000   1.000000   1.000000   1.000000"
            ],
            "text/html": [
              "\n",
              "  <div id=\"df-873967e5-f212-48d2-a60a-9666d7da2577\">\n",
              "    <div class=\"colab-df-container\">\n",
              "      <div>\n",
              "<style scoped>\n",
              "    .dataframe tbody tr th:only-of-type {\n",
              "        vertical-align: middle;\n",
              "    }\n",
              "\n",
              "    .dataframe tbody tr th {\n",
              "        vertical-align: top;\n",
              "    }\n",
              "\n",
              "    .dataframe thead th {\n",
              "        text-align: right;\n",
              "    }\n",
              "</style>\n",
              "<table border=\"1\" class=\"dataframe\">\n",
              "  <thead>\n",
              "    <tr style=\"text-align: right;\">\n",
              "      <th></th>\n",
              "      <th>공원율</th>\n",
              "      <th>도로율</th>\n",
              "      <th>가로수량도로면적당</th>\n",
              "      <th>교통량</th>\n",
              "    </tr>\n",
              "  </thead>\n",
              "  <tbody>\n",
              "    <tr>\n",
              "      <th>count</th>\n",
              "      <td>25.000000</td>\n",
              "      <td>25.000000</td>\n",
              "      <td>25.000000</td>\n",
              "      <td>25.000000</td>\n",
              "    </tr>\n",
              "    <tr>\n",
              "      <th>mean</th>\n",
              "      <td>0.346115</td>\n",
              "      <td>0.490626</td>\n",
              "      <td>0.467223</td>\n",
              "      <td>0.593459</td>\n",
              "    </tr>\n",
              "    <tr>\n",
              "      <th>std</th>\n",
              "      <td>0.274572</td>\n",
              "      <td>0.278562</td>\n",
              "      <td>0.273945</td>\n",
              "      <td>0.237395</td>\n",
              "    </tr>\n",
              "    <tr>\n",
              "      <th>min</th>\n",
              "      <td>0.000000</td>\n",
              "      <td>0.000000</td>\n",
              "      <td>0.000000</td>\n",
              "      <td>0.000000</td>\n",
              "    </tr>\n",
              "    <tr>\n",
              "      <th>25%</th>\n",
              "      <td>0.160414</td>\n",
              "      <td>0.321337</td>\n",
              "      <td>0.244920</td>\n",
              "      <td>0.464544</td>\n",
              "    </tr>\n",
              "    <tr>\n",
              "      <th>50%</th>\n",
              "      <td>0.219911</td>\n",
              "      <td>0.508141</td>\n",
              "      <td>0.467380</td>\n",
              "      <td>0.609262</td>\n",
              "    </tr>\n",
              "    <tr>\n",
              "      <th>75%</th>\n",
              "      <td>0.495690</td>\n",
              "      <td>0.706941</td>\n",
              "      <td>0.674866</td>\n",
              "      <td>0.767004</td>\n",
              "    </tr>\n",
              "    <tr>\n",
              "      <th>max</th>\n",
              "      <td>1.000000</td>\n",
              "      <td>1.000000</td>\n",
              "      <td>1.000000</td>\n",
              "      <td>1.000000</td>\n",
              "    </tr>\n",
              "  </tbody>\n",
              "</table>\n",
              "</div>\n",
              "      <button class=\"colab-df-convert\" onclick=\"convertToInteractive('df-873967e5-f212-48d2-a60a-9666d7da2577')\"\n",
              "              title=\"Convert this dataframe to an interactive table.\"\n",
              "              style=\"display:none;\">\n",
              "        \n",
              "  <svg xmlns=\"http://www.w3.org/2000/svg\" height=\"24px\"viewBox=\"0 0 24 24\"\n",
              "       width=\"24px\">\n",
              "    <path d=\"M0 0h24v24H0V0z\" fill=\"none\"/>\n",
              "    <path d=\"M18.56 5.44l.94 2.06.94-2.06 2.06-.94-2.06-.94-.94-2.06-.94 2.06-2.06.94zm-11 1L8.5 8.5l.94-2.06 2.06-.94-2.06-.94L8.5 2.5l-.94 2.06-2.06.94zm10 10l.94 2.06.94-2.06 2.06-.94-2.06-.94-.94-2.06-.94 2.06-2.06.94z\"/><path d=\"M17.41 7.96l-1.37-1.37c-.4-.4-.92-.59-1.43-.59-.52 0-1.04.2-1.43.59L10.3 9.45l-7.72 7.72c-.78.78-.78 2.05 0 2.83L4 21.41c.39.39.9.59 1.41.59.51 0 1.02-.2 1.41-.59l7.78-7.78 2.81-2.81c.8-.78.8-2.07 0-2.86zM5.41 20L4 18.59l7.72-7.72 1.47 1.35L5.41 20z\"/>\n",
              "  </svg>\n",
              "      </button>\n",
              "      \n",
              "  <style>\n",
              "    .colab-df-container {\n",
              "      display:flex;\n",
              "      flex-wrap:wrap;\n",
              "      gap: 12px;\n",
              "    }\n",
              "\n",
              "    .colab-df-convert {\n",
              "      background-color: #E8F0FE;\n",
              "      border: none;\n",
              "      border-radius: 50%;\n",
              "      cursor: pointer;\n",
              "      display: none;\n",
              "      fill: #1967D2;\n",
              "      height: 32px;\n",
              "      padding: 0 0 0 0;\n",
              "      width: 32px;\n",
              "    }\n",
              "\n",
              "    .colab-df-convert:hover {\n",
              "      background-color: #E2EBFA;\n",
              "      box-shadow: 0px 1px 2px rgba(60, 64, 67, 0.3), 0px 1px 3px 1px rgba(60, 64, 67, 0.15);\n",
              "      fill: #174EA6;\n",
              "    }\n",
              "\n",
              "    [theme=dark] .colab-df-convert {\n",
              "      background-color: #3B4455;\n",
              "      fill: #D2E3FC;\n",
              "    }\n",
              "\n",
              "    [theme=dark] .colab-df-convert:hover {\n",
              "      background-color: #434B5C;\n",
              "      box-shadow: 0px 1px 3px 1px rgba(0, 0, 0, 0.15);\n",
              "      filter: drop-shadow(0px 1px 2px rgba(0, 0, 0, 0.3));\n",
              "      fill: #FFFFFF;\n",
              "    }\n",
              "  </style>\n",
              "\n",
              "      <script>\n",
              "        const buttonEl =\n",
              "          document.querySelector('#df-873967e5-f212-48d2-a60a-9666d7da2577 button.colab-df-convert');\n",
              "        buttonEl.style.display =\n",
              "          google.colab.kernel.accessAllowed ? 'block' : 'none';\n",
              "\n",
              "        async function convertToInteractive(key) {\n",
              "          const element = document.querySelector('#df-873967e5-f212-48d2-a60a-9666d7da2577');\n",
              "          const dataTable =\n",
              "            await google.colab.kernel.invokeFunction('convertToInteractive',\n",
              "                                                     [key], {});\n",
              "          if (!dataTable) return;\n",
              "\n",
              "          const docLinkHtml = 'Like what you see? Visit the ' +\n",
              "            '<a target=\"_blank\" href=https://colab.research.google.com/notebooks/data_table.ipynb>data table notebook</a>'\n",
              "            + ' to learn more about interactive tables.';\n",
              "          element.innerHTML = '';\n",
              "          dataTable['output_type'] = 'display_data';\n",
              "          await google.colab.output.renderOutput(dataTable, element);\n",
              "          const docLink = document.createElement('div');\n",
              "          docLink.innerHTML = docLinkHtml;\n",
              "          element.appendChild(docLink);\n",
              "        }\n",
              "      </script>\n",
              "    </div>\n",
              "  </div>\n",
              "  "
            ]
          },
          "metadata": {},
          "execution_count": 55
        }
      ]
    },
    {
      "cell_type": "code",
      "source": [
        "for feature in df19_mm.columns:\n",
        "    X = df19_mm[feature].values.reshape((-1,1))\n",
        "    lr.fit(X, df19['미세먼지나쁨일수'])\n",
        "    score = lr.score(X,df19['미세먼지나쁨일수'])\n",
        "    print(f'{feature} : {score:.4f} \\t{lr.coef_} \\t{lr.intercept_}')"
      ],
      "metadata": {
        "colab": {
          "base_uri": "https://localhost:8080/"
        },
        "id": "mRtT_KnOnSiy",
        "outputId": "dc698c19-3a09-4e85-def2-3f178067482e"
      },
      "execution_count": null,
      "outputs": [
        {
          "output_type": "stream",
          "name": "stdout",
          "text": [
            "공원율 : 0.1160 \t[-12.93302526] \t70.7963201349348\n",
            "도로율 : 0.1860 \t[16.14325941] \t58.39970470630361\n",
            "가로수량도로면적당 : 0.0057 \t[2.88366329] \t64.97268671650399\n",
            "교통량 : 0.2648 \t[22.60217456] \t52.90654161383459\n"
          ]
        }
      ]
    },
    {
      "cell_type": "code",
      "source": [
        "df = pd.read_csv('/content/drive/MyDrive/Colab Notebooks/dustdata/seoul_dust1619.csv')\n",
        "df.head()"
      ],
      "metadata": {
        "colab": {
          "base_uri": "https://localhost:8080/",
          "height": 206
        },
        "id": "LfNYmzRonsV9",
        "outputId": "0989e71c-7274-48b4-8bd7-895bc274d383"
      },
      "execution_count": null,
      "outputs": [
        {
          "output_type": "execute_result",
          "data": {
            "text/plain": [
              "   자치구    연도  미세먼지나쁨일수       공원율     도로율   가로수량\n",
              "0  강남구  2016        90  0.167034  0.2346  23654\n",
              "1  강남구  2017        84  0.166874  0.2346  23729\n",
              "2  강남구  2018        64  0.166874  0.2347  23451\n",
              "3  강남구  2019        65  0.166940  0.2358  23349\n",
              "4  강동구  2016        87  0.137641  0.2350  16414"
            ],
            "text/html": [
              "\n",
              "  <div id=\"df-e85b80a2-6e13-4a5b-9231-387b54035348\">\n",
              "    <div class=\"colab-df-container\">\n",
              "      <div>\n",
              "<style scoped>\n",
              "    .dataframe tbody tr th:only-of-type {\n",
              "        vertical-align: middle;\n",
              "    }\n",
              "\n",
              "    .dataframe tbody tr th {\n",
              "        vertical-align: top;\n",
              "    }\n",
              "\n",
              "    .dataframe thead th {\n",
              "        text-align: right;\n",
              "    }\n",
              "</style>\n",
              "<table border=\"1\" class=\"dataframe\">\n",
              "  <thead>\n",
              "    <tr style=\"text-align: right;\">\n",
              "      <th></th>\n",
              "      <th>자치구</th>\n",
              "      <th>연도</th>\n",
              "      <th>미세먼지나쁨일수</th>\n",
              "      <th>공원율</th>\n",
              "      <th>도로율</th>\n",
              "      <th>가로수량</th>\n",
              "    </tr>\n",
              "  </thead>\n",
              "  <tbody>\n",
              "    <tr>\n",
              "      <th>0</th>\n",
              "      <td>강남구</td>\n",
              "      <td>2016</td>\n",
              "      <td>90</td>\n",
              "      <td>0.167034</td>\n",
              "      <td>0.2346</td>\n",
              "      <td>23654</td>\n",
              "    </tr>\n",
              "    <tr>\n",
              "      <th>1</th>\n",
              "      <td>강남구</td>\n",
              "      <td>2017</td>\n",
              "      <td>84</td>\n",
              "      <td>0.166874</td>\n",
              "      <td>0.2346</td>\n",
              "      <td>23729</td>\n",
              "    </tr>\n",
              "    <tr>\n",
              "      <th>2</th>\n",
              "      <td>강남구</td>\n",
              "      <td>2018</td>\n",
              "      <td>64</td>\n",
              "      <td>0.166874</td>\n",
              "      <td>0.2347</td>\n",
              "      <td>23451</td>\n",
              "    </tr>\n",
              "    <tr>\n",
              "      <th>3</th>\n",
              "      <td>강남구</td>\n",
              "      <td>2019</td>\n",
              "      <td>65</td>\n",
              "      <td>0.166940</td>\n",
              "      <td>0.2358</td>\n",
              "      <td>23349</td>\n",
              "    </tr>\n",
              "    <tr>\n",
              "      <th>4</th>\n",
              "      <td>강동구</td>\n",
              "      <td>2016</td>\n",
              "      <td>87</td>\n",
              "      <td>0.137641</td>\n",
              "      <td>0.2350</td>\n",
              "      <td>16414</td>\n",
              "    </tr>\n",
              "  </tbody>\n",
              "</table>\n",
              "</div>\n",
              "      <button class=\"colab-df-convert\" onclick=\"convertToInteractive('df-e85b80a2-6e13-4a5b-9231-387b54035348')\"\n",
              "              title=\"Convert this dataframe to an interactive table.\"\n",
              "              style=\"display:none;\">\n",
              "        \n",
              "  <svg xmlns=\"http://www.w3.org/2000/svg\" height=\"24px\"viewBox=\"0 0 24 24\"\n",
              "       width=\"24px\">\n",
              "    <path d=\"M0 0h24v24H0V0z\" fill=\"none\"/>\n",
              "    <path d=\"M18.56 5.44l.94 2.06.94-2.06 2.06-.94-2.06-.94-.94-2.06-.94 2.06-2.06.94zm-11 1L8.5 8.5l.94-2.06 2.06-.94-2.06-.94L8.5 2.5l-.94 2.06-2.06.94zm10 10l.94 2.06.94-2.06 2.06-.94-2.06-.94-.94-2.06-.94 2.06-2.06.94z\"/><path d=\"M17.41 7.96l-1.37-1.37c-.4-.4-.92-.59-1.43-.59-.52 0-1.04.2-1.43.59L10.3 9.45l-7.72 7.72c-.78.78-.78 2.05 0 2.83L4 21.41c.39.39.9.59 1.41.59.51 0 1.02-.2 1.41-.59l7.78-7.78 2.81-2.81c.8-.78.8-2.07 0-2.86zM5.41 20L4 18.59l7.72-7.72 1.47 1.35L5.41 20z\"/>\n",
              "  </svg>\n",
              "      </button>\n",
              "      \n",
              "  <style>\n",
              "    .colab-df-container {\n",
              "      display:flex;\n",
              "      flex-wrap:wrap;\n",
              "      gap: 12px;\n",
              "    }\n",
              "\n",
              "    .colab-df-convert {\n",
              "      background-color: #E8F0FE;\n",
              "      border: none;\n",
              "      border-radius: 50%;\n",
              "      cursor: pointer;\n",
              "      display: none;\n",
              "      fill: #1967D2;\n",
              "      height: 32px;\n",
              "      padding: 0 0 0 0;\n",
              "      width: 32px;\n",
              "    }\n",
              "\n",
              "    .colab-df-convert:hover {\n",
              "      background-color: #E2EBFA;\n",
              "      box-shadow: 0px 1px 2px rgba(60, 64, 67, 0.3), 0px 1px 3px 1px rgba(60, 64, 67, 0.15);\n",
              "      fill: #174EA6;\n",
              "    }\n",
              "\n",
              "    [theme=dark] .colab-df-convert {\n",
              "      background-color: #3B4455;\n",
              "      fill: #D2E3FC;\n",
              "    }\n",
              "\n",
              "    [theme=dark] .colab-df-convert:hover {\n",
              "      background-color: #434B5C;\n",
              "      box-shadow: 0px 1px 3px 1px rgba(0, 0, 0, 0.15);\n",
              "      filter: drop-shadow(0px 1px 2px rgba(0, 0, 0, 0.3));\n",
              "      fill: #FFFFFF;\n",
              "    }\n",
              "  </style>\n",
              "\n",
              "      <script>\n",
              "        const buttonEl =\n",
              "          document.querySelector('#df-e85b80a2-6e13-4a5b-9231-387b54035348 button.colab-df-convert');\n",
              "        buttonEl.style.display =\n",
              "          google.colab.kernel.accessAllowed ? 'block' : 'none';\n",
              "\n",
              "        async function convertToInteractive(key) {\n",
              "          const element = document.querySelector('#df-e85b80a2-6e13-4a5b-9231-387b54035348');\n",
              "          const dataTable =\n",
              "            await google.colab.kernel.invokeFunction('convertToInteractive',\n",
              "                                                     [key], {});\n",
              "          if (!dataTable) return;\n",
              "\n",
              "          const docLinkHtml = 'Like what you see? Visit the ' +\n",
              "            '<a target=\"_blank\" href=https://colab.research.google.com/notebooks/data_table.ipynb>data table notebook</a>'\n",
              "            + ' to learn more about interactive tables.';\n",
              "          element.innerHTML = '';\n",
              "          dataTable['output_type'] = 'display_data';\n",
              "          await google.colab.output.renderOutput(dataTable, element);\n",
              "          const docLink = document.createElement('div');\n",
              "          docLink.innerHTML = docLinkHtml;\n",
              "          element.appendChild(docLink);\n",
              "        }\n",
              "      </script>\n",
              "    </div>\n",
              "  </div>\n",
              "  "
            ]
          },
          "metadata": {},
          "execution_count": 57
        }
      ]
    },
    {
      "cell_type": "code",
      "source": [
        "for feature in df.columns[2: ]:\n",
        "    X = df[feature].values.reshape((-1,1))\n",
        "    lr.fit(X, df['미세먼지나쁨일수'])\n",
        "    score = lr.score(X,df['미세먼지나쁨일수'])\n",
        "    print(f'{feature} : {score:.4f} \\t{lr.coef_} \\t{lr.intercept_}')"
      ],
      "metadata": {
        "colab": {
          "base_uri": "https://localhost:8080/"
        },
        "id": "SRpd6HMU6yka",
        "outputId": "445af0f5-87e6-4fad-d00a-bb128b371d93"
      },
      "execution_count": null,
      "outputs": [
        {
          "output_type": "stream",
          "name": "stdout",
          "text": [
            "미세먼지나쁨일수 : 1.0000 \t[1.] \t1.4210854715202004e-14\n",
            "공원율 : 0.0395 \t[-17.87708546] \t76.14435174260664\n",
            "도로율 : 0.1315 \t[149.40489666] \t37.48938068856266\n",
            "가로수량 : 0.0171 \t[0.00035327] \t67.33027379821921\n"
          ]
        }
      ]
    },
    {
      "cell_type": "code",
      "source": [
        "from sklearn.preprocessing import StandardScaler, MinMaxScaler, LabelEncoder\n",
        "from sklearn.model_selection import train_test_split, cross_val_score\n",
        "from sklearn.neighbors import KNeighborsClassifier\n",
        "from sklearn.cluster import KMeans\n",
        "from sklearn.metrics import silhouette_score"
      ],
      "metadata": {
        "id": "HmTjFPXZ7J8N"
      },
      "execution_count": null,
      "outputs": []
    },
    {
      "cell_type": "code",
      "source": [
        "data = df19_mm.loc[:,['도로율','공원율']]\n",
        "target = df19.loc[:,['자치구']]"
      ],
      "metadata": {
        "id": "Leg-PgytBNQT"
      },
      "execution_count": null,
      "outputs": []
    },
    {
      "cell_type": "code",
      "source": [
        "data.info()"
      ],
      "metadata": {
        "colab": {
          "base_uri": "https://localhost:8080/"
        },
        "id": "V0bVqkTYDcf5",
        "outputId": "b073e69b-2067-40b4-8003-e661d122d967"
      },
      "execution_count": null,
      "outputs": [
        {
          "output_type": "stream",
          "name": "stdout",
          "text": [
            "<class 'pandas.core.frame.DataFrame'>\n",
            "RangeIndex: 25 entries, 0 to 24\n",
            "Data columns (total 2 columns):\n",
            " #   Column  Non-Null Count  Dtype  \n",
            "---  ------  --------------  -----  \n",
            " 0   도로율     25 non-null     float64\n",
            " 1   공원율     25 non-null     float64\n",
            "dtypes: float64(2)\n",
            "memory usage: 528.0 bytes\n"
          ]
        }
      ]
    },
    {
      "cell_type": "code",
      "source": [
        "sils = []\n",
        "ints = []\n",
        "\n",
        "for i in range(2, 10+1):\n",
        "    kms = KMeans(n_clusters=i)\n",
        "    kms.fit(data)\n",
        "    ss = silhouette_score(data, kms.labels_, metric='euclidean')\n",
        "    el = kms.inertia_\n",
        "    \n",
        "    sils.append(ss)\n",
        "    ints.append(el)"
      ],
      "metadata": {
        "id": "lSwaDMPtaGjk"
      },
      "execution_count": null,
      "outputs": []
    },
    {
      "cell_type": "code",
      "source": [
        "# 실루엣 계수 시각화\n",
        "plt.plot(range(2, 10+1), sils, 'ro--')\n",
        "plt.show()"
      ],
      "metadata": {
        "colab": {
          "base_uri": "https://localhost:8080/",
          "height": 265
        },
        "id": "aj5R40dHaUnM",
        "outputId": "275e1f69-0e58-447e-d1e7-177ddb025efd"
      },
      "execution_count": null,
      "outputs": [
        {
          "output_type": "display_data",
          "data": {
            "text/plain": [
              "<Figure size 432x288 with 1 Axes>"
            ],
            "image/png": "[encoded data removed]"
          },
          "metadata": {
            "needs_background": "light"
          }
        }
      ]
    },
    {
      "cell_type": "code",
      "source": [
        "# 엘보우 계수 시각화\n",
        "plt.plot(range(2, 10+1), ints, 'bo--')\n",
        "plt.show()"
      ],
      "metadata": {
        "colab": {
          "base_uri": "https://localhost:8080/",
          "height": 265
        },
        "id": "0NQ0H1gNavNj",
        "outputId": "23b33708-e59b-482a-8c4a-154079d8e79c"
      },
      "execution_count": null,
      "outputs": [
        {
          "output_type": "display_data",
          "data": {
            "text/plain": [
              "<Figure size 432x288 with 1 Axes>"
            ],
            "image/png": "[encoded data removed]"
          },
          "metadata": {
            "needs_background": "light"
          }
        }
      ]
    },
    {
      "cell_type": "code",
      "source": [
        "kms = KMeans(n_clusters=5, random_state=2209081630)\n",
        "kms.fit(data)"
      ],
      "metadata": {
        "colab": {
          "base_uri": "https://localhost:8080/"
        },
        "id": "eSyz69VsAl7K",
        "outputId": "ac69db94-7e85-4858-b317-b6d548eccbdc"
      },
      "execution_count": null,
      "outputs": [
        {
          "output_type": "execute_result",
          "data": {
            "text/plain": [
              "KMeans(n_clusters=5, random_state=2209081630)"
            ]
          },
          "metadata": {},
          "execution_count": 67
        }
      ]
    },
    {
      "cell_type": "code",
      "source": [
        "kms.labels_"
      ],
      "metadata": {
        "colab": {
          "base_uri": "https://localhost:8080/"
        },
        "id": "EcTtTYwmVCRv",
        "outputId": "67ee8d3a-bfee-4da1-bd44-517a76355b3c"
      },
      "execution_count": null,
      "outputs": [
        {
          "output_type": "execute_result",
          "data": {
            "text/plain": [
              "array([1, 1, 4, 2, 4, 2, 4, 1, 3, 1, 4, 2, 3, 0, 1, 1, 1, 1, 0, 2, 0, 1,\n",
              "       2, 3, 0], dtype=int32)"
            ]
          },
          "metadata": {},
          "execution_count": 68
        }
      ]
    },
    {
      "cell_type": "code",
      "source": [
        "silhouette_score(data, kms.labels_, metric='euclidean')"
      ],
      "metadata": {
        "colab": {
          "base_uri": "https://localhost:8080/"
        },
        "id": "lTGTnmrOV8MY",
        "outputId": "428dc096-4be5-4d3f-ab86-0434ce080eef"
      },
      "execution_count": null,
      "outputs": [
        {
          "output_type": "execute_result",
          "data": {
            "text/plain": [
              "0.5625839925635108"
            ]
          },
          "metadata": {},
          "execution_count": 69
        }
      ]
    },
    {
      "cell_type": "code",
      "source": [
        "kms.inertia_"
      ],
      "metadata": {
        "colab": {
          "base_uri": "https://localhost:8080/"
        },
        "id": "QENKy5mEZ_df",
        "outputId": "6a3b1313-9378-44b8-e2a2-beda7acb2f57"
      },
      "execution_count": null,
      "outputs": [
        {
          "output_type": "execute_result",
          "data": {
            "text/plain": [
              "0.3699363848396364"
            ]
          },
          "metadata": {},
          "execution_count": 70
        }
      ]
    },
    {
      "cell_type": "code",
      "source": [
        "centers = pd.DataFrame(kms.cluster_centers_, columns=['rd','pk'])\n",
        "x, y = centers.rd, centers.pk\n",
        "\n",
        "plt.scatter(np.array(data.iloc[:,0]), np.array(data.iloc[:,1]), c=kms.labels_) \n",
        "plt.scatter(x, y, s=75,  marker='X', c='r') # 중심점 표시\n",
        "plt.show()"
      ],
      "metadata": {
        "colab": {
          "base_uri": "https://localhost:8080/",
          "height": 265
        },
        "id": "7ZThp5EmCcwN",
        "outputId": "c3312b1d-25a8-464d-cb65-75f3752f5d33"
      },
      "execution_count": null,
      "outputs": [
        {
          "output_type": "display_data",
          "data": {
            "text/plain": [
              "<Figure size 432x288 with 1 Axes>"
            ],
            "image/png": "[encoded data removed]"
          },
          "metadata": {
            "needs_background": "light"
          }
        }
      ]
    },
    {
      "cell_type": "code",
      "source": [
        "import plotly.express as px\n",
        "df19 = df19.sort_values('미세먼지나쁨일수', ascending=False)\n",
        "\n",
        "fig = px.scatter(df19, x=\"도로율\", y=\"공원율\", color=\"자치구\",\n",
        "                 size='미세먼지나쁨일수', height=700, width=800)\n",
        "\n",
        "fig.show()"
      ],
      "metadata": {
        "colab": {
          "base_uri": "https://localhost:8080/",
          "height": 717
        },
        "id": "-Ai7a-pifWZz",
        "outputId": "ccfbb071-636d-4960-8c7e-1c235b0d9102"
      },
      "execution_count": null,
      "outputs": [
        {
          "output_type": "display_data",
          "data": {
            "text/html": [
              "<html>\n",
              "<head><meta charset=\"utf-8\" /></head>\n",
              "<body>\n",
              "    <div>            <script src=\"https://cdnjs.cloudflare.com/ajax/libs/mathjax/2.7.5/MathJax.js?config=TeX-AMS-MML_SVG\"></script><script type=\"text/javascript\">if (window.MathJax) {MathJax.Hub.Config({SVG: {font: \"STIX-Web\"}});}</script>                <script type=\"text/javascript\">window.PlotlyConfig = {MathJaxConfig: 'local'};</script>\n",
              "        <script src=\"https://cdn.plot.ly/plotly-2.8.3.min.js\"></script>                <div id=\"27077229-cecf-4775-a2e1-229fea0d1768\" class=\"plotly-graph-div\" style=\"height:700px; width:800px;\"></div>            <script type=\"text/javascript\">                                    window.PLOTLYENV=window.PLOTLYENV || {};                                    if (document.getElementById(\"27077229-cecf-4775-a2e1-229fea0d1768\")) {                    Plotly.newPlot(                        \"27077229-cecf-4775-a2e1-229fea0d1768\",                        [{\"hovertemplate\":\"\\uc790\\uce58\\uad6c=\\uc601\\ub4f1\\ud3ec\\uad6c<br>\\ub3c4\\ub85c\\uc728=%{x}<br>\\uacf5\\uc6d0\\uc728=%{y}<br>\\ubbf8\\uc138\\uba3c\\uc9c0\\ub098\\uc068\\uc77c\\uc218=%{marker.size}<extra></extra>\",\"legendgroup\":\"\\uc601\\ub4f1\\ud3ec\\uad6c\",\"marker\":{\"color\":\"#636efa\",\"size\":[86],\"sizemode\":\"area\",\"sizeref\":0.215,\"symbol\":\"circle\"},\"mode\":\"markers\",\"name\":\"\\uc601\\ub4f1\\ud3ec\\uad6c\",\"orientation\":\"v\",\"showlegend\":true,\"x\":[0.235],\"xaxis\":\"x\",\"y\":[0.1242626690565422],\"yaxis\":\"y\",\"type\":\"scatter\"},{\"hovertemplate\":\"\\uc790\\uce58\\uad6c=\\uc131\\ub3d9\\uad6c<br>\\ub3c4\\ub85c\\uc728=%{x}<br>\\uacf5\\uc6d0\\uc728=%{y}<br>\\ubbf8\\uc138\\uba3c\\uc9c0\\ub098\\uc068\\uc77c\\uc218=%{marker.size}<extra></extra>\",\"legendgroup\":\"\\uc131\\ub3d9\\uad6c\",\"marker\":{\"color\":\"#EF553B\",\"size\":[81],\"sizemode\":\"area\",\"sizeref\":0.215,\"symbol\":\"circle\"},\"mode\":\"markers\",\"name\":\"\\uc131\\ub3d9\\uad6c\",\"orientation\":\"v\",\"showlegend\":true,\"x\":[0.2309],\"xaxis\":\"x\",\"y\":[0.1838562362849178],\"yaxis\":\"y\",\"type\":\"scatter\"},{\"hovertemplate\":\"\\uc790\\uce58\\uad6c=\\ub9c8\\ud3ec\\uad6c<br>\\ub3c4\\ub85c\\uc728=%{x}<br>\\uacf5\\uc6d0\\uc728=%{y}<br>\\ubbf8\\uc138\\uba3c\\uc9c0\\ub098\\uc068\\uc77c\\uc218=%{marker.size}<extra></extra>\",\"legendgroup\":\"\\ub9c8\\ud3ec\\uad6c\",\"marker\":{\"color\":\"#00cc96\",\"size\":[80],\"sizemode\":\"area\",\"sizeref\":0.215,\"symbol\":\"circle\"},\"mode\":\"markers\",\"name\":\"\\ub9c8\\ud3ec\\uad6c\",\"orientation\":\"v\",\"showlegend\":true,\"x\":[0.2837],\"xaxis\":\"x\",\"y\":[0.1861635220125786],\"yaxis\":\"y\",\"type\":\"scatter\"},{\"hovertemplate\":\"\\uc790\\uce58\\uad6c=\\uad00\\uc545\\uad6c<br>\\ub3c4\\ub85c\\uc728=%{x}<br>\\uacf5\\uc6d0\\uc728=%{y}<br>\\ubbf8\\uc138\\uba3c\\uc9c0\\ub098\\uc068\\uc77c\\uc218=%{marker.size}<extra></extra>\",\"legendgroup\":\"\\uad00\\uc545\\uad6c\",\"marker\":{\"color\":\"#ab63fa\",\"size\":[76],\"sizemode\":\"area\",\"sizeref\":0.215,\"symbol\":\"circle\"},\"mode\":\"markers\",\"name\":\"\\uad00\\uc545\\uad6c\",\"orientation\":\"v\",\"showlegend\":true,\"x\":[0.2541],\"xaxis\":\"x\",\"y\":[0.3712300043964963],\"yaxis\":\"y\",\"type\":\"scatter\"},{\"hovertemplate\":\"\\uc790\\uce58\\uad6c=\\uc591\\ucc9c\\uad6c<br>\\ub3c4\\ub85c\\uc728=%{x}<br>\\uacf5\\uc6d0\\uc728=%{y}<br>\\ubbf8\\uc138\\uba3c\\uc9c0\\ub098\\uc068\\uc77c\\uc218=%{marker.size}<extra></extra>\",\"legendgroup\":\"\\uc591\\ucc9c\\uad6c\",\"marker\":{\"color\":\"#FFA15A\",\"size\":[76],\"sizemode\":\"area\",\"sizeref\":0.215,\"symbol\":\"circle\"},\"mode\":\"markers\",\"name\":\"\\uc591\\ucc9c\\uad6c\",\"orientation\":\"v\",\"showlegend\":true,\"x\":[0.2718],\"xaxis\":\"x\",\"y\":[0.1673082447572536],\"yaxis\":\"y\",\"type\":\"scatter\"},{\"hovertemplate\":\"\\uc790\\uce58\\uad6c=\\uc11c\\ucd08\\uad6c<br>\\ub3c4\\ub85c\\uc728=%{x}<br>\\uacf5\\uc6d0\\uc728=%{y}<br>\\ubbf8\\uc138\\uba3c\\uc9c0\\ub098\\uc068\\uc77c\\uc218=%{marker.size}<extra></extra>\",\"legendgroup\":\"\\uc11c\\ucd08\\uad6c\",\"marker\":{\"color\":\"#19d3f3\",\"size\":[74],\"sizemode\":\"area\",\"sizeref\":0.215,\"symbol\":\"circle\"},\"mode\":\"markers\",\"name\":\"\\uc11c\\ucd08\\uad6c\",\"orientation\":\"v\",\"showlegend\":true,\"x\":[0.2635],\"xaxis\":\"x\",\"y\":[0.3422873076350013],\"yaxis\":\"y\",\"type\":\"scatter\"},{\"hovertemplate\":\"\\uc790\\uce58\\uad6c=\\uad11\\uc9c4\\uad6c<br>\\ub3c4\\ub85c\\uc728=%{x}<br>\\uacf5\\uc6d0\\uc728=%{y}<br>\\ubbf8\\uc138\\uba3c\\uc9c0\\ub098\\uc068\\uc77c\\uc218=%{marker.size}<extra></extra>\",\"legendgroup\":\"\\uad11\\uc9c4\\uad6c\",\"marker\":{\"color\":\"#FF6692\",\"size\":[74],\"sizemode\":\"area\",\"sizeref\":0.215,\"symbol\":\"circle\"},\"mode\":\"markers\",\"name\":\"\\uad11\\uc9c4\\uad6c\",\"orientation\":\"v\",\"showlegend\":true,\"x\":[0.2883],\"xaxis\":\"x\",\"y\":[0.1971339819481889],\"yaxis\":\"y\",\"type\":\"scatter\"},{\"hovertemplate\":\"\\uc790\\uce58\\uad6c=\\uad6c\\ub85c\\uad6c<br>\\ub3c4\\ub85c\\uc728=%{x}<br>\\uacf5\\uc6d0\\uc728=%{y}<br>\\ubbf8\\uc138\\uba3c\\uc9c0\\ub098\\uc068\\uc77c\\uc218=%{marker.size}<extra></extra>\",\"legendgroup\":\"\\uad6c\\ub85c\\uad6c\",\"marker\":{\"color\":\"#B6E880\",\"size\":[71],\"sizemode\":\"area\",\"sizeref\":0.215,\"symbol\":\"circle\"},\"mode\":\"markers\",\"name\":\"\\uad6c\\ub85c\\uad6c\",\"orientation\":\"v\",\"showlegend\":true,\"x\":[0.2163],\"xaxis\":\"x\",\"y\":[0.1658183806352204],\"yaxis\":\"y\",\"type\":\"scatter\"},{\"hovertemplate\":\"\\uc790\\uce58\\uad6c=\\ub3d9\\uc791\\uad6c<br>\\ub3c4\\ub85c\\uc728=%{x}<br>\\uacf5\\uc6d0\\uc728=%{y}<br>\\ubbf8\\uc138\\uba3c\\uc9c0\\ub098\\uc068\\uc77c\\uc218=%{marker.size}<extra></extra>\",\"legendgroup\":\"\\ub3d9\\uc791\\uad6c\",\"marker\":{\"color\":\"#FF97FF\",\"size\":[71],\"sizemode\":\"area\",\"sizeref\":0.215,\"symbol\":\"circle\"},\"mode\":\"markers\",\"name\":\"\\ub3d9\\uc791\\uad6c\",\"orientation\":\"v\",\"showlegend\":true,\"x\":[0.1716],\"xaxis\":\"x\",\"y\":[0.2803277686051489],\"yaxis\":\"y\",\"type\":\"scatter\"},{\"hovertemplate\":\"\\uc790\\uce58\\uad6c=\\uac15\\ub3d9\\uad6c<br>\\ub3c4\\ub85c\\uc728=%{x}<br>\\uacf5\\uc6d0\\uc728=%{y}<br>\\ubbf8\\uc138\\uba3c\\uc9c0\\ub098\\uc068\\uc77c\\uc218=%{marker.size}<extra></extra>\",\"legendgroup\":\"\\uac15\\ub3d9\\uad6c\",\"marker\":{\"color\":\"#FECB52\",\"size\":[70],\"sizemode\":\"area\",\"sizeref\":0.215,\"symbol\":\"circle\"},\"mode\":\"markers\",\"name\":\"\\uac15\\ub3d9\\uad6c\",\"orientation\":\"v\",\"showlegend\":true,\"x\":[0.2428],\"xaxis\":\"x\",\"y\":[0.1370394469296462],\"yaxis\":\"y\",\"type\":\"scatter\"},{\"hovertemplate\":\"\\uc790\\uce58\\uad6c=\\uac15\\uc11c\\uad6c<br>\\ub3c4\\ub85c\\uc728=%{x}<br>\\uacf5\\uc6d0\\uc728=%{y}<br>\\ubbf8\\uc138\\uba3c\\uc9c0\\ub098\\uc068\\uc77c\\uc218=%{marker.size}<extra></extra>\",\"legendgroup\":\"\\uac15\\uc11c\\uad6c\",\"marker\":{\"color\":\"#636efa\",\"size\":[69],\"sizemode\":\"area\",\"sizeref\":0.215,\"symbol\":\"circle\"},\"mode\":\"markers\",\"name\":\"\\uac15\\uc11c\\uad6c\",\"orientation\":\"v\",\"showlegend\":true,\"x\":[0.2683],\"xaxis\":\"x\",\"y\":[0.1054710879428516],\"yaxis\":\"y\",\"type\":\"scatter\"},{\"hovertemplate\":\"\\uc790\\uce58\\uad6c=\\ub178\\uc6d0\\uad6c<br>\\ub3c4\\ub85c\\uc728=%{x}<br>\\uacf5\\uc6d0\\uc728=%{y}<br>\\ubbf8\\uc138\\uba3c\\uc9c0\\ub098\\uc068\\uc77c\\uc218=%{marker.size}<extra></extra>\",\"legendgroup\":\"\\ub178\\uc6d0\\uad6c\",\"marker\":{\"color\":\"#EF553B\",\"size\":[69],\"sizemode\":\"area\",\"sizeref\":0.215,\"symbol\":\"circle\"},\"mode\":\"markers\",\"name\":\"\\ub178\\uc6d0\\uad6c\",\"orientation\":\"v\",\"showlegend\":true,\"x\":[0.2366],\"xaxis\":\"x\",\"y\":[0.4047859581793041],\"yaxis\":\"y\",\"type\":\"scatter\"},{\"hovertemplate\":\"\\uc790\\uce58\\uad6c=\\uc11c\\ub300\\ubb38\\uad6c<br>\\ub3c4\\ub85c\\uc728=%{x}<br>\\uacf5\\uc6d0\\uc728=%{y}<br>\\ubbf8\\uc138\\uba3c\\uc9c0\\ub098\\uc068\\uc77c\\uc218=%{marker.size}<extra></extra>\",\"legendgroup\":\"\\uc11c\\ub300\\ubb38\\uad6c\",\"marker\":{\"color\":\"#00cc96\",\"size\":[68],\"sizemode\":\"area\",\"sizeref\":0.215,\"symbol\":\"circle\"},\"mode\":\"markers\",\"name\":\"\\uc11c\\ub300\\ubb38\\uad6c\",\"orientation\":\"v\",\"showlegend\":true,\"x\":[0.1725],\"xaxis\":\"x\",\"y\":[0.2918018835810734],\"yaxis\":\"y\",\"type\":\"scatter\"},{\"hovertemplate\":\"\\uc790\\uce58\\uad6c=\\uac15\\ubd81\\uad6c<br>\\ub3c4\\ub85c\\uc728=%{x}<br>\\uacf5\\uc6d0\\uc728=%{y}<br>\\ubbf8\\uc138\\uba3c\\uc9c0\\ub098\\uc068\\uc77c\\uc218=%{marker.size}<extra></extra>\",\"legendgroup\":\"\\uac15\\ubd81\\uad6c\",\"marker\":{\"color\":\"#ab63fa\",\"size\":[67],\"sizemode\":\"area\",\"sizeref\":0.215,\"symbol\":\"circle\"},\"mode\":\"markers\",\"name\":\"\\uac15\\ubd81\\uad6c\",\"orientation\":\"v\",\"showlegend\":true,\"x\":[0.2091],\"xaxis\":\"x\",\"y\":[0.6077245762711864],\"yaxis\":\"y\",\"type\":\"scatter\"},{\"hovertemplate\":\"\\uc790\\uce58\\uad6c=\\uac15\\ub0a8\\uad6c<br>\\ub3c4\\ub85c\\uc728=%{x}<br>\\uacf5\\uc6d0\\uc728=%{y}<br>\\ubbf8\\uc138\\uba3c\\uc9c0\\ub098\\uc068\\uc77c\\uc218=%{marker.size}<extra></extra>\",\"legendgroup\":\"\\uac15\\ub0a8\\uad6c\",\"marker\":{\"color\":\"#FFA15A\",\"size\":[65],\"sizemode\":\"area\",\"sizeref\":0.215,\"symbol\":\"circle\"},\"mode\":\"markers\",\"name\":\"\\uac15\\ub0a8\\uad6c\",\"orientation\":\"v\",\"showlegend\":true,\"x\":[0.2357999999999999],\"xaxis\":\"x\",\"y\":[0.1669400774663932],\"yaxis\":\"y\",\"type\":\"scatter\"},{\"hovertemplate\":\"\\uc790\\uce58\\uad6c=\\uc1a1\\ud30c\\uad6c<br>\\ub3c4\\ub85c\\uc728=%{x}<br>\\uacf5\\uc6d0\\uc728=%{y}<br>\\ubbf8\\uc138\\uba3c\\uc9c0\\ub098\\uc068\\uc77c\\uc218=%{marker.size}<extra></extra>\",\"legendgroup\":\"\\uc1a1\\ud30c\\uad6c\",\"marker\":{\"color\":\"#19d3f3\",\"size\":[64],\"sizemode\":\"area\",\"sizeref\":0.215,\"symbol\":\"circle\"},\"mode\":\"markers\",\"name\":\"\\uc1a1\\ud30c\\uad6c\",\"orientation\":\"v\",\"showlegend\":true,\"x\":[0.2034],\"xaxis\":\"x\",\"y\":[0.1371280113367973],\"yaxis\":\"y\",\"type\":\"scatter\"},{\"hovertemplate\":\"\\uc790\\uce58\\uad6c=\\uc6a9\\uc0b0\\uad6c<br>\\ub3c4\\ub85c\\uc728=%{x}<br>\\uacf5\\uc6d0\\uc728=%{y}<br>\\ubbf8\\uc138\\uba3c\\uc9c0\\ub098\\uc068\\uc77c\\uc218=%{marker.size}<extra></extra>\",\"legendgroup\":\"\\uc6a9\\uc0b0\\uad6c\",\"marker\":{\"color\":\"#FF6692\",\"size\":[62],\"sizemode\":\"area\",\"sizeref\":0.215,\"symbol\":\"circle\"},\"mode\":\"markers\",\"name\":\"\\uc6a9\\uc0b0\\uad6c\",\"orientation\":\"v\",\"showlegend\":true,\"x\":[0.2219],\"xaxis\":\"x\",\"y\":[0.0813866276410866],\"yaxis\":\"y\",\"type\":\"scatter\"},{\"hovertemplate\":\"\\uc790\\uce58\\uad6c=\\ub3d9\\ub300\\ubb38\\uad6c<br>\\ub3c4\\ub85c\\uc728=%{x}<br>\\uacf5\\uc6d0\\uc728=%{y}<br>\\ubbf8\\uc138\\uba3c\\uc9c0\\ub098\\uc068\\uc77c\\uc218=%{marker.size}<extra></extra>\",\"legendgroup\":\"\\ub3d9\\ub300\\ubb38\\uad6c\",\"marker\":{\"color\":\"#B6E880\",\"size\":[61],\"sizemode\":\"area\",\"sizeref\":0.215,\"symbol\":\"circle\"},\"mode\":\"markers\",\"name\":\"\\ub3d9\\ub300\\ubb38\\uad6c\",\"orientation\":\"v\",\"showlegend\":true,\"x\":[0.2216],\"xaxis\":\"x\",\"y\":[0.0897010200492437],\"yaxis\":\"y\",\"type\":\"scatter\"},{\"hovertemplate\":\"\\uc790\\uce58\\uad6c=\\uc740\\ud3c9\\uad6c<br>\\ub3c4\\ub85c\\uc728=%{x}<br>\\uacf5\\uc6d0\\uc728=%{y}<br>\\ubbf8\\uc138\\uba3c\\uc9c0\\ub098\\uc068\\uc77c\\uc218=%{marker.size}<extra></extra>\",\"legendgroup\":\"\\uc740\\ud3c9\\uad6c\",\"marker\":{\"color\":\"#FF97FF\",\"size\":[61],\"sizemode\":\"area\",\"sizeref\":0.215,\"symbol\":\"circle\"},\"mode\":\"markers\",\"name\":\"\\uc740\\ud3c9\\uad6c\",\"orientation\":\"v\",\"showlegend\":true,\"x\":[0.2092],\"xaxis\":\"x\",\"y\":[0.4709390777515988],\"yaxis\":\"y\",\"type\":\"scatter\"},{\"hovertemplate\":\"\\uc790\\uce58\\uad6c=\\uc131\\ubd81\\uad6c<br>\\ub3c4\\ub85c\\uc728=%{x}<br>\\uacf5\\uc6d0\\uc728=%{y}<br>\\ubbf8\\uc138\\uba3c\\uc9c0\\ub098\\uc068\\uc77c\\uc218=%{marker.size}<extra></extra>\",\"legendgroup\":\"\\uc131\\ubd81\\uad6c\",\"marker\":{\"color\":\"#FECB52\",\"size\":[59],\"sizemode\":\"area\",\"sizeref\":0.215,\"symbol\":\"circle\"},\"mode\":\"markers\",\"name\":\"\\uc131\\ubd81\\uad6c\",\"orientation\":\"v\",\"showlegend\":true,\"x\":[0.2312],\"xaxis\":\"x\",\"y\":[0.3389241536458333],\"yaxis\":\"y\",\"type\":\"scatter\"},{\"hovertemplate\":\"\\uc790\\uce58\\uad6c=\\ub3c4\\ubd09\\uad6c<br>\\ub3c4\\ub85c\\uc728=%{x}<br>\\uacf5\\uc6d0\\uc728=%{y}<br>\\ubbf8\\uc138\\uba3c\\uc9c0\\ub098\\uc068\\uc77c\\uc218=%{marker.size}<extra></extra>\",\"legendgroup\":\"\\ub3c4\\ubd09\\uad6c\",\"marker\":{\"color\":\"#636efa\",\"size\":[56],\"sizemode\":\"area\",\"sizeref\":0.215,\"symbol\":\"circle\"},\"mode\":\"markers\",\"name\":\"\\ub3c4\\ubd09\\uad6c\",\"orientation\":\"v\",\"showlegend\":true,\"x\":[0.1898999999999999],\"xaxis\":\"x\",\"y\":[0.4878698368117766],\"yaxis\":\"y\",\"type\":\"scatter\"},{\"hovertemplate\":\"\\uc790\\uce58\\uad6c=\\uae08\\ucc9c\\uad6c<br>\\ub3c4\\ub85c\\uc728=%{x}<br>\\uacf5\\uc6d0\\uc728=%{y}<br>\\ubbf8\\uc138\\uba3c\\uc9c0\\ub098\\uc068\\uc77c\\uc218=%{marker.size}<extra></extra>\",\"legendgroup\":\"\\uae08\\ucc9c\\uad6c\",\"marker\":{\"color\":\"#EF553B\",\"size\":[54],\"sizemode\":\"area\",\"sizeref\":0.215,\"symbol\":\"circle\"},\"mode\":\"markers\",\"name\":\"\\uae08\\ucc9c\\uad6c\",\"orientation\":\"v\",\"showlegend\":true,\"x\":[0.2022],\"xaxis\":\"x\",\"y\":[0.1694470046082949],\"yaxis\":\"y\",\"type\":\"scatter\"},{\"hovertemplate\":\"\\uc790\\uce58\\uad6c=\\uc911\\ub791\\uad6c<br>\\ub3c4\\ub85c\\uc728=%{x}<br>\\uacf5\\uc6d0\\uc728=%{y}<br>\\ubbf8\\uc138\\uba3c\\uc9c0\\ub098\\uc068\\uc77c\\uc218=%{marker.size}<extra></extra>\",\"legendgroup\":\"\\uc911\\ub791\\uad6c\",\"marker\":{\"color\":\"#00cc96\",\"size\":[51],\"sizemode\":\"area\",\"sizeref\":0.215,\"symbol\":\"circle\"},\"mode\":\"markers\",\"name\":\"\\uc911\\ub791\\uad6c\",\"orientation\":\"v\",\"showlegend\":true,\"x\":[0.2601],\"xaxis\":\"x\",\"y\":[0.2814284169550173],\"yaxis\":\"y\",\"type\":\"scatter\"},{\"hovertemplate\":\"\\uc790\\uce58\\uad6c=\\uc911\\uad6c<br>\\ub3c4\\ub85c\\uc728=%{x}<br>\\uacf5\\uc6d0\\uc728=%{y}<br>\\ubbf8\\uc138\\uba3c\\uc9c0\\ub098\\uc068\\uc77c\\uc218=%{marker.size}<extra></extra>\",\"legendgroup\":\"\\uc911\\uad6c\",\"marker\":{\"color\":\"#ab63fa\",\"size\":[50],\"sizemode\":\"area\",\"sizeref\":0.215,\"symbol\":\"circle\"},\"mode\":\"markers\",\"name\":\"\\uc911\\uad6c\",\"orientation\":\"v\",\"showlegend\":true,\"x\":[0.1882],\"xaxis\":\"x\",\"y\":[0.3167771084337349],\"yaxis\":\"y\",\"type\":\"scatter\"},{\"hovertemplate\":\"\\uc790\\uce58\\uad6c=\\uc885\\ub85c\\uad6c<br>\\ub3c4\\ub85c\\uc728=%{x}<br>\\uacf5\\uc6d0\\uc728=%{y}<br>\\ubbf8\\uc138\\uba3c\\uc9c0\\ub098\\uc068\\uc77c\\uc218=%{marker.size}<extra></extra>\",\"legendgroup\":\"\\uc885\\ub85c\\uad6c\",\"marker\":{\"color\":\"#FFA15A\",\"size\":[43],\"sizemode\":\"area\",\"sizeref\":0.215,\"symbol\":\"circle\"},\"mode\":\"markers\",\"name\":\"\\uc885\\ub85c\\uad6c\",\"orientation\":\"v\",\"showlegend\":true,\"x\":[0.2134],\"xaxis\":\"x\",\"y\":[0.4832559695563083],\"yaxis\":\"y\",\"type\":\"scatter\"}],                        {\"template\":{\"data\":{\"bar\":[{\"error_x\":{\"color\":\"#2a3f5f\"},\"error_y\":{\"color\":\"#2a3f5f\"},\"marker\":{\"line\":{\"color\":\"#E5ECF6\",\"width\":0.5},\"pattern\":{\"fillmode\":\"overlay\",\"size\":10,\"solidity\":0.2}},\"type\":\"bar\"}],\"barpolar\":[{\"marker\":{\"line\":{\"color\":\"#E5ECF6\",\"width\":0.5},\"pattern\":{\"fillmode\":\"overlay\",\"size\":10,\"solidity\":0.2}},\"type\":\"barpolar\"}],\"carpet\":[{\"aaxis\":{\"endlinecolor\":\"#2a3f5f\",\"gridcolor\":\"white\",\"linecolor\":\"white\",\"minorgridcolor\":\"white\",\"startlinecolor\":\"#2a3f5f\"},\"baxis\":{\"endlinecolor\":\"#2a3f5f\",\"gridcolor\":\"white\",\"linecolor\":\"white\",\"minorgridcolor\":\"white\",\"startlinecolor\":\"#2a3f5f\"},\"type\":\"carpet\"}],\"choropleth\":[{\"colorbar\":{\"outlinewidth\":0,\"ticks\":\"\"},\"type\":\"choropleth\"}],\"contour\":[{\"colorbar\":{\"outlinewidth\":0,\"ticks\":\"\"},\"colorscale\":[[0.0,\"#0d0887\"],[0.1111111111111111,\"#46039f\"],[0.2222222222222222,\"#7201a8\"],[0.3333333333333333,\"#9c179e\"],[0.4444444444444444,\"#bd3786\"],[0.5555555555555556,\"#d8576b\"],[0.6666666666666666,\"#ed7953\"],[0.7777777777777778,\"#fb9f3a\"],[0.8888888888888888,\"#fdca26\"],[1.0,\"#f0f921\"]],\"type\":\"contour\"}],\"contourcarpet\":[{\"colorbar\":{\"outlinewidth\":0,\"ticks\":\"\"},\"type\":\"contourcarpet\"}],\"heatmap\":[{\"colorbar\":{\"outlinewidth\":0,\"ticks\":\"\"},\"colorscale\":[[0.0,\"#0d0887\"],[0.1111111111111111,\"#46039f\"],[0.2222222222222222,\"#7201a8\"],[0.3333333333333333,\"#9c179e\"],[0.4444444444444444,\"#bd3786\"],[0.5555555555555556,\"#d8576b\"],[0.6666666666666666,\"#ed7953\"],[0.7777777777777778,\"#fb9f3a\"],[0.8888888888888888,\"#fdca26\"],[1.0,\"#f0f921\"]],\"type\":\"heatmap\"}],\"heatmapgl\":[{\"colorbar\":{\"outlinewidth\":0,\"ticks\":\"\"},\"colorscale\":[[0.0,\"#0d0887\"],[0.1111111111111111,\"#46039f\"],[0.2222222222222222,\"#7201a8\"],[0.3333333333333333,\"#9c179e\"],[0.4444444444444444,\"#bd3786\"],[0.5555555555555556,\"#d8576b\"],[0.6666666666666666,\"#ed7953\"],[0.7777777777777778,\"#fb9f3a\"],[0.8888888888888888,\"#fdca26\"],[1.0,\"#f0f921\"]],\"type\":\"heatmapgl\"}],\"histogram\":[{\"marker\":{\"pattern\":{\"fillmode\":\"overlay\",\"size\":10,\"solidity\":0.2}},\"type\":\"histogram\"}],\"histogram2d\":[{\"colorbar\":{\"outlinewidth\":0,\"ticks\":\"\"},\"colorscale\":[[0.0,\"#0d0887\"],[0.1111111111111111,\"#46039f\"],[0.2222222222222222,\"#7201a8\"],[0.3333333333333333,\"#9c179e\"],[0.4444444444444444,\"#bd3786\"],[0.5555555555555556,\"#d8576b\"],[0.6666666666666666,\"#ed7953\"],[0.7777777777777778,\"#fb9f3a\"],[0.8888888888888888,\"#fdca26\"],[1.0,\"#f0f921\"]],\"type\":\"histogram2d\"}],\"histogram2dcontour\":[{\"colorbar\":{\"outlinewidth\":0,\"ticks\":\"\"},\"colorscale\":[[0.0,\"#0d0887\"],[0.1111111111111111,\"#46039f\"],[0.2222222222222222,\"#7201a8\"],[0.3333333333333333,\"#9c179e\"],[0.4444444444444444,\"#bd3786\"],[0.5555555555555556,\"#d8576b\"],[0.6666666666666666,\"#ed7953\"],[0.7777777777777778,\"#fb9f3a\"],[0.8888888888888888,\"#fdca26\"],[1.0,\"#f0f921\"]],\"type\":\"histogram2dcontour\"}],\"mesh3d\":[{\"colorbar\":{\"outlinewidth\":0,\"ticks\":\"\"},\"type\":\"mesh3d\"}],\"parcoords\":[{\"line\":{\"colorbar\":{\"outlinewidth\":0,\"ticks\":\"\"}},\"type\":\"parcoords\"}],\"pie\":[{\"automargin\":true,\"type\":\"pie\"}],\"scatter\":[{\"marker\":{\"colorbar\":{\"outlinewidth\":0,\"ticks\":\"\"}},\"type\":\"scatter\"}],\"scatter3d\":[{\"line\":{\"colorbar\":{\"outlinewidth\":0,\"ticks\":\"\"}},\"marker\":{\"colorbar\":{\"outlinewidth\":0,\"ticks\":\"\"}},\"type\":\"scatter3d\"}],\"scattercarpet\":[{\"marker\":{\"colorbar\":{\"outlinewidth\":0,\"ticks\":\"\"}},\"type\":\"scattercarpet\"}],\"scattergeo\":[{\"marker\":{\"colorbar\":{\"outlinewidth\":0,\"ticks\":\"\"}},\"type\":\"scattergeo\"}],\"scattergl\":[{\"marker\":{\"colorbar\":{\"outlinewidth\":0,\"ticks\":\"\"}},\"type\":\"scattergl\"}],\"scattermapbox\":[{\"marker\":{\"colorbar\":{\"outlinewidth\":0,\"ticks\":\"\"}},\"type\":\"scattermapbox\"}],\"scatterpolar\":[{\"marker\":{\"colorbar\":{\"outlinewidth\":0,\"ticks\":\"\"}},\"type\":\"scatterpolar\"}],\"scatterpolargl\":[{\"marker\":{\"colorbar\":{\"outlinewidth\":0,\"ticks\":\"\"}},\"type\":\"scatterpolargl\"}],\"scatterternary\":[{\"marker\":{\"colorbar\":{\"outlinewidth\":0,\"ticks\":\"\"}},\"type\":\"scatterternary\"}],\"surface\":[{\"colorbar\":{\"outlinewidth\":0,\"ticks\":\"\"},\"colorscale\":[[0.0,\"#0d0887\"],[0.1111111111111111,\"#46039f\"],[0.2222222222222222,\"#7201a8\"],[0.3333333333333333,\"#9c179e\"],[0.4444444444444444,\"#bd3786\"],[0.5555555555555556,\"#d8576b\"],[0.6666666666666666,\"#ed7953\"],[0.7777777777777778,\"#fb9f3a\"],[0.8888888888888888,\"#fdca26\"],[1.0,\"#f0f921\"]],\"type\":\"surface\"}],\"table\":[{\"cells\":{\"fill\":{\"color\":\"#EBF0F8\"},\"line\":{\"color\":\"white\"}},\"header\":{\"fill\":{\"color\":\"#C8D4E3\"},\"line\":{\"color\":\"white\"}},\"type\":\"table\"}]},\"layout\":{\"annotationdefaults\":{\"arrowcolor\":\"#2a3f5f\",\"arrowhead\":0,\"arrowwidth\":1},\"autotypenumbers\":\"strict\",\"coloraxis\":{\"colorbar\":{\"outlinewidth\":0,\"ticks\":\"\"}},\"colorscale\":{\"diverging\":[[0,\"#8e0152\"],[0.1,\"#c51b7d\"],[0.2,\"#de77ae\"],[0.3,\"#f1b6da\"],[0.4,\"#fde0ef\"],[0.5,\"#f7f7f7\"],[0.6,\"#e6f5d0\"],[0.7,\"#b8e186\"],[0.8,\"#7fbc41\"],[0.9,\"#4d9221\"],[1,\"#276419\"]],\"sequential\":[[0.0,\"#0d0887\"],[0.1111111111111111,\"#46039f\"],[0.2222222222222222,\"#7201a8\"],[0.3333333333333333,\"#9c179e\"],[0.4444444444444444,\"#bd3786\"],[0.5555555555555556,\"#d8576b\"],[0.6666666666666666,\"#ed7953\"],[0.7777777777777778,\"#fb9f3a\"],[0.8888888888888888,\"#fdca26\"],[1.0,\"#f0f921\"]],\"sequentialminus\":[[0.0,\"#0d0887\"],[0.1111111111111111,\"#46039f\"],[0.2222222222222222,\"#7201a8\"],[0.3333333333333333,\"#9c179e\"],[0.4444444444444444,\"#bd3786\"],[0.5555555555555556,\"#d8576b\"],[0.6666666666666666,\"#ed7953\"],[0.7777777777777778,\"#fb9f3a\"],[0.8888888888888888,\"#fdca26\"],[1.0,\"#f0f921\"]]},\"colorway\":[\"#636efa\",\"#EF553B\",\"#00cc96\",\"#ab63fa\",\"#FFA15A\",\"#19d3f3\",\"#FF6692\",\"#B6E880\",\"#FF97FF\",\"#FECB52\"],\"font\":{\"color\":\"#2a3f5f\"},\"geo\":{\"bgcolor\":\"white\",\"lakecolor\":\"white\",\"landcolor\":\"#E5ECF6\",\"showlakes\":true,\"showland\":true,\"subunitcolor\":\"white\"},\"hoverlabel\":{\"align\":\"left\"},\"hovermode\":\"closest\",\"mapbox\":{\"style\":\"light\"},\"paper_bgcolor\":\"white\",\"plot_bgcolor\":\"#E5ECF6\",\"polar\":{\"angularaxis\":{\"gridcolor\":\"white\",\"linecolor\":\"white\",\"ticks\":\"\"},\"bgcolor\":\"#E5ECF6\",\"radialaxis\":{\"gridcolor\":\"white\",\"linecolor\":\"white\",\"ticks\":\"\"}},\"scene\":{\"xaxis\":{\"backgroundcolor\":\"#E5ECF6\",\"gridcolor\":\"white\",\"gridwidth\":2,\"linecolor\":\"white\",\"showbackground\":true,\"ticks\":\"\",\"zerolinecolor\":\"white\"},\"yaxis\":{\"backgroundcolor\":\"#E5ECF6\",\"gridcolor\":\"white\",\"gridwidth\":2,\"linecolor\":\"white\",\"showbackground\":true,\"ticks\":\"\",\"zerolinecolor\":\"white\"},\"zaxis\":{\"backgroundcolor\":\"#E5ECF6\",\"gridcolor\":\"white\",\"gridwidth\":2,\"linecolor\":\"white\",\"showbackground\":true,\"ticks\":\"\",\"zerolinecolor\":\"white\"}},\"shapedefaults\":{\"line\":{\"color\":\"#2a3f5f\"}},\"ternary\":{\"aaxis\":{\"gridcolor\":\"white\",\"linecolor\":\"white\",\"ticks\":\"\"},\"baxis\":{\"gridcolor\":\"white\",\"linecolor\":\"white\",\"ticks\":\"\"},\"bgcolor\":\"#E5ECF6\",\"caxis\":{\"gridcolor\":\"white\",\"linecolor\":\"white\",\"ticks\":\"\"}},\"title\":{\"x\":0.05},\"xaxis\":{\"automargin\":true,\"gridcolor\":\"white\",\"linecolor\":\"white\",\"ticks\":\"\",\"title\":{\"standoff\":15},\"zerolinecolor\":\"white\",\"zerolinewidth\":2},\"yaxis\":{\"automargin\":true,\"gridcolor\":\"white\",\"linecolor\":\"white\",\"ticks\":\"\",\"title\":{\"standoff\":15},\"zerolinecolor\":\"white\",\"zerolinewidth\":2}}},\"xaxis\":{\"anchor\":\"y\",\"domain\":[0.0,1.0],\"title\":{\"text\":\"\\ub3c4\\ub85c\\uc728\"}},\"yaxis\":{\"anchor\":\"x\",\"domain\":[0.0,1.0],\"title\":{\"text\":\"\\uacf5\\uc6d0\\uc728\"}},\"legend\":{\"title\":{\"text\":\"\\uc790\\uce58\\uad6c\"},\"tracegroupgap\":0,\"itemsizing\":\"constant\"},\"margin\":{\"t\":60},\"height\":700,\"width\":800},                        {\"responsive\": true}                    ).then(function(){\n",
              "                            \n",
              "var gd = document.getElementById('27077229-cecf-4775-a2e1-229fea0d1768');\n",
              "var x = new MutationObserver(function (mutations, observer) {{\n",
              "        var display = window.getComputedStyle(gd).display;\n",
              "        if (!display || display === 'none') {{\n",
              "            console.log([gd, 'removed!']);\n",
              "            Plotly.purge(gd);\n",
              "            observer.disconnect();\n",
              "        }}\n",
              "}});\n",
              "\n",
              "// Listen for the removal of the full notebook cells\n",
              "var notebookContainer = gd.closest('#notebook-container');\n",
              "if (notebookContainer) {{\n",
              "    x.observe(notebookContainer, {childList: true});\n",
              "}}\n",
              "\n",
              "// Listen for the clearing of the current output cell\n",
              "var outputEl = gd.closest('.output');\n",
              "if (outputEl) {{\n",
              "    x.observe(outputEl, {childList: true});\n",
              "}}\n",
              "\n",
              "                        })                };                            </script>        </div>\n",
              "</body>\n",
              "</html>"
            ]
          },
          "metadata": {}
        }
      ]
    },
    {
      "cell_type": "code",
      "source": [
        "data = df19.loc[:,['교통량','공원율']]\n",
        "target = df19.loc[:,['자치구']]"
      ],
      "metadata": {
        "id": "OQd2OlPLHyte"
      },
      "execution_count": null,
      "outputs": []
    },
    {
      "cell_type": "code",
      "source": [
        "sils = []\n",
        "ints = []\n",
        "\n",
        "for i in range(2, 10+1):\n",
        "    kms = KMeans(n_clusters=i)\n",
        "    kms.fit(data)\n",
        "    ss = silhouette_score(data, kms.labels_, metric='euclidean')\n",
        "    el = kms.inertia_\n",
        "    \n",
        "    sils.append(ss)\n",
        "    ints.append(el)"
      ],
      "metadata": {
        "id": "ChwNMuwzi4no"
      },
      "execution_count": null,
      "outputs": []
    },
    {
      "cell_type": "code",
      "source": [
        "# 실루엣 계수 시각화\n",
        "plt.plot(range(2, 10+1), sils, 'ro--')\n",
        "plt.show()"
      ],
      "metadata": {
        "colab": {
          "base_uri": "https://localhost:8080/",
          "height": 265
        },
        "id": "4hHh1TQijDy8",
        "outputId": "bf6f6e9d-34ae-41f5-a159-b77164b03448"
      },
      "execution_count": null,
      "outputs": [
        {
          "output_type": "display_data",
          "data": {
            "text/plain": [
              "<Figure size 432x288 with 1 Axes>"
            ],
            "image/png": "[encoded data removed]"
          },
          "metadata": {
            "needs_background": "light"
          }
        }
      ]
    },
    {
      "cell_type": "code",
      "source": [
        "# 엘보우 계수 시각화\n",
        "plt.plot(range(2, 10+1), ints, 'bo--')\n",
        "plt.show()"
      ],
      "metadata": {
        "colab": {
          "base_uri": "https://localhost:8080/",
          "height": 265
        },
        "id": "ATBhYiq4jPhg",
        "outputId": "083a7abf-1415-4926-c728-91345dcc09ce"
      },
      "execution_count": null,
      "outputs": [
        {
          "output_type": "display_data",
          "data": {
            "text/plain": [
              "<Figure size 432x288 with 1 Axes>"
            ],
            "image/png": "[encoded data removed]"
          },
          "metadata": {
            "needs_background": "light"
          }
        }
      ]
    },
    {
      "cell_type": "code",
      "source": [
        "kms = KMeans(n_clusters=6, random_state=2209131530)\n",
        "kms.fit(data)"
      ],
      "metadata": {
        "colab": {
          "base_uri": "https://localhost:8080/"
        },
        "id": "wPTk-KoNjZ-Y",
        "outputId": "decb46ad-fee9-416c-b1b8-8b58ac1cc955"
      },
      "execution_count": null,
      "outputs": [
        {
          "output_type": "execute_result",
          "data": {
            "text/plain": [
              "KMeans(n_clusters=6, random_state=2209131530)"
            ]
          },
          "metadata": {},
          "execution_count": 117
        }
      ]
    },
    {
      "cell_type": "code",
      "source": [
        "kms.labels_"
      ],
      "metadata": {
        "colab": {
          "base_uri": "https://localhost:8080/"
        },
        "id": "VKCTK9KmjwZg",
        "outputId": "ec8d58e8-2d88-49d9-c052-f93f19b7711b"
      },
      "execution_count": null,
      "outputs": [
        {
          "output_type": "execute_result",
          "data": {
            "text/plain": [
              "array([0, 2, 0, 2, 2, 4, 2, 3, 4, 3, 3, 3, 3, 1, 0, 0, 4, 0, 1, 0, 1, 3,\n",
              "       3, 5, 3], dtype=int32)"
            ]
          },
          "metadata": {},
          "execution_count": 118
        }
      ]
    },
    {
      "cell_type": "code",
      "source": [
        "silhouette_score(data, kms.labels_, metric='euclidean')"
      ],
      "metadata": {
        "colab": {
          "base_uri": "https://localhost:8080/"
        },
        "id": "YxEMek7QjkYo",
        "outputId": "a7b53625-5664-4a97-82cf-aed905f552fe"
      },
      "execution_count": null,
      "outputs": [
        {
          "output_type": "execute_result",
          "data": {
            "text/plain": [
              "0.587122812905195"
            ]
          },
          "metadata": {},
          "execution_count": 119
        }
      ]
    },
    {
      "cell_type": "code",
      "source": [
        "kms.inertia_"
      ],
      "metadata": {
        "colab": {
          "base_uri": "https://localhost:8080/"
        },
        "id": "zOHpyU07j2K5",
        "outputId": "b73e5183-079b-4304-9e45-f718897a5796"
      },
      "execution_count": null,
      "outputs": [
        {
          "output_type": "execute_result",
          "data": {
            "text/plain": [
              "1.693041055731874"
            ]
          },
          "metadata": {},
          "execution_count": 120
        }
      ]
    },
    {
      "cell_type": "code",
      "source": [
        "centers = pd.DataFrame(kms.cluster_centers_, columns=['rd','pk'])\n",
        "x, y = centers.rd, centers.pk\n",
        "\n",
        "plt.scatter(np.array(data.iloc[:,0]), np.array(data.iloc[:,1]), c=kms.labels_) \n",
        "plt.scatter(x, y, s=75,  marker='X', c='r') # 중심점 표시\n",
        "plt.show()"
      ],
      "metadata": {
        "colab": {
          "base_uri": "https://localhost:8080/",
          "height": 265
        },
        "id": "7MGOmXoVj5VI",
        "outputId": "53772842-a51e-4f8e-dcf9-1a73dd7e69f5"
      },
      "execution_count": null,
      "outputs": [
        {
          "output_type": "display_data",
          "data": {
            "text/plain": [
              "<Figure size 432x288 with 1 Axes>"
            ],
            "image/png": "[encoded data removed]"
          },
          "metadata": {
            "needs_background": "light"
          }
        }
      ]
    },
    {
      "cell_type": "code",
      "source": [
        "df19_mm['미세먼지나쁨일수'] = df19.loc[:,'미세먼지나쁨일수']\n",
        "df19_mm['자치구'] = df19.loc[:,'자치구']\n",
        "df19_mm"
      ],
      "metadata": {
        "colab": {
          "base_uri": "https://localhost:8080/",
          "height": 833
        },
        "id": "Wqne0rDlzxR0",
        "outputId": "4f3f6a5d-5164-4b4f-c26f-b5588a4bfa16"
      },
      "execution_count": null,
      "outputs": [
        {
          "output_type": "execute_result",
          "data": {
            "text/plain": [
              "         공원율       도로율  가로수량도로면적당       교통량  미세먼지나쁨일수   자치구\n",
              "0   0.081461  0.543273   0.735472  0.609262        65   강남구\n",
              "1   0.194684  0.508141   0.231016  0.767004        70   강동구\n",
              "2   0.199068  0.960583   0.542959  0.672938        67   강북구\n",
              "3   0.550679  0.706941   0.467380  0.795948        69   강서구\n",
              "4   0.163244  0.858612   0.602139  0.833575        76   관악구\n",
              "5   0.495690  0.787489   0.291622  0.939219        74   광진구\n",
              "6   0.219911  1.000000   0.021034  0.769899        71   구로구\n",
              "7   0.160414  0.383033   0.575401  0.464544        54   금천구\n",
              "8   0.377972  0.000000   0.197504  0.969609        69   노원구\n",
              "9   0.105736  0.610111   1.000000  0.551375        56   도봉구\n",
              "10  0.045759  0.828620   0.244920  0.528220        61  동대문구\n",
              "11  0.614433  0.556984   0.621390  0.536903        71   동작구\n",
              "12  0.399772  0.007712   0.395009  0.507959        80   마포구\n",
              "13  1.000000  0.321337   0.674866  0.269175        68  서대문구\n",
              "14  0.162545  0.550129   0.732977  0.697540        74   서초구\n",
              "15  0.105904  0.272494   0.942602  0.672938        81   성동구\n",
              "16  0.000000  0.431020   0.159358  1.000000        59   성북구\n",
              "17  0.015797  0.428449   0.479501  0.639653        64   송파구\n",
              "18  0.740118  0.322194   0.330125  0.269175        76   양천구\n",
              "19  0.489301  0.510711   0.000000  0.617945        86  영등포구\n",
              "20  0.772286  0.156812   0.724777  0.289436        62   용산구\n",
              "21  0.167308  0.262211   0.342602  0.422576        61   은평구\n",
              "22  0.380063  0.758355   0.286988  0.565847        43   종로구\n",
              "23  0.447223  0.142245   0.837077  0.000000        50    중구\n",
              "24  0.763520  0.358183   0.243850  0.445731        51   중랑구"
            ],
            "text/html": [
              "\n",
              "  <div id=\"df-f998cb0d-d03d-44ba-aaec-e83ac2f3d103\">\n",
              "    <div class=\"colab-df-container\">\n",
              "      <div>\n",
              "<style scoped>\n",
              "    .dataframe tbody tr th:only-of-type {\n",
              "        vertical-align: middle;\n",
              "    }\n",
              "\n",
              "    .dataframe tbody tr th {\n",
              "        vertical-align: top;\n",
              "    }\n",
              "\n",
              "    .dataframe thead th {\n",
              "        text-align: right;\n",
              "    }\n",
              "</style>\n",
              "<table border=\"1\" class=\"dataframe\">\n",
              "  <thead>\n",
              "    <tr style=\"text-align: right;\">\n",
              "      <th></th>\n",
              "      <th>공원율</th>\n",
              "      <th>도로율</th>\n",
              "      <th>가로수량도로면적당</th>\n",
              "      <th>교통량</th>\n",
              "      <th>미세먼지나쁨일수</th>\n",
              "      <th>자치구</th>\n",
              "    </tr>\n",
              "  </thead>\n",
              "  <tbody>\n",
              "    <tr>\n",
              "      <th>0</th>\n",
              "      <td>0.081461</td>\n",
              "      <td>0.543273</td>\n",
              "      <td>0.735472</td>\n",
              "      <td>0.609262</td>\n",
              "      <td>65</td>\n",
              "      <td>강남구</td>\n",
              "    </tr>\n",
              "    <tr>\n",
              "      <th>1</th>\n",
              "      <td>0.194684</td>\n",
              "      <td>0.508141</td>\n",
              "      <td>0.231016</td>\n",
              "      <td>0.767004</td>\n",
              "      <td>70</td>\n",
              "      <td>강동구</td>\n",
              "    </tr>\n",
              "    <tr>\n",
              "      <th>2</th>\n",
              "      <td>0.199068</td>\n",
              "      <td>0.960583</td>\n",
              "      <td>0.542959</td>\n",
              "      <td>0.672938</td>\n",
              "      <td>67</td>\n",
              "      <td>강북구</td>\n",
              "    </tr>\n",
              "    <tr>\n",
              "      <th>3</th>\n",
              "      <td>0.550679</td>\n",
              "      <td>0.706941</td>\n",
              "      <td>0.467380</td>\n",
              "      <td>0.795948</td>\n",
              "      <td>69</td>\n",
              "      <td>강서구</td>\n",
              "    </tr>\n",
              "    <tr>\n",
              "      <th>4</th>\n",
              "      <td>0.163244</td>\n",
              "      <td>0.858612</td>\n",
              "      <td>0.602139</td>\n",
              "      <td>0.833575</td>\n",
              "      <td>76</td>\n",
              "      <td>관악구</td>\n",
              "    </tr>\n",
              "    <tr>\n",
              "      <th>5</th>\n",
              "      <td>0.495690</td>\n",
              "      <td>0.787489</td>\n",
              "      <td>0.291622</td>\n",
              "      <td>0.939219</td>\n",
              "      <td>74</td>\n",
              "      <td>광진구</td>\n",
              "    </tr>\n",
              "    <tr>\n",
              "      <th>6</th>\n",
              "      <td>0.219911</td>\n",
              "      <td>1.000000</td>\n",
              "      <td>0.021034</td>\n",
              "      <td>0.769899</td>\n",
              "      <td>71</td>\n",
              "      <td>구로구</td>\n",
              "    </tr>\n",
              "    <tr>\n",
              "      <th>7</th>\n",
              "      <td>0.160414</td>\n",
              "      <td>0.383033</td>\n",
              "      <td>0.575401</td>\n",
              "      <td>0.464544</td>\n",
              "      <td>54</td>\n",
              "      <td>금천구</td>\n",
              "    </tr>\n",
              "    <tr>\n",
              "      <th>8</th>\n",
              "      <td>0.377972</td>\n",
              "      <td>0.000000</td>\n",
              "      <td>0.197504</td>\n",
              "      <td>0.969609</td>\n",
              "      <td>69</td>\n",
              "      <td>노원구</td>\n",
              "    </tr>\n",
              "    <tr>\n",
              "      <th>9</th>\n",
              "      <td>0.105736</td>\n",
              "      <td>0.610111</td>\n",
              "      <td>1.000000</td>\n",
              "      <td>0.551375</td>\n",
              "      <td>56</td>\n",
              "      <td>도봉구</td>\n",
              "    </tr>\n",
              "    <tr>\n",
              "      <th>10</th>\n",
              "      <td>0.045759</td>\n",
              "      <td>0.828620</td>\n",
              "      <td>0.244920</td>\n",
              "      <td>0.528220</td>\n",
              "      <td>61</td>\n",
              "      <td>동대문구</td>\n",
              "    </tr>\n",
              "    <tr>\n",
              "      <th>11</th>\n",
              "      <td>0.614433</td>\n",
              "      <td>0.556984</td>\n",
              "      <td>0.621390</td>\n",
              "      <td>0.536903</td>\n",
              "      <td>71</td>\n",
              "      <td>동작구</td>\n",
              "    </tr>\n",
              "    <tr>\n",
              "      <th>12</th>\n",
              "      <td>0.399772</td>\n",
              "      <td>0.007712</td>\n",
              "      <td>0.395009</td>\n",
              "      <td>0.507959</td>\n",
              "      <td>80</td>\n",
              "      <td>마포구</td>\n",
              "    </tr>\n",
              "    <tr>\n",
              "      <th>13</th>\n",
              "      <td>1.000000</td>\n",
              "      <td>0.321337</td>\n",
              "      <td>0.674866</td>\n",
              "      <td>0.269175</td>\n",
              "      <td>68</td>\n",
              "      <td>서대문구</td>\n",
              "    </tr>\n",
              "    <tr>\n",
              "      <th>14</th>\n",
              "      <td>0.162545</td>\n",
              "      <td>0.550129</td>\n",
              "      <td>0.732977</td>\n",
              "      <td>0.697540</td>\n",
              "      <td>74</td>\n",
              "      <td>서초구</td>\n",
              "    </tr>\n",
              "    <tr>\n",
              "      <th>15</th>\n",
              "      <td>0.105904</td>\n",
              "      <td>0.272494</td>\n",
              "      <td>0.942602</td>\n",
              "      <td>0.672938</td>\n",
              "      <td>81</td>\n",
              "      <td>성동구</td>\n",
              "    </tr>\n",
              "    <tr>\n",
              "      <th>16</th>\n",
              "      <td>0.000000</td>\n",
              "      <td>0.431020</td>\n",
              "      <td>0.159358</td>\n",
              "      <td>1.000000</td>\n",
              "      <td>59</td>\n",
              "      <td>성북구</td>\n",
              "    </tr>\n",
              "    <tr>\n",
              "      <th>17</th>\n",
              "      <td>0.015797</td>\n",
              "      <td>0.428449</td>\n",
              "      <td>0.479501</td>\n",
              "      <td>0.639653</td>\n",
              "      <td>64</td>\n",
              "      <td>송파구</td>\n",
              "    </tr>\n",
              "    <tr>\n",
              "      <th>18</th>\n",
              "      <td>0.740118</td>\n",
              "      <td>0.322194</td>\n",
              "      <td>0.330125</td>\n",
              "      <td>0.269175</td>\n",
              "      <td>76</td>\n",
              "      <td>양천구</td>\n",
              "    </tr>\n",
              "    <tr>\n",
              "      <th>19</th>\n",
              "      <td>0.489301</td>\n",
              "      <td>0.510711</td>\n",
              "      <td>0.000000</td>\n",
              "      <td>0.617945</td>\n",
              "      <td>86</td>\n",
              "      <td>영등포구</td>\n",
              "    </tr>\n",
              "    <tr>\n",
              "      <th>20</th>\n",
              "      <td>0.772286</td>\n",
              "      <td>0.156812</td>\n",
              "      <td>0.724777</td>\n",
              "      <td>0.289436</td>\n",
              "      <td>62</td>\n",
              "      <td>용산구</td>\n",
              "    </tr>\n",
              "    <tr>\n",
              "      <th>21</th>\n",
              "      <td>0.167308</td>\n",
              "      <td>0.262211</td>\n",
              "      <td>0.342602</td>\n",
              "      <td>0.422576</td>\n",
              "      <td>61</td>\n",
              "      <td>은평구</td>\n",
              "    </tr>\n",
              "    <tr>\n",
              "      <th>22</th>\n",
              "      <td>0.380063</td>\n",
              "      <td>0.758355</td>\n",
              "      <td>0.286988</td>\n",
              "      <td>0.565847</td>\n",
              "      <td>43</td>\n",
              "      <td>종로구</td>\n",
              "    </tr>\n",
              "    <tr>\n",
              "      <th>23</th>\n",
              "      <td>0.447223</td>\n",
              "      <td>0.142245</td>\n",
              "      <td>0.837077</td>\n",
              "      <td>0.000000</td>\n",
              "      <td>50</td>\n",
              "      <td>중구</td>\n",
              "    </tr>\n",
              "    <tr>\n",
              "      <th>24</th>\n",
              "      <td>0.763520</td>\n",
              "      <td>0.358183</td>\n",
              "      <td>0.243850</td>\n",
              "      <td>0.445731</td>\n",
              "      <td>51</td>\n",
              "      <td>중랑구</td>\n",
              "    </tr>\n",
              "  </tbody>\n",
              "</table>\n",
              "</div>\n",
              "      <button class=\"colab-df-convert\" onclick=\"convertToInteractive('df-f998cb0d-d03d-44ba-aaec-e83ac2f3d103')\"\n",
              "              title=\"Convert this dataframe to an interactive table.\"\n",
              "              style=\"display:none;\">\n",
              "        \n",
              "  <svg xmlns=\"http://www.w3.org/2000/svg\" height=\"24px\"viewBox=\"0 0 24 24\"\n",
              "       width=\"24px\">\n",
              "    <path d=\"M0 0h24v24H0V0z\" fill=\"none\"/>\n",
              "    <path d=\"M18.56 5.44l.94 2.06.94-2.06 2.06-.94-2.06-.94-.94-2.06-.94 2.06-2.06.94zm-11 1L8.5 8.5l.94-2.06 2.06-.94-2.06-.94L8.5 2.5l-.94 2.06-2.06.94zm10 10l.94 2.06.94-2.06 2.06-.94-2.06-.94-.94-2.06-.94 2.06-2.06.94z\"/><path d=\"M17.41 7.96l-1.37-1.37c-.4-.4-.92-.59-1.43-.59-.52 0-1.04.2-1.43.59L10.3 9.45l-7.72 7.72c-.78.78-.78 2.05 0 2.83L4 21.41c.39.39.9.59 1.41.59.51 0 1.02-.2 1.41-.59l7.78-7.78 2.81-2.81c.8-.78.8-2.07 0-2.86zM5.41 20L4 18.59l7.72-7.72 1.47 1.35L5.41 20z\"/>\n",
              "  </svg>\n",
              "      </button>\n",
              "      \n",
              "  <style>\n",
              "    .colab-df-container {\n",
              "      display:flex;\n",
              "      flex-wrap:wrap;\n",
              "      gap: 12px;\n",
              "    }\n",
              "\n",
              "    .colab-df-convert {\n",
              "      background-color: #E8F0FE;\n",
              "      border: none;\n",
              "      border-radius: 50%;\n",
              "      cursor: pointer;\n",
              "      display: none;\n",
              "      fill: #1967D2;\n",
              "      height: 32px;\n",
              "      padding: 0 0 0 0;\n",
              "      width: 32px;\n",
              "    }\n",
              "\n",
              "    .colab-df-convert:hover {\n",
              "      background-color: #E2EBFA;\n",
              "      box-shadow: 0px 1px 2px rgba(60, 64, 67, 0.3), 0px 1px 3px 1px rgba(60, 64, 67, 0.15);\n",
              "      fill: #174EA6;\n",
              "    }\n",
              "\n",
              "    [theme=dark] .colab-df-convert {\n",
              "      background-color: #3B4455;\n",
              "      fill: #D2E3FC;\n",
              "    }\n",
              "\n",
              "    [theme=dark] .colab-df-convert:hover {\n",
              "      background-color: #434B5C;\n",
              "      box-shadow: 0px 1px 3px 1px rgba(0, 0, 0, 0.15);\n",
              "      filter: drop-shadow(0px 1px 2px rgba(0, 0, 0, 0.3));\n",
              "      fill: #FFFFFF;\n",
              "    }\n",
              "  </style>\n",
              "\n",
              "      <script>\n",
              "        const buttonEl =\n",
              "          document.querySelector('#df-f998cb0d-d03d-44ba-aaec-e83ac2f3d103 button.colab-df-convert');\n",
              "        buttonEl.style.display =\n",
              "          google.colab.kernel.accessAllowed ? 'block' : 'none';\n",
              "\n",
              "        async function convertToInteractive(key) {\n",
              "          const element = document.querySelector('#df-f998cb0d-d03d-44ba-aaec-e83ac2f3d103');\n",
              "          const dataTable =\n",
              "            await google.colab.kernel.invokeFunction('convertToInteractive',\n",
              "                                                     [key], {});\n",
              "          if (!dataTable) return;\n",
              "\n",
              "          const docLinkHtml = 'Like what you see? Visit the ' +\n",
              "            '<a target=\"_blank\" href=https://colab.research.google.com/notebooks/data_table.ipynb>data table notebook</a>'\n",
              "            + ' to learn more about interactive tables.';\n",
              "          element.innerHTML = '';\n",
              "          dataTable['output_type'] = 'display_data';\n",
              "          await google.colab.output.renderOutput(dataTable, element);\n",
              "          const docLink = document.createElement('div');\n",
              "          docLink.innerHTML = docLinkHtml;\n",
              "          element.appendChild(docLink);\n",
              "        }\n",
              "      </script>\n",
              "    </div>\n",
              "  </div>\n",
              "  "
            ]
          },
          "metadata": {},
          "execution_count": 103
        }
      ]
    },
    {
      "cell_type": "code",
      "source": [
        "import plotly.express as px\n",
        "\n",
        "df19 = df19.sort_values('미세먼지나쁨일수', ascending=False)\n",
        "\n",
        "fig = px.scatter(df19, x=\"교통량\", y=\"공원율\", color=\"자치구\",\n",
        "                 size='미세먼지나쁨일수', height=700, width=800)\n",
        "\n",
        "fig.show()"
      ],
      "metadata": {
        "colab": {
          "base_uri": "https://localhost:8080/",
          "height": 717
        },
        "id": "HtDmvr2GkESY",
        "outputId": "b69b2c95-7358-400a-845c-0683e489bc59"
      },
      "execution_count": null,
      "outputs": [
        {
          "output_type": "display_data",
          "data": {
            "text/html": [
              "<html>\n",
              "<head><meta charset=\"utf-8\" /></head>\n",
              "<body>\n",
              "    <div>            <script src=\"https://cdnjs.cloudflare.com/ajax/libs/mathjax/2.7.5/MathJax.js?config=TeX-AMS-MML_SVG\"></script><script type=\"text/javascript\">if (window.MathJax) {MathJax.Hub.Config({SVG: {font: \"STIX-Web\"}});}</script>                <script type=\"text/javascript\">window.PlotlyConfig = {MathJaxConfig: 'local'};</script>\n",
              "        <script src=\"https://cdn.plot.ly/plotly-2.8.3.min.js\"></script>                <div id=\"db4c1782-d298-415a-9285-5da8a1f73967\" class=\"plotly-graph-div\" style=\"height:700px; width:800px;\"></div>            <script type=\"text/javascript\">                                    window.PLOTLYENV=window.PLOTLYENV || {};                                    if (document.getElementById(\"db4c1782-d298-415a-9285-5da8a1f73967\")) {                    Plotly.newPlot(                        \"db4c1782-d298-415a-9285-5da8a1f73967\",                        [{\"hovertemplate\":\"\\uc790\\uce58\\uad6c=\\uc601\\ub4f1\\ud3ec\\uad6c<br>\\uad50\\ud1b5\\ub7c9=%{x}<br>\\uacf5\\uc6d0\\uc728=%{y}<br>\\ubbf8\\uc138\\uba3c\\uc9c0\\ub098\\uc068\\uc77c\\uc218=%{marker.size}<extra></extra>\",\"legendgroup\":\"\\uc601\\ub4f1\\ud3ec\\uad6c\",\"marker\":{\"color\":\"#636efa\",\"size\":[86],\"sizemode\":\"area\",\"sizeref\":0.215,\"symbol\":\"circle\"},\"mode\":\"markers\",\"name\":\"\\uc601\\ub4f1\\ud3ec\\uad6c\",\"orientation\":\"v\",\"showlegend\":true,\"x\":[23.8],\"xaxis\":\"x\",\"y\":[0.1242626690565422],\"yaxis\":\"y\",\"type\":\"scatter\"},{\"hovertemplate\":\"\\uc790\\uce58\\uad6c=\\uc131\\ub3d9\\uad6c<br>\\uad50\\ud1b5\\ub7c9=%{x}<br>\\uacf5\\uc6d0\\uc728=%{y}<br>\\ubbf8\\uc138\\uba3c\\uc9c0\\ub098\\uc068\\uc77c\\uc218=%{marker.size}<extra></extra>\",\"legendgroup\":\"\\uc131\\ub3d9\\uad6c\",\"marker\":{\"color\":\"#EF553B\",\"size\":[81],\"sizemode\":\"area\",\"sizeref\":0.215,\"symbol\":\"circle\"},\"mode\":\"markers\",\"name\":\"\\uc131\\ub3d9\\uad6c\",\"orientation\":\"v\",\"showlegend\":true,\"x\":[24.89],\"xaxis\":\"x\",\"y\":[0.1838562362849178],\"yaxis\":\"y\",\"type\":\"scatter\"},{\"hovertemplate\":\"\\uc790\\uce58\\uad6c=\\ub9c8\\ud3ec\\uad6c<br>\\uad50\\ud1b5\\ub7c9=%{x}<br>\\uacf5\\uc6d0\\uc728=%{y}<br>\\ubbf8\\uc138\\uba3c\\uc9c0\\ub098\\uc068\\uc77c\\uc218=%{marker.size}<extra></extra>\",\"legendgroup\":\"\\ub9c8\\ud3ec\\uad6c\",\"marker\":{\"color\":\"#00cc96\",\"size\":[80],\"sizemode\":\"area\",\"sizeref\":0.215,\"symbol\":\"circle\"},\"mode\":\"markers\",\"name\":\"\\ub9c8\\ud3ec\\uad6c\",\"orientation\":\"v\",\"showlegend\":true,\"x\":[24.24],\"xaxis\":\"x\",\"y\":[0.1861635220125786],\"yaxis\":\"y\",\"type\":\"scatter\"},{\"hovertemplate\":\"\\uc790\\uce58\\uad6c=\\uad00\\uc545\\uad6c<br>\\uad50\\ud1b5\\ub7c9=%{x}<br>\\uacf5\\uc6d0\\uc728=%{y}<br>\\ubbf8\\uc138\\uba3c\\uc9c0\\ub098\\uc068\\uc77c\\uc218=%{marker.size}<extra></extra>\",\"legendgroup\":\"\\uad00\\uc545\\uad6c\",\"marker\":{\"color\":\"#ab63fa\",\"size\":[76],\"sizemode\":\"area\",\"sizeref\":0.215,\"symbol\":\"circle\"},\"mode\":\"markers\",\"name\":\"\\uad00\\uc545\\uad6c\",\"orientation\":\"v\",\"showlegend\":true,\"x\":[25.09],\"xaxis\":\"x\",\"y\":[0.3712300043964963],\"yaxis\":\"y\",\"type\":\"scatter\"},{\"hovertemplate\":\"\\uc790\\uce58\\uad6c=\\uc591\\ucc9c\\uad6c<br>\\uad50\\ud1b5\\ub7c9=%{x}<br>\\uacf5\\uc6d0\\uc728=%{y}<br>\\ubbf8\\uc138\\uba3c\\uc9c0\\ub098\\uc068\\uc77c\\uc218=%{marker.size}<extra></extra>\",\"legendgroup\":\"\\uc591\\ucc9c\\uad6c\",\"marker\":{\"color\":\"#FFA15A\",\"size\":[76],\"sizemode\":\"area\",\"sizeref\":0.215,\"symbol\":\"circle\"},\"mode\":\"markers\",\"name\":\"\\uc591\\ucc9c\\uad6c\",\"orientation\":\"v\",\"showlegend\":true,\"x\":[25.35],\"xaxis\":\"x\",\"y\":[0.1673082447572536],\"yaxis\":\"y\",\"type\":\"scatter\"},{\"hovertemplate\":\"\\uc790\\uce58\\uad6c=\\uc11c\\ucd08\\uad6c<br>\\uad50\\ud1b5\\ub7c9=%{x}<br>\\uacf5\\uc6d0\\uc728=%{y}<br>\\ubbf8\\uc138\\uba3c\\uc9c0\\ub098\\uc068\\uc77c\\uc218=%{marker.size}<extra></extra>\",\"legendgroup\":\"\\uc11c\\ucd08\\uad6c\",\"marker\":{\"color\":\"#19d3f3\",\"size\":[74],\"sizemode\":\"area\",\"sizeref\":0.215,\"symbol\":\"circle\"},\"mode\":\"markers\",\"name\":\"\\uc11c\\ucd08\\uad6c\",\"orientation\":\"v\",\"showlegend\":true,\"x\":[26.08],\"xaxis\":\"x\",\"y\":[0.3422873076350013],\"yaxis\":\"y\",\"type\":\"scatter\"},{\"hovertemplate\":\"\\uc790\\uce58\\uad6c=\\uad11\\uc9c4\\uad6c<br>\\uad50\\ud1b5\\ub7c9=%{x}<br>\\uacf5\\uc6d0\\uc728=%{y}<br>\\ubbf8\\uc138\\uba3c\\uc9c0\\ub098\\uc068\\uc77c\\uc218=%{marker.size}<extra></extra>\",\"legendgroup\":\"\\uad11\\uc9c4\\uad6c\",\"marker\":{\"color\":\"#FF6692\",\"size\":[74],\"sizemode\":\"area\",\"sizeref\":0.215,\"symbol\":\"circle\"},\"mode\":\"markers\",\"name\":\"\\uad11\\uc9c4\\uad6c\",\"orientation\":\"v\",\"showlegend\":true,\"x\":[24.91],\"xaxis\":\"x\",\"y\":[0.1971339819481889],\"yaxis\":\"y\",\"type\":\"scatter\"},{\"hovertemplate\":\"\\uc790\\uce58\\uad6c=\\uad6c\\ub85c\\uad6c<br>\\uad50\\ud1b5\\ub7c9=%{x}<br>\\uacf5\\uc6d0\\uc728=%{y}<br>\\ubbf8\\uc138\\uba3c\\uc9c0\\ub098\\uc068\\uc77c\\uc218=%{marker.size}<extra></extra>\",\"legendgroup\":\"\\uad6c\\ub85c\\uad6c\",\"marker\":{\"color\":\"#B6E880\",\"size\":[71],\"sizemode\":\"area\",\"sizeref\":0.215,\"symbol\":\"circle\"},\"mode\":\"markers\",\"name\":\"\\uad6c\\ub85c\\uad6c\",\"orientation\":\"v\",\"showlegend\":true,\"x\":[22.8],\"xaxis\":\"x\",\"y\":[0.1658183806352204],\"yaxis\":\"y\",\"type\":\"scatter\"},{\"hovertemplate\":\"\\uc790\\uce58\\uad6c=\\ub3d9\\uc791\\uad6c<br>\\uad50\\ud1b5\\ub7c9=%{x}<br>\\uacf5\\uc6d0\\uc728=%{y}<br>\\ubbf8\\uc138\\uba3c\\uc9c0\\ub098\\uc068\\uc77c\\uc218=%{marker.size}<extra></extra>\",\"legendgroup\":\"\\ub3d9\\uc791\\uad6c\",\"marker\":{\"color\":\"#FF97FF\",\"size\":[71],\"sizemode\":\"area\",\"sizeref\":0.215,\"symbol\":\"circle\"},\"mode\":\"markers\",\"name\":\"\\ub3d9\\uc791\\uad6c\",\"orientation\":\"v\",\"showlegend\":true,\"x\":[26.29],\"xaxis\":\"x\",\"y\":[0.2803277686051489],\"yaxis\":\"y\",\"type\":\"scatter\"},{\"hovertemplate\":\"\\uc790\\uce58\\uad6c=\\uac15\\ub3d9\\uad6c<br>\\uad50\\ud1b5\\ub7c9=%{x}<br>\\uacf5\\uc6d0\\uc728=%{y}<br>\\ubbf8\\uc138\\uba3c\\uc9c0\\ub098\\uc068\\uc77c\\uc218=%{marker.size}<extra></extra>\",\"legendgroup\":\"\\uac15\\ub3d9\\uad6c\",\"marker\":{\"color\":\"#FECB52\",\"size\":[70],\"sizemode\":\"area\",\"sizeref\":0.215,\"symbol\":\"circle\"},\"mode\":\"markers\",\"name\":\"\\uac15\\ub3d9\\uad6c\",\"orientation\":\"v\",\"showlegend\":true,\"x\":[23.4],\"xaxis\":\"x\",\"y\":[0.1370394469296462],\"yaxis\":\"y\",\"type\":\"scatter\"},{\"hovertemplate\":\"\\uc790\\uce58\\uad6c=\\uac15\\uc11c\\uad6c<br>\\uad50\\ud1b5\\ub7c9=%{x}<br>\\uacf5\\uc6d0\\uc728=%{y}<br>\\ubbf8\\uc138\\uba3c\\uc9c0\\ub098\\uc068\\uc77c\\uc218=%{marker.size}<extra></extra>\",\"legendgroup\":\"\\uac15\\uc11c\\uad6c\",\"marker\":{\"color\":\"#636efa\",\"size\":[69],\"sizemode\":\"area\",\"sizeref\":0.215,\"symbol\":\"circle\"},\"mode\":\"markers\",\"name\":\"\\uac15\\uc11c\\uad6c\",\"orientation\":\"v\",\"showlegend\":true,\"x\":[23.24],\"xaxis\":\"x\",\"y\":[0.1054710879428516],\"yaxis\":\"y\",\"type\":\"scatter\"},{\"hovertemplate\":\"\\uc790\\uce58\\uad6c=\\ub178\\uc6d0\\uad6c<br>\\uad50\\ud1b5\\ub7c9=%{x}<br>\\uacf5\\uc6d0\\uc728=%{y}<br>\\ubbf8\\uc138\\uba3c\\uc9c0\\ub098\\uc068\\uc77c\\uc218=%{marker.size}<extra></extra>\",\"legendgroup\":\"\\ub178\\uc6d0\\uad6c\",\"marker\":{\"color\":\"#EF553B\",\"size\":[69],\"sizemode\":\"area\",\"sizeref\":0.215,\"symbol\":\"circle\"},\"mode\":\"markers\",\"name\":\"\\ub178\\uc6d0\\uad6c\",\"orientation\":\"v\",\"showlegend\":true,\"x\":[23.3],\"xaxis\":\"x\",\"y\":[0.4047859581793041],\"yaxis\":\"y\",\"type\":\"scatter\"},{\"hovertemplate\":\"\\uc790\\uce58\\uad6c=\\uc11c\\ub300\\ubb38\\uad6c<br>\\uad50\\ud1b5\\ub7c9=%{x}<br>\\uacf5\\uc6d0\\uc728=%{y}<br>\\ubbf8\\uc138\\uba3c\\uc9c0\\ub098\\uc068\\uc77c\\uc218=%{marker.size}<extra></extra>\",\"legendgroup\":\"\\uc11c\\ub300\\ubb38\\uad6c\",\"marker\":{\"color\":\"#00cc96\",\"size\":[68],\"sizemode\":\"area\",\"sizeref\":0.215,\"symbol\":\"circle\"},\"mode\":\"markers\",\"name\":\"\\uc11c\\ub300\\ubb38\\uad6c\",\"orientation\":\"v\",\"showlegend\":true,\"x\":[23.1],\"xaxis\":\"x\",\"y\":[0.2918018835810734],\"yaxis\":\"y\",\"type\":\"scatter\"},{\"hovertemplate\":\"\\uc790\\uce58\\uad6c=\\uac15\\ubd81\\uad6c<br>\\uad50\\ud1b5\\ub7c9=%{x}<br>\\uacf5\\uc6d0\\uc728=%{y}<br>\\ubbf8\\uc138\\uba3c\\uc9c0\\ub098\\uc068\\uc77c\\uc218=%{marker.size}<extra></extra>\",\"legendgroup\":\"\\uac15\\ubd81\\uad6c\",\"marker\":{\"color\":\"#ab63fa\",\"size\":[67],\"sizemode\":\"area\",\"sizeref\":0.215,\"symbol\":\"circle\"},\"mode\":\"markers\",\"name\":\"\\uac15\\ubd81\\uad6c\",\"orientation\":\"v\",\"showlegend\":true,\"x\":[21.45],\"xaxis\":\"x\",\"y\":[0.6077245762711864],\"yaxis\":\"y\",\"type\":\"scatter\"},{\"hovertemplate\":\"\\uc790\\uce58\\uad6c=\\uac15\\ub0a8\\uad6c<br>\\uad50\\ud1b5\\ub7c9=%{x}<br>\\uacf5\\uc6d0\\uc728=%{y}<br>\\ubbf8\\uc138\\uba3c\\uc9c0\\ub098\\uc068\\uc77c\\uc218=%{marker.size}<extra></extra>\",\"legendgroup\":\"\\uac15\\ub0a8\\uad6c\",\"marker\":{\"color\":\"#FFA15A\",\"size\":[65],\"sizemode\":\"area\",\"sizeref\":0.215,\"symbol\":\"circle\"},\"mode\":\"markers\",\"name\":\"\\uac15\\ub0a8\\uad6c\",\"orientation\":\"v\",\"showlegend\":true,\"x\":[24.41],\"xaxis\":\"x\",\"y\":[0.1669400774663932],\"yaxis\":\"y\",\"type\":\"scatter\"},{\"hovertemplate\":\"\\uc790\\uce58\\uad6c=\\uc1a1\\ud30c\\uad6c<br>\\uad50\\ud1b5\\ub7c9=%{x}<br>\\uacf5\\uc6d0\\uc728=%{y}<br>\\ubbf8\\uc138\\uba3c\\uc9c0\\ub098\\uc068\\uc77c\\uc218=%{marker.size}<extra></extra>\",\"legendgroup\":\"\\uc1a1\\ud30c\\uad6c\",\"marker\":{\"color\":\"#19d3f3\",\"size\":[64],\"sizemode\":\"area\",\"sizeref\":0.215,\"symbol\":\"circle\"},\"mode\":\"markers\",\"name\":\"\\uc1a1\\ud30c\\uad6c\",\"orientation\":\"v\",\"showlegend\":true,\"x\":[24.24],\"xaxis\":\"x\",\"y\":[0.1371280113367973],\"yaxis\":\"y\",\"type\":\"scatter\"},{\"hovertemplate\":\"\\uc790\\uce58\\uad6c=\\uc6a9\\uc0b0\\uad6c<br>\\uad50\\ud1b5\\ub7c9=%{x}<br>\\uacf5\\uc6d0\\uc728=%{y}<br>\\ubbf8\\uc138\\uba3c\\uc9c0\\ub098\\uc068\\uc77c\\uc218=%{marker.size}<extra></extra>\",\"legendgroup\":\"\\uc6a9\\uc0b0\\uad6c\",\"marker\":{\"color\":\"#FF6692\",\"size\":[62],\"sizemode\":\"area\",\"sizeref\":0.215,\"symbol\":\"circle\"},\"mode\":\"markers\",\"name\":\"\\uc6a9\\uc0b0\\uad6c\",\"orientation\":\"v\",\"showlegend\":true,\"x\":[26.5],\"xaxis\":\"x\",\"y\":[0.0813866276410866],\"yaxis\":\"y\",\"type\":\"scatter\"},{\"hovertemplate\":\"\\uc790\\uce58\\uad6c=\\ub3d9\\ub300\\ubb38\\uad6c<br>\\uad50\\ud1b5\\ub7c9=%{x}<br>\\uacf5\\uc6d0\\uc728=%{y}<br>\\ubbf8\\uc138\\uba3c\\uc9c0\\ub098\\uc068\\uc77c\\uc218=%{marker.size}<extra></extra>\",\"legendgroup\":\"\\ub3d9\\ub300\\ubb38\\uad6c\",\"marker\":{\"color\":\"#B6E880\",\"size\":[61],\"sizemode\":\"area\",\"sizeref\":0.215,\"symbol\":\"circle\"},\"mode\":\"markers\",\"name\":\"\\ub3d9\\ub300\\ubb38\\uad6c\",\"orientation\":\"v\",\"showlegend\":true,\"x\":[24.01],\"xaxis\":\"x\",\"y\":[0.0897010200492437],\"yaxis\":\"y\",\"type\":\"scatter\"},{\"hovertemplate\":\"\\uc790\\uce58\\uad6c=\\uc740\\ud3c9\\uad6c<br>\\uad50\\ud1b5\\ub7c9=%{x}<br>\\uacf5\\uc6d0\\uc728=%{y}<br>\\ubbf8\\uc138\\uba3c\\uc9c0\\ub098\\uc068\\uc77c\\uc218=%{marker.size}<extra></extra>\",\"legendgroup\":\"\\uc740\\ud3c9\\uad6c\",\"marker\":{\"color\":\"#FF97FF\",\"size\":[61],\"sizemode\":\"area\",\"sizeref\":0.215,\"symbol\":\"circle\"},\"mode\":\"markers\",\"name\":\"\\uc740\\ud3c9\\uad6c\",\"orientation\":\"v\",\"showlegend\":true,\"x\":[21.45],\"xaxis\":\"x\",\"y\":[0.4709390777515988],\"yaxis\":\"y\",\"type\":\"scatter\"},{\"hovertemplate\":\"\\uc790\\uce58\\uad6c=\\uc131\\ubd81\\uad6c<br>\\uad50\\ud1b5\\ub7c9=%{x}<br>\\uacf5\\uc6d0\\uc728=%{y}<br>\\ubbf8\\uc138\\uba3c\\uc9c0\\ub098\\uc068\\uc77c\\uc218=%{marker.size}<extra></extra>\",\"legendgroup\":\"\\uc131\\ubd81\\uad6c\",\"marker\":{\"color\":\"#FECB52\",\"size\":[59],\"sizemode\":\"area\",\"sizeref\":0.215,\"symbol\":\"circle\"},\"mode\":\"markers\",\"name\":\"\\uc131\\ubd81\\uad6c\",\"orientation\":\"v\",\"showlegend\":true,\"x\":[23.86],\"xaxis\":\"x\",\"y\":[0.3389241536458333],\"yaxis\":\"y\",\"type\":\"scatter\"},{\"hovertemplate\":\"\\uc790\\uce58\\uad6c=\\ub3c4\\ubd09\\uad6c<br>\\uad50\\ud1b5\\ub7c9=%{x}<br>\\uacf5\\uc6d0\\uc728=%{y}<br>\\ubbf8\\uc138\\uba3c\\uc9c0\\ub098\\uc068\\uc77c\\uc218=%{marker.size}<extra></extra>\",\"legendgroup\":\"\\ub3c4\\ubd09\\uad6c\",\"marker\":{\"color\":\"#636efa\",\"size\":[56],\"sizemode\":\"area\",\"sizeref\":0.215,\"symbol\":\"circle\"},\"mode\":\"markers\",\"name\":\"\\ub3c4\\ubd09\\uad6c\",\"orientation\":\"v\",\"showlegend\":true,\"x\":[21.59],\"xaxis\":\"x\",\"y\":[0.4878698368117766],\"yaxis\":\"y\",\"type\":\"scatter\"},{\"hovertemplate\":\"\\uc790\\uce58\\uad6c=\\uae08\\ucc9c\\uad6c<br>\\uad50\\ud1b5\\ub7c9=%{x}<br>\\uacf5\\uc6d0\\uc728=%{y}<br>\\ubbf8\\uc138\\uba3c\\uc9c0\\ub098\\uc068\\uc77c\\uc218=%{marker.size}<extra></extra>\",\"legendgroup\":\"\\uae08\\ucc9c\\uad6c\",\"marker\":{\"color\":\"#EF553B\",\"size\":[54],\"sizemode\":\"area\",\"sizeref\":0.215,\"symbol\":\"circle\"},\"mode\":\"markers\",\"name\":\"\\uae08\\ucc9c\\uad6c\",\"orientation\":\"v\",\"showlegend\":true,\"x\":[22.51],\"xaxis\":\"x\",\"y\":[0.1694470046082949],\"yaxis\":\"y\",\"type\":\"scatter\"},{\"hovertemplate\":\"\\uc790\\uce58\\uad6c=\\uc911\\ub791\\uad6c<br>\\uad50\\ud1b5\\ub7c9=%{x}<br>\\uacf5\\uc6d0\\uc728=%{y}<br>\\ubbf8\\uc138\\uba3c\\uc9c0\\ub098\\uc068\\uc77c\\uc218=%{marker.size}<extra></extra>\",\"legendgroup\":\"\\uc911\\ub791\\uad6c\",\"marker\":{\"color\":\"#00cc96\",\"size\":[51],\"sizemode\":\"area\",\"sizeref\":0.215,\"symbol\":\"circle\"},\"mode\":\"markers\",\"name\":\"\\uc911\\ub791\\uad6c\",\"orientation\":\"v\",\"showlegend\":true,\"x\":[23.5],\"xaxis\":\"x\",\"y\":[0.2814284169550173],\"yaxis\":\"y\",\"type\":\"scatter\"},{\"hovertemplate\":\"\\uc790\\uce58\\uad6c=\\uc911\\uad6c<br>\\uad50\\ud1b5\\ub7c9=%{x}<br>\\uacf5\\uc6d0\\uc728=%{y}<br>\\ubbf8\\uc138\\uba3c\\uc9c0\\ub098\\uc068\\uc77c\\uc218=%{marker.size}<extra></extra>\",\"legendgroup\":\"\\uc911\\uad6c\",\"marker\":{\"color\":\"#ab63fa\",\"size\":[50],\"sizemode\":\"area\",\"sizeref\":0.215,\"symbol\":\"circle\"},\"mode\":\"markers\",\"name\":\"\\uc911\\uad6c\",\"orientation\":\"v\",\"showlegend\":true,\"x\":[19.59],\"xaxis\":\"x\",\"y\":[0.3167771084337349],\"yaxis\":\"y\",\"type\":\"scatter\"},{\"hovertemplate\":\"\\uc790\\uce58\\uad6c=\\uc885\\ub85c\\uad6c<br>\\uad50\\ud1b5\\ub7c9=%{x}<br>\\uacf5\\uc6d0\\uc728=%{y}<br>\\ubbf8\\uc138\\uba3c\\uc9c0\\ub098\\uc068\\uc77c\\uc218=%{marker.size}<extra></extra>\",\"legendgroup\":\"\\uc885\\ub85c\\uad6c\",\"marker\":{\"color\":\"#FFA15A\",\"size\":[43],\"sizemode\":\"area\",\"sizeref\":0.215,\"symbol\":\"circle\"},\"mode\":\"markers\",\"name\":\"\\uc885\\ub85c\\uad6c\",\"orientation\":\"v\",\"showlegend\":true,\"x\":[22.67],\"xaxis\":\"x\",\"y\":[0.4832559695563083],\"yaxis\":\"y\",\"type\":\"scatter\"}],                        {\"template\":{\"data\":{\"bar\":[{\"error_x\":{\"color\":\"#2a3f5f\"},\"error_y\":{\"color\":\"#2a3f5f\"},\"marker\":{\"line\":{\"color\":\"#E5ECF6\",\"width\":0.5},\"pattern\":{\"fillmode\":\"overlay\",\"size\":10,\"solidity\":0.2}},\"type\":\"bar\"}],\"barpolar\":[{\"marker\":{\"line\":{\"color\":\"#E5ECF6\",\"width\":0.5},\"pattern\":{\"fillmode\":\"overlay\",\"size\":10,\"solidity\":0.2}},\"type\":\"barpolar\"}],\"carpet\":[{\"aaxis\":{\"endlinecolor\":\"#2a3f5f\",\"gridcolor\":\"white\",\"linecolor\":\"white\",\"minorgridcolor\":\"white\",\"startlinecolor\":\"#2a3f5f\"},\"baxis\":{\"endlinecolor\":\"#2a3f5f\",\"gridcolor\":\"white\",\"linecolor\":\"white\",\"minorgridcolor\":\"white\",\"startlinecolor\":\"#2a3f5f\"},\"type\":\"carpet\"}],\"choropleth\":[{\"colorbar\":{\"outlinewidth\":0,\"ticks\":\"\"},\"type\":\"choropleth\"}],\"contour\":[{\"colorbar\":{\"outlinewidth\":0,\"ticks\":\"\"},\"colorscale\":[[0.0,\"#0d0887\"],[0.1111111111111111,\"#46039f\"],[0.2222222222222222,\"#7201a8\"],[0.3333333333333333,\"#9c179e\"],[0.4444444444444444,\"#bd3786\"],[0.5555555555555556,\"#d8576b\"],[0.6666666666666666,\"#ed7953\"],[0.7777777777777778,\"#fb9f3a\"],[0.8888888888888888,\"#fdca26\"],[1.0,\"#f0f921\"]],\"type\":\"contour\"}],\"contourcarpet\":[{\"colorbar\":{\"outlinewidth\":0,\"ticks\":\"\"},\"type\":\"contourcarpet\"}],\"heatmap\":[{\"colorbar\":{\"outlinewidth\":0,\"ticks\":\"\"},\"colorscale\":[[0.0,\"#0d0887\"],[0.1111111111111111,\"#46039f\"],[0.2222222222222222,\"#7201a8\"],[0.3333333333333333,\"#9c179e\"],[0.4444444444444444,\"#bd3786\"],[0.5555555555555556,\"#d8576b\"],[0.6666666666666666,\"#ed7953\"],[0.7777777777777778,\"#fb9f3a\"],[0.8888888888888888,\"#fdca26\"],[1.0,\"#f0f921\"]],\"type\":\"heatmap\"}],\"heatmapgl\":[{\"colorbar\":{\"outlinewidth\":0,\"ticks\":\"\"},\"colorscale\":[[0.0,\"#0d0887\"],[0.1111111111111111,\"#46039f\"],[0.2222222222222222,\"#7201a8\"],[0.3333333333333333,\"#9c179e\"],[0.4444444444444444,\"#bd3786\"],[0.5555555555555556,\"#d8576b\"],[0.6666666666666666,\"#ed7953\"],[0.7777777777777778,\"#fb9f3a\"],[0.8888888888888888,\"#fdca26\"],[1.0,\"#f0f921\"]],\"type\":\"heatmapgl\"}],\"histogram\":[{\"marker\":{\"pattern\":{\"fillmode\":\"overlay\",\"size\":10,\"solidity\":0.2}},\"type\":\"histogram\"}],\"histogram2d\":[{\"colorbar\":{\"outlinewidth\":0,\"ticks\":\"\"},\"colorscale\":[[0.0,\"#0d0887\"],[0.1111111111111111,\"#46039f\"],[0.2222222222222222,\"#7201a8\"],[0.3333333333333333,\"#9c179e\"],[0.4444444444444444,\"#bd3786\"],[0.5555555555555556,\"#d8576b\"],[0.6666666666666666,\"#ed7953\"],[0.7777777777777778,\"#fb9f3a\"],[0.8888888888888888,\"#fdca26\"],[1.0,\"#f0f921\"]],\"type\":\"histogram2d\"}],\"histogram2dcontour\":[{\"colorbar\":{\"outlinewidth\":0,\"ticks\":\"\"},\"colorscale\":[[0.0,\"#0d0887\"],[0.1111111111111111,\"#46039f\"],[0.2222222222222222,\"#7201a8\"],[0.3333333333333333,\"#9c179e\"],[0.4444444444444444,\"#bd3786\"],[0.5555555555555556,\"#d8576b\"],[0.6666666666666666,\"#ed7953\"],[0.7777777777777778,\"#fb9f3a\"],[0.8888888888888888,\"#fdca26\"],[1.0,\"#f0f921\"]],\"type\":\"histogram2dcontour\"}],\"mesh3d\":[{\"colorbar\":{\"outlinewidth\":0,\"ticks\":\"\"},\"type\":\"mesh3d\"}],\"parcoords\":[{\"line\":{\"colorbar\":{\"outlinewidth\":0,\"ticks\":\"\"}},\"type\":\"parcoords\"}],\"pie\":[{\"automargin\":true,\"type\":\"pie\"}],\"scatter\":[{\"marker\":{\"colorbar\":{\"outlinewidth\":0,\"ticks\":\"\"}},\"type\":\"scatter\"}],\"scatter3d\":[{\"line\":{\"colorbar\":{\"outlinewidth\":0,\"ticks\":\"\"}},\"marker\":{\"colorbar\":{\"outlinewidth\":0,\"ticks\":\"\"}},\"type\":\"scatter3d\"}],\"scattercarpet\":[{\"marker\":{\"colorbar\":{\"outlinewidth\":0,\"ticks\":\"\"}},\"type\":\"scattercarpet\"}],\"scattergeo\":[{\"marker\":{\"colorbar\":{\"outlinewidth\":0,\"ticks\":\"\"}},\"type\":\"scattergeo\"}],\"scattergl\":[{\"marker\":{\"colorbar\":{\"outlinewidth\":0,\"ticks\":\"\"}},\"type\":\"scattergl\"}],\"scattermapbox\":[{\"marker\":{\"colorbar\":{\"outlinewidth\":0,\"ticks\":\"\"}},\"type\":\"scattermapbox\"}],\"scatterpolar\":[{\"marker\":{\"colorbar\":{\"outlinewidth\":0,\"ticks\":\"\"}},\"type\":\"scatterpolar\"}],\"scatterpolargl\":[{\"marker\":{\"colorbar\":{\"outlinewidth\":0,\"ticks\":\"\"}},\"type\":\"scatterpolargl\"}],\"scatterternary\":[{\"marker\":{\"colorbar\":{\"outlinewidth\":0,\"ticks\":\"\"}},\"type\":\"scatterternary\"}],\"surface\":[{\"colorbar\":{\"outlinewidth\":0,\"ticks\":\"\"},\"colorscale\":[[0.0,\"#0d0887\"],[0.1111111111111111,\"#46039f\"],[0.2222222222222222,\"#7201a8\"],[0.3333333333333333,\"#9c179e\"],[0.4444444444444444,\"#bd3786\"],[0.5555555555555556,\"#d8576b\"],[0.6666666666666666,\"#ed7953\"],[0.7777777777777778,\"#fb9f3a\"],[0.8888888888888888,\"#fdca26\"],[1.0,\"#f0f921\"]],\"type\":\"surface\"}],\"table\":[{\"cells\":{\"fill\":{\"color\":\"#EBF0F8\"},\"line\":{\"color\":\"white\"}},\"header\":{\"fill\":{\"color\":\"#C8D4E3\"},\"line\":{\"color\":\"white\"}},\"type\":\"table\"}]},\"layout\":{\"annotationdefaults\":{\"arrowcolor\":\"#2a3f5f\",\"arrowhead\":0,\"arrowwidth\":1},\"autotypenumbers\":\"strict\",\"coloraxis\":{\"colorbar\":{\"outlinewidth\":0,\"ticks\":\"\"}},\"colorscale\":{\"diverging\":[[0,\"#8e0152\"],[0.1,\"#c51b7d\"],[0.2,\"#de77ae\"],[0.3,\"#f1b6da\"],[0.4,\"#fde0ef\"],[0.5,\"#f7f7f7\"],[0.6,\"#e6f5d0\"],[0.7,\"#b8e186\"],[0.8,\"#7fbc41\"],[0.9,\"#4d9221\"],[1,\"#276419\"]],\"sequential\":[[0.0,\"#0d0887\"],[0.1111111111111111,\"#46039f\"],[0.2222222222222222,\"#7201a8\"],[0.3333333333333333,\"#9c179e\"],[0.4444444444444444,\"#bd3786\"],[0.5555555555555556,\"#d8576b\"],[0.6666666666666666,\"#ed7953\"],[0.7777777777777778,\"#fb9f3a\"],[0.8888888888888888,\"#fdca26\"],[1.0,\"#f0f921\"]],\"sequentialminus\":[[0.0,\"#0d0887\"],[0.1111111111111111,\"#46039f\"],[0.2222222222222222,\"#7201a8\"],[0.3333333333333333,\"#9c179e\"],[0.4444444444444444,\"#bd3786\"],[0.5555555555555556,\"#d8576b\"],[0.6666666666666666,\"#ed7953\"],[0.7777777777777778,\"#fb9f3a\"],[0.8888888888888888,\"#fdca26\"],[1.0,\"#f0f921\"]]},\"colorway\":[\"#636efa\",\"#EF553B\",\"#00cc96\",\"#ab63fa\",\"#FFA15A\",\"#19d3f3\",\"#FF6692\",\"#B6E880\",\"#FF97FF\",\"#FECB52\"],\"font\":{\"color\":\"#2a3f5f\"},\"geo\":{\"bgcolor\":\"white\",\"lakecolor\":\"white\",\"landcolor\":\"#E5ECF6\",\"showlakes\":true,\"showland\":true,\"subunitcolor\":\"white\"},\"hoverlabel\":{\"align\":\"left\"},\"hovermode\":\"closest\",\"mapbox\":{\"style\":\"light\"},\"paper_bgcolor\":\"white\",\"plot_bgcolor\":\"#E5ECF6\",\"polar\":{\"angularaxis\":{\"gridcolor\":\"white\",\"linecolor\":\"white\",\"ticks\":\"\"},\"bgcolor\":\"#E5ECF6\",\"radialaxis\":{\"gridcolor\":\"white\",\"linecolor\":\"white\",\"ticks\":\"\"}},\"scene\":{\"xaxis\":{\"backgroundcolor\":\"#E5ECF6\",\"gridcolor\":\"white\",\"gridwidth\":2,\"linecolor\":\"white\",\"showbackground\":true,\"ticks\":\"\",\"zerolinecolor\":\"white\"},\"yaxis\":{\"backgroundcolor\":\"#E5ECF6\",\"gridcolor\":\"white\",\"gridwidth\":2,\"linecolor\":\"white\",\"showbackground\":true,\"ticks\":\"\",\"zerolinecolor\":\"white\"},\"zaxis\":{\"backgroundcolor\":\"#E5ECF6\",\"gridcolor\":\"white\",\"gridwidth\":2,\"linecolor\":\"white\",\"showbackground\":true,\"ticks\":\"\",\"zerolinecolor\":\"white\"}},\"shapedefaults\":{\"line\":{\"color\":\"#2a3f5f\"}},\"ternary\":{\"aaxis\":{\"gridcolor\":\"white\",\"linecolor\":\"white\",\"ticks\":\"\"},\"baxis\":{\"gridcolor\":\"white\",\"linecolor\":\"white\",\"ticks\":\"\"},\"bgcolor\":\"#E5ECF6\",\"caxis\":{\"gridcolor\":\"white\",\"linecolor\":\"white\",\"ticks\":\"\"}},\"title\":{\"x\":0.05},\"xaxis\":{\"automargin\":true,\"gridcolor\":\"white\",\"linecolor\":\"white\",\"ticks\":\"\",\"title\":{\"standoff\":15},\"zerolinecolor\":\"white\",\"zerolinewidth\":2},\"yaxis\":{\"automargin\":true,\"gridcolor\":\"white\",\"linecolor\":\"white\",\"ticks\":\"\",\"title\":{\"standoff\":15},\"zerolinecolor\":\"white\",\"zerolinewidth\":2}}},\"xaxis\":{\"anchor\":\"y\",\"domain\":[0.0,1.0],\"title\":{\"text\":\"\\uad50\\ud1b5\\ub7c9\"}},\"yaxis\":{\"anchor\":\"x\",\"domain\":[0.0,1.0],\"title\":{\"text\":\"\\uacf5\\uc6d0\\uc728\"}},\"legend\":{\"title\":{\"text\":\"\\uc790\\uce58\\uad6c\"},\"tracegroupgap\":0,\"itemsizing\":\"constant\"},\"margin\":{\"t\":60},\"height\":700,\"width\":800},                        {\"responsive\": true}                    ).then(function(){\n",
              "                            \n",
              "var gd = document.getElementById('db4c1782-d298-415a-9285-5da8a1f73967');\n",
              "var x = new MutationObserver(function (mutations, observer) {{\n",
              "        var display = window.getComputedStyle(gd).display;\n",
              "        if (!display || display === 'none') {{\n",
              "            console.log([gd, 'removed!']);\n",
              "            Plotly.purge(gd);\n",
              "            observer.disconnect();\n",
              "        }}\n",
              "}});\n",
              "\n",
              "// Listen for the removal of the full notebook cells\n",
              "var notebookContainer = gd.closest('#notebook-container');\n",
              "if (notebookContainer) {{\n",
              "    x.observe(notebookContainer, {childList: true});\n",
              "}}\n",
              "\n",
              "// Listen for the clearing of the current output cell\n",
              "var outputEl = gd.closest('.output');\n",
              "if (outputEl) {{\n",
              "    x.observe(outputEl, {childList: true});\n",
              "}}\n",
              "\n",
              "                        })                };                            </script>        </div>\n",
              "</body>\n",
              "</html>"
            ]
          },
          "metadata": {}
        }
      ]
    },
    {
      "cell_type": "code",
      "source": [],
      "metadata": {
        "id": "9umsONcCl_4z"
      },
      "execution_count": null,
      "outputs": []
    }
  ]
}