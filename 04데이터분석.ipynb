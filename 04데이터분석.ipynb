{
  "nbformat": 4,
  "nbformat_minor": 0,
  "metadata": {
    "colab": {
      "provenance": [],
      "mount_file_id": "1qEogE2LH5lRyij1k-b2PCFIXVQ_fwoL_",
      "authorship_tag": "ABX9TyOqzAuzZB8JO19uBtFV8SAi",
      "include_colab_link": true
    },
    "kernelspec": {
      "name": "python3",
      "display_name": "Python 3"
    },
    "language_info": {
      "name": "python"
    }
  },
  "cells": [
    {
      "cell_type": "markdown",
      "metadata": {
        "id": "view-in-github",
        "colab_type": "text"
      },
      "source": [
        "<a href=\"https://colab.research.google.com/github/HJoon-K/Find_Dust/blob/kim/04%EB%8D%B0%EC%9D%B4%ED%84%B0%EB%B6%84%EC%84%9D.ipynb\" target=\"_parent\"><img src=\"https://colab.research.google.com/assets/colab-badge.svg\" alt=\"Open In Colab\"/></a>"
      ]
    },
    {
      "cell_type": "code",
      "source": [
        "import numpy as np\n",
        "import pandas as pd\n",
        "import matplotlib.pyplot as plt\n",
        "import seaborn as sns\n",
        "import sklearn"
      ],
      "metadata": {
        "id": "9abNezsGFCHZ"
      },
      "execution_count": null,
      "outputs": []
    },
    {
      "cell_type": "code",
      "source": [
        "df = pd.read_csv('/content/drive/MyDrive/Colab Notebooks/dustdata/seoul_dust1620.csv')\n",
        "df.drop('연도', axis=1, inplace=True)\n",
        "df.head()"
      ],
      "metadata": {
        "colab": {
          "base_uri": "https://localhost:8080/",
          "height": 206
        },
        "id": "EOrAm-pSEiK-",
        "outputId": "dfde0357-c805-47d5-db9c-d7c8d88de0a3"
      },
      "execution_count": null,
      "outputs": [
        {
          "output_type": "execute_result",
          "data": {
            "text/plain": [
              "   자치구  미세먼지나쁨일수       공원율     도로율   가로수량\n",
              "0  강남구        90  0.167034  0.2346  23654\n",
              "1  강남구        84  0.166874  0.2346  23729\n",
              "2  강남구        64  0.166874  0.2347  23451\n",
              "3  강남구        65  0.166940  0.2358  23349\n",
              "4  강동구        87  0.137641  0.2350  16414"
            ],
            "text/html": [
              "\n",
              "  <div id=\"df-e1e8f8c1-d192-4750-a4e1-a8dbe1738db6\">\n",
              "    <div class=\"colab-df-container\">\n",
              "      <div>\n",
              "<style scoped>\n",
              "    .dataframe tbody tr th:only-of-type {\n",
              "        vertical-align: middle;\n",
              "    }\n",
              "\n",
              "    .dataframe tbody tr th {\n",
              "        vertical-align: top;\n",
              "    }\n",
              "\n",
              "    .dataframe thead th {\n",
              "        text-align: right;\n",
              "    }\n",
              "</style>\n",
              "<table border=\"1\" class=\"dataframe\">\n",
              "  <thead>\n",
              "    <tr style=\"text-align: right;\">\n",
              "      <th></th>\n",
              "      <th>자치구</th>\n",
              "      <th>미세먼지나쁨일수</th>\n",
              "      <th>공원율</th>\n",
              "      <th>도로율</th>\n",
              "      <th>가로수량</th>\n",
              "    </tr>\n",
              "  </thead>\n",
              "  <tbody>\n",
              "    <tr>\n",
              "      <th>0</th>\n",
              "      <td>강남구</td>\n",
              "      <td>90</td>\n",
              "      <td>0.167034</td>\n",
              "      <td>0.2346</td>\n",
              "      <td>23654</td>\n",
              "    </tr>\n",
              "    <tr>\n",
              "      <th>1</th>\n",
              "      <td>강남구</td>\n",
              "      <td>84</td>\n",
              "      <td>0.166874</td>\n",
              "      <td>0.2346</td>\n",
              "      <td>23729</td>\n",
              "    </tr>\n",
              "    <tr>\n",
              "      <th>2</th>\n",
              "      <td>강남구</td>\n",
              "      <td>64</td>\n",
              "      <td>0.166874</td>\n",
              "      <td>0.2347</td>\n",
              "      <td>23451</td>\n",
              "    </tr>\n",
              "    <tr>\n",
              "      <th>3</th>\n",
              "      <td>강남구</td>\n",
              "      <td>65</td>\n",
              "      <td>0.166940</td>\n",
              "      <td>0.2358</td>\n",
              "      <td>23349</td>\n",
              "    </tr>\n",
              "    <tr>\n",
              "      <th>4</th>\n",
              "      <td>강동구</td>\n",
              "      <td>87</td>\n",
              "      <td>0.137641</td>\n",
              "      <td>0.2350</td>\n",
              "      <td>16414</td>\n",
              "    </tr>\n",
              "  </tbody>\n",
              "</table>\n",
              "</div>\n",
              "      <button class=\"colab-df-convert\" onclick=\"convertToInteractive('df-e1e8f8c1-d192-4750-a4e1-a8dbe1738db6')\"\n",
              "              title=\"Convert this dataframe to an interactive table.\"\n",
              "              style=\"display:none;\">\n",
              "        \n",
              "  <svg xmlns=\"http://www.w3.org/2000/svg\" height=\"24px\"viewBox=\"0 0 24 24\"\n",
              "       width=\"24px\">\n",
              "    <path d=\"M0 0h24v24H0V0z\" fill=\"none\"/>\n",
              "    <path d=\"M18.56 5.44l.94 2.06.94-2.06 2.06-.94-2.06-.94-.94-2.06-.94 2.06-2.06.94zm-11 1L8.5 8.5l.94-2.06 2.06-.94-2.06-.94L8.5 2.5l-.94 2.06-2.06.94zm10 10l.94 2.06.94-2.06 2.06-.94-2.06-.94-.94-2.06-.94 2.06-2.06.94z\"/><path d=\"M17.41 7.96l-1.37-1.37c-.4-.4-.92-.59-1.43-.59-.52 0-1.04.2-1.43.59L10.3 9.45l-7.72 7.72c-.78.78-.78 2.05 0 2.83L4 21.41c.39.39.9.59 1.41.59.51 0 1.02-.2 1.41-.59l7.78-7.78 2.81-2.81c.8-.78.8-2.07 0-2.86zM5.41 20L4 18.59l7.72-7.72 1.47 1.35L5.41 20z\"/>\n",
              "  </svg>\n",
              "      </button>\n",
              "      \n",
              "  <style>\n",
              "    .colab-df-container {\n",
              "      display:flex;\n",
              "      flex-wrap:wrap;\n",
              "      gap: 12px;\n",
              "    }\n",
              "\n",
              "    .colab-df-convert {\n",
              "      background-color: #E8F0FE;\n",
              "      border: none;\n",
              "      border-radius: 50%;\n",
              "      cursor: pointer;\n",
              "      display: none;\n",
              "      fill: #1967D2;\n",
              "      height: 32px;\n",
              "      padding: 0 0 0 0;\n",
              "      width: 32px;\n",
              "    }\n",
              "\n",
              "    .colab-df-convert:hover {\n",
              "      background-color: #E2EBFA;\n",
              "      box-shadow: 0px 1px 2px rgba(60, 64, 67, 0.3), 0px 1px 3px 1px rgba(60, 64, 67, 0.15);\n",
              "      fill: #174EA6;\n",
              "    }\n",
              "\n",
              "    [theme=dark] .colab-df-convert {\n",
              "      background-color: #3B4455;\n",
              "      fill: #D2E3FC;\n",
              "    }\n",
              "\n",
              "    [theme=dark] .colab-df-convert:hover {\n",
              "      background-color: #434B5C;\n",
              "      box-shadow: 0px 1px 3px 1px rgba(0, 0, 0, 0.15);\n",
              "      filter: drop-shadow(0px 1px 2px rgba(0, 0, 0, 0.3));\n",
              "      fill: #FFFFFF;\n",
              "    }\n",
              "  </style>\n",
              "\n",
              "      <script>\n",
              "        const buttonEl =\n",
              "          document.querySelector('#df-e1e8f8c1-d192-4750-a4e1-a8dbe1738db6 button.colab-df-convert');\n",
              "        buttonEl.style.display =\n",
              "          google.colab.kernel.accessAllowed ? 'block' : 'none';\n",
              "\n",
              "        async function convertToInteractive(key) {\n",
              "          const element = document.querySelector('#df-e1e8f8c1-d192-4750-a4e1-a8dbe1738db6');\n",
              "          const dataTable =\n",
              "            await google.colab.kernel.invokeFunction('convertToInteractive',\n",
              "                                                     [key], {});\n",
              "          if (!dataTable) return;\n",
              "\n",
              "          const docLinkHtml = 'Like what you see? Visit the ' +\n",
              "            '<a target=\"_blank\" href=https://colab.research.google.com/notebooks/data_table.ipynb>data table notebook</a>'\n",
              "            + ' to learn more about interactive tables.';\n",
              "          element.innerHTML = '';\n",
              "          dataTable['output_type'] = 'display_data';\n",
              "          await google.colab.output.renderOutput(dataTable, element);\n",
              "          const docLink = document.createElement('div');\n",
              "          docLink.innerHTML = docLinkHtml;\n",
              "          element.appendChild(docLink);\n",
              "        }\n",
              "      </script>\n",
              "    </div>\n",
              "  </div>\n",
              "  "
            ]
          },
          "metadata": {},
          "execution_count": 3
        }
      ]
    },
    {
      "cell_type": "code",
      "execution_count": null,
      "metadata": {
        "id": "sAP6szYyDwd3"
      },
      "outputs": [],
      "source": [
        "from sklearn.linear_model import LinearRegression\n",
        "from sklearn.metrics import r2_score \n",
        "lr = LinearRegression()"
      ]
    },
    {
      "cell_type": "code",
      "source": [
        "for feature in df.columns[2: ]:\n",
        "    X = df[feature].values.reshape((-1,1))\n",
        "    lr.fit(X, df['미세먼지나쁨일수'])\n",
        "    score = lr.score(X,df['미세먼지나쁨일수'])\n",
        "    print(f'{feature} : {score:.4f} \\t{lr.coef_} \\t{lr.intercept_}')"
      ],
      "metadata": {
        "colab": {
          "base_uri": "https://localhost:8080/"
        },
        "id": "lesuMbGwEEmQ",
        "outputId": "262492e5-5fc7-46b7-9bd1-c8f8b2eb0718"
      },
      "execution_count": null,
      "outputs": [
        {
          "output_type": "stream",
          "name": "stdout",
          "text": [
            "공원율 : 0.0395 \t[-17.87708546] \t76.14435174260664\n",
            "도로율 : 0.1315 \t[149.40489666] \t37.48938068856266\n",
            "가로수량 : 0.0171 \t[0.00035327] \t67.33027379821921\n"
          ]
        }
      ]
    },
    {
      "cell_type": "code",
      "source": [
        "df19 = pd.read_csv('/content/drive/MyDrive/Colab Notebooks/dustdata/seoul_dust2019.csv')\n",
        "df19.head()"
      ],
      "metadata": {
        "id": "qVxJ07ovF5jn",
        "colab": {
          "base_uri": "https://localhost:8080/",
          "height": 206
        },
        "outputId": "17357170-f71f-4922-a464-af8c76e9848c"
      },
      "execution_count": null,
      "outputs": [
        {
          "output_type": "execute_result",
          "data": {
            "text/plain": [
              "   자치구  미세먼지나쁨일수       공원율     도로율    연도   가로수량\n",
              "0  강남구        65  0.166940  0.2358  2019  23349\n",
              "1  강동구        70  0.137039  0.2428  2019  17152\n",
              "2  강북구        67  0.607725  0.2091  2019   7789\n",
              "3  강서구        69  0.105471  0.2683  2019  13719\n",
              "4  관악구        76  0.371230  0.2541  2019  10154"
            ],
            "text/html": [
              "\n",
              "  <div id=\"df-1a66841f-b1fb-44a0-958c-39ac64b02559\">\n",
              "    <div class=\"colab-df-container\">\n",
              "      <div>\n",
              "<style scoped>\n",
              "    .dataframe tbody tr th:only-of-type {\n",
              "        vertical-align: middle;\n",
              "    }\n",
              "\n",
              "    .dataframe tbody tr th {\n",
              "        vertical-align: top;\n",
              "    }\n",
              "\n",
              "    .dataframe thead th {\n",
              "        text-align: right;\n",
              "    }\n",
              "</style>\n",
              "<table border=\"1\" class=\"dataframe\">\n",
              "  <thead>\n",
              "    <tr style=\"text-align: right;\">\n",
              "      <th></th>\n",
              "      <th>자치구</th>\n",
              "      <th>미세먼지나쁨일수</th>\n",
              "      <th>공원율</th>\n",
              "      <th>도로율</th>\n",
              "      <th>연도</th>\n",
              "      <th>가로수량</th>\n",
              "    </tr>\n",
              "  </thead>\n",
              "  <tbody>\n",
              "    <tr>\n",
              "      <th>0</th>\n",
              "      <td>강남구</td>\n",
              "      <td>65</td>\n",
              "      <td>0.166940</td>\n",
              "      <td>0.2358</td>\n",
              "      <td>2019</td>\n",
              "      <td>23349</td>\n",
              "    </tr>\n",
              "    <tr>\n",
              "      <th>1</th>\n",
              "      <td>강동구</td>\n",
              "      <td>70</td>\n",
              "      <td>0.137039</td>\n",
              "      <td>0.2428</td>\n",
              "      <td>2019</td>\n",
              "      <td>17152</td>\n",
              "    </tr>\n",
              "    <tr>\n",
              "      <th>2</th>\n",
              "      <td>강북구</td>\n",
              "      <td>67</td>\n",
              "      <td>0.607725</td>\n",
              "      <td>0.2091</td>\n",
              "      <td>2019</td>\n",
              "      <td>7789</td>\n",
              "    </tr>\n",
              "    <tr>\n",
              "      <th>3</th>\n",
              "      <td>강서구</td>\n",
              "      <td>69</td>\n",
              "      <td>0.105471</td>\n",
              "      <td>0.2683</td>\n",
              "      <td>2019</td>\n",
              "      <td>13719</td>\n",
              "    </tr>\n",
              "    <tr>\n",
              "      <th>4</th>\n",
              "      <td>관악구</td>\n",
              "      <td>76</td>\n",
              "      <td>0.371230</td>\n",
              "      <td>0.2541</td>\n",
              "      <td>2019</td>\n",
              "      <td>10154</td>\n",
              "    </tr>\n",
              "  </tbody>\n",
              "</table>\n",
              "</div>\n",
              "      <button class=\"colab-df-convert\" onclick=\"convertToInteractive('df-1a66841f-b1fb-44a0-958c-39ac64b02559')\"\n",
              "              title=\"Convert this dataframe to an interactive table.\"\n",
              "              style=\"display:none;\">\n",
              "        \n",
              "  <svg xmlns=\"http://www.w3.org/2000/svg\" height=\"24px\"viewBox=\"0 0 24 24\"\n",
              "       width=\"24px\">\n",
              "    <path d=\"M0 0h24v24H0V0z\" fill=\"none\"/>\n",
              "    <path d=\"M18.56 5.44l.94 2.06.94-2.06 2.06-.94-2.06-.94-.94-2.06-.94 2.06-2.06.94zm-11 1L8.5 8.5l.94-2.06 2.06-.94-2.06-.94L8.5 2.5l-.94 2.06-2.06.94zm10 10l.94 2.06.94-2.06 2.06-.94-2.06-.94-.94-2.06-.94 2.06-2.06.94z\"/><path d=\"M17.41 7.96l-1.37-1.37c-.4-.4-.92-.59-1.43-.59-.52 0-1.04.2-1.43.59L10.3 9.45l-7.72 7.72c-.78.78-.78 2.05 0 2.83L4 21.41c.39.39.9.59 1.41.59.51 0 1.02-.2 1.41-.59l7.78-7.78 2.81-2.81c.8-.78.8-2.07 0-2.86zM5.41 20L4 18.59l7.72-7.72 1.47 1.35L5.41 20z\"/>\n",
              "  </svg>\n",
              "      </button>\n",
              "      \n",
              "  <style>\n",
              "    .colab-df-container {\n",
              "      display:flex;\n",
              "      flex-wrap:wrap;\n",
              "      gap: 12px;\n",
              "    }\n",
              "\n",
              "    .colab-df-convert {\n",
              "      background-color: #E8F0FE;\n",
              "      border: none;\n",
              "      border-radius: 50%;\n",
              "      cursor: pointer;\n",
              "      display: none;\n",
              "      fill: #1967D2;\n",
              "      height: 32px;\n",
              "      padding: 0 0 0 0;\n",
              "      width: 32px;\n",
              "    }\n",
              "\n",
              "    .colab-df-convert:hover {\n",
              "      background-color: #E2EBFA;\n",
              "      box-shadow: 0px 1px 2px rgba(60, 64, 67, 0.3), 0px 1px 3px 1px rgba(60, 64, 67, 0.15);\n",
              "      fill: #174EA6;\n",
              "    }\n",
              "\n",
              "    [theme=dark] .colab-df-convert {\n",
              "      background-color: #3B4455;\n",
              "      fill: #D2E3FC;\n",
              "    }\n",
              "\n",
              "    [theme=dark] .colab-df-convert:hover {\n",
              "      background-color: #434B5C;\n",
              "      box-shadow: 0px 1px 3px 1px rgba(0, 0, 0, 0.15);\n",
              "      filter: drop-shadow(0px 1px 2px rgba(0, 0, 0, 0.3));\n",
              "      fill: #FFFFFF;\n",
              "    }\n",
              "  </style>\n",
              "\n",
              "      <script>\n",
              "        const buttonEl =\n",
              "          document.querySelector('#df-1a66841f-b1fb-44a0-958c-39ac64b02559 button.colab-df-convert');\n",
              "        buttonEl.style.display =\n",
              "          google.colab.kernel.accessAllowed ? 'block' : 'none';\n",
              "\n",
              "        async function convertToInteractive(key) {\n",
              "          const element = document.querySelector('#df-1a66841f-b1fb-44a0-958c-39ac64b02559');\n",
              "          const dataTable =\n",
              "            await google.colab.kernel.invokeFunction('convertToInteractive',\n",
              "                                                     [key], {});\n",
              "          if (!dataTable) return;\n",
              "\n",
              "          const docLinkHtml = 'Like what you see? Visit the ' +\n",
              "            '<a target=\"_blank\" href=https://colab.research.google.com/notebooks/data_table.ipynb>data table notebook</a>'\n",
              "            + ' to learn more about interactive tables.';\n",
              "          element.innerHTML = '';\n",
              "          dataTable['output_type'] = 'display_data';\n",
              "          await google.colab.output.renderOutput(dataTable, element);\n",
              "          const docLink = document.createElement('div');\n",
              "          docLink.innerHTML = docLinkHtml;\n",
              "          element.appendChild(docLink);\n",
              "        }\n",
              "      </script>\n",
              "    </div>\n",
              "  </div>\n",
              "  "
            ]
          },
          "metadata": {},
          "execution_count": 6
        }
      ]
    },
    {
      "cell_type": "code",
      "source": [
        "for feature in df19.columns[2: ]:\n",
        "    X = df19[feature].values.reshape((-1,1))\n",
        "    lr.fit(X, df19['미세먼지나쁨일수'])\n",
        "    score = lr.score(X,df19['미세먼지나쁨일수'])\n",
        "    print(f'{feature} : {score:.4f} \\t{lr.coef_} \\t{lr.intercept_}')"
      ],
      "metadata": {
        "colab": {
          "base_uri": "https://localhost:8080/"
        },
        "id": "mRtT_KnOnSiy",
        "outputId": "1405b1d2-dbc2-4e5a-cd91-aec8d62be020"
      },
      "execution_count": null,
      "outputs": [
        {
          "output_type": "stream",
          "name": "stdout",
          "text": [
            "공원율 : 0.1160 \t[-24.57171346] \t72.7961290289106\n",
            "도로율 : 0.1860 \t[138.33127172] \t34.66205847886367\n",
            "연도 : 0.0000 \t[0.] \t66.32\n",
            "가로수량 : 0.1266 \t[0.00076602] \t57.37706582770144\n"
          ]
        }
      ]
    },
    {
      "cell_type": "code",
      "source": [
        "df = pd.read_csv('/content/drive/MyDrive/Colab Notebooks/dustdata/seoul_dust1619.csv')\n",
        "df.head()"
      ],
      "metadata": {
        "colab": {
          "base_uri": "https://localhost:8080/",
          "height": 206
        },
        "id": "LfNYmzRonsV9",
        "outputId": "6f3943c3-2492-4915-80d0-1fddc152ddbb"
      },
      "execution_count": null,
      "outputs": [
        {
          "output_type": "execute_result",
          "data": {
            "text/plain": [
              "   자치구    연도  미세먼지나쁨일수       공원율     도로율   가로수량\n",
              "0  강남구  2016        90  0.167034  0.2346  23654\n",
              "1  강남구  2017        84  0.166874  0.2346  23729\n",
              "2  강남구  2018        64  0.166874  0.2347  23451\n",
              "3  강남구  2019        65  0.166940  0.2358  23349\n",
              "4  강동구  2016        87  0.137641  0.2350  16414"
            ],
            "text/html": [
              "\n",
              "  <div id=\"df-60bc4bfc-40bf-4bfa-b374-b291016a0e46\">\n",
              "    <div class=\"colab-df-container\">\n",
              "      <div>\n",
              "<style scoped>\n",
              "    .dataframe tbody tr th:only-of-type {\n",
              "        vertical-align: middle;\n",
              "    }\n",
              "\n",
              "    .dataframe tbody tr th {\n",
              "        vertical-align: top;\n",
              "    }\n",
              "\n",
              "    .dataframe thead th {\n",
              "        text-align: right;\n",
              "    }\n",
              "</style>\n",
              "<table border=\"1\" class=\"dataframe\">\n",
              "  <thead>\n",
              "    <tr style=\"text-align: right;\">\n",
              "      <th></th>\n",
              "      <th>자치구</th>\n",
              "      <th>연도</th>\n",
              "      <th>미세먼지나쁨일수</th>\n",
              "      <th>공원율</th>\n",
              "      <th>도로율</th>\n",
              "      <th>가로수량</th>\n",
              "    </tr>\n",
              "  </thead>\n",
              "  <tbody>\n",
              "    <tr>\n",
              "      <th>0</th>\n",
              "      <td>강남구</td>\n",
              "      <td>2016</td>\n",
              "      <td>90</td>\n",
              "      <td>0.167034</td>\n",
              "      <td>0.2346</td>\n",
              "      <td>23654</td>\n",
              "    </tr>\n",
              "    <tr>\n",
              "      <th>1</th>\n",
              "      <td>강남구</td>\n",
              "      <td>2017</td>\n",
              "      <td>84</td>\n",
              "      <td>0.166874</td>\n",
              "      <td>0.2346</td>\n",
              "      <td>23729</td>\n",
              "    </tr>\n",
              "    <tr>\n",
              "      <th>2</th>\n",
              "      <td>강남구</td>\n",
              "      <td>2018</td>\n",
              "      <td>64</td>\n",
              "      <td>0.166874</td>\n",
              "      <td>0.2347</td>\n",
              "      <td>23451</td>\n",
              "    </tr>\n",
              "    <tr>\n",
              "      <th>3</th>\n",
              "      <td>강남구</td>\n",
              "      <td>2019</td>\n",
              "      <td>65</td>\n",
              "      <td>0.166940</td>\n",
              "      <td>0.2358</td>\n",
              "      <td>23349</td>\n",
              "    </tr>\n",
              "    <tr>\n",
              "      <th>4</th>\n",
              "      <td>강동구</td>\n",
              "      <td>2016</td>\n",
              "      <td>87</td>\n",
              "      <td>0.137641</td>\n",
              "      <td>0.2350</td>\n",
              "      <td>16414</td>\n",
              "    </tr>\n",
              "  </tbody>\n",
              "</table>\n",
              "</div>\n",
              "      <button class=\"colab-df-convert\" onclick=\"convertToInteractive('df-60bc4bfc-40bf-4bfa-b374-b291016a0e46')\"\n",
              "              title=\"Convert this dataframe to an interactive table.\"\n",
              "              style=\"display:none;\">\n",
              "        \n",
              "  <svg xmlns=\"http://www.w3.org/2000/svg\" height=\"24px\"viewBox=\"0 0 24 24\"\n",
              "       width=\"24px\">\n",
              "    <path d=\"M0 0h24v24H0V0z\" fill=\"none\"/>\n",
              "    <path d=\"M18.56 5.44l.94 2.06.94-2.06 2.06-.94-2.06-.94-.94-2.06-.94 2.06-2.06.94zm-11 1L8.5 8.5l.94-2.06 2.06-.94-2.06-.94L8.5 2.5l-.94 2.06-2.06.94zm10 10l.94 2.06.94-2.06 2.06-.94-2.06-.94-.94-2.06-.94 2.06-2.06.94z\"/><path d=\"M17.41 7.96l-1.37-1.37c-.4-.4-.92-.59-1.43-.59-.52 0-1.04.2-1.43.59L10.3 9.45l-7.72 7.72c-.78.78-.78 2.05 0 2.83L4 21.41c.39.39.9.59 1.41.59.51 0 1.02-.2 1.41-.59l7.78-7.78 2.81-2.81c.8-.78.8-2.07 0-2.86zM5.41 20L4 18.59l7.72-7.72 1.47 1.35L5.41 20z\"/>\n",
              "  </svg>\n",
              "      </button>\n",
              "      \n",
              "  <style>\n",
              "    .colab-df-container {\n",
              "      display:flex;\n",
              "      flex-wrap:wrap;\n",
              "      gap: 12px;\n",
              "    }\n",
              "\n",
              "    .colab-df-convert {\n",
              "      background-color: #E8F0FE;\n",
              "      border: none;\n",
              "      border-radius: 50%;\n",
              "      cursor: pointer;\n",
              "      display: none;\n",
              "      fill: #1967D2;\n",
              "      height: 32px;\n",
              "      padding: 0 0 0 0;\n",
              "      width: 32px;\n",
              "    }\n",
              "\n",
              "    .colab-df-convert:hover {\n",
              "      background-color: #E2EBFA;\n",
              "      box-shadow: 0px 1px 2px rgba(60, 64, 67, 0.3), 0px 1px 3px 1px rgba(60, 64, 67, 0.15);\n",
              "      fill: #174EA6;\n",
              "    }\n",
              "\n",
              "    [theme=dark] .colab-df-convert {\n",
              "      background-color: #3B4455;\n",
              "      fill: #D2E3FC;\n",
              "    }\n",
              "\n",
              "    [theme=dark] .colab-df-convert:hover {\n",
              "      background-color: #434B5C;\n",
              "      box-shadow: 0px 1px 3px 1px rgba(0, 0, 0, 0.15);\n",
              "      filter: drop-shadow(0px 1px 2px rgba(0, 0, 0, 0.3));\n",
              "      fill: #FFFFFF;\n",
              "    }\n",
              "  </style>\n",
              "\n",
              "      <script>\n",
              "        const buttonEl =\n",
              "          document.querySelector('#df-60bc4bfc-40bf-4bfa-b374-b291016a0e46 button.colab-df-convert');\n",
              "        buttonEl.style.display =\n",
              "          google.colab.kernel.accessAllowed ? 'block' : 'none';\n",
              "\n",
              "        async function convertToInteractive(key) {\n",
              "          const element = document.querySelector('#df-60bc4bfc-40bf-4bfa-b374-b291016a0e46');\n",
              "          const dataTable =\n",
              "            await google.colab.kernel.invokeFunction('convertToInteractive',\n",
              "                                                     [key], {});\n",
              "          if (!dataTable) return;\n",
              "\n",
              "          const docLinkHtml = 'Like what you see? Visit the ' +\n",
              "            '<a target=\"_blank\" href=https://colab.research.google.com/notebooks/data_table.ipynb>data table notebook</a>'\n",
              "            + ' to learn more about interactive tables.';\n",
              "          element.innerHTML = '';\n",
              "          dataTable['output_type'] = 'display_data';\n",
              "          await google.colab.output.renderOutput(dataTable, element);\n",
              "          const docLink = document.createElement('div');\n",
              "          docLink.innerHTML = docLinkHtml;\n",
              "          element.appendChild(docLink);\n",
              "        }\n",
              "      </script>\n",
              "    </div>\n",
              "  </div>\n",
              "  "
            ]
          },
          "metadata": {},
          "execution_count": 8
        }
      ]
    },
    {
      "cell_type": "code",
      "source": [
        "for feature in df.columns[2: ]:\n",
        "    X = df[feature].values.reshape((-1,1))\n",
        "    lr.fit(X, df['미세먼지나쁨일수'])\n",
        "    score = lr.score(X,df['미세먼지나쁨일수'])\n",
        "    print(f'{feature} : {score:.4f} \\t{lr.coef_} \\t{lr.intercept_}')"
      ],
      "metadata": {
        "colab": {
          "base_uri": "https://localhost:8080/"
        },
        "id": "SRpd6HMU6yka",
        "outputId": "eb447043-d653-4f22-bb2f-36df5e04d4e5"
      },
      "execution_count": null,
      "outputs": [
        {
          "output_type": "stream",
          "name": "stdout",
          "text": [
            "미세먼지나쁨일수 : 1.0000 \t[1.] \t1.4210854715202004e-14\n",
            "공원율 : 0.0395 \t[-17.87708546] \t76.14435174260664\n",
            "도로율 : 0.1315 \t[149.40489666] \t37.48938068856266\n",
            "가로수량 : 0.0171 \t[0.00035327] \t67.33027379821921\n"
          ]
        }
      ]
    },
    {
      "cell_type": "code",
      "source": [
        "from sklearn.preprocessing import StandardScaler, MinMaxScaler, LabelEncoder\n",
        "from sklearn.model_selection import train_test_split, cross_val_score\n",
        "from sklearn.neighbors import KNeighborsClassifier\n",
        "from sklearn.cluster import KMeans\n",
        "from sklearn.metrics import silhouette_score"
      ],
      "metadata": {
        "id": "HmTjFPXZ7J8N"
      },
      "execution_count": null,
      "outputs": []
    },
    {
      "cell_type": "code",
      "source": [
        "data = df19.loc[:,['도로율','공원율']]\n",
        "target = df19.loc[:,['자치구']]"
      ],
      "metadata": {
        "id": "Leg-PgytBNQT"
      },
      "execution_count": null,
      "outputs": []
    },
    {
      "cell_type": "code",
      "source": [
        "data.info()"
      ],
      "metadata": {
        "colab": {
          "base_uri": "https://localhost:8080/"
        },
        "id": "V0bVqkTYDcf5",
        "outputId": "675fcb02-b16d-4fff-8ccb-f58ab0c21dfd"
      },
      "execution_count": null,
      "outputs": [
        {
          "output_type": "stream",
          "name": "stdout",
          "text": [
            "<class 'pandas.core.frame.DataFrame'>\n",
            "RangeIndex: 25 entries, 0 to 24\n",
            "Data columns (total 2 columns):\n",
            " #   Column  Non-Null Count  Dtype  \n",
            "---  ------  --------------  -----  \n",
            " 0   도로율     25 non-null     float64\n",
            " 1   공원율     25 non-null     float64\n",
            "dtypes: float64(2)\n",
            "memory usage: 528.0 bytes\n"
          ]
        }
      ]
    },
    {
      "cell_type": "code",
      "source": [
        "sils = []\n",
        "ints = []\n",
        "\n",
        "for i in range(2, 10+1):\n",
        "    kms = KMeans(n_clusters=i)\n",
        "    kms.fit(data)\n",
        "    ss = silhouette_score(data, kms.labels_, metric='euclidean')\n",
        "    el = kms.inertia_\n",
        "    \n",
        "    sils.append(ss)\n",
        "    ints.append(el)"
      ],
      "metadata": {
        "id": "lSwaDMPtaGjk"
      },
      "execution_count": null,
      "outputs": []
    },
    {
      "cell_type": "code",
      "source": [
        "# 실루엣 계수 시각화\n",
        "plt.plot(range(2, 10+1), sils, 'ro--')\n",
        "plt.show()"
      ],
      "metadata": {
        "colab": {
          "base_uri": "https://localhost:8080/",
          "height": 265
        },
        "id": "aj5R40dHaUnM",
        "outputId": "e28c325d-954b-4bf9-abaf-a73666ddc035"
      },
      "execution_count": null,
      "outputs": [
        {
          "output_type": "display_data",
          "data": {
            "text/plain": [
              "<Figure size 432x288 with 1 Axes>"
            ],
            "image/png": "[encoded data removed]"
          },
          "metadata": {
            "needs_background": "light"
          }
        }
      ]
    },
    {
      "cell_type": "code",
      "source": [
        "# 엘보우 계수 시각화\n",
        "plt.plot(range(2, 10+1), ints, 'bo--')\n",
        "plt.show()"
      ],
      "metadata": {
        "colab": {
          "base_uri": "https://localhost:8080/",
          "height": 265
        },
        "id": "0NQ0H1gNavNj",
        "outputId": "8b413a75-0371-4c41-b554-6663f3188953"
      },
      "execution_count": null,
      "outputs": [
        {
          "output_type": "display_data",
          "data": {
            "text/plain": [
              "<Figure size 432x288 with 1 Axes>"
            ],
            "image/png": "[encoded data removed]"
          },
          "metadata": {
            "needs_background": "light"
          }
        }
      ]
    },
    {
      "cell_type": "code",
      "source": [
        "kms = KMeans(n_clusters=3, random_state=2209081630)\n",
        "kms.fit(data)"
      ],
      "metadata": {
        "colab": {
          "base_uri": "https://localhost:8080/"
        },
        "id": "eSyz69VsAl7K",
        "outputId": "3dc6b29a-2b06-4e66-fbda-87c2bda93602"
      },
      "execution_count": null,
      "outputs": [
        {
          "output_type": "execute_result",
          "data": {
            "text/plain": [
              "KMeans(n_clusters=3, random_state=2209081630)"
            ]
          },
          "metadata": {},
          "execution_count": 39
        }
      ]
    },
    {
      "cell_type": "code",
      "source": [
        "kms.labels_"
      ],
      "metadata": {
        "colab": {
          "base_uri": "https://localhost:8080/"
        },
        "id": "EcTtTYwmVCRv",
        "outputId": "5a5a4a6d-1a6a-4e3e-90c2-9dd2ba50c494"
      },
      "execution_count": null,
      "outputs": [
        {
          "output_type": "execute_result",
          "data": {
            "text/plain": [
              "array([0, 0, 1, 0, 2, 0, 0, 0, 2, 1, 0, 2, 0, 2, 2, 0, 2, 0, 0, 0, 0, 1,\n",
              "       1, 2, 2], dtype=int32)"
            ]
          },
          "metadata": {},
          "execution_count": 40
        }
      ]
    },
    {
      "cell_type": "code",
      "source": [
        "silhouette_score(data, kms.labels_, metric='euclidean')"
      ],
      "metadata": {
        "colab": {
          "base_uri": "https://localhost:8080/"
        },
        "id": "lTGTnmrOV8MY",
        "outputId": "150cae1f-74a3-4f35-cd7b-bd520a13ed0a"
      },
      "execution_count": null,
      "outputs": [
        {
          "output_type": "execute_result",
          "data": {
            "text/plain": [
              "0.6041711299436977"
            ]
          },
          "metadata": {},
          "execution_count": 41
        }
      ]
    },
    {
      "cell_type": "code",
      "source": [
        "kms.inertia_"
      ],
      "metadata": {
        "colab": {
          "base_uri": "https://localhost:8080/"
        },
        "id": "QENKy5mEZ_df",
        "outputId": "a70aac32-f87d-44a9-bae7-5a3dbdbdac14"
      },
      "execution_count": null,
      "outputs": [
        {
          "output_type": "execute_result",
          "data": {
            "text/plain": [
              "0.0644725008660079"
            ]
          },
          "metadata": {},
          "execution_count": 42
        }
      ]
    },
    {
      "cell_type": "code",
      "source": [
        "centers = pd.DataFrame(kms.cluster_centers_, columns=['rd','pk'])\n",
        "x, y = centers.rd, centers.pk\n",
        "\n",
        "plt.scatter(np.array(data.iloc[:,0]), np.array(data.iloc[:,1]), c=kms.labels_) \n",
        "plt.scatter(x, y, s=75,  marker='X', c='r') # 중심점 표시\n",
        "plt.show()"
      ],
      "metadata": {
        "colab": {
          "base_uri": "https://localhost:8080/",
          "height": 265
        },
        "id": "7ZThp5EmCcwN",
        "outputId": "005907b8-e543-49a6-a623-5883887203e9"
      },
      "execution_count": null,
      "outputs": [
        {
          "output_type": "display_data",
          "data": {
            "text/plain": [
              "<Figure size 432x288 with 1 Axes>"
            ],
            "image/png": "[encoded data removed]"
          },
          "metadata": {
            "needs_background": "light"
          }
        }
      ]
    },
    {
      "cell_type": "code",
      "source": [
        "import plotly.express as px\n",
        "df19 = df19.sort_values('미세먼지나쁨일수', ascending=False)\n",
        "\n",
        "fig = px.scatter(df19, x=\"도로율\", y=\"공원율\", color=\"자치구\",\n",
        "                 size='미세먼지나쁨일수', height=700, width=800)\n",
        "\n",
        "fig.show()"
      ],
      "metadata": {
        "colab": {
          "base_uri": "https://localhost:8080/",
          "height": 717
        },
        "id": "-Ai7a-pifWZz",
        "outputId": "67dcc108-e48c-46df-d59a-4d822f319fdd"
      },
      "execution_count": null,
      "outputs": [
        {
          "output_type": "display_data",
          "data": {
            "text/html": [
              "<html>\n",
              "<head><meta charset=\"utf-8\" /></head>\n",
              "<body>\n",
              "    <div>            <script src=\"https://cdnjs.cloudflare.com/ajax/libs/mathjax/2.7.5/MathJax.js?config=TeX-AMS-MML_SVG\"></script><script type=\"text/javascript\">if (window.MathJax) {MathJax.Hub.Config({SVG: {font: \"STIX-Web\"}});}</script>                <script type=\"text/javascript\">window.PlotlyConfig = {MathJaxConfig: 'local'};</script>\n",
              "        <script src=\"https://cdn.plot.ly/plotly-2.8.3.min.js\"></script>                <div id=\"e6815891-8a08-450e-9fa7-9d2a471ee4b8\" class=\"plotly-graph-div\" style=\"height:700px; width:800px;\"></div>            <script type=\"text/javascript\">                                    window.PLOTLYENV=window.PLOTLYENV || {};                                    if (document.getElementById(\"e6815891-8a08-450e-9fa7-9d2a471ee4b8\")) {                    Plotly.newPlot(                        \"e6815891-8a08-450e-9fa7-9d2a471ee4b8\",                        [{\"hovertemplate\":\"\\uc790\\uce58\\uad6c=\\uc601\\ub4f1\\ud3ec\\uad6c<br>\\ub3c4\\ub85c\\uc728=%{x}<br>\\uacf5\\uc6d0\\uc728=%{y}<br>\\ubbf8\\uc138\\uba3c\\uc9c0\\ub098\\uc068\\uc77c\\uc218=%{marker.size}<extra></extra>\",\"legendgroup\":\"\\uc601\\ub4f1\\ud3ec\\uad6c\",\"marker\":{\"color\":\"#636efa\",\"size\":[86],\"sizemode\":\"area\",\"sizeref\":0.215,\"symbol\":\"circle\"},\"mode\":\"markers\",\"name\":\"\\uc601\\ub4f1\\ud3ec\\uad6c\",\"orientation\":\"v\",\"showlegend\":true,\"x\":[0.235],\"xaxis\":\"x\",\"y\":[0.1242626690565422],\"yaxis\":\"y\",\"type\":\"scatter\"},{\"hovertemplate\":\"\\uc790\\uce58\\uad6c=\\uc131\\ub3d9\\uad6c<br>\\ub3c4\\ub85c\\uc728=%{x}<br>\\uacf5\\uc6d0\\uc728=%{y}<br>\\ubbf8\\uc138\\uba3c\\uc9c0\\ub098\\uc068\\uc77c\\uc218=%{marker.size}<extra></extra>\",\"legendgroup\":\"\\uc131\\ub3d9\\uad6c\",\"marker\":{\"color\":\"#EF553B\",\"size\":[81],\"sizemode\":\"area\",\"sizeref\":0.215,\"symbol\":\"circle\"},\"mode\":\"markers\",\"name\":\"\\uc131\\ub3d9\\uad6c\",\"orientation\":\"v\",\"showlegend\":true,\"x\":[0.2309],\"xaxis\":\"x\",\"y\":[0.1838562362849178],\"yaxis\":\"y\",\"type\":\"scatter\"},{\"hovertemplate\":\"\\uc790\\uce58\\uad6c=\\ub9c8\\ud3ec\\uad6c<br>\\ub3c4\\ub85c\\uc728=%{x}<br>\\uacf5\\uc6d0\\uc728=%{y}<br>\\ubbf8\\uc138\\uba3c\\uc9c0\\ub098\\uc068\\uc77c\\uc218=%{marker.size}<extra></extra>\",\"legendgroup\":\"\\ub9c8\\ud3ec\\uad6c\",\"marker\":{\"color\":\"#00cc96\",\"size\":[80],\"sizemode\":\"area\",\"sizeref\":0.215,\"symbol\":\"circle\"},\"mode\":\"markers\",\"name\":\"\\ub9c8\\ud3ec\\uad6c\",\"orientation\":\"v\",\"showlegend\":true,\"x\":[0.2837],\"xaxis\":\"x\",\"y\":[0.1861635220125786],\"yaxis\":\"y\",\"type\":\"scatter\"},{\"hovertemplate\":\"\\uc790\\uce58\\uad6c=\\uad00\\uc545\\uad6c<br>\\ub3c4\\ub85c\\uc728=%{x}<br>\\uacf5\\uc6d0\\uc728=%{y}<br>\\ubbf8\\uc138\\uba3c\\uc9c0\\ub098\\uc068\\uc77c\\uc218=%{marker.size}<extra></extra>\",\"legendgroup\":\"\\uad00\\uc545\\uad6c\",\"marker\":{\"color\":\"#ab63fa\",\"size\":[76],\"sizemode\":\"area\",\"sizeref\":0.215,\"symbol\":\"circle\"},\"mode\":\"markers\",\"name\":\"\\uad00\\uc545\\uad6c\",\"orientation\":\"v\",\"showlegend\":true,\"x\":[0.2541],\"xaxis\":\"x\",\"y\":[0.3712300043964963],\"yaxis\":\"y\",\"type\":\"scatter\"},{\"hovertemplate\":\"\\uc790\\uce58\\uad6c=\\uc591\\ucc9c\\uad6c<br>\\ub3c4\\ub85c\\uc728=%{x}<br>\\uacf5\\uc6d0\\uc728=%{y}<br>\\ubbf8\\uc138\\uba3c\\uc9c0\\ub098\\uc068\\uc77c\\uc218=%{marker.size}<extra></extra>\",\"legendgroup\":\"\\uc591\\ucc9c\\uad6c\",\"marker\":{\"color\":\"#FFA15A\",\"size\":[76],\"sizemode\":\"area\",\"sizeref\":0.215,\"symbol\":\"circle\"},\"mode\":\"markers\",\"name\":\"\\uc591\\ucc9c\\uad6c\",\"orientation\":\"v\",\"showlegend\":true,\"x\":[0.2718],\"xaxis\":\"x\",\"y\":[0.1673082447572536],\"yaxis\":\"y\",\"type\":\"scatter\"},{\"hovertemplate\":\"\\uc790\\uce58\\uad6c=\\uc11c\\ucd08\\uad6c<br>\\ub3c4\\ub85c\\uc728=%{x}<br>\\uacf5\\uc6d0\\uc728=%{y}<br>\\ubbf8\\uc138\\uba3c\\uc9c0\\ub098\\uc068\\uc77c\\uc218=%{marker.size}<extra></extra>\",\"legendgroup\":\"\\uc11c\\ucd08\\uad6c\",\"marker\":{\"color\":\"#19d3f3\",\"size\":[74],\"sizemode\":\"area\",\"sizeref\":0.215,\"symbol\":\"circle\"},\"mode\":\"markers\",\"name\":\"\\uc11c\\ucd08\\uad6c\",\"orientation\":\"v\",\"showlegend\":true,\"x\":[0.2635],\"xaxis\":\"x\",\"y\":[0.3422873076350013],\"yaxis\":\"y\",\"type\":\"scatter\"},{\"hovertemplate\":\"\\uc790\\uce58\\uad6c=\\uad11\\uc9c4\\uad6c<br>\\ub3c4\\ub85c\\uc728=%{x}<br>\\uacf5\\uc6d0\\uc728=%{y}<br>\\ubbf8\\uc138\\uba3c\\uc9c0\\ub098\\uc068\\uc77c\\uc218=%{marker.size}<extra></extra>\",\"legendgroup\":\"\\uad11\\uc9c4\\uad6c\",\"marker\":{\"color\":\"#FF6692\",\"size\":[74],\"sizemode\":\"area\",\"sizeref\":0.215,\"symbol\":\"circle\"},\"mode\":\"markers\",\"name\":\"\\uad11\\uc9c4\\uad6c\",\"orientation\":\"v\",\"showlegend\":true,\"x\":[0.2883],\"xaxis\":\"x\",\"y\":[0.1971339819481889],\"yaxis\":\"y\",\"type\":\"scatter\"},{\"hovertemplate\":\"\\uc790\\uce58\\uad6c=\\uad6c\\ub85c\\uad6c<br>\\ub3c4\\ub85c\\uc728=%{x}<br>\\uacf5\\uc6d0\\uc728=%{y}<br>\\ubbf8\\uc138\\uba3c\\uc9c0\\ub098\\uc068\\uc77c\\uc218=%{marker.size}<extra></extra>\",\"legendgroup\":\"\\uad6c\\ub85c\\uad6c\",\"marker\":{\"color\":\"#B6E880\",\"size\":[71],\"sizemode\":\"area\",\"sizeref\":0.215,\"symbol\":\"circle\"},\"mode\":\"markers\",\"name\":\"\\uad6c\\ub85c\\uad6c\",\"orientation\":\"v\",\"showlegend\":true,\"x\":[0.2163],\"xaxis\":\"x\",\"y\":[0.1658183806352204],\"yaxis\":\"y\",\"type\":\"scatter\"},{\"hovertemplate\":\"\\uc790\\uce58\\uad6c=\\ub3d9\\uc791\\uad6c<br>\\ub3c4\\ub85c\\uc728=%{x}<br>\\uacf5\\uc6d0\\uc728=%{y}<br>\\ubbf8\\uc138\\uba3c\\uc9c0\\ub098\\uc068\\uc77c\\uc218=%{marker.size}<extra></extra>\",\"legendgroup\":\"\\ub3d9\\uc791\\uad6c\",\"marker\":{\"color\":\"#FF97FF\",\"size\":[71],\"sizemode\":\"area\",\"sizeref\":0.215,\"symbol\":\"circle\"},\"mode\":\"markers\",\"name\":\"\\ub3d9\\uc791\\uad6c\",\"orientation\":\"v\",\"showlegend\":true,\"x\":[0.1716],\"xaxis\":\"x\",\"y\":[0.2803277686051489],\"yaxis\":\"y\",\"type\":\"scatter\"},{\"hovertemplate\":\"\\uc790\\uce58\\uad6c=\\uac15\\ub3d9\\uad6c<br>\\ub3c4\\ub85c\\uc728=%{x}<br>\\uacf5\\uc6d0\\uc728=%{y}<br>\\ubbf8\\uc138\\uba3c\\uc9c0\\ub098\\uc068\\uc77c\\uc218=%{marker.size}<extra></extra>\",\"legendgroup\":\"\\uac15\\ub3d9\\uad6c\",\"marker\":{\"color\":\"#FECB52\",\"size\":[70],\"sizemode\":\"area\",\"sizeref\":0.215,\"symbol\":\"circle\"},\"mode\":\"markers\",\"name\":\"\\uac15\\ub3d9\\uad6c\",\"orientation\":\"v\",\"showlegend\":true,\"x\":[0.2428],\"xaxis\":\"x\",\"y\":[0.1370394469296462],\"yaxis\":\"y\",\"type\":\"scatter\"},{\"hovertemplate\":\"\\uc790\\uce58\\uad6c=\\uac15\\uc11c\\uad6c<br>\\ub3c4\\ub85c\\uc728=%{x}<br>\\uacf5\\uc6d0\\uc728=%{y}<br>\\ubbf8\\uc138\\uba3c\\uc9c0\\ub098\\uc068\\uc77c\\uc218=%{marker.size}<extra></extra>\",\"legendgroup\":\"\\uac15\\uc11c\\uad6c\",\"marker\":{\"color\":\"#636efa\",\"size\":[69],\"sizemode\":\"area\",\"sizeref\":0.215,\"symbol\":\"circle\"},\"mode\":\"markers\",\"name\":\"\\uac15\\uc11c\\uad6c\",\"orientation\":\"v\",\"showlegend\":true,\"x\":[0.2683],\"xaxis\":\"x\",\"y\":[0.1054710879428516],\"yaxis\":\"y\",\"type\":\"scatter\"},{\"hovertemplate\":\"\\uc790\\uce58\\uad6c=\\ub178\\uc6d0\\uad6c<br>\\ub3c4\\ub85c\\uc728=%{x}<br>\\uacf5\\uc6d0\\uc728=%{y}<br>\\ubbf8\\uc138\\uba3c\\uc9c0\\ub098\\uc068\\uc77c\\uc218=%{marker.size}<extra></extra>\",\"legendgroup\":\"\\ub178\\uc6d0\\uad6c\",\"marker\":{\"color\":\"#EF553B\",\"size\":[69],\"sizemode\":\"area\",\"sizeref\":0.215,\"symbol\":\"circle\"},\"mode\":\"markers\",\"name\":\"\\ub178\\uc6d0\\uad6c\",\"orientation\":\"v\",\"showlegend\":true,\"x\":[0.2366],\"xaxis\":\"x\",\"y\":[0.4047859581793041],\"yaxis\":\"y\",\"type\":\"scatter\"},{\"hovertemplate\":\"\\uc790\\uce58\\uad6c=\\uc11c\\ub300\\ubb38\\uad6c<br>\\ub3c4\\ub85c\\uc728=%{x}<br>\\uacf5\\uc6d0\\uc728=%{y}<br>\\ubbf8\\uc138\\uba3c\\uc9c0\\ub098\\uc068\\uc77c\\uc218=%{marker.size}<extra></extra>\",\"legendgroup\":\"\\uc11c\\ub300\\ubb38\\uad6c\",\"marker\":{\"color\":\"#00cc96\",\"size\":[68],\"sizemode\":\"area\",\"sizeref\":0.215,\"symbol\":\"circle\"},\"mode\":\"markers\",\"name\":\"\\uc11c\\ub300\\ubb38\\uad6c\",\"orientation\":\"v\",\"showlegend\":true,\"x\":[0.1725],\"xaxis\":\"x\",\"y\":[0.2918018835810734],\"yaxis\":\"y\",\"type\":\"scatter\"},{\"hovertemplate\":\"\\uc790\\uce58\\uad6c=\\uac15\\ubd81\\uad6c<br>\\ub3c4\\ub85c\\uc728=%{x}<br>\\uacf5\\uc6d0\\uc728=%{y}<br>\\ubbf8\\uc138\\uba3c\\uc9c0\\ub098\\uc068\\uc77c\\uc218=%{marker.size}<extra></extra>\",\"legendgroup\":\"\\uac15\\ubd81\\uad6c\",\"marker\":{\"color\":\"#ab63fa\",\"size\":[67],\"sizemode\":\"area\",\"sizeref\":0.215,\"symbol\":\"circle\"},\"mode\":\"markers\",\"name\":\"\\uac15\\ubd81\\uad6c\",\"orientation\":\"v\",\"showlegend\":true,\"x\":[0.2091],\"xaxis\":\"x\",\"y\":[0.6077245762711864],\"yaxis\":\"y\",\"type\":\"scatter\"},{\"hovertemplate\":\"\\uc790\\uce58\\uad6c=\\uac15\\ub0a8\\uad6c<br>\\ub3c4\\ub85c\\uc728=%{x}<br>\\uacf5\\uc6d0\\uc728=%{y}<br>\\ubbf8\\uc138\\uba3c\\uc9c0\\ub098\\uc068\\uc77c\\uc218=%{marker.size}<extra></extra>\",\"legendgroup\":\"\\uac15\\ub0a8\\uad6c\",\"marker\":{\"color\":\"#FFA15A\",\"size\":[65],\"sizemode\":\"area\",\"sizeref\":0.215,\"symbol\":\"circle\"},\"mode\":\"markers\",\"name\":\"\\uac15\\ub0a8\\uad6c\",\"orientation\":\"v\",\"showlegend\":true,\"x\":[0.2357999999999999],\"xaxis\":\"x\",\"y\":[0.1669400774663932],\"yaxis\":\"y\",\"type\":\"scatter\"},{\"hovertemplate\":\"\\uc790\\uce58\\uad6c=\\uc1a1\\ud30c\\uad6c<br>\\ub3c4\\ub85c\\uc728=%{x}<br>\\uacf5\\uc6d0\\uc728=%{y}<br>\\ubbf8\\uc138\\uba3c\\uc9c0\\ub098\\uc068\\uc77c\\uc218=%{marker.size}<extra></extra>\",\"legendgroup\":\"\\uc1a1\\ud30c\\uad6c\",\"marker\":{\"color\":\"#19d3f3\",\"size\":[64],\"sizemode\":\"area\",\"sizeref\":0.215,\"symbol\":\"circle\"},\"mode\":\"markers\",\"name\":\"\\uc1a1\\ud30c\\uad6c\",\"orientation\":\"v\",\"showlegend\":true,\"x\":[0.2034],\"xaxis\":\"x\",\"y\":[0.1371280113367973],\"yaxis\":\"y\",\"type\":\"scatter\"},{\"hovertemplate\":\"\\uc790\\uce58\\uad6c=\\uc6a9\\uc0b0\\uad6c<br>\\ub3c4\\ub85c\\uc728=%{x}<br>\\uacf5\\uc6d0\\uc728=%{y}<br>\\ubbf8\\uc138\\uba3c\\uc9c0\\ub098\\uc068\\uc77c\\uc218=%{marker.size}<extra></extra>\",\"legendgroup\":\"\\uc6a9\\uc0b0\\uad6c\",\"marker\":{\"color\":\"#FF6692\",\"size\":[62],\"sizemode\":\"area\",\"sizeref\":0.215,\"symbol\":\"circle\"},\"mode\":\"markers\",\"name\":\"\\uc6a9\\uc0b0\\uad6c\",\"orientation\":\"v\",\"showlegend\":true,\"x\":[0.2219],\"xaxis\":\"x\",\"y\":[0.0813866276410866],\"yaxis\":\"y\",\"type\":\"scatter\"},{\"hovertemplate\":\"\\uc790\\uce58\\uad6c=\\ub3d9\\ub300\\ubb38\\uad6c<br>\\ub3c4\\ub85c\\uc728=%{x}<br>\\uacf5\\uc6d0\\uc728=%{y}<br>\\ubbf8\\uc138\\uba3c\\uc9c0\\ub098\\uc068\\uc77c\\uc218=%{marker.size}<extra></extra>\",\"legendgroup\":\"\\ub3d9\\ub300\\ubb38\\uad6c\",\"marker\":{\"color\":\"#B6E880\",\"size\":[61],\"sizemode\":\"area\",\"sizeref\":0.215,\"symbol\":\"circle\"},\"mode\":\"markers\",\"name\":\"\\ub3d9\\ub300\\ubb38\\uad6c\",\"orientation\":\"v\",\"showlegend\":true,\"x\":[0.2216],\"xaxis\":\"x\",\"y\":[0.0897010200492437],\"yaxis\":\"y\",\"type\":\"scatter\"},{\"hovertemplate\":\"\\uc790\\uce58\\uad6c=\\uc740\\ud3c9\\uad6c<br>\\ub3c4\\ub85c\\uc728=%{x}<br>\\uacf5\\uc6d0\\uc728=%{y}<br>\\ubbf8\\uc138\\uba3c\\uc9c0\\ub098\\uc068\\uc77c\\uc218=%{marker.size}<extra></extra>\",\"legendgroup\":\"\\uc740\\ud3c9\\uad6c\",\"marker\":{\"color\":\"#FF97FF\",\"size\":[61],\"sizemode\":\"area\",\"sizeref\":0.215,\"symbol\":\"circle\"},\"mode\":\"markers\",\"name\":\"\\uc740\\ud3c9\\uad6c\",\"orientation\":\"v\",\"showlegend\":true,\"x\":[0.2092],\"xaxis\":\"x\",\"y\":[0.4709390777515988],\"yaxis\":\"y\",\"type\":\"scatter\"},{\"hovertemplate\":\"\\uc790\\uce58\\uad6c=\\uc131\\ubd81\\uad6c<br>\\ub3c4\\ub85c\\uc728=%{x}<br>\\uacf5\\uc6d0\\uc728=%{y}<br>\\ubbf8\\uc138\\uba3c\\uc9c0\\ub098\\uc068\\uc77c\\uc218=%{marker.size}<extra></extra>\",\"legendgroup\":\"\\uc131\\ubd81\\uad6c\",\"marker\":{\"color\":\"#FECB52\",\"size\":[59],\"sizemode\":\"area\",\"sizeref\":0.215,\"symbol\":\"circle\"},\"mode\":\"markers\",\"name\":\"\\uc131\\ubd81\\uad6c\",\"orientation\":\"v\",\"showlegend\":true,\"x\":[0.2312],\"xaxis\":\"x\",\"y\":[0.3389241536458333],\"yaxis\":\"y\",\"type\":\"scatter\"},{\"hovertemplate\":\"\\uc790\\uce58\\uad6c=\\ub3c4\\ubd09\\uad6c<br>\\ub3c4\\ub85c\\uc728=%{x}<br>\\uacf5\\uc6d0\\uc728=%{y}<br>\\ubbf8\\uc138\\uba3c\\uc9c0\\ub098\\uc068\\uc77c\\uc218=%{marker.size}<extra></extra>\",\"legendgroup\":\"\\ub3c4\\ubd09\\uad6c\",\"marker\":{\"color\":\"#636efa\",\"size\":[56],\"sizemode\":\"area\",\"sizeref\":0.215,\"symbol\":\"circle\"},\"mode\":\"markers\",\"name\":\"\\ub3c4\\ubd09\\uad6c\",\"orientation\":\"v\",\"showlegend\":true,\"x\":[0.1898999999999999],\"xaxis\":\"x\",\"y\":[0.4878698368117766],\"yaxis\":\"y\",\"type\":\"scatter\"},{\"hovertemplate\":\"\\uc790\\uce58\\uad6c=\\uae08\\ucc9c\\uad6c<br>\\ub3c4\\ub85c\\uc728=%{x}<br>\\uacf5\\uc6d0\\uc728=%{y}<br>\\ubbf8\\uc138\\uba3c\\uc9c0\\ub098\\uc068\\uc77c\\uc218=%{marker.size}<extra></extra>\",\"legendgroup\":\"\\uae08\\ucc9c\\uad6c\",\"marker\":{\"color\":\"#EF553B\",\"size\":[54],\"sizemode\":\"area\",\"sizeref\":0.215,\"symbol\":\"circle\"},\"mode\":\"markers\",\"name\":\"\\uae08\\ucc9c\\uad6c\",\"orientation\":\"v\",\"showlegend\":true,\"x\":[0.2022],\"xaxis\":\"x\",\"y\":[0.1694470046082949],\"yaxis\":\"y\",\"type\":\"scatter\"},{\"hovertemplate\":\"\\uc790\\uce58\\uad6c=\\uc911\\ub791\\uad6c<br>\\ub3c4\\ub85c\\uc728=%{x}<br>\\uacf5\\uc6d0\\uc728=%{y}<br>\\ubbf8\\uc138\\uba3c\\uc9c0\\ub098\\uc068\\uc77c\\uc218=%{marker.size}<extra></extra>\",\"legendgroup\":\"\\uc911\\ub791\\uad6c\",\"marker\":{\"color\":\"#00cc96\",\"size\":[51],\"sizemode\":\"area\",\"sizeref\":0.215,\"symbol\":\"circle\"},\"mode\":\"markers\",\"name\":\"\\uc911\\ub791\\uad6c\",\"orientation\":\"v\",\"showlegend\":true,\"x\":[0.2601],\"xaxis\":\"x\",\"y\":[0.2814284169550173],\"yaxis\":\"y\",\"type\":\"scatter\"},{\"hovertemplate\":\"\\uc790\\uce58\\uad6c=\\uc911\\uad6c<br>\\ub3c4\\ub85c\\uc728=%{x}<br>\\uacf5\\uc6d0\\uc728=%{y}<br>\\ubbf8\\uc138\\uba3c\\uc9c0\\ub098\\uc068\\uc77c\\uc218=%{marker.size}<extra></extra>\",\"legendgroup\":\"\\uc911\\uad6c\",\"marker\":{\"color\":\"#ab63fa\",\"size\":[50],\"sizemode\":\"area\",\"sizeref\":0.215,\"symbol\":\"circle\"},\"mode\":\"markers\",\"name\":\"\\uc911\\uad6c\",\"orientation\":\"v\",\"showlegend\":true,\"x\":[0.1882],\"xaxis\":\"x\",\"y\":[0.3167771084337349],\"yaxis\":\"y\",\"type\":\"scatter\"},{\"hovertemplate\":\"\\uc790\\uce58\\uad6c=\\uc885\\ub85c\\uad6c<br>\\ub3c4\\ub85c\\uc728=%{x}<br>\\uacf5\\uc6d0\\uc728=%{y}<br>\\ubbf8\\uc138\\uba3c\\uc9c0\\ub098\\uc068\\uc77c\\uc218=%{marker.size}<extra></extra>\",\"legendgroup\":\"\\uc885\\ub85c\\uad6c\",\"marker\":{\"color\":\"#FFA15A\",\"size\":[43],\"sizemode\":\"area\",\"sizeref\":0.215,\"symbol\":\"circle\"},\"mode\":\"markers\",\"name\":\"\\uc885\\ub85c\\uad6c\",\"orientation\":\"v\",\"showlegend\":true,\"x\":[0.2134],\"xaxis\":\"x\",\"y\":[0.4832559695563083],\"yaxis\":\"y\",\"type\":\"scatter\"}],                        {\"template\":{\"data\":{\"bar\":[{\"error_x\":{\"color\":\"#2a3f5f\"},\"error_y\":{\"color\":\"#2a3f5f\"},\"marker\":{\"line\":{\"color\":\"#E5ECF6\",\"width\":0.5},\"pattern\":{\"fillmode\":\"overlay\",\"size\":10,\"solidity\":0.2}},\"type\":\"bar\"}],\"barpolar\":[{\"marker\":{\"line\":{\"color\":\"#E5ECF6\",\"width\":0.5},\"pattern\":{\"fillmode\":\"overlay\",\"size\":10,\"solidity\":0.2}},\"type\":\"barpolar\"}],\"carpet\":[{\"aaxis\":{\"endlinecolor\":\"#2a3f5f\",\"gridcolor\":\"white\",\"linecolor\":\"white\",\"minorgridcolor\":\"white\",\"startlinecolor\":\"#2a3f5f\"},\"baxis\":{\"endlinecolor\":\"#2a3f5f\",\"gridcolor\":\"white\",\"linecolor\":\"white\",\"minorgridcolor\":\"white\",\"startlinecolor\":\"#2a3f5f\"},\"type\":\"carpet\"}],\"choropleth\":[{\"colorbar\":{\"outlinewidth\":0,\"ticks\":\"\"},\"type\":\"choropleth\"}],\"contour\":[{\"colorbar\":{\"outlinewidth\":0,\"ticks\":\"\"},\"colorscale\":[[0.0,\"#0d0887\"],[0.1111111111111111,\"#46039f\"],[0.2222222222222222,\"#7201a8\"],[0.3333333333333333,\"#9c179e\"],[0.4444444444444444,\"#bd3786\"],[0.5555555555555556,\"#d8576b\"],[0.6666666666666666,\"#ed7953\"],[0.7777777777777778,\"#fb9f3a\"],[0.8888888888888888,\"#fdca26\"],[1.0,\"#f0f921\"]],\"type\":\"contour\"}],\"contourcarpet\":[{\"colorbar\":{\"outlinewidth\":0,\"ticks\":\"\"},\"type\":\"contourcarpet\"}],\"heatmap\":[{\"colorbar\":{\"outlinewidth\":0,\"ticks\":\"\"},\"colorscale\":[[0.0,\"#0d0887\"],[0.1111111111111111,\"#46039f\"],[0.2222222222222222,\"#7201a8\"],[0.3333333333333333,\"#9c179e\"],[0.4444444444444444,\"#bd3786\"],[0.5555555555555556,\"#d8576b\"],[0.6666666666666666,\"#ed7953\"],[0.7777777777777778,\"#fb9f3a\"],[0.8888888888888888,\"#fdca26\"],[1.0,\"#f0f921\"]],\"type\":\"heatmap\"}],\"heatmapgl\":[{\"colorbar\":{\"outlinewidth\":0,\"ticks\":\"\"},\"colorscale\":[[0.0,\"#0d0887\"],[0.1111111111111111,\"#46039f\"],[0.2222222222222222,\"#7201a8\"],[0.3333333333333333,\"#9c179e\"],[0.4444444444444444,\"#bd3786\"],[0.5555555555555556,\"#d8576b\"],[0.6666666666666666,\"#ed7953\"],[0.7777777777777778,\"#fb9f3a\"],[0.8888888888888888,\"#fdca26\"],[1.0,\"#f0f921\"]],\"type\":\"heatmapgl\"}],\"histogram\":[{\"marker\":{\"pattern\":{\"fillmode\":\"overlay\",\"size\":10,\"solidity\":0.2}},\"type\":\"histogram\"}],\"histogram2d\":[{\"colorbar\":{\"outlinewidth\":0,\"ticks\":\"\"},\"colorscale\":[[0.0,\"#0d0887\"],[0.1111111111111111,\"#46039f\"],[0.2222222222222222,\"#7201a8\"],[0.3333333333333333,\"#9c179e\"],[0.4444444444444444,\"#bd3786\"],[0.5555555555555556,\"#d8576b\"],[0.6666666666666666,\"#ed7953\"],[0.7777777777777778,\"#fb9f3a\"],[0.8888888888888888,\"#fdca26\"],[1.0,\"#f0f921\"]],\"type\":\"histogram2d\"}],\"histogram2dcontour\":[{\"colorbar\":{\"outlinewidth\":0,\"ticks\":\"\"},\"colorscale\":[[0.0,\"#0d0887\"],[0.1111111111111111,\"#46039f\"],[0.2222222222222222,\"#7201a8\"],[0.3333333333333333,\"#9c179e\"],[0.4444444444444444,\"#bd3786\"],[0.5555555555555556,\"#d8576b\"],[0.6666666666666666,\"#ed7953\"],[0.7777777777777778,\"#fb9f3a\"],[0.8888888888888888,\"#fdca26\"],[1.0,\"#f0f921\"]],\"type\":\"histogram2dcontour\"}],\"mesh3d\":[{\"colorbar\":{\"outlinewidth\":0,\"ticks\":\"\"},\"type\":\"mesh3d\"}],\"parcoords\":[{\"line\":{\"colorbar\":{\"outlinewidth\":0,\"ticks\":\"\"}},\"type\":\"parcoords\"}],\"pie\":[{\"automargin\":true,\"type\":\"pie\"}],\"scatter\":[{\"marker\":{\"colorbar\":{\"outlinewidth\":0,\"ticks\":\"\"}},\"type\":\"scatter\"}],\"scatter3d\":[{\"line\":{\"colorbar\":{\"outlinewidth\":0,\"ticks\":\"\"}},\"marker\":{\"colorbar\":{\"outlinewidth\":0,\"ticks\":\"\"}},\"type\":\"scatter3d\"}],\"scattercarpet\":[{\"marker\":{\"colorbar\":{\"outlinewidth\":0,\"ticks\":\"\"}},\"type\":\"scattercarpet\"}],\"scattergeo\":[{\"marker\":{\"colorbar\":{\"outlinewidth\":0,\"ticks\":\"\"}},\"type\":\"scattergeo\"}],\"scattergl\":[{\"marker\":{\"colorbar\":{\"outlinewidth\":0,\"ticks\":\"\"}},\"type\":\"scattergl\"}],\"scattermapbox\":[{\"marker\":{\"colorbar\":{\"outlinewidth\":0,\"ticks\":\"\"}},\"type\":\"scattermapbox\"}],\"scatterpolar\":[{\"marker\":{\"colorbar\":{\"outlinewidth\":0,\"ticks\":\"\"}},\"type\":\"scatterpolar\"}],\"scatterpolargl\":[{\"marker\":{\"colorbar\":{\"outlinewidth\":0,\"ticks\":\"\"}},\"type\":\"scatterpolargl\"}],\"scatterternary\":[{\"marker\":{\"colorbar\":{\"outlinewidth\":0,\"ticks\":\"\"}},\"type\":\"scatterternary\"}],\"surface\":[{\"colorbar\":{\"outlinewidth\":0,\"ticks\":\"\"},\"colorscale\":[[0.0,\"#0d0887\"],[0.1111111111111111,\"#46039f\"],[0.2222222222222222,\"#7201a8\"],[0.3333333333333333,\"#9c179e\"],[0.4444444444444444,\"#bd3786\"],[0.5555555555555556,\"#d8576b\"],[0.6666666666666666,\"#ed7953\"],[0.7777777777777778,\"#fb9f3a\"],[0.8888888888888888,\"#fdca26\"],[1.0,\"#f0f921\"]],\"type\":\"surface\"}],\"table\":[{\"cells\":{\"fill\":{\"color\":\"#EBF0F8\"},\"line\":{\"color\":\"white\"}},\"header\":{\"fill\":{\"color\":\"#C8D4E3\"},\"line\":{\"color\":\"white\"}},\"type\":\"table\"}]},\"layout\":{\"annotationdefaults\":{\"arrowcolor\":\"#2a3f5f\",\"arrowhead\":0,\"arrowwidth\":1},\"autotypenumbers\":\"strict\",\"coloraxis\":{\"colorbar\":{\"outlinewidth\":0,\"ticks\":\"\"}},\"colorscale\":{\"diverging\":[[0,\"#8e0152\"],[0.1,\"#c51b7d\"],[0.2,\"#de77ae\"],[0.3,\"#f1b6da\"],[0.4,\"#fde0ef\"],[0.5,\"#f7f7f7\"],[0.6,\"#e6f5d0\"],[0.7,\"#b8e186\"],[0.8,\"#7fbc41\"],[0.9,\"#4d9221\"],[1,\"#276419\"]],\"sequential\":[[0.0,\"#0d0887\"],[0.1111111111111111,\"#46039f\"],[0.2222222222222222,\"#7201a8\"],[0.3333333333333333,\"#9c179e\"],[0.4444444444444444,\"#bd3786\"],[0.5555555555555556,\"#d8576b\"],[0.6666666666666666,\"#ed7953\"],[0.7777777777777778,\"#fb9f3a\"],[0.8888888888888888,\"#fdca26\"],[1.0,\"#f0f921\"]],\"sequentialminus\":[[0.0,\"#0d0887\"],[0.1111111111111111,\"#46039f\"],[0.2222222222222222,\"#7201a8\"],[0.3333333333333333,\"#9c179e\"],[0.4444444444444444,\"#bd3786\"],[0.5555555555555556,\"#d8576b\"],[0.6666666666666666,\"#ed7953\"],[0.7777777777777778,\"#fb9f3a\"],[0.8888888888888888,\"#fdca26\"],[1.0,\"#f0f921\"]]},\"colorway\":[\"#636efa\",\"#EF553B\",\"#00cc96\",\"#ab63fa\",\"#FFA15A\",\"#19d3f3\",\"#FF6692\",\"#B6E880\",\"#FF97FF\",\"#FECB52\"],\"font\":{\"color\":\"#2a3f5f\"},\"geo\":{\"bgcolor\":\"white\",\"lakecolor\":\"white\",\"landcolor\":\"#E5ECF6\",\"showlakes\":true,\"showland\":true,\"subunitcolor\":\"white\"},\"hoverlabel\":{\"align\":\"left\"},\"hovermode\":\"closest\",\"mapbox\":{\"style\":\"light\"},\"paper_bgcolor\":\"white\",\"plot_bgcolor\":\"#E5ECF6\",\"polar\":{\"angularaxis\":{\"gridcolor\":\"white\",\"linecolor\":\"white\",\"ticks\":\"\"},\"bgcolor\":\"#E5ECF6\",\"radialaxis\":{\"gridcolor\":\"white\",\"linecolor\":\"white\",\"ticks\":\"\"}},\"scene\":{\"xaxis\":{\"backgroundcolor\":\"#E5ECF6\",\"gridcolor\":\"white\",\"gridwidth\":2,\"linecolor\":\"white\",\"showbackground\":true,\"ticks\":\"\",\"zerolinecolor\":\"white\"},\"yaxis\":{\"backgroundcolor\":\"#E5ECF6\",\"gridcolor\":\"white\",\"gridwidth\":2,\"linecolor\":\"white\",\"showbackground\":true,\"ticks\":\"\",\"zerolinecolor\":\"white\"},\"zaxis\":{\"backgroundcolor\":\"#E5ECF6\",\"gridcolor\":\"white\",\"gridwidth\":2,\"linecolor\":\"white\",\"showbackground\":true,\"ticks\":\"\",\"zerolinecolor\":\"white\"}},\"shapedefaults\":{\"line\":{\"color\":\"#2a3f5f\"}},\"ternary\":{\"aaxis\":{\"gridcolor\":\"white\",\"linecolor\":\"white\",\"ticks\":\"\"},\"baxis\":{\"gridcolor\":\"white\",\"linecolor\":\"white\",\"ticks\":\"\"},\"bgcolor\":\"#E5ECF6\",\"caxis\":{\"gridcolor\":\"white\",\"linecolor\":\"white\",\"ticks\":\"\"}},\"title\":{\"x\":0.05},\"xaxis\":{\"automargin\":true,\"gridcolor\":\"white\",\"linecolor\":\"white\",\"ticks\":\"\",\"title\":{\"standoff\":15},\"zerolinecolor\":\"white\",\"zerolinewidth\":2},\"yaxis\":{\"automargin\":true,\"gridcolor\":\"white\",\"linecolor\":\"white\",\"ticks\":\"\",\"title\":{\"standoff\":15},\"zerolinecolor\":\"white\",\"zerolinewidth\":2}}},\"xaxis\":{\"anchor\":\"y\",\"domain\":[0.0,1.0],\"title\":{\"text\":\"\\ub3c4\\ub85c\\uc728\"}},\"yaxis\":{\"anchor\":\"x\",\"domain\":[0.0,1.0],\"title\":{\"text\":\"\\uacf5\\uc6d0\\uc728\"}},\"legend\":{\"title\":{\"text\":\"\\uc790\\uce58\\uad6c\"},\"tracegroupgap\":0,\"itemsizing\":\"constant\"},\"margin\":{\"t\":60},\"height\":700,\"width\":800},                        {\"responsive\": true}                    ).then(function(){\n",
              "                            \n",
              "var gd = document.getElementById('e6815891-8a08-450e-9fa7-9d2a471ee4b8');\n",
              "var x = new MutationObserver(function (mutations, observer) {{\n",
              "        var display = window.getComputedStyle(gd).display;\n",
              "        if (!display || display === 'none') {{\n",
              "            console.log([gd, 'removed!']);\n",
              "            Plotly.purge(gd);\n",
              "            observer.disconnect();\n",
              "        }}\n",
              "}});\n",
              "\n",
              "// Listen for the removal of the full notebook cells\n",
              "var notebookContainer = gd.closest('#notebook-container');\n",
              "if (notebookContainer) {{\n",
              "    x.observe(notebookContainer, {childList: true});\n",
              "}}\n",
              "\n",
              "// Listen for the clearing of the current output cell\n",
              "var outputEl = gd.closest('.output');\n",
              "if (outputEl) {{\n",
              "    x.observe(outputEl, {childList: true});\n",
              "}}\n",
              "\n",
              "                        })                };                            </script>        </div>\n",
              "</body>\n",
              "</html>"
            ]
          },
          "metadata": {}
        }
      ]
    },
    {
      "cell_type": "code",
      "source": [
        "knn = KNeighborsClassifier(n_neighbors=2)\n",
        "knn.fit(data,target)\n",
        "knn.score(data, target)        "
      ],
      "metadata": {
        "colab": {
          "base_uri": "https://localhost:8080/"
        },
        "id": "3KZiCU-1Ezxk",
        "outputId": "188eb93d-6720-4647-ceea-685f696b2685"
      },
      "execution_count": null,
      "outputs": [
        {
          "output_type": "stream",
          "name": "stderr",
          "text": [
            "/usr/local/lib/python3.7/dist-packages/sklearn/neighbors/_classification.py:198: DataConversionWarning:\n",
            "\n",
            "A column-vector y was passed when a 1d array was expected. Please change the shape of y to (n_samples,), for example using ravel().\n",
            "\n"
          ]
        },
        {
          "output_type": "execute_result",
          "data": {
            "text/plain": [
              "0.44"
            ]
          },
          "metadata": {},
          "execution_count": 34
        }
      ]
    },
    {
      "cell_type": "code",
      "source": [],
      "metadata": {
        "colab": {
          "base_uri": "https://localhost:8080/",
          "height": 450
        },
        "id": "FYnVShuHHC4q",
        "outputId": "6c3145fc-8099-42ae-85f6-8e339f8c70ff"
      },
      "execution_count": null,
      "outputs": [
        {
          "output_type": "error",
          "ename": "ValueError",
          "evalue": "ignored",
          "traceback": [
            "\u001b[0;31m---------------------------------------------------------------------------\u001b[0m",
            "\u001b[0;31mEmpty\u001b[0m                                     Traceback (most recent call last)",
            "\u001b[0;32m/usr/local/lib/python3.7/dist-packages/joblib/parallel.py\u001b[0m in \u001b[0;36mdispatch_one_batch\u001b[0;34m(self, iterator)\u001b[0m\n\u001b[1;32m    821\u001b[0m             \u001b[0;32mtry\u001b[0m\u001b[0;34m:\u001b[0m\u001b[0;34m\u001b[0m\u001b[0;34m\u001b[0m\u001b[0m\n\u001b[0;32m--> 822\u001b[0;31m                 \u001b[0mtasks\u001b[0m \u001b[0;34m=\u001b[0m \u001b[0mself\u001b[0m\u001b[0;34m.\u001b[0m\u001b[0m_ready_batches\u001b[0m\u001b[0;34m.\u001b[0m\u001b[0mget\u001b[0m\u001b[0;34m(\u001b[0m\u001b[0mblock\u001b[0m\u001b[0;34m=\u001b[0m\u001b[0;32mFalse\u001b[0m\u001b[0;34m)\u001b[0m\u001b[0;34m\u001b[0m\u001b[0;34m\u001b[0m\u001b[0m\n\u001b[0m\u001b[1;32m    823\u001b[0m             \u001b[0;32mexcept\u001b[0m \u001b[0mqueue\u001b[0m\u001b[0;34m.\u001b[0m\u001b[0mEmpty\u001b[0m\u001b[0;34m:\u001b[0m\u001b[0;34m\u001b[0m\u001b[0;34m\u001b[0m\u001b[0m\n",
            "\u001b[0;32m/usr/lib/python3.7/queue.py\u001b[0m in \u001b[0;36mget\u001b[0;34m(self, block, timeout)\u001b[0m\n\u001b[1;32m    166\u001b[0m                 \u001b[0;32mif\u001b[0m \u001b[0;32mnot\u001b[0m \u001b[0mself\u001b[0m\u001b[0;34m.\u001b[0m\u001b[0m_qsize\u001b[0m\u001b[0;34m(\u001b[0m\u001b[0;34m)\u001b[0m\u001b[0;34m:\u001b[0m\u001b[0;34m\u001b[0m\u001b[0;34m\u001b[0m\u001b[0m\n\u001b[0;32m--> 167\u001b[0;31m                     \u001b[0;32mraise\u001b[0m \u001b[0mEmpty\u001b[0m\u001b[0;34m\u001b[0m\u001b[0;34m\u001b[0m\u001b[0m\n\u001b[0m\u001b[1;32m    168\u001b[0m             \u001b[0;32melif\u001b[0m \u001b[0mtimeout\u001b[0m \u001b[0;32mis\u001b[0m \u001b[0;32mNone\u001b[0m\u001b[0;34m:\u001b[0m\u001b[0;34m\u001b[0m\u001b[0;34m\u001b[0m\u001b[0m\n",
            "\u001b[0;31mEmpty\u001b[0m: ",
            "\nDuring handling of the above exception, another exception occurred:\n",
            "\u001b[0;31mValueError\u001b[0m                                Traceback (most recent call last)",
            "\u001b[0;32m<ipython-input-37-e93a225f5d31>\u001b[0m in \u001b[0;36m<module>\u001b[0;34m\u001b[0m\n\u001b[1;32m      2\u001b[0m \u001b[0;32mfor\u001b[0m \u001b[0mk\u001b[0m \u001b[0;32min\u001b[0m \u001b[0mrange\u001b[0m\u001b[0;34m(\u001b[0m\u001b[0;36m1\u001b[0m\u001b[0;34m,\u001b[0m \u001b[0;36m5\u001b[0m\u001b[0;34m+\u001b[0m\u001b[0;36m1\u001b[0m\u001b[0;34m)\u001b[0m\u001b[0;34m:\u001b[0m\u001b[0;34m\u001b[0m\u001b[0;34m\u001b[0m\u001b[0m\n\u001b[1;32m      3\u001b[0m     \u001b[0mknn\u001b[0m \u001b[0;34m=\u001b[0m \u001b[0mKNeighborsClassifier\u001b[0m\u001b[0;34m(\u001b[0m\u001b[0mn_neighbors\u001b[0m\u001b[0;34m=\u001b[0m\u001b[0mk\u001b[0m\u001b[0;34m)\u001b[0m\u001b[0;34m\u001b[0m\u001b[0;34m\u001b[0m\u001b[0m\n\u001b[0;32m----> 4\u001b[0;31m     \u001b[0mscore\u001b[0m \u001b[0;34m=\u001b[0m \u001b[0mcross_val_score\u001b[0m\u001b[0;34m(\u001b[0m\u001b[0mknn\u001b[0m\u001b[0;34m,\u001b[0m \u001b[0mdata\u001b[0m\u001b[0;34m,\u001b[0m \u001b[0mtarget\u001b[0m\u001b[0;34m,\u001b[0m \u001b[0mcv\u001b[0m\u001b[0;34m=\u001b[0m\u001b[0;36m5\u001b[0m\u001b[0;34m,\u001b[0m \u001b[0mscoring\u001b[0m\u001b[0;34m=\u001b[0m\u001b[0;34m'accuracy'\u001b[0m\u001b[0;34m)\u001b[0m\u001b[0;34m\u001b[0m\u001b[0;34m\u001b[0m\u001b[0m\n\u001b[0m\u001b[1;32m      5\u001b[0m     \u001b[0mscores\u001b[0m\u001b[0;34m.\u001b[0m\u001b[0mappend\u001b[0m\u001b[0;34m(\u001b[0m\u001b[0mnp\u001b[0m\u001b[0;34m.\u001b[0m\u001b[0mmean\u001b[0m\u001b[0;34m(\u001b[0m\u001b[0mscore\u001b[0m\u001b[0;34m)\u001b[0m\u001b[0;34m)\u001b[0m\u001b[0;34m\u001b[0m\u001b[0;34m\u001b[0m\u001b[0m\n\u001b[1;32m      6\u001b[0m \u001b[0;34m\u001b[0m\u001b[0m\n",
            "\u001b[0;32m/usr/local/lib/python3.7/dist-packages/sklearn/model_selection/_validation.py\u001b[0m in \u001b[0;36mcross_val_score\u001b[0;34m(estimator, X, y, groups, scoring, cv, n_jobs, verbose, fit_params, pre_dispatch, error_score)\u001b[0m\n\u001b[1;32m    518\u001b[0m         \u001b[0mfit_params\u001b[0m\u001b[0;34m=\u001b[0m\u001b[0mfit_params\u001b[0m\u001b[0;34m,\u001b[0m\u001b[0;34m\u001b[0m\u001b[0;34m\u001b[0m\u001b[0m\n\u001b[1;32m    519\u001b[0m         \u001b[0mpre_dispatch\u001b[0m\u001b[0;34m=\u001b[0m\u001b[0mpre_dispatch\u001b[0m\u001b[0;34m,\u001b[0m\u001b[0;34m\u001b[0m\u001b[0;34m\u001b[0m\u001b[0m\n\u001b[0;32m--> 520\u001b[0;31m         \u001b[0merror_score\u001b[0m\u001b[0;34m=\u001b[0m\u001b[0merror_score\u001b[0m\u001b[0;34m,\u001b[0m\u001b[0;34m\u001b[0m\u001b[0;34m\u001b[0m\u001b[0m\n\u001b[0m\u001b[1;32m    521\u001b[0m     )\n\u001b[1;32m    522\u001b[0m     \u001b[0;32mreturn\u001b[0m \u001b[0mcv_results\u001b[0m\u001b[0;34m[\u001b[0m\u001b[0;34m\"test_score\"\u001b[0m\u001b[0;34m]\u001b[0m\u001b[0;34m\u001b[0m\u001b[0;34m\u001b[0m\u001b[0m\n",
            "\u001b[0;32m/usr/local/lib/python3.7/dist-packages/sklearn/model_selection/_validation.py\u001b[0m in \u001b[0;36mcross_validate\u001b[0;34m(estimator, X, y, groups, scoring, cv, n_jobs, verbose, fit_params, pre_dispatch, return_train_score, return_estimator, error_score)\u001b[0m\n\u001b[1;32m    281\u001b[0m             \u001b[0merror_score\u001b[0m\u001b[0;34m=\u001b[0m\u001b[0merror_score\u001b[0m\u001b[0;34m,\u001b[0m\u001b[0;34m\u001b[0m\u001b[0;34m\u001b[0m\u001b[0m\n\u001b[1;32m    282\u001b[0m         )\n\u001b[0;32m--> 283\u001b[0;31m         \u001b[0;32mfor\u001b[0m \u001b[0mtrain\u001b[0m\u001b[0;34m,\u001b[0m \u001b[0mtest\u001b[0m \u001b[0;32min\u001b[0m \u001b[0mcv\u001b[0m\u001b[0;34m.\u001b[0m\u001b[0msplit\u001b[0m\u001b[0;34m(\u001b[0m\u001b[0mX\u001b[0m\u001b[0;34m,\u001b[0m \u001b[0my\u001b[0m\u001b[0;34m,\u001b[0m \u001b[0mgroups\u001b[0m\u001b[0;34m)\u001b[0m\u001b[0;34m\u001b[0m\u001b[0;34m\u001b[0m\u001b[0m\n\u001b[0m\u001b[1;32m    284\u001b[0m     )\n\u001b[1;32m    285\u001b[0m \u001b[0;34m\u001b[0m\u001b[0m\n",
            "\u001b[0;32m/usr/local/lib/python3.7/dist-packages/joblib/parallel.py\u001b[0m in \u001b[0;36m__call__\u001b[0;34m(self, iterable)\u001b[0m\n\u001b[1;32m   1041\u001b[0m             \u001b[0;31m# remaining jobs.\u001b[0m\u001b[0;34m\u001b[0m\u001b[0;34m\u001b[0m\u001b[0;34m\u001b[0m\u001b[0m\n\u001b[1;32m   1042\u001b[0m             \u001b[0mself\u001b[0m\u001b[0;34m.\u001b[0m\u001b[0m_iterating\u001b[0m \u001b[0;34m=\u001b[0m \u001b[0;32mFalse\u001b[0m\u001b[0;34m\u001b[0m\u001b[0;34m\u001b[0m\u001b[0m\n\u001b[0;32m-> 1043\u001b[0;31m             \u001b[0;32mif\u001b[0m \u001b[0mself\u001b[0m\u001b[0;34m.\u001b[0m\u001b[0mdispatch_one_batch\u001b[0m\u001b[0;34m(\u001b[0m\u001b[0miterator\u001b[0m\u001b[0;34m)\u001b[0m\u001b[0;34m:\u001b[0m\u001b[0;34m\u001b[0m\u001b[0;34m\u001b[0m\u001b[0m\n\u001b[0m\u001b[1;32m   1044\u001b[0m                 \u001b[0mself\u001b[0m\u001b[0;34m.\u001b[0m\u001b[0m_iterating\u001b[0m \u001b[0;34m=\u001b[0m \u001b[0mself\u001b[0m\u001b[0;34m.\u001b[0m\u001b[0m_original_iterator\u001b[0m \u001b[0;32mis\u001b[0m \u001b[0;32mnot\u001b[0m \u001b[0;32mNone\u001b[0m\u001b[0;34m\u001b[0m\u001b[0;34m\u001b[0m\u001b[0m\n\u001b[1;32m   1045\u001b[0m \u001b[0;34m\u001b[0m\u001b[0m\n",
            "\u001b[0;32m/usr/local/lib/python3.7/dist-packages/joblib/parallel.py\u001b[0m in \u001b[0;36mdispatch_one_batch\u001b[0;34m(self, iterator)\u001b[0m\n\u001b[1;32m    831\u001b[0m                 \u001b[0mbig_batch_size\u001b[0m \u001b[0;34m=\u001b[0m \u001b[0mbatch_size\u001b[0m \u001b[0;34m*\u001b[0m \u001b[0mn_jobs\u001b[0m\u001b[0;34m\u001b[0m\u001b[0;34m\u001b[0m\u001b[0m\n\u001b[1;32m    832\u001b[0m \u001b[0;34m\u001b[0m\u001b[0m\n\u001b[0;32m--> 833\u001b[0;31m                 \u001b[0mislice\u001b[0m \u001b[0;34m=\u001b[0m \u001b[0mlist\u001b[0m\u001b[0;34m(\u001b[0m\u001b[0mitertools\u001b[0m\u001b[0;34m.\u001b[0m\u001b[0mislice\u001b[0m\u001b[0;34m(\u001b[0m\u001b[0miterator\u001b[0m\u001b[0;34m,\u001b[0m \u001b[0mbig_batch_size\u001b[0m\u001b[0;34m)\u001b[0m\u001b[0;34m)\u001b[0m\u001b[0;34m\u001b[0m\u001b[0;34m\u001b[0m\u001b[0m\n\u001b[0m\u001b[1;32m    834\u001b[0m                 \u001b[0;32mif\u001b[0m \u001b[0mlen\u001b[0m\u001b[0;34m(\u001b[0m\u001b[0mislice\u001b[0m\u001b[0;34m)\u001b[0m \u001b[0;34m==\u001b[0m \u001b[0;36m0\u001b[0m\u001b[0;34m:\u001b[0m\u001b[0;34m\u001b[0m\u001b[0;34m\u001b[0m\u001b[0m\n\u001b[1;32m    835\u001b[0m                     \u001b[0;32mreturn\u001b[0m \u001b[0;32mFalse\u001b[0m\u001b[0;34m\u001b[0m\u001b[0;34m\u001b[0m\u001b[0m\n",
            "\u001b[0;32m/usr/local/lib/python3.7/dist-packages/sklearn/model_selection/_validation.py\u001b[0m in \u001b[0;36m<genexpr>\u001b[0;34m(.0)\u001b[0m\n\u001b[1;32m    266\u001b[0m     \u001b[0mparallel\u001b[0m \u001b[0;34m=\u001b[0m \u001b[0mParallel\u001b[0m\u001b[0;34m(\u001b[0m\u001b[0mn_jobs\u001b[0m\u001b[0;34m=\u001b[0m\u001b[0mn_jobs\u001b[0m\u001b[0;34m,\u001b[0m \u001b[0mverbose\u001b[0m\u001b[0;34m=\u001b[0m\u001b[0mverbose\u001b[0m\u001b[0;34m,\u001b[0m \u001b[0mpre_dispatch\u001b[0m\u001b[0;34m=\u001b[0m\u001b[0mpre_dispatch\u001b[0m\u001b[0;34m)\u001b[0m\u001b[0;34m\u001b[0m\u001b[0;34m\u001b[0m\u001b[0m\n\u001b[1;32m    267\u001b[0m     results = parallel(\n\u001b[0;32m--> 268\u001b[0;31m         delayed(_fit_and_score)(\n\u001b[0m\u001b[1;32m    269\u001b[0m             \u001b[0mclone\u001b[0m\u001b[0;34m(\u001b[0m\u001b[0mestimator\u001b[0m\u001b[0;34m)\u001b[0m\u001b[0;34m,\u001b[0m\u001b[0;34m\u001b[0m\u001b[0;34m\u001b[0m\u001b[0m\n\u001b[1;32m    270\u001b[0m             \u001b[0mX\u001b[0m\u001b[0;34m,\u001b[0m\u001b[0;34m\u001b[0m\u001b[0;34m\u001b[0m\u001b[0m\n",
            "\u001b[0;32m/usr/local/lib/python3.7/dist-packages/sklearn/model_selection/_split.py\u001b[0m in \u001b[0;36msplit\u001b[0;34m(self, X, y, groups)\u001b[0m\n\u001b[1;32m    338\u001b[0m             )\n\u001b[1;32m    339\u001b[0m \u001b[0;34m\u001b[0m\u001b[0m\n\u001b[0;32m--> 340\u001b[0;31m         \u001b[0;32mfor\u001b[0m \u001b[0mtrain\u001b[0m\u001b[0;34m,\u001b[0m \u001b[0mtest\u001b[0m \u001b[0;32min\u001b[0m \u001b[0msuper\u001b[0m\u001b[0;34m(\u001b[0m\u001b[0;34m)\u001b[0m\u001b[0;34m.\u001b[0m\u001b[0msplit\u001b[0m\u001b[0;34m(\u001b[0m\u001b[0mX\u001b[0m\u001b[0;34m,\u001b[0m \u001b[0my\u001b[0m\u001b[0;34m,\u001b[0m \u001b[0mgroups\u001b[0m\u001b[0;34m)\u001b[0m\u001b[0;34m:\u001b[0m\u001b[0;34m\u001b[0m\u001b[0;34m\u001b[0m\u001b[0m\n\u001b[0m\u001b[1;32m    341\u001b[0m             \u001b[0;32myield\u001b[0m \u001b[0mtrain\u001b[0m\u001b[0;34m,\u001b[0m \u001b[0mtest\u001b[0m\u001b[0;34m\u001b[0m\u001b[0;34m\u001b[0m\u001b[0m\n\u001b[1;32m    342\u001b[0m \u001b[0;34m\u001b[0m\u001b[0m\n",
            "\u001b[0;32m/usr/local/lib/python3.7/dist-packages/sklearn/model_selection/_split.py\u001b[0m in \u001b[0;36msplit\u001b[0;34m(self, X, y, groups)\u001b[0m\n\u001b[1;32m     84\u001b[0m         \u001b[0mX\u001b[0m\u001b[0;34m,\u001b[0m \u001b[0my\u001b[0m\u001b[0;34m,\u001b[0m \u001b[0mgroups\u001b[0m \u001b[0;34m=\u001b[0m \u001b[0mindexable\u001b[0m\u001b[0;34m(\u001b[0m\u001b[0mX\u001b[0m\u001b[0;34m,\u001b[0m \u001b[0my\u001b[0m\u001b[0;34m,\u001b[0m \u001b[0mgroups\u001b[0m\u001b[0;34m)\u001b[0m\u001b[0;34m\u001b[0m\u001b[0;34m\u001b[0m\u001b[0m\n\u001b[1;32m     85\u001b[0m         \u001b[0mindices\u001b[0m \u001b[0;34m=\u001b[0m \u001b[0mnp\u001b[0m\u001b[0;34m.\u001b[0m\u001b[0marange\u001b[0m\u001b[0;34m(\u001b[0m\u001b[0m_num_samples\u001b[0m\u001b[0;34m(\u001b[0m\u001b[0mX\u001b[0m\u001b[0;34m)\u001b[0m\u001b[0;34m)\u001b[0m\u001b[0;34m\u001b[0m\u001b[0;34m\u001b[0m\u001b[0m\n\u001b[0;32m---> 86\u001b[0;31m         \u001b[0;32mfor\u001b[0m \u001b[0mtest_index\u001b[0m \u001b[0;32min\u001b[0m \u001b[0mself\u001b[0m\u001b[0;34m.\u001b[0m\u001b[0m_iter_test_masks\u001b[0m\u001b[0;34m(\u001b[0m\u001b[0mX\u001b[0m\u001b[0;34m,\u001b[0m \u001b[0my\u001b[0m\u001b[0;34m,\u001b[0m \u001b[0mgroups\u001b[0m\u001b[0;34m)\u001b[0m\u001b[0;34m:\u001b[0m\u001b[0;34m\u001b[0m\u001b[0;34m\u001b[0m\u001b[0m\n\u001b[0m\u001b[1;32m     87\u001b[0m             \u001b[0mtrain_index\u001b[0m \u001b[0;34m=\u001b[0m \u001b[0mindices\u001b[0m\u001b[0;34m[\u001b[0m\u001b[0mnp\u001b[0m\u001b[0;34m.\u001b[0m\u001b[0mlogical_not\u001b[0m\u001b[0;34m(\u001b[0m\u001b[0mtest_index\u001b[0m\u001b[0;34m)\u001b[0m\u001b[0;34m]\u001b[0m\u001b[0;34m\u001b[0m\u001b[0;34m\u001b[0m\u001b[0m\n\u001b[1;32m     88\u001b[0m             \u001b[0mtest_index\u001b[0m \u001b[0;34m=\u001b[0m \u001b[0mindices\u001b[0m\u001b[0;34m[\u001b[0m\u001b[0mtest_index\u001b[0m\u001b[0;34m]\u001b[0m\u001b[0;34m\u001b[0m\u001b[0;34m\u001b[0m\u001b[0m\n",
            "\u001b[0;32m/usr/local/lib/python3.7/dist-packages/sklearn/model_selection/_split.py\u001b[0m in \u001b[0;36m_iter_test_masks\u001b[0;34m(self, X, y, groups)\u001b[0m\n\u001b[1;32m    707\u001b[0m \u001b[0;34m\u001b[0m\u001b[0m\n\u001b[1;32m    708\u001b[0m     \u001b[0;32mdef\u001b[0m \u001b[0m_iter_test_masks\u001b[0m\u001b[0;34m(\u001b[0m\u001b[0mself\u001b[0m\u001b[0;34m,\u001b[0m \u001b[0mX\u001b[0m\u001b[0;34m,\u001b[0m \u001b[0my\u001b[0m\u001b[0;34m=\u001b[0m\u001b[0;32mNone\u001b[0m\u001b[0;34m,\u001b[0m \u001b[0mgroups\u001b[0m\u001b[0;34m=\u001b[0m\u001b[0;32mNone\u001b[0m\u001b[0;34m)\u001b[0m\u001b[0;34m:\u001b[0m\u001b[0;34m\u001b[0m\u001b[0;34m\u001b[0m\u001b[0m\n\u001b[0;32m--> 709\u001b[0;31m         \u001b[0mtest_folds\u001b[0m \u001b[0;34m=\u001b[0m \u001b[0mself\u001b[0m\u001b[0;34m.\u001b[0m\u001b[0m_make_test_folds\u001b[0m\u001b[0;34m(\u001b[0m\u001b[0mX\u001b[0m\u001b[0;34m,\u001b[0m \u001b[0my\u001b[0m\u001b[0;34m)\u001b[0m\u001b[0;34m\u001b[0m\u001b[0;34m\u001b[0m\u001b[0m\n\u001b[0m\u001b[1;32m    710\u001b[0m         \u001b[0;32mfor\u001b[0m \u001b[0mi\u001b[0m \u001b[0;32min\u001b[0m \u001b[0mrange\u001b[0m\u001b[0;34m(\u001b[0m\u001b[0mself\u001b[0m\u001b[0;34m.\u001b[0m\u001b[0mn_splits\u001b[0m\u001b[0;34m)\u001b[0m\u001b[0;34m:\u001b[0m\u001b[0;34m\u001b[0m\u001b[0;34m\u001b[0m\u001b[0m\n\u001b[1;32m    711\u001b[0m             \u001b[0;32myield\u001b[0m \u001b[0mtest_folds\u001b[0m \u001b[0;34m==\u001b[0m \u001b[0mi\u001b[0m\u001b[0;34m\u001b[0m\u001b[0;34m\u001b[0m\u001b[0m\n",
            "\u001b[0;32m/usr/local/lib/python3.7/dist-packages/sklearn/model_selection/_split.py\u001b[0m in \u001b[0;36m_make_test_folds\u001b[0;34m(self, X, y)\u001b[0m\n\u001b[1;32m    671\u001b[0m             raise ValueError(\n\u001b[1;32m    672\u001b[0m                 \u001b[0;34m\"n_splits=%d cannot be greater than the\"\u001b[0m\u001b[0;34m\u001b[0m\u001b[0;34m\u001b[0m\u001b[0m\n\u001b[0;32m--> 673\u001b[0;31m                 \u001b[0;34m\" number of members in each class.\"\u001b[0m \u001b[0;34m%\u001b[0m \u001b[0;34m(\u001b[0m\u001b[0mself\u001b[0m\u001b[0;34m.\u001b[0m\u001b[0mn_splits\u001b[0m\u001b[0;34m)\u001b[0m\u001b[0;34m\u001b[0m\u001b[0;34m\u001b[0m\u001b[0m\n\u001b[0m\u001b[1;32m    674\u001b[0m             )\n\u001b[1;32m    675\u001b[0m         \u001b[0;32mif\u001b[0m \u001b[0mself\u001b[0m\u001b[0;34m.\u001b[0m\u001b[0mn_splits\u001b[0m \u001b[0;34m>\u001b[0m \u001b[0mmin_groups\u001b[0m\u001b[0;34m:\u001b[0m\u001b[0;34m\u001b[0m\u001b[0;34m\u001b[0m\u001b[0m\n",
            "\u001b[0;31mValueError\u001b[0m: n_splits=5 cannot be greater than the number of members in each class."
          ]
        }
      ]
    },
    {
      "cell_type": "code",
      "source": [],
      "metadata": {
        "id": "OQd2OlPLHyte"
      },
      "execution_count": null,
      "outputs": []
    }
  ]
}