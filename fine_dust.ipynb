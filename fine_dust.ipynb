{
  "cells": [
    {
      "cell_type": "markdown",
      "metadata": {
        "id": "view-in-github",
        "colab_type": "text"
      },
      "source": [
        "<a href=\"https://colab.research.google.com/github/HJoon-K/Find_Dust/blob/main/fine_dust.ipynb\" target=\"_parent\"><img src=\"https://colab.research.google.com/assets/colab-badge.svg\" alt=\"Open In Colab\"/></a>"
      ]
    },
    {
      "cell_type": "code",
      "execution_count": 1,
      "outputs": [
        {
          "output_type": "stream",
          "name": "stdout",
          "text": [
            "Mounted at /content/drive\n"
          ]
        }
      ],
      "source": [
        "from google.colab import drive\n",
        "drive.mount('/content/drive')"
      ],
      "metadata": {
        "pycharm": {
          "name": "#%%\n"
        },
        "colab": {
          "base_uri": "https://localhost:8080/"
        },
        "id": "DTDiaISixEoD",
        "outputId": "f1e883b9-5d23-4e8a-87e9-ce0888ed51ec"
      }
    },
    {
      "cell_type": "code",
      "execution_count": 2,
      "outputs": [
        {
          "output_type": "stream",
          "name": "stdout",
          "text": [
            "Reading package lists... Done\n",
            "Building dependency tree       \n",
            "Reading state information... Done\n",
            "The following package was automatically installed and is no longer required:\n",
            "  libnvidia-common-460\n",
            "Use 'sudo apt autoremove' to remove it.\n",
            "The following NEW packages will be installed:\n",
            "  fonts-nanum\n",
            "0 upgraded, 1 newly installed, 0 to remove and 20 not upgraded.\n",
            "Need to get 9,604 kB of archives.\n",
            "After this operation, 29.5 MB of additional disk space will be used.\n",
            "Get:1 http://archive.ubuntu.com/ubuntu bionic/universe amd64 fonts-nanum all 20170925-1 [9,604 kB]\n",
            "Fetched 9,604 kB in 1s (10.1 MB/s)\n",
            "debconf: unable to initialize frontend: Dialog\n",
            "debconf: (No usable dialog-like program is installed, so the dialog based frontend cannot be used. at /usr/share/perl5/Debconf/FrontEnd/Dialog.pm line 76, <> line 1.)\n",
            "debconf: falling back to frontend: Readline\n",
            "debconf: unable to initialize frontend: Readline\n",
            "debconf: (This frontend requires a controlling tty.)\n",
            "debconf: falling back to frontend: Teletype\n",
            "dpkg-preconfigure: unable to re-open stdin: \n",
            "Selecting previously unselected package fonts-nanum.\n",
            "(Reading database ... 155569 files and directories currently installed.)\n",
            "Preparing to unpack .../fonts-nanum_20170925-1_all.deb ...\n",
            "Unpacking fonts-nanum (20170925-1) ...\n",
            "Setting up fonts-nanum (20170925-1) ...\n",
            "Processing triggers for fontconfig (2.12.6-0ubuntu2) ...\n",
            "/usr/share/fonts: caching, new cache contents: 0 fonts, 1 dirs\n",
            "/usr/share/fonts/truetype: caching, new cache contents: 0 fonts, 3 dirs\n",
            "/usr/share/fonts/truetype/humor-sans: caching, new cache contents: 1 fonts, 0 dirs\n",
            "/usr/share/fonts/truetype/liberation: caching, new cache contents: 16 fonts, 0 dirs\n",
            "/usr/share/fonts/truetype/nanum: caching, new cache contents: 10 fonts, 0 dirs\n",
            "/usr/local/share/fonts: caching, new cache contents: 0 fonts, 0 dirs\n",
            "/root/.local/share/fonts: skipping, no such directory\n",
            "/root/.fonts: skipping, no such directory\n",
            "/var/cache/fontconfig: cleaning cache directory\n",
            "/root/.cache/fontconfig: not cleaning non-existent cache directory\n",
            "/root/.fontconfig: not cleaning non-existent cache directory\n",
            "fc-cache: succeeded\n"
          ]
        }
      ],
      "source": [
        "!sudo apt-get install -y fonts-nanum\n",
        "!sudo fc-cache -fv\n",
        "!rm ~/.cache/matplotlib -rf"
      ],
      "metadata": {
        "pycharm": {
          "name": "#%%\n"
        },
        "colab": {
          "base_uri": "https://localhost:8080/"
        },
        "id": "xZ9Uh_YfxEoI",
        "outputId": "21eb78de-04b7-4d41-b206-5d4c89a4ffc2"
      }
    },
    {
      "cell_type": "code",
      "execution_count": 1,
      "outputs": [
        {
          "output_type": "stream",
          "name": "stdout",
          "text": [
            "Looking in indexes: https://pypi.org/simple, https://us-python.pkg.dev/colab-wheels/public/simple/\n",
            "Requirement already satisfied: pandas in /usr/local/lib/python3.7/dist-packages (1.3.5)\n",
            "Collecting yfinance\n",
            "  Downloading yfinance-0.1.74-py2.py3-none-any.whl (27 kB)\n",
            "Requirement already satisfied: plotly in /usr/local/lib/python3.7/dist-packages (5.5.0)\n",
            "Requirement already satisfied: numpy>=1.17.3 in /usr/local/lib/python3.7/dist-packages (from pandas) (1.21.6)\n",
            "Requirement already satisfied: pytz>=2017.3 in /usr/local/lib/python3.7/dist-packages (from pandas) (2022.2.1)\n",
            "Requirement already satisfied: python-dateutil>=2.7.3 in /usr/local/lib/python3.7/dist-packages (from pandas) (2.8.2)\n",
            "Requirement already satisfied: six>=1.5 in /usr/local/lib/python3.7/dist-packages (from python-dateutil>=2.7.3->pandas) (1.15.0)\n",
            "Requirement already satisfied: lxml>=4.5.1 in /usr/local/lib/python3.7/dist-packages (from yfinance) (4.9.1)\n",
            "Requirement already satisfied: multitasking>=0.0.7 in /usr/local/lib/python3.7/dist-packages (from yfinance) (0.0.11)\n",
            "Collecting requests>=2.26\n",
            "  Downloading requests-2.28.1-py3-none-any.whl (62 kB)\n",
            "\u001b[K     |████████████████████████████████| 62 kB 1.3 MB/s \n",
            "\u001b[?25hRequirement already satisfied: urllib3<1.27,>=1.21.1 in /usr/local/lib/python3.7/dist-packages (from requests>=2.26->yfinance) (1.24.3)\n",
            "Requirement already satisfied: charset-normalizer<3,>=2 in /usr/local/lib/python3.7/dist-packages (from requests>=2.26->yfinance) (2.1.1)\n",
            "Requirement already satisfied: certifi>=2017.4.17 in /usr/local/lib/python3.7/dist-packages (from requests>=2.26->yfinance) (2022.6.15)\n",
            "Requirement already satisfied: idna<4,>=2.5 in /usr/local/lib/python3.7/dist-packages (from requests>=2.26->yfinance) (2.10)\n",
            "Requirement already satisfied: tenacity>=6.2.0 in /usr/local/lib/python3.7/dist-packages (from plotly) (8.0.1)\n",
            "Installing collected packages: requests, yfinance\n",
            "  Attempting uninstall: requests\n",
            "    Found existing installation: requests 2.23.0\n",
            "    Uninstalling requests-2.23.0:\n",
            "      Successfully uninstalled requests-2.23.0\n",
            "Successfully installed requests-2.28.1 yfinance-0.1.74\n"
          ]
        }
      ],
      "source": [
        "pip install pandas yfinance plotly"
      ],
      "metadata": {
        "pycharm": {
          "name": "#%%\n",
          "is_executing": true
        },
        "colab": {
          "base_uri": "https://localhost:8080/"
        },
        "id": "HgaXcL14xEoI",
        "outputId": "224acb2f-9d1c-41e3-e789-db96b664eedd"
      }
    },
    {
      "cell_type": "code",
      "execution_count": 2,
      "outputs": [],
      "source": [
        "import json\n",
        "\n",
        "import matplotlib\n",
        "import numpy as np\n",
        "import pandas as pd\n",
        "import seaborn as sns\n",
        "import matplotlib.pyplot as plt\n",
        "import folium"
      ],
      "metadata": {
        "pycharm": {
          "name": "#%%\n"
        },
        "id": "QcNApY-uxEoJ"
      }
    },
    {
      "cell_type": "code",
      "execution_count": 3,
      "outputs": [],
      "source": [
        "# 경고 메세지 감춤\n",
        "import warnings\n",
        "warnings.filterwarnings('ignore')"
      ],
      "metadata": {
        "pycharm": {
          "name": "#%%\n"
        },
        "id": "gDQieTVMxEoJ"
      }
    },
    {
      "cell_type": "code",
      "execution_count": 4,
      "outputs": [],
      "source": [
        "plt.rcParams['font.family'] = 'NanumGothic'"
      ],
      "metadata": {
        "pycharm": {
          "name": "#%%\n"
        },
        "id": "8itU3WW_xEoK"
      }
    },
    {
      "cell_type": "markdown",
      "source": [
        "## 데이터 전처리"
      ],
      "metadata": {
        "collapsed": false,
        "pycharm": {
          "name": "#%% md\n"
        },
        "id": "nlRTDXwRxEoL"
      }
    },
    {
      "cell_type": "code",
      "execution_count": null,
      "outputs": [],
      "source": [
        "# 데이터 합치기\n",
        "files = ['dust2020.csv','dust2019.csv','dust2018.csv','dust2017.csv','dust2016.csv']\n",
        "dust = pd.DataFrame()\n",
        "for idx, file in enumerate(files):\n",
        "    dust1 = pd.read_csv(f'/content/drive/MyDrive/Colab Notebooks/data/{file}')\n",
        "    if idx == 0:\n",
        "        dust = dust.append(dust1)\n",
        "    else:\n",
        "        dust = dust.append(dust1, ignore_index=True)\n",
        "\n",
        "dust.tail()"
      ],
      "metadata": {
        "pycharm": {
          "name": "#%%\n",
          "is_executing": true
        },
        "id": "qx482LdcxEoM"
      }
    },
    {
      "cell_type": "code",
      "execution_count": 6,
      "outputs": [],
      "source": [
        "dust.to_csv('/content/drive/MyDrive/Colab Notebooks/data/dust.csv',index=False)"
      ],
      "metadata": {
        "pycharm": {
          "name": "#%%\n"
        },
        "id": "cwncMlnFxEoN"
      }
    },
    {
      "cell_type": "code",
      "execution_count": 7,
      "outputs": [],
      "source": [
        "dust2 = pd.read_csv('/content/drive/MyDrive/Colab Notebooks/data/dust.csv')"
      ],
      "metadata": {
        "pycharm": {
          "name": "#%%\n"
        },
        "id": "Qwm1X95KxEoO"
      }
    },
    {
      "cell_type": "markdown",
      "source": [
        "### 구별 데이터 처리"
      ],
      "metadata": {
        "collapsed": false,
        "pycharm": {
          "name": "#%% md\n"
        },
        "id": "shRicrE6xEoP"
      }
    },
    {
      "cell_type": "code",
      "execution_count": 8,
      "outputs": [],
      "source": [
        "# 구별 미세먼지 : 나쁨 이상 횟수\n",
        "dust3 = dust2[dust2['PM10'] > 80]\n",
        "dust_gu = pd.DataFrame(dust3['gu'].value_counts())\n",
        "dust_gu = dust_gu.reset_index()\n",
        "dust_gu.rename(columns=({'index':'자치구', 'gu':'미세먼지나쁨일수'}), inplace=True)\n",
        "dust_gu.to_csv('/content/drive/MyDrive/Colab Notebooks/data/dust_gu_pm10.csv')"
      ],
      "metadata": {
        "pycharm": {
          "name": "#%%\n"
        },
        "id": "qUrt7IycxEoP"
      }
    },
    {
      "cell_type": "code",
      "execution_count": 9,
      "outputs": [],
      "source": [
        "# 구별 초미세먼지 : 나쁨 이상 횟수\n",
        "dust4 = dust2[dust2['PM25'] > 35]\n",
        "dust_gu = pd.DataFrame(dust4['gu'].value_counts())\n",
        "dust_gu = dust_gu.reset_index()\n",
        "dust_gu.rename(columns=({'index':'자치구', 'gu':'미세먼지나쁨일수'}), inplace=True)\n",
        "dust_gu.to_csv('/content/drive/MyDrive/Colab Notebooks/data/dust_gu_pm25.csv')"
      ],
      "metadata": {
        "pycharm": {
          "name": "#%%\n"
        },
        "id": "FqBul7QkxEoP"
      }
    },
    {
      "cell_type": "code",
      "execution_count": 10,
      "outputs": [],
      "source": [
        "# 구별 미세먼지 or 초미세먼지 : 나쁨 이상 횟수\n",
        "dust5 = dust2[(dust2['PM10'] > 80) | (dust2['PM25'] > 35)]\n",
        "dust_gu = pd.DataFrame(dust5['gu'].value_counts())\n",
        "dust_gu = dust_gu.reset_index()\n",
        "dust_gu.rename(columns=({'index':'자치구', 'gu':'미세먼지나쁨일수'}), inplace=True)\n",
        "dust_gu.to_csv('/content/drive/MyDrive/Colab Notebooks/data/dust_gu_pm10_pm25.csv')"
      ],
      "metadata": {
        "pycharm": {
          "name": "#%%\n"
        },
        "id": "E28e30EuxEoQ"
      }
    },
    {
      "cell_type": "code",
      "execution_count": null,
      "outputs": [],
      "source": [
        "dust_gu"
      ],
      "metadata": {
        "pycharm": {
          "name": "#%%\n",
          "is_executing": true
        },
        "id": "CfYCpQgZxEoQ"
      }
    },
    {
      "cell_type": "markdown",
      "source": [
        "### 구별/월별 데이터 처리"
      ],
      "metadata": {
        "collapsed": false,
        "pycharm": {
          "name": "#%% md\n"
        },
        "id": "Ez3OddcsxEoR"
      }
    },
    {
      "cell_type": "code",
      "execution_count": null,
      "outputs": [],
      "source": [
        "# 구별 월별 미세먼지  : 나쁨 횟수\n",
        "dust3['월'] = pd.to_datetime(dust3['date'].astype(str), format='%Y%m%d').dt.month\n",
        "dust3_gp = dust3.groupby(['gu','월'])['date'].count()\n",
        "dust3_gp = dust3_gp.reset_index()\n",
        "dust3_gp.rename(columns={'gu':'자치구','date':'미세먼지나쁨일수'}, inplace=True)\n",
        "dust3_gp.to_csv('/content/drive/MyDrive/Colab Notebooks/data/dust_gu_m_pm10.csv')\n",
        "dust3_gp"
      ],
      "metadata": {
        "pycharm": {
          "name": "#%%\n",
          "is_executing": true
        },
        "id": "ShAcY3e7xEoR"
      }
    },
    {
      "cell_type": "code",
      "execution_count": null,
      "outputs": [],
      "source": [
        "# 구별 월별 초미세먼지 : 나쁨 횟수\n",
        "dust4['월'] = pd.to_datetime(dust4['date'].astype(str), format='%Y%m%d').dt.month\n",
        "dust4_gp = dust4.groupby(['gu','월'])['date'].count()\n",
        "dust4_gp = dust4_gp.reset_index()\n",
        "dust4_gp.rename(columns={'date':'미세먼지나쁨일수'}, inplace=True)\n",
        "dust4_gp.to_csv('/content/drive/MyDrive/Colab Notebooks/data/dust_gu_m_pm25.csv')\n",
        "dust4_gp"
      ],
      "metadata": {
        "pycharm": {
          "name": "#%%\n",
          "is_executing": true
        },
        "id": "NAFsHP1RxEoR"
      }
    },
    {
      "cell_type": "code",
      "execution_count": null,
      "outputs": [],
      "source": [
        "# 구별/월별 미세먼지 or 초미세먼지 : 나쁨 이상 횟수\n",
        "dust5['월'] = pd.to_datetime(dust5['date'].astype(str), format='%Y%m%d').dt.month\n",
        "dust5_gp = dust5.groupby(['gu','월'])['date'].count()\n",
        "dust5_gp = dust5_gp.reset_index()\n",
        "dust5_gp.rename(columns={'date':'미세먼지나쁨일수'}, inplace=True)\n",
        "dust5_gp.to_csv('/content/drive/MyDrive/Colab Notebooks/data/dust_gu_m_pm10_pm25.csv')\n",
        "dust5_gp"
      ],
      "metadata": {
        "pycharm": {
          "name": "#%%\n",
          "is_executing": true
        },
        "id": "iwpV_fY6xEoR"
      }
    },
    {
      "cell_type": "markdown",
      "source": [
        "## 데이터 분석"
      ],
      "metadata": {
        "collapsed": false,
        "pycharm": {
          "name": "#%% md\n"
        },
        "id": "bZ1DwEHzxEoS"
      }
    },
    {
      "cell_type": "markdown",
      "source": [
        "### 상관 관계 분석"
      ],
      "metadata": {
        "collapsed": false,
        "pycharm": {
          "name": "#%% md\n"
        },
        "id": "Xs4VKUi1xEoS"
      }
    },
    {
      "cell_type": "code",
      "execution_count": null,
      "outputs": [],
      "source": [
        "dust = pd.read_csv('/content/drive/MyDrive/Colab Notebooks/data/seoul_dust1620.csv')\n",
        "dust.rename(columns={'gu': '자치구', 'count':'미세먼지나쁨일수'},inplace=True)\n",
        "dust"
      ],
      "metadata": {
        "pycharm": {
          "name": "#%%\n",
          "is_executing": true
        },
        "id": "D88dkXdbxEoT"
      }
    },
    {
      "cell_type": "code",
      "execution_count": null,
      "outputs": [],
      "source": [
        "plt.scatter(dust['공원율'], dust['미세먼지나쁨일수'])\n",
        "plt.xticks(rotation=90)\n",
        "plt.show()"
      ],
      "metadata": {
        "pycharm": {
          "name": "#%%\n",
          "is_executing": true
        },
        "id": "N_23CoN3xEoT"
      }
    },
    {
      "cell_type": "code",
      "execution_count": null,
      "outputs": [],
      "source": [
        "dust.drop('연도', inplace=True, axis=1)\n",
        "dust.head()"
      ],
      "metadata": {
        "pycharm": {
          "name": "#%%\n",
          "is_executing": true
        },
        "id": "6uzgsFEHxEoT"
      }
    },
    {
      "cell_type": "code",
      "execution_count": null,
      "outputs": [],
      "source": [
        "_, axs = plt.subplots(2, 2, figsize=(18,8))\n",
        "for i, feature in enumerate(dust.columns[2:]):\n",
        "    row, col = i //2, i % 2\n",
        "    sns.regplot(x=feature, y='미세먼지나쁨일수', data=dust, ci=None, ax=axs[row][col])"
      ],
      "metadata": {
        "pycharm": {
          "name": "#%%\n",
          "is_executing": true
        },
        "id": "6EU21Ty5xEoT"
      }
    },
    {
      "cell_type": "markdown",
      "source": [
        "### 2019년 미세먼지 상관 관계"
      ],
      "metadata": {
        "collapsed": false,
        "pycharm": {
          "name": "#%% md\n"
        },
        "id": "gF-eeeBtxEoU"
      }
    },
    {
      "cell_type": "code",
      "execution_count": null,
      "outputs": [],
      "source": [
        "dust19 = pd.read_csv('/content/drive/MyDrive/Colab Notebooks/data/seoul_dust2019.csv')\n",
        "dust19.rename(columns={'gu': '자치구', 'date':'미세먼지나쁨일수'},inplace=True)\n",
        "dust19"
      ],
      "metadata": {
        "pycharm": {
          "name": "#%%\n",
          "is_executing": true
        },
        "id": "ZpoLBuslxEoU"
      }
    },
    {
      "cell_type": "code",
      "execution_count": null,
      "outputs": [],
      "source": [
        "_, axs = plt.subplots(2, 2, figsize=(18,8))\n",
        "for i, feature in enumerate(dust19.columns[2:]):\n",
        "    row, col = i //2, i % 2\n",
        "    sns.regplot(x=feature, y='미세먼지나쁨일수', data=dust19, ci=None, ax=axs[row][col])"
      ],
      "metadata": {
        "pycharm": {
          "name": "#%%\n",
          "is_executing": true
        },
        "id": "agC5HPkVxEoU"
      }
    },
    {
      "cell_type": "markdown",
      "source": [
        "### LinearRegression"
      ],
      "metadata": {
        "collapsed": false,
        "pycharm": {
          "name": "#%% md\n"
        },
        "id": "i5oFRDQ3xEoX"
      }
    },
    {
      "cell_type": "code",
      "execution_count": null,
      "outputs": [],
      "source": [
        "df = pd.read_csv('/content/drive/MyDrive/Colab Notebooks/data/seoul_dust1620.csv')\n",
        "df.drop('연도', axis=1, inplace=True)\n",
        "df.head()"
      ],
      "metadata": {
        "pycharm": {
          "name": "#%%\n",
          "is_executing": true
        },
        "id": "3OqsxSLNxEoX"
      }
    },
    {
      "cell_type": "code",
      "execution_count": 23,
      "outputs": [],
      "source": [
        "from sklearn.linear_model import LinearRegression\n",
        "from sklearn.metrics import r2_score\n",
        "lr = LinearRegression()"
      ],
      "metadata": {
        "pycharm": {
          "name": "#%%\n"
        },
        "id": "IFH8-YX2xEoX"
      }
    },
    {
      "cell_type": "code",
      "execution_count": null,
      "outputs": [],
      "source": [
        "for feature in df.columns[2: ]:\n",
        "    X = df[feature].values.reshape((-1,1))\n",
        "    lr.fit(X, df['미세먼지나쁨일수'])\n",
        "    score = lr.score(X,df['미세먼지나쁨일수'])\n",
        "    print(f'{feature} : {score:.4f} \\t{lr.coef_} \\t{lr.intercept_}')"
      ],
      "metadata": {
        "pycharm": {
          "name": "#%%\n",
          "is_executing": true
        },
        "id": "5jkRU9jtxEoX"
      }
    },
    {
      "cell_type": "markdown",
      "source": [
        "### MinMaxScaler"
      ],
      "metadata": {
        "collapsed": false,
        "pycharm": {
          "name": "#%% md\n"
        },
        "id": "IAF2caG9xEoX"
      }
    },
    {
      "cell_type": "code",
      "execution_count": null,
      "outputs": [],
      "source": [
        "df19 = pd.read_csv('/content/drive/MyDrive/Colab Notebooks/data/seoul_dust2019.csv')\n",
        "df19.head()"
      ],
      "metadata": {
        "pycharm": {
          "name": "#%%\n",
          "is_executing": true
        },
        "id": "YsKBdNjLxEoY"
      }
    },
    {
      "cell_type": "code",
      "execution_count": null,
      "outputs": [],
      "source": [
        "df19_a = np.array(df19.iloc[:,2:])\n",
        "df19_a"
      ],
      "metadata": {
        "pycharm": {
          "name": "#%%\n",
          "is_executing": true
        },
        "id": "on38Hg8pxEoY"
      }
    },
    {
      "cell_type": "code",
      "execution_count": null,
      "outputs": [],
      "source": [
        "from sklearn.preprocessing import MinMaxScaler\n",
        "dust19_a = np.array(df19.iloc[:,2:])\n",
        "a19_mm = MinMaxScaler().fit_transform(df19_a)\n",
        "df19_mm = pd.DataFrame(a19_mm, columns=df19.columns[2:])\n",
        "df19_mm.describe()"
      ],
      "metadata": {
        "pycharm": {
          "name": "#%%\n",
          "is_executing": true
        },
        "id": "4P_BaZZsxEoY"
      }
    },
    {
      "cell_type": "code",
      "execution_count": null,
      "outputs": [],
      "source": [
        "for feature in df19_mm.columns:\n",
        "    X = df19_mm[feature].values.reshape((-1,1))\n",
        "    lr.fit(X, df19['미세먼지나쁨일수'])\n",
        "    score = lr.score(X,df19['미세먼지나쁨일수'])\n",
        "    print(f'{feature} : {score:.4f} \\t{lr.coef_} \\t{lr.intercept_}')"
      ],
      "metadata": {
        "pycharm": {
          "name": "#%%\n",
          "is_executing": true
        },
        "id": "hHGzLBCRxEoY"
      }
    },
    {
      "cell_type": "code",
      "execution_count": null,
      "outputs": [],
      "source": [
        "df = pd.read_csv('/content/drive/MyDrive/Colab Notebooks/data/seoul_dust1619.csv')\n",
        "df.head()"
      ],
      "metadata": {
        "pycharm": {
          "name": "#%%\n",
          "is_executing": true
        },
        "id": "I8BN4SOjxEoY"
      }
    },
    {
      "cell_type": "code",
      "execution_count": null,
      "outputs": [],
      "source": [
        "for feature in df.columns[2: ]:\n",
        "    X = df[feature].values.reshape((-1,1))\n",
        "    lr.fit(X, df['미세먼지나쁨일수'])\n",
        "    score = lr.score(X,df['미세먼지나쁨일수'])\n",
        "    print(f'{feature} : {score:.4f} \\t{lr.coef_} \\t{lr.intercept_}')"
      ],
      "metadata": {
        "pycharm": {
          "name": "#%%\n",
          "is_executing": true
        },
        "id": "k9OkD4NQxEoZ"
      }
    },
    {
      "cell_type": "markdown",
      "source": [
        "### KMeans, silhouette_score"
      ],
      "metadata": {
        "collapsed": false,
        "pycharm": {
          "name": "#%% md\n"
        },
        "id": "ZtltUStPxEoZ"
      }
    },
    {
      "cell_type": "code",
      "execution_count": 31,
      "outputs": [],
      "source": [
        "from sklearn.preprocessing import StandardScaler, MinMaxScaler, LabelEncoder\n",
        "from sklearn.model_selection import train_test_split, cross_val_score\n",
        "from sklearn.neighbors import KNeighborsClassifier\n",
        "from sklearn.cluster import KMeans\n",
        "from sklearn.metrics import silhouette_score"
      ],
      "metadata": {
        "pycharm": {
          "name": "#%%\n"
        },
        "id": "3JLI3IhWxEoZ"
      }
    },
    {
      "cell_type": "code",
      "execution_count": 32,
      "outputs": [],
      "source": [
        "data = df19_mm.loc[:,['도로율','공원율']]\n",
        "target = df19.loc[:,['자치구']]"
      ],
      "metadata": {
        "pycharm": {
          "name": "#%%\n"
        },
        "id": "9NfK7w7ExEoZ"
      }
    },
    {
      "cell_type": "code",
      "execution_count": null,
      "outputs": [],
      "source": [
        "data.info()"
      ],
      "metadata": {
        "pycharm": {
          "name": "#%%\n",
          "is_executing": true
        },
        "id": "LcHncmHwxEoZ"
      }
    },
    {
      "cell_type": "code",
      "execution_count": 34,
      "outputs": [],
      "source": [
        "sils = []\n",
        "ints = []\n",
        "\n",
        "for i in range(2, 10+1):\n",
        "    kms = KMeans(n_clusters=i)\n",
        "    kms.fit(data)\n",
        "    ss = silhouette_score(data, kms.labels_, metric='euclidean')\n",
        "    el = kms.inertia_\n",
        "\n",
        "    sils.append(ss)\n",
        "    ints.append(el)"
      ],
      "metadata": {
        "pycharm": {
          "name": "#%%\n"
        },
        "id": "D-H7r5VoxEoZ"
      }
    },
    {
      "cell_type": "code",
      "execution_count": null,
      "outputs": [],
      "source": [
        "# 실루엣 계수 시각화\n",
        "plt.plot(range(2, 10+1), sils, 'ro--')\n",
        "plt.show()"
      ],
      "metadata": {
        "pycharm": {
          "name": "#%%\n",
          "is_executing": true
        },
        "id": "NpI70XSjxEoZ"
      }
    },
    {
      "cell_type": "code",
      "execution_count": null,
      "outputs": [],
      "source": [
        "# 엘보우 계수 시각화\n",
        "plt.plot(range(2, 10+1), ints, 'bo--')\n",
        "plt.show()"
      ],
      "metadata": {
        "pycharm": {
          "name": "#%%\n",
          "is_executing": true
        },
        "id": "hhAUy9rIxEoa"
      }
    },
    {
      "cell_type": "code",
      "execution_count": null,
      "outputs": [],
      "source": [
        "kms = KMeans(n_clusters=5, random_state=2209081630)\n",
        "kms.fit(data)"
      ],
      "metadata": {
        "pycharm": {
          "name": "#%%\n",
          "is_executing": true
        },
        "id": "y1HfPlY9xEoa"
      }
    },
    {
      "cell_type": "code",
      "execution_count": null,
      "outputs": [],
      "source": [
        "kms.labels_"
      ],
      "metadata": {
        "pycharm": {
          "name": "#%%\n",
          "is_executing": true
        },
        "id": "lZIWHrvExEoa"
      }
    },
    {
      "cell_type": "code",
      "execution_count": null,
      "outputs": [],
      "source": [
        "silhouette_score(data, kms.labels_, metric='euclidean')"
      ],
      "metadata": {
        "pycharm": {
          "name": "#%%\n",
          "is_executing": true
        },
        "id": "pudoopAexEoa"
      }
    },
    {
      "cell_type": "code",
      "execution_count": null,
      "outputs": [],
      "source": [
        "kms.inertia_"
      ],
      "metadata": {
        "pycharm": {
          "name": "#%%\n",
          "is_executing": true
        },
        "id": "UJOrYNJIxEoa"
      }
    },
    {
      "cell_type": "code",
      "execution_count": null,
      "outputs": [],
      "source": [
        "centers = pd.DataFrame(kms.cluster_centers_, columns=['rd','pk'])\n",
        "x, y = centers.rd, centers.pk\n",
        "\n",
        "plt.scatter(np.array(data.iloc[:,0]), np.array(data.iloc[:,1]), c=kms.labels_)\n",
        "plt.scatter(x, y, s=75,  marker='X', c='r') # 중심점 표시\n",
        "plt.show()"
      ],
      "metadata": {
        "pycharm": {
          "name": "#%%\n",
          "is_executing": true
        },
        "id": "FsHfwWX1xEoa"
      }
    },
    {
      "cell_type": "code",
      "execution_count": null,
      "outputs": [],
      "source": [
        "import plotly.express as px\n",
        "df19 = df19.sort_values('미세먼지나쁨일수', ascending=False)\n",
        "\n",
        "fig = px.scatter(df19, x=\"도로율\", y=\"공원율\", color=\"자치구\",\n",
        "                 size='미세먼지나쁨일수', height=700, width=800)\n",
        "\n",
        "fig.show()"
      ],
      "metadata": {
        "pycharm": {
          "name": "#%%\n",
          "is_executing": true
        },
        "id": "abdJmNsLxEoa"
      }
    },
    {
      "cell_type": "code",
      "execution_count": 43,
      "outputs": [],
      "source": [
        "data = df19.loc[:,['공원율']]\n",
        "target = df19.loc[:,['자치구']]"
      ],
      "metadata": {
        "pycharm": {
          "name": "#%%\n"
        },
        "id": "fVJV8DQ7xEob"
      }
    },
    {
      "cell_type": "code",
      "execution_count": 44,
      "outputs": [],
      "source": [
        "sils = []\n",
        "ints = []\n",
        "\n",
        "for i in range(2, 10+1):\n",
        "    kms = KMeans(n_clusters=i)\n",
        "    kms.fit(data)\n",
        "    ss = silhouette_score(data, kms.labels_, metric='euclidean')\n",
        "    el = kms.inertia_\n",
        "\n",
        "    sils.append(ss)\n",
        "    ints.append(el)"
      ],
      "metadata": {
        "pycharm": {
          "name": "#%%\n"
        },
        "id": "y93DRey5xEob"
      }
    },
    {
      "cell_type": "code",
      "execution_count": null,
      "outputs": [],
      "source": [
        "# 실루엣 계수 시각화\n",
        "plt.plot(range(2, 10+1), sils, 'ro--')\n",
        "plt.show()"
      ],
      "metadata": {
        "pycharm": {
          "name": "#%%\n",
          "is_executing": true
        },
        "id": "Mihr9AWpxEob"
      }
    },
    {
      "cell_type": "code",
      "execution_count": null,
      "outputs": [],
      "source": [
        "# 엘보우 계수 시각화\n",
        "plt.plot(range(2, 10+1), ints, 'bo--')\n",
        "plt.show()"
      ],
      "metadata": {
        "pycharm": {
          "name": "#%%\n",
          "is_executing": true
        },
        "id": "P1J9PEy7xEob"
      }
    },
    {
      "cell_type": "code",
      "execution_count": null,
      "outputs": [],
      "source": [
        "kms = KMeans(n_clusters=6, random_state=2209131530)\n",
        "kms.fit(data)"
      ],
      "metadata": {
        "pycharm": {
          "name": "#%%\n",
          "is_executing": true
        },
        "id": "DqjKsJdIxEob"
      }
    },
    {
      "cell_type": "code",
      "execution_count": null,
      "outputs": [],
      "source": [
        "kms.labels_"
      ],
      "metadata": {
        "pycharm": {
          "name": "#%%\n",
          "is_executing": true
        },
        "id": "kSkyUJaqxEob"
      }
    },
    {
      "cell_type": "code",
      "execution_count": null,
      "outputs": [],
      "source": [
        "silhouette_score(data, kms.labels_, metric='euclidean')"
      ],
      "metadata": {
        "pycharm": {
          "name": "#%%\n",
          "is_executing": true
        },
        "id": "IeDvuVj9xEoc"
      }
    },
    {
      "cell_type": "code",
      "execution_count": null,
      "outputs": [],
      "source": [
        "kms.inertia_"
      ],
      "metadata": {
        "pycharm": {
          "name": "#%%\n",
          "is_executing": true
        },
        "id": "-YKNikm1xEoc"
      }
    },
    {
      "cell_type": "markdown",
      "source": [
        "## 데이터 시각화"
      ],
      "metadata": {
        "collapsed": false,
        "pycharm": {
          "name": "#%% md\n"
        },
        "id": "N5AZPTRHxEoc"
      }
    },
    {
      "cell_type": "markdown",
      "source": [
        "### 구별 미세먼지 시각화"
      ],
      "metadata": {
        "collapsed": false,
        "pycharm": {
          "name": "#%% md\n"
        },
        "id": "4xWT5k_txEoc"
      }
    },
    {
      "cell_type": "code",
      "execution_count": 51,
      "outputs": [],
      "source": [
        "# 데이터 적재\n",
        "dust_gu = pd.read_csv('/content/drive/MyDrive/Colab Notebooks/data/dust_gu_pm10.csv')\n",
        "seoul_geo = '/content/drive/MyDrive/Colab Notebooks/data/seoul_gu.json'"
      ],
      "metadata": {
        "pycharm": {
          "name": "#%%\n"
        },
        "id": "UxekIs65xEoc"
      }
    },
    {
      "cell_type": "code",
      "execution_count": null,
      "outputs": [],
      "source": [
        "seoul = [37.60, 126.97]\n",
        "fmap = folium.Map(seoul, zoom_start=11)\n",
        "\n",
        "folium.Choropleth(geo_data=seoul_geo, data=dust_gu, columns=['자치구', '미세먼지나쁨일수'], key_on='feature.properties.SGG_NM',\n",
        "                  fill_color='YlOrBr', fill_opacity=0.6, legend_name='서울시 구별 미세먼지 정도').add_to(fmap)\n",
        "fmap.save('/content/drive/MyDrive/Colab Notebooks/map/fmap01a.html')\n",
        "fmap"
      ],
      "metadata": {
        "pycharm": {
          "name": "#%%\n",
          "is_executing": true
        },
        "id": "if27LEiAxEoc"
      }
    },
    {
      "cell_type": "markdown",
      "source": [
        "### 구별 초미세먼지 시각화"
      ],
      "metadata": {
        "collapsed": false,
        "pycharm": {
          "name": "#%% md\n"
        },
        "id": "ZKCxpCDixEod"
      }
    },
    {
      "cell_type": "code",
      "execution_count": 53,
      "outputs": [],
      "source": [
        "# 데이터 적재\n",
        "dust_gu = pd.read_csv('/content/drive/MyDrive/Colab Notebooks/data/dust_gu_pm25.csv')\n",
        "seoul_geo = '/content/drive/MyDrive/Colab Notebooks/data/seoul_gu.json'"
      ],
      "metadata": {
        "pycharm": {
          "name": "#%%\n"
        },
        "id": "jk7vaoEUxEod"
      }
    },
    {
      "cell_type": "code",
      "execution_count": null,
      "outputs": [],
      "source": [
        "seoul = [37.60, 126.97]\n",
        "fmap = folium.Map(seoul, zoom_start=11)\n",
        "\n",
        "folium.Choropleth(geo_data=seoul_geo, data=dust_gu, columns=['자치구', '미세먼지나쁨일수'], key_on='feature.properties.SGG_NM',\n",
        "                  fill_color='YlOrRd', fill_opacity=0.7, legend_name='서울시 구별 초미세먼지 정도').add_to(fmap)\n",
        "fmap.save('/content/drive/MyDrive/Colab Notebooks/map/fmap01b.html')\n",
        "fmap"
      ],
      "metadata": {
        "pycharm": {
          "name": "#%%\n",
          "is_executing": true
        },
        "id": "OVhiz4cfxEod"
      }
    },
    {
      "cell_type": "markdown",
      "source": [
        "### 구별/월별 미세먼지/초미세먼지 시각화"
      ],
      "metadata": {
        "collapsed": false,
        "pycharm": {
          "name": "#%% md\n"
        },
        "id": "Ce0YlKT5xEod"
      }
    },
    {
      "cell_type": "code",
      "execution_count": 57,
      "outputs": [],
      "source": [
        "# 데이터 적재\n",
        "dust_gu_m = pd.read_csv('/content/drive/MyDrive/Colab Notebooks/data/dust_gu_m_pm10_pm25.csv')\n",
        "seoul_geo = '/content/drive/MyDrive/Colab Notebooks/data/seoul_gu.json'"
      ],
      "metadata": {
        "pycharm": {
          "name": "#%%\n"
        },
        "id": "cJWJsIVaxEod"
      }
    },
    {
      "cell_type": "code",
      "execution_count": 58,
      "outputs": [],
      "source": [
        "dust_gu_m.rename(columns={'gu':'자치구'}, inplace=True)"
      ],
      "metadata": {
        "pycharm": {
          "name": "#%%\n"
        },
        "id": "tbedQIj-xEoe"
      }
    },
    {
      "cell_type": "code",
      "execution_count": null,
      "outputs": [],
      "source": [
        "gu_xy = pd.read_csv('/content/drive/MyDrive/Colab Notebooks/data/seoul_gu.txt')\n",
        "gus = dust_gu_m.자치구.unique()\n",
        "print(gus)\n",
        "gu_xy = gu_xy.sort_values(by='gu').reset_index().drop('index', axis=1)\n",
        "gu_xy.rename(columns={'gu':'자치구'}, inplace=True)\n",
        "gu_xy"
      ],
      "metadata": {
        "pycharm": {
          "name": "#%%\n",
          "is_executing": true
        },
        "id": "xmbPh-AHxEoe"
      }
    },
    {
      "cell_type": "code",
      "execution_count": null,
      "outputs": [],
      "source": [
        "import folium\n",
        "import altair as alt\n",
        "\n",
        "seoul = [37.60, 126.97]\n",
        "\n",
        "fmap = folium.Map(seoul, zoom_start=11)\n",
        "\n",
        "folium.Choropleth(geo_data=seoul_geo, data=dust_gu, columns=['자치구', '미세먼지나쁨일수'], key_on='feature.properties.SGG_NM',\n",
        "                   fill_color='YlOrRd', fill_opacity=0.6, legend_name='서울시 구별 미세먼지 정도').add_to(fmap)\n",
        "fmap.save('/content/drive/MyDrive/Colab Notebooks/map/fmap01c.html')\n",
        "\n",
        "# create an altair chart, then convert to JSON\n",
        "\n",
        "for gu in gus:\n",
        "    source = dust_gu_m[dust_gu_m['자치구'] == gu].loc[:,['월','미세먼지나쁨일수']].reset_index().drop('index',axis=1)\n",
        "    chart = alt.Chart(source).mark_bar().encode(x='월', y='미세먼지나쁨일수')\n",
        "    vis1 = chart.to_json()\n",
        "    x = gu_xy[gu_xy['자치구'] == gu]['lat']\n",
        "    y = gu_xy[gu_xy['자치구'] == gu]['lng']\n",
        "    start_coords = [x, y]\n",
        "\n",
        "    folium.Marker(\n",
        "        location=start_coords,icon=folium.Icon(color=\"blue\", icon=\"cloud\"),\n",
        "        popup=folium.Popup(max_width=450).add_child(\n",
        "            folium.VegaLite(vis1, width=300, height=250)\n",
        "        ),\n",
        "    ).add_to(fmap)\n",
        "\n",
        "fmap"
      ],
      "metadata": {
        "pycharm": {
          "name": "#%%\n",
          "is_executing": true
        },
        "id": "0ov2TNj7xEoe"
      }
    },
    {
      "cell_type": "markdown",
      "source": [
        "### 공원율 시각화"
      ],
      "metadata": {
        "collapsed": false,
        "pycharm": {
          "name": "#%% md\n"
        },
        "id": "I2u9m90nxEoe"
      }
    },
    {
      "cell_type": "code",
      "execution_count": null,
      "outputs": [],
      "source": [
        "seoul_geo = '/content/drive/MyDrive/Colab Notebooks/data/seoul_gu.json'\n",
        "park = pd.read_csv('/content/drive/MyDrive/Colab Notebooks/data/seoul_park.csv')\n",
        "park"
      ],
      "metadata": {
        "pycharm": {
          "name": "#%%\n",
          "is_executing": true
        },
        "id": "ioNB40POxEoe"
      }
    },
    {
      "cell_type": "code",
      "execution_count": null,
      "outputs": [],
      "source": [
        "seoul = [37.56, 126.97]\n",
        "fmap = folium.Map(seoul, zoom_start=11)\n",
        "\n",
        "folium.Choropleth(geo_data=seoul_geo, data=park, columns=['gu', '공원율'], key_on='feature.properties.SGG_NM',\n",
        "                  fill_color='YlGn', fill_opacity=0.6, legend_name='서울시 구별 공원율').add_to(fmap)\n",
        "fmap.save('/content/drive/MyDrive/Colab Notebooks/map/fmap01.html')\n",
        "fmap"
      ],
      "metadata": {
        "pycharm": {
          "name": "#%%\n",
          "is_executing": true
        },
        "id": "n0oNhDT-xEof"
      }
    },
    {
      "cell_type": "markdown",
      "source": [
        "### 도로율 시각화"
      ],
      "metadata": {
        "collapsed": false,
        "pycharm": {
          "name": "#%% md\n"
        },
        "id": "DphvnZaPxEof"
      }
    },
    {
      "cell_type": "code",
      "execution_count": null,
      "outputs": [],
      "source": [
        "seoul_geo = '/content/drive/MyDrive/Colab Notebooks/data/seoul_gu.json'\n",
        "road = pd.read_csv('/content/drive/MyDrive/Colab Notebooks/data/seoul_road.csv')\n",
        "road"
      ],
      "metadata": {
        "pycharm": {
          "name": "#%%\n",
          "is_executing": true
        },
        "id": "h0QOVM1MxEof"
      }
    },
    {
      "cell_type": "code",
      "execution_count": null,
      "outputs": [],
      "source": [
        "seoul = [37.60, 126.97]\n",
        "fmap = folium.Map(seoul, zoom_start=11)\n",
        "\n",
        "folium.Choropleth(geo_data=seoul_geo, data=road, columns=['gu', 'rate'], key_on='feature.properties.SGG_NM',\n",
        "                  fill_color='Greys', fill_opacity=0.6, legend_name='서울시 구별 도로율').add_to(fmap)\n",
        "fmap.save('/content/drive/MyDrive/Colab Notebooks/map/fmap02.html')\n",
        "fmap"
      ],
      "metadata": {
        "pycharm": {
          "name": "#%%\n",
          "is_executing": true
        },
        "id": "oDvCQ_pWxEof"
      }
    },
    {
      "cell_type": "markdown",
      "source": [
        "### 가로수량 시각화"
      ],
      "metadata": {
        "collapsed": false,
        "pycharm": {
          "name": "#%% md\n"
        },
        "id": "Xs4Nvp0XxEof"
      }
    },
    {
      "cell_type": "code",
      "execution_count": null,
      "outputs": [],
      "source": [
        "seoul_geo = open('/content/drive/MyDrive/Colab Notebooks/data/seoul_gu.json').read()\n",
        "trees = pd.read_csv('/content/drive/MyDrive/Colab Notebooks/data/seoul_trees.csv')\n",
        "trees.columns"
      ],
      "metadata": {
        "pycharm": {
          "name": "#%%\n",
          "is_executing": true
        },
        "id": "vh1S4_caxEof"
      }
    },
    {
      "cell_type": "code",
      "execution_count": 68,
      "outputs": [],
      "source": [
        "import json\n",
        "geo_data = json.loads(seoul_geo)"
      ],
      "metadata": {
        "pycharm": {
          "name": "#%%\n"
        },
        "id": "KNOHxJyexEof"
      }
    },
    {
      "cell_type": "code",
      "execution_count": null,
      "outputs": [],
      "source": [
        "seoul = [37.60, 126.97]\n",
        "fmap = folium.Map(seoul, zoom_start=11,show=False)\n",
        "\n",
        "folium.Choropleth(geo_data=seoul_geo, data=trees, columns=['gu', '가로수량'], key_on='feature.properties.SGG_NM',\n",
        "                  fill_color='YlGn', fill_opacity=0.6, legend_name='서울시 구별 가로수').add_to(fmap)\n",
        "fmap.save('/content/drive/MyDrive/Colab Notebooks/map/fmap03.html')\n",
        "fmap"
      ],
      "metadata": {
        "pycharm": {
          "name": "#%%\n",
          "is_executing": true
        },
        "id": "r2tKV2VIxEog"
      }
    },
    {
      "cell_type": "markdown",
      "source": [
        "### 서울시 구별 연도별 미세먼지 선 그래프 (2016 - 2020)"
      ],
      "metadata": {
        "collapsed": false,
        "pycharm": {
          "name": "#%% md\n"
        },
        "id": "MrMDGRQpxEoi"
      }
    },
    {
      "cell_type": "code",
      "execution_count": null,
      "outputs": [],
      "source": [
        "dustyr = pd.read_csv('/content/drive/MyDrive/Colab Notebooks/data/dust_year.csv')\n",
        "dustyr.rename(columns={'gu':'자치구', 'date':'미세먼지나쁨일수', 'year': '연도'}, inplace=True)\n",
        "dustyr.head()"
      ],
      "metadata": {
        "pycharm": {
          "name": "#%%\n",
          "is_executing": true
        },
        "id": "jTIqg4D0xEoi"
      }
    },
    {
      "cell_type": "code",
      "execution_count": null,
      "outputs": [],
      "source": [
        "import plotly.express as px\n",
        "\n",
        "fig = px.line(dustyr, x='자치구', y='미세먼지나쁨일수', color='연도', symbol=\"연도\")\n",
        "fig.show()"
      ],
      "metadata": {
        "pycharm": {
          "name": "#%%\n",
          "is_executing": true
        },
        "id": "wmankrYVxEoi"
      }
    },
    {
      "cell_type": "markdown",
      "source": [
        "### 공원 면적 변화 시각화 (2016 - 2020)"
      ],
      "metadata": {
        "collapsed": false,
        "pycharm": {
          "name": "#%% md\n"
        },
        "id": "MXNQKJTnxEoi"
      }
    },
    {
      "cell_type": "code",
      "execution_count": null,
      "outputs": [],
      "source": [
        "park_t = pd.read_csv('/content/drive/MyDrive/Colab Notebooks/data/seoul_park1620.csv')\n",
        "park_t.head()"
      ],
      "metadata": {
        "pycharm": {
          "name": "#%%\n",
          "is_executing": true
        },
        "id": "2ORnkJUkxEoj"
      }
    },
    {
      "cell_type": "code",
      "execution_count": null,
      "outputs": [],
      "source": [
        "import plotly.express as px\n",
        "\n",
        "fig = px.line(park_t, x='자치구', y='공원율', color='연도', symbol=\"연도\")\n",
        "fig.show()"
      ],
      "metadata": {
        "pycharm": {
          "name": "#%%\n",
          "is_executing": true
        },
        "id": "rzRSAtZCxEoj"
      }
    },
    {
      "cell_type": "markdown",
      "source": [
        "### 연도별 도로율 면적 변화 시각화 (2016 - 2020)"
      ],
      "metadata": {
        "collapsed": false,
        "pycharm": {
          "name": "#%% md\n"
        },
        "id": "txMlJOmkxEoj"
      }
    },
    {
      "cell_type": "code",
      "execution_count": null,
      "outputs": [],
      "source": [
        "road_t = pd.read_csv('/content/drive/MyDrive/Colab Notebooks/data/seoul_road1620.csv')\n",
        "road_t.head()"
      ],
      "metadata": {
        "pycharm": {
          "name": "#%%\n",
          "is_executing": true
        },
        "id": "Em5VrBIHxEoj"
      }
    },
    {
      "cell_type": "code",
      "execution_count": null,
      "outputs": [],
      "source": [
        "import plotly.express as px\n",
        "\n",
        "fig = px.line(road_t, x='자치구', y='도로율', color='연도', symbol=\"연도\")\n",
        "fig.show()"
      ],
      "metadata": {
        "pycharm": {
          "name": "#%%\n",
          "is_executing": true
        },
        "id": "lvJRvyIuxEoj"
      }
    },
    {
      "cell_type": "markdown",
      "source": [
        "### 연도별 가로수량"
      ],
      "metadata": {
        "collapsed": false,
        "pycharm": {
          "name": "#%% md\n"
        },
        "id": "S9azWrL-xEok"
      }
    },
    {
      "cell_type": "code",
      "execution_count": null,
      "outputs": [],
      "source": [
        "tree_t = pd.read_csv('/content/drive/MyDrive/Colab Notebooks/data/seoul_tree1620.csv')\n",
        "tree_t.head()"
      ],
      "metadata": {
        "pycharm": {
          "name": "#%%\n",
          "is_executing": true
        },
        "id": "lOiP5RPcxEok"
      }
    },
    {
      "cell_type": "code",
      "execution_count": null,
      "outputs": [],
      "source": [
        "import plotly.express as px\n",
        "\n",
        "fig = px.line(tree_t, x='자치구', y='가로수량', color='연도', symbol=\"연도\")\n",
        "fig.show()"
      ],
      "metadata": {
        "pycharm": {
          "name": "#%%\n",
          "is_executing": true
        },
        "id": "1xzDocXuxEok"
      }
    },
    {
      "cell_type": "markdown",
      "source": [
        "### 교통량 그래프(연도별)"
      ],
      "metadata": {
        "collapsed": false,
        "pycharm": {
          "name": "#%% md\n"
        },
        "id": "02m8JZg9xEok"
      }
    },
    {
      "cell_type": "code",
      "execution_count": null,
      "outputs": [],
      "source": [
        "traffic_t = pd.read_csv('/content/drive/MyDrive/Colab Notebooks/data/seoul_traffic1620.csv')\n",
        "traffic_t = traffic_t.sort_values('자치구')\n",
        "traffic_t.head()"
      ],
      "metadata": {
        "pycharm": {
          "name": "#%%\n",
          "is_executing": true
        },
        "id": "AI1slzl7xEok"
      }
    },
    {
      "cell_type": "code",
      "execution_count": null,
      "outputs": [],
      "source": [
        "import plotly.express as px\n",
        "\n",
        "fig = px.line(traffic_t, x='자치구', y='교통량', color='연도', symbol=\"연도\")\n",
        "fig.show()"
      ],
      "metadata": {
        "pycharm": {
          "name": "#%%\n",
          "is_executing": true
        },
        "id": "9Lgx7AF0xEol"
      }
    },
    {
      "cell_type": "markdown",
      "source": [
        "### 클러스터링 시각화"
      ],
      "metadata": {
        "collapsed": false,
        "pycharm": {
          "name": "#%% md\n"
        },
        "id": "j8zjGpI8xEol"
      }
    },
    {
      "cell_type": "code",
      "execution_count": null,
      "outputs": [],
      "source": [
        "df = pd.read_csv('/content/drive/MyDrive/Colab Notebooks/data/seoul_dust1619.csv')\n",
        "df"
      ],
      "metadata": {
        "pycharm": {
          "name": "#%%\n",
          "is_executing": true
        },
        "id": "_6L3XKMGxEol"
      }
    },
    {
      "cell_type": "code",
      "execution_count": 91,
      "outputs": [],
      "source": [
        "pm = df.groupby(['자치구'])['미세먼지나쁨일수'].sum()\n",
        "pr = df.groupby(['자치구'])['공원율'].mean().round(6)\n",
        "guu = df['자치구'].unique()"
      ],
      "metadata": {
        "pycharm": {
          "name": "#%%\n"
        },
        "id": "fRsg7uxLxEol"
      }
    },
    {
      "cell_type": "code",
      "execution_count": null,
      "outputs": [],
      "source": [
        "seoul_dust = pd.DataFrame({'자치구':guu, '미세먼지나쁨일수':pm, '공원율':pr})\n",
        "seoul_dust"
      ],
      "metadata": {
        "pycharm": {
          "name": "#%%\n",
          "is_executing": true
        },
        "id": "DM2oNQZyxEol"
      }
    },
    {
      "cell_type": "code",
      "execution_count": null,
      "outputs": [],
      "source": [
        "color_bin = [233, 257, 290, 313, 336, 348]\n",
        "seoul_dust['색상'] = pd.cut(seoul_dust['미세먼지나쁨일수'],bins=color_bin, labels=['lightgrey','yellow','green','red','black'])\n",
        "seoul_dust"
      ],
      "metadata": {
        "pycharm": {
          "name": "#%%\n",
          "is_executing": true
        },
        "id": "uO467xCKxEol"
      }
    },
    {
      "cell_type": "code",
      "execution_count": null,
      "outputs": [],
      "source": [
        "seoul_dust['섹터'] = ['클러스터1' if s == '강서구' or s == '광진구' or s == '마포구' or s == '양천구'\n",
        "                    else '클러스터2' if s == '강북구' or s == '도봉구' or s == '은평구' or s == '종로구'\n",
        "                    else '클러스터3' if s == '관악구' or s == '노원구' or s == '서초구' or s == '성북구'\n",
        "                                    or s == '중랑구'\n",
        "                    else '클러스터4' if s == '강남구' or s == '강동구' or s == '구로구' or s == '금천구'\n",
        "                                    or s == '동대문구' or s == '성동구' or s == '송파구' or s == '영등포구'\n",
        "                                    or s == '용산구'\n",
        "                    else '클러스터5' for s in seoul_dust['자치구']]\n",
        "seoul_dust"
      ],
      "metadata": {
        "pycharm": {
          "name": "#%%\n",
          "is_executing": true
        },
        "id": "pkjBWPV3xEol"
      }
    },
    {
      "cell_type": "code",
      "execution_count": null,
      "outputs": [],
      "source": [
        "import plotly.express as px\n",
        "fig = px.treemap(seoul_dust, path=[px.Constant(\"all\"), '섹터', '자치구'],\n",
        "                 values = '공원율', hover_data = ['미세먼지나쁨일수'])\n",
        "fig.show()"
      ],
      "metadata": {
        "pycharm": {
          "name": "#%%\n",
          "is_executing": true
        },
        "id": "VsDMfeHBxEom"
      }
    }
  ],
  "metadata": {
    "kernelspec": {
      "display_name": "Python 3",
      "language": "python",
      "name": "python3"
    },
    "language_info": {
      "codemirror_mode": {
        "name": "ipython",
        "version": 2
      },
      "file_extension": ".py",
      "mimetype": "text/x-python",
      "name": "python",
      "nbconvert_exporter": "python",
      "pygments_lexer": "ipython2",
      "version": "2.7.6"
    },
    "colab": {
      "provenance": [],
      "include_colab_link": true
    }
  },
  "nbformat": 4,
  "nbformat_minor": 0
}