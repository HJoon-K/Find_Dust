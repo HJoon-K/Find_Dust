{
  "cells": [
    {
      "cell_type": "markdown",
      "metadata": {
        "id": "view-in-github",
        "colab_type": "text"
      },
      "source": [
        "<a href=\"https://colab.research.google.com/github/HJoon-K/Find_Dust/blob/yang/yjh.ipynb\" target=\"_parent\"><img src=\"https://colab.research.google.com/assets/colab-badge.svg\" alt=\"Open In Colab\"/></a>"
      ]
    },
    {
      "cell_type": "code",
      "execution_count": null,
      "outputs": [],
      "source": [
        "import matplotlib\n",
        "import numpy as np\n",
        "import pandas as pd\n",
        "import seaborn as sns\n",
        "import matplotlib.pyplot as plt"
      ],
      "metadata": {
        "pycharm": {
          "name": "#%%\n"
        },
        "id": "UL5huv0Z8P-C"
      }
    },
    {
      "cell_type": "code",
      "execution_count": null,
      "outputs": [],
      "source": [
        "from sklearn.preprocessing import StandardScaler, MinMaxScaler, LabelEncoder\n",
        "\n",
        "from sklearn.model_selection import train_test_split, cross_val_score\n",
        "\n",
        "from sklearn.tree import DecisionTreeClassifier\n",
        "from sklearn.ensemble import RandomForestClassifier\n",
        "from sklearn.linear_model import LogisticRegression\n",
        "from sklearn.linear_model import LinearRegression\n",
        "from sklearn.naive_bayes import BernoulliNB, MultinomialNB\n",
        "from sklearn.neighbors import KNeighborsClassifier\n",
        "from sklearn.cluster import KMeans\n",
        "from sklearn.cluster import AgglomerativeClustering\n",
        "\n",
        "from sklearn.metrics import accuracy_score, recall_score, precision_score\n",
        "from sklearn.metrics import confusion_matrix, classification_report\n",
        "from sklearn.metrics import mean_squared_error, r2_score\n",
        "from sklearn.metrics import silhouette_score\n",
        "\n",
        "from scipy.cluster.hierarchy import dendrogram\n",
        "from scipy.cluster.hierarchy import linkage, fcluster\n",
        "\n",
        "from sklearn.feature_extraction.text import CountVectorizer\n",
        "from sklearn.feature_extraction.text import TfidfVectorizer"
      ],
      "metadata": {
        "pycharm": {
          "name": "#%%\n"
        },
        "id": "c9fDyC8M8P-D"
      }
    },
    {
      "cell_type": "code",
      "execution_count": null,
      "outputs": [],
      "source": [
        "# 경고 메세지 감춤\n",
        "import warnings\n",
        "warnings.filterwarnings('ignore')"
      ],
      "metadata": {
        "pycharm": {
          "name": "#%%\n"
        },
        "id": "Ub069JWI8P-E"
      }
    },
    {
      "cell_type": "code",
      "execution_count": null,
      "outputs": [],
      "source": [
        "plt.rcParams['font.family'] = 'NanumGothic'"
      ],
      "metadata": {
        "pycharm": {
          "name": "#%%\n"
        },
        "id": "nxNou8bJ8P-F"
      }
    },
    {
      "cell_type": "code",
      "execution_count": null,
      "outputs": [],
      "source": [
        "dust16 = pd.read_excel('data/기간별_일평균_대기환경_정보_2016년.xlsx')\n",
        "dust16"
      ],
      "metadata": {
        "pycharm": {
          "name": "#%%\n",
          "is_executing": true
        },
        "id": "HkCfjDVO8P-F"
      }
    },
    {
      "cell_type": "code",
      "execution_count": null,
      "outputs": [],
      "source": [
        "dust16.info()"
      ],
      "metadata": {
        "pycharm": {
          "name": "#%%\n"
        },
        "id": "WfGfYMNH8P-G"
      }
    },
    {
      "cell_type": "code",
      "execution_count": null,
      "outputs": [],
      "source": [
        "dust16.drop('권역명', axis=1, inplace=True)\n",
        "dust16.drop('오존(ppm)', axis=1, inplace=True)\n",
        "dust16.drop('이산화질소농도(ppm)', axis=1, inplace=True)\n",
        "dust16.drop('일산화탄소농도(ppm)', axis=1, inplace=True)\n",
        "dust16.drop('아황산가스농도(ppm)', axis=1, inplace=True)\n",
        "dust16"
      ],
      "metadata": {
        "pycharm": {
          "name": "#%%\n"
        },
        "id": "YwQt5Zjz8P-H"
      }
    },
    {
      "cell_type": "code",
      "execution_count": null,
      "outputs": [],
      "source": [
        "dust16.columns = ['date', 'gu', 'PM10', 'PM25']\n",
        "dust16"
      ],
      "metadata": {
        "pycharm": {
          "name": "#%%\n"
        },
        "id": "5nG8_y7e8P-I"
      }
    },
    {
      "cell_type": "code",
      "execution_count": null,
      "outputs": [],
      "source": [
        "dust16.to_csv('data/dust2016.csv', index=False)"
      ],
      "metadata": {
        "pycharm": {
          "name": "#%%\n"
        },
        "id": "4su2y_Yf8P-I"
      }
    },
    {
      "cell_type": "code",
      "execution_count": null,
      "outputs": [
        {
          "data": {
            "text/plain": "          date    gu  PM10  PM25\n0     20160101   광진구    85    64\n1     20160101   강남구    73    44\n2     20160101   강서구    66    38\n3     20160101   구로구    56    41\n4     20160101   성북구    71    45\n...        ...   ...   ...   ...\n9143  20161231   마포구    56    47\n9144  20161231   양천구    61    37\n9145  20161231   강동구    63    41\n9146  20161231  영등포구    56    36\n9147  20161231   은평구    51    33\n\n[9148 rows x 4 columns]",
            "text/html": "<div>\n<style scoped>\n    .dataframe tbody tr th:only-of-type {\n        vertical-align: middle;\n    }\n\n    .dataframe tbody tr th {\n        vertical-align: top;\n    }\n\n    .dataframe thead th {\n        text-align: right;\n    }\n</style>\n<table border=\"1\" class=\"dataframe\">\n  <thead>\n    <tr style=\"text-align: right;\">\n      <th></th>\n      <th>date</th>\n      <th>gu</th>\n      <th>PM10</th>\n      <th>PM25</th>\n    </tr>\n  </thead>\n  <tbody>\n    <tr>\n      <th>0</th>\n      <td>20160101</td>\n      <td>광진구</td>\n      <td>85</td>\n      <td>64</td>\n    </tr>\n    <tr>\n      <th>1</th>\n      <td>20160101</td>\n      <td>강남구</td>\n      <td>73</td>\n      <td>44</td>\n    </tr>\n    <tr>\n      <th>2</th>\n      <td>20160101</td>\n      <td>강서구</td>\n      <td>66</td>\n      <td>38</td>\n    </tr>\n    <tr>\n      <th>3</th>\n      <td>20160101</td>\n      <td>구로구</td>\n      <td>56</td>\n      <td>41</td>\n    </tr>\n    <tr>\n      <th>4</th>\n      <td>20160101</td>\n      <td>성북구</td>\n      <td>71</td>\n      <td>45</td>\n    </tr>\n    <tr>\n      <th>...</th>\n      <td>...</td>\n      <td>...</td>\n      <td>...</td>\n      <td>...</td>\n    </tr>\n    <tr>\n      <th>9143</th>\n      <td>20161231</td>\n      <td>마포구</td>\n      <td>56</td>\n      <td>47</td>\n    </tr>\n    <tr>\n      <th>9144</th>\n      <td>20161231</td>\n      <td>양천구</td>\n      <td>61</td>\n      <td>37</td>\n    </tr>\n    <tr>\n      <th>9145</th>\n      <td>20161231</td>\n      <td>강동구</td>\n      <td>63</td>\n      <td>41</td>\n    </tr>\n    <tr>\n      <th>9146</th>\n      <td>20161231</td>\n      <td>영등포구</td>\n      <td>56</td>\n      <td>36</td>\n    </tr>\n    <tr>\n      <th>9147</th>\n      <td>20161231</td>\n      <td>은평구</td>\n      <td>51</td>\n      <td>33</td>\n    </tr>\n  </tbody>\n</table>\n<p>9148 rows × 4 columns</p>\n</div>"
          },
          "execution_count": 5,
          "metadata": {},
          "output_type": "execute_result"
        }
      ],
      "source": [
        "dust2016 = pd.read_csv('data/dust2016.csv')\n",
        "dust2016"
      ],
      "metadata": {
        "pycharm": {
          "name": "#%%\n"
        },
        "id": "vvouQCLQ8P-J",
        "outputId": "011e63e2-c2a3-48a4-b6ca-16ce11e1cd43"
      }
    },
    {
      "cell_type": "code",
      "execution_count": null,
      "outputs": [],
      "source": [
        "dust17 = pd.read_excel('data/기간별_일평균_대기환경_정보_2017년.xlsx')\n",
        "dust17"
      ],
      "metadata": {
        "pycharm": {
          "name": "#%%\n"
        },
        "id": "cxLhNrij8P-K"
      }
    },
    {
      "cell_type": "code",
      "execution_count": null,
      "outputs": [],
      "source": [
        "dust17.info()"
      ],
      "metadata": {
        "pycharm": {
          "name": "#%%\n"
        },
        "id": "5MVOdhDu8P-K"
      }
    },
    {
      "cell_type": "code",
      "execution_count": null,
      "outputs": [],
      "source": [
        "dust17.drop('권역명', axis=1, inplace=True)\n",
        "dust17.drop('오존(ppm)', axis=1, inplace=True)\n",
        "dust17.drop('이산화질소농도(ppm)', axis=1, inplace=True)\n",
        "dust17.drop('일산화탄소농도(ppm)', axis=1, inplace=True)\n",
        "dust17.drop('아황산가스농도(ppm)', axis=1, inplace=True)\n",
        "dust17"
      ],
      "metadata": {
        "pycharm": {
          "name": "#%%\n"
        },
        "id": "jMMn5eU08P-K"
      }
    },
    {
      "cell_type": "code",
      "execution_count": null,
      "outputs": [],
      "source": [
        "dust17.columns = ['date', 'gu', 'PM10', 'PM25']\n",
        "dust17"
      ],
      "metadata": {
        "pycharm": {
          "name": "#%%\n"
        },
        "id": "01XUFQyX8P-L"
      }
    },
    {
      "cell_type": "code",
      "execution_count": null,
      "outputs": [],
      "source": [
        "dust17.to_csv('data/dust2017.csv', index=False)"
      ],
      "metadata": {
        "pycharm": {
          "name": "#%%\n"
        },
        "id": "QcFmLe128P-L"
      }
    },
    {
      "cell_type": "code",
      "execution_count": null,
      "outputs": [
        {
          "data": {
            "text/plain": "          date    gu  PM10  PM25\n0     20170101    중구    81    64\n1     20170101   용산구    77    73\n2     20170101   종로구    82    67\n3     20170101  서대문구    91    50\n4     20170101   은평구    70    46\n...        ...   ...   ...   ...\n9120  20171231   금천구    63    38\n9121  20171231   송파구    71    34\n9122  20171231   강남구    54    38\n9123  20171231   강동구    69    36\n9124  20171231   서초구    75    39\n\n[9125 rows x 4 columns]",
            "text/html": "<div>\n<style scoped>\n    .dataframe tbody tr th:only-of-type {\n        vertical-align: middle;\n    }\n\n    .dataframe tbody tr th {\n        vertical-align: top;\n    }\n\n    .dataframe thead th {\n        text-align: right;\n    }\n</style>\n<table border=\"1\" class=\"dataframe\">\n  <thead>\n    <tr style=\"text-align: right;\">\n      <th></th>\n      <th>date</th>\n      <th>gu</th>\n      <th>PM10</th>\n      <th>PM25</th>\n    </tr>\n  </thead>\n  <tbody>\n    <tr>\n      <th>0</th>\n      <td>20170101</td>\n      <td>중구</td>\n      <td>81</td>\n      <td>64</td>\n    </tr>\n    <tr>\n      <th>1</th>\n      <td>20170101</td>\n      <td>용산구</td>\n      <td>77</td>\n      <td>73</td>\n    </tr>\n    <tr>\n      <th>2</th>\n      <td>20170101</td>\n      <td>종로구</td>\n      <td>82</td>\n      <td>67</td>\n    </tr>\n    <tr>\n      <th>3</th>\n      <td>20170101</td>\n      <td>서대문구</td>\n      <td>91</td>\n      <td>50</td>\n    </tr>\n    <tr>\n      <th>4</th>\n      <td>20170101</td>\n      <td>은평구</td>\n      <td>70</td>\n      <td>46</td>\n    </tr>\n    <tr>\n      <th>...</th>\n      <td>...</td>\n      <td>...</td>\n      <td>...</td>\n      <td>...</td>\n    </tr>\n    <tr>\n      <th>9120</th>\n      <td>20171231</td>\n      <td>금천구</td>\n      <td>63</td>\n      <td>38</td>\n    </tr>\n    <tr>\n      <th>9121</th>\n      <td>20171231</td>\n      <td>송파구</td>\n      <td>71</td>\n      <td>34</td>\n    </tr>\n    <tr>\n      <th>9122</th>\n      <td>20171231</td>\n      <td>강남구</td>\n      <td>54</td>\n      <td>38</td>\n    </tr>\n    <tr>\n      <th>9123</th>\n      <td>20171231</td>\n      <td>강동구</td>\n      <td>69</td>\n      <td>36</td>\n    </tr>\n    <tr>\n      <th>9124</th>\n      <td>20171231</td>\n      <td>서초구</td>\n      <td>75</td>\n      <td>39</td>\n    </tr>\n  </tbody>\n</table>\n<p>9125 rows × 4 columns</p>\n</div>"
          },
          "execution_count": 6,
          "metadata": {},
          "output_type": "execute_result"
        }
      ],
      "source": [
        "dust2017 = pd.read_csv('data/dust2017.csv')\n",
        "dust2017"
      ],
      "metadata": {
        "pycharm": {
          "name": "#%%\n"
        },
        "id": "JXvlGevz8P-L",
        "outputId": "ec6259df-e91c-4309-d799-cc59d2c1fa70"
      }
    },
    {
      "cell_type": "code",
      "execution_count": null,
      "outputs": [],
      "source": [
        "dust18 = pd.read_csv('data/기간별_일평균_대기환경_정보_2018년.csv', encoding='euc-kr')\n",
        "dust18"
      ],
      "metadata": {
        "pycharm": {
          "name": "#%%\n"
        },
        "id": "KqkL30LU8P-M"
      }
    },
    {
      "cell_type": "code",
      "execution_count": null,
      "outputs": [],
      "source": [
        "dust18.info()"
      ],
      "metadata": {
        "pycharm": {
          "name": "#%%\n"
        },
        "id": "KQ-aaj3k8P-M"
      }
    },
    {
      "cell_type": "code",
      "execution_count": null,
      "outputs": [],
      "source": [
        "dust18.drop('권역코드', axis=1, inplace=True)\n",
        "dust18.drop('권역명', axis=1, inplace=True)\n",
        "dust18.drop('측정소코드', axis=1, inplace=True)\n",
        "dust18.drop('오존(ppm)', axis=1, inplace=True)\n",
        "dust18.drop('이산화질소농도(ppm)', axis=1, inplace=True)\n",
        "dust18.drop('일산화탄소농도(ppm)', axis=1, inplace=True)\n",
        "dust18.drop('아황산가스농도(ppm)', axis=1, inplace=True)\n",
        "dust18"
      ],
      "metadata": {
        "pycharm": {
          "name": "#%%\n"
        },
        "id": "fS74Oia18P-M"
      }
    },
    {
      "cell_type": "code",
      "execution_count": null,
      "outputs": [],
      "source": [
        "dust18.columns = ['date', 'gu', 'PM10', 'PM25']\n",
        "dust18"
      ],
      "metadata": {
        "pycharm": {
          "name": "#%%\n"
        },
        "id": "x4v7b3N98P-M"
      }
    },
    {
      "cell_type": "code",
      "execution_count": null,
      "outputs": [],
      "source": [
        "dust18.to_csv('data/dust2018.csv', index=False)"
      ],
      "metadata": {
        "pycharm": {
          "name": "#%%\n"
        },
        "id": "FX1JPV5C8P-N"
      }
    },
    {
      "cell_type": "code",
      "execution_count": null,
      "outputs": [
        {
          "data": {
            "text/plain": "          date    gu  PM10  PM25\n0     20180101    중구    32    18\n1     20180101   강동구    48    24\n2     20180101   송파구    52    23\n3     20180101   서초구    49    24\n4     20180101   강남구    34    22\n...        ...   ...   ...   ...\n9095  20181231   구로구    46    23\n9096  20181231  영등포구    48    33\n9097  20181231   동작구    48    32\n9098  20181231   관악구    48    31\n9099  20181231   금천구    43    31\n\n[9100 rows x 4 columns]",
            "text/html": "<div>\n<style scoped>\n    .dataframe tbody tr th:only-of-type {\n        vertical-align: middle;\n    }\n\n    .dataframe tbody tr th {\n        vertical-align: top;\n    }\n\n    .dataframe thead th {\n        text-align: right;\n    }\n</style>\n<table border=\"1\" class=\"dataframe\">\n  <thead>\n    <tr style=\"text-align: right;\">\n      <th></th>\n      <th>date</th>\n      <th>gu</th>\n      <th>PM10</th>\n      <th>PM25</th>\n    </tr>\n  </thead>\n  <tbody>\n    <tr>\n      <th>0</th>\n      <td>20180101</td>\n      <td>중구</td>\n      <td>32</td>\n      <td>18</td>\n    </tr>\n    <tr>\n      <th>1</th>\n      <td>20180101</td>\n      <td>강동구</td>\n      <td>48</td>\n      <td>24</td>\n    </tr>\n    <tr>\n      <th>2</th>\n      <td>20180101</td>\n      <td>송파구</td>\n      <td>52</td>\n      <td>23</td>\n    </tr>\n    <tr>\n      <th>3</th>\n      <td>20180101</td>\n      <td>서초구</td>\n      <td>49</td>\n      <td>24</td>\n    </tr>\n    <tr>\n      <th>4</th>\n      <td>20180101</td>\n      <td>강남구</td>\n      <td>34</td>\n      <td>22</td>\n    </tr>\n    <tr>\n      <th>...</th>\n      <td>...</td>\n      <td>...</td>\n      <td>...</td>\n      <td>...</td>\n    </tr>\n    <tr>\n      <th>9095</th>\n      <td>20181231</td>\n      <td>구로구</td>\n      <td>46</td>\n      <td>23</td>\n    </tr>\n    <tr>\n      <th>9096</th>\n      <td>20181231</td>\n      <td>영등포구</td>\n      <td>48</td>\n      <td>33</td>\n    </tr>\n    <tr>\n      <th>9097</th>\n      <td>20181231</td>\n      <td>동작구</td>\n      <td>48</td>\n      <td>32</td>\n    </tr>\n    <tr>\n      <th>9098</th>\n      <td>20181231</td>\n      <td>관악구</td>\n      <td>48</td>\n      <td>31</td>\n    </tr>\n    <tr>\n      <th>9099</th>\n      <td>20181231</td>\n      <td>금천구</td>\n      <td>43</td>\n      <td>31</td>\n    </tr>\n  </tbody>\n</table>\n<p>9100 rows × 4 columns</p>\n</div>"
          },
          "execution_count": 7,
          "metadata": {},
          "output_type": "execute_result"
        }
      ],
      "source": [
        "dust2018 = pd.read_csv('data/dust2018.csv')\n",
        "dust2018"
      ],
      "metadata": {
        "pycharm": {
          "name": "#%%\n"
        },
        "id": "_K08t9TJ8P-N",
        "outputId": "ad80f906-62c1-4385-dc01-8a84782b6dec"
      }
    },
    {
      "cell_type": "code",
      "execution_count": null,
      "outputs": [],
      "source": [
        "dust19 = pd.read_csv('data/기간별_일평균_대기환경_정보_2019년.csv', encoding='euc-kr')\n",
        "dust19"
      ],
      "metadata": {
        "pycharm": {
          "name": "#%%\n",
          "is_executing": true
        },
        "id": "TMBCMmnJ8P-N"
      }
    },
    {
      "cell_type": "code",
      "execution_count": null,
      "outputs": [],
      "source": [
        "dust19.info()"
      ],
      "metadata": {
        "pycharm": {
          "name": "#%%\n"
        },
        "id": "h4SjSTWD8P-O"
      }
    },
    {
      "cell_type": "code",
      "execution_count": null,
      "outputs": [],
      "source": [
        "dust19.drop('권역코드', axis=1, inplace=True)\n",
        "dust19.drop('권역명', axis=1, inplace=True)\n",
        "dust19.drop('측정소코드', axis=1, inplace=True)\n",
        "dust19.drop('오존(ppm)', axis=1, inplace=True)\n",
        "dust19.drop('이산화질소농도(ppm)', axis=1, inplace=True)\n",
        "dust19.drop('일산화탄소농도(ppm)', axis=1, inplace=True)\n",
        "dust19.drop('아황산가스농도(ppm)', axis=1, inplace=True)\n",
        "dust19"
      ],
      "metadata": {
        "pycharm": {
          "name": "#%%\n"
        },
        "id": "4yPmeFUu8P-O"
      }
    },
    {
      "cell_type": "code",
      "execution_count": null,
      "outputs": [],
      "source": [
        "dust19.columns = ['date', 'gu', 'PM10', 'PM25']\n",
        "dust19"
      ],
      "metadata": {
        "pycharm": {
          "name": "#%%\n"
        },
        "id": "-rwkGusR8P-O"
      }
    },
    {
      "cell_type": "code",
      "execution_count": null,
      "outputs": [],
      "source": [
        "dust19.to_csv('data/dust2019.csv', index=False)"
      ],
      "metadata": {
        "pycharm": {
          "name": "#%%\n"
        },
        "id": "iF8Hkmxt8P-O"
      }
    },
    {
      "cell_type": "code",
      "execution_count": null,
      "outputs": [
        {
          "data": {
            "text/plain": "          date    gu  PM10  PM25\n0     20190101    중구    38    26\n1     20190101   강동구    43    32\n2     20190101   송파구    44    28\n3     20190101   서초구    37    20\n4     20190101   강남구    37    31\n...        ...   ...   ...   ...\n8941  20191231   강서구    29    16\n8942  20191231   구로구    20    14\n8943  20191231  영등포구    22    14\n8944  20191231   동작구    28    19\n8945  20191231   관악구    26    14\n\n[8946 rows x 4 columns]",
            "text/html": "<div>\n<style scoped>\n    .dataframe tbody tr th:only-of-type {\n        vertical-align: middle;\n    }\n\n    .dataframe tbody tr th {\n        vertical-align: top;\n    }\n\n    .dataframe thead th {\n        text-align: right;\n    }\n</style>\n<table border=\"1\" class=\"dataframe\">\n  <thead>\n    <tr style=\"text-align: right;\">\n      <th></th>\n      <th>date</th>\n      <th>gu</th>\n      <th>PM10</th>\n      <th>PM25</th>\n    </tr>\n  </thead>\n  <tbody>\n    <tr>\n      <th>0</th>\n      <td>20190101</td>\n      <td>중구</td>\n      <td>38</td>\n      <td>26</td>\n    </tr>\n    <tr>\n      <th>1</th>\n      <td>20190101</td>\n      <td>강동구</td>\n      <td>43</td>\n      <td>32</td>\n    </tr>\n    <tr>\n      <th>2</th>\n      <td>20190101</td>\n      <td>송파구</td>\n      <td>44</td>\n      <td>28</td>\n    </tr>\n    <tr>\n      <th>3</th>\n      <td>20190101</td>\n      <td>서초구</td>\n      <td>37</td>\n      <td>20</td>\n    </tr>\n    <tr>\n      <th>4</th>\n      <td>20190101</td>\n      <td>강남구</td>\n      <td>37</td>\n      <td>31</td>\n    </tr>\n    <tr>\n      <th>...</th>\n      <td>...</td>\n      <td>...</td>\n      <td>...</td>\n      <td>...</td>\n    </tr>\n    <tr>\n      <th>8941</th>\n      <td>20191231</td>\n      <td>강서구</td>\n      <td>29</td>\n      <td>16</td>\n    </tr>\n    <tr>\n      <th>8942</th>\n      <td>20191231</td>\n      <td>구로구</td>\n      <td>20</td>\n      <td>14</td>\n    </tr>\n    <tr>\n      <th>8943</th>\n      <td>20191231</td>\n      <td>영등포구</td>\n      <td>22</td>\n      <td>14</td>\n    </tr>\n    <tr>\n      <th>8944</th>\n      <td>20191231</td>\n      <td>동작구</td>\n      <td>28</td>\n      <td>19</td>\n    </tr>\n    <tr>\n      <th>8945</th>\n      <td>20191231</td>\n      <td>관악구</td>\n      <td>26</td>\n      <td>14</td>\n    </tr>\n  </tbody>\n</table>\n<p>8946 rows × 4 columns</p>\n</div>"
          },
          "execution_count": 8,
          "metadata": {},
          "output_type": "execute_result"
        }
      ],
      "source": [
        "dust2019 = pd.read_csv('data/dust2019.csv')\n",
        "dust2019"
      ],
      "metadata": {
        "pycharm": {
          "name": "#%%\n"
        },
        "id": "evzNyrRN8P-P",
        "outputId": "acf5c876-0201-4e48-ed10-6859bc90c116"
      }
    },
    {
      "cell_type": "code",
      "execution_count": null,
      "outputs": [],
      "source": [
        "dust20 = pd.read_csv('data/기간별_일평균_대기환경_정보_2020년.csv', encoding='euc-kr')\n",
        "dust20"
      ],
      "metadata": {
        "pycharm": {
          "name": "#%%\n"
        },
        "id": "xY754MxS8P-P"
      }
    },
    {
      "cell_type": "code",
      "execution_count": null,
      "outputs": [],
      "source": [
        "dust20.info()"
      ],
      "metadata": {
        "pycharm": {
          "name": "#%%\n"
        },
        "id": "0TnY9eSr8P-P"
      }
    },
    {
      "cell_type": "code",
      "execution_count": null,
      "outputs": [],
      "source": [
        "dust20.drop('권역코드', axis=1, inplace=True)\n",
        "dust20.drop('권역명', axis=1, inplace=True)\n",
        "dust20.drop('측정소코드', axis=1, inplace=True)\n",
        "dust20.drop('오존(ppm)', axis=1, inplace=True)\n",
        "dust20.drop('이산화질소농도(ppm)', axis=1, inplace=True)\n",
        "dust20.drop('일산화탄소농도(ppm)', axis=1, inplace=True)\n",
        "dust20.drop('아황산가스농도(ppm)', axis=1, inplace=True)\n",
        "dust20"
      ],
      "metadata": {
        "pycharm": {
          "name": "#%%\n"
        },
        "id": "T67aP3EZ8P-P"
      }
    },
    {
      "cell_type": "code",
      "execution_count": null,
      "outputs": [],
      "source": [
        "dust20.columns = ['date', 'gu', 'PM10', 'PM25']\n",
        "dust20"
      ],
      "metadata": {
        "pycharm": {
          "name": "#%%\n"
        },
        "id": "GqwpDl1d8P-P"
      }
    },
    {
      "cell_type": "code",
      "execution_count": null,
      "outputs": [],
      "source": [
        "dust20.to_csv('data/dust2020.csv', index=False)"
      ],
      "metadata": {
        "pycharm": {
          "name": "#%%\n"
        },
        "id": "wZMhhIIm8P-P"
      }
    },
    {
      "cell_type": "code",
      "execution_count": null,
      "outputs": [
        {
          "data": {
            "text/plain": "          date    gu  PM10  PM25\n0     20201231    중구    29    13\n1     20201231   종로구    28    12\n2     20201231   용산구    34    10\n3     20201231   은평구    26    10\n4     20201231  서대문구    20    10\n...        ...   ...   ...   ...\n9095  20200101   양천구    40    26\n9096  20200101   강남구    30    22\n9097  20200101   서초구    37    23\n9098  20200101   송파구    31    21\n9099  20200101   강동구    35    27\n\n[9100 rows x 4 columns]",
            "text/html": "<div>\n<style scoped>\n    .dataframe tbody tr th:only-of-type {\n        vertical-align: middle;\n    }\n\n    .dataframe tbody tr th {\n        vertical-align: top;\n    }\n\n    .dataframe thead th {\n        text-align: right;\n    }\n</style>\n<table border=\"1\" class=\"dataframe\">\n  <thead>\n    <tr style=\"text-align: right;\">\n      <th></th>\n      <th>date</th>\n      <th>gu</th>\n      <th>PM10</th>\n      <th>PM25</th>\n    </tr>\n  </thead>\n  <tbody>\n    <tr>\n      <th>0</th>\n      <td>20201231</td>\n      <td>중구</td>\n      <td>29</td>\n      <td>13</td>\n    </tr>\n    <tr>\n      <th>1</th>\n      <td>20201231</td>\n      <td>종로구</td>\n      <td>28</td>\n      <td>12</td>\n    </tr>\n    <tr>\n      <th>2</th>\n      <td>20201231</td>\n      <td>용산구</td>\n      <td>34</td>\n      <td>10</td>\n    </tr>\n    <tr>\n      <th>3</th>\n      <td>20201231</td>\n      <td>은평구</td>\n      <td>26</td>\n      <td>10</td>\n    </tr>\n    <tr>\n      <th>4</th>\n      <td>20201231</td>\n      <td>서대문구</td>\n      <td>20</td>\n      <td>10</td>\n    </tr>\n    <tr>\n      <th>...</th>\n      <td>...</td>\n      <td>...</td>\n      <td>...</td>\n      <td>...</td>\n    </tr>\n    <tr>\n      <th>9095</th>\n      <td>20200101</td>\n      <td>양천구</td>\n      <td>40</td>\n      <td>26</td>\n    </tr>\n    <tr>\n      <th>9096</th>\n      <td>20200101</td>\n      <td>강남구</td>\n      <td>30</td>\n      <td>22</td>\n    </tr>\n    <tr>\n      <th>9097</th>\n      <td>20200101</td>\n      <td>서초구</td>\n      <td>37</td>\n      <td>23</td>\n    </tr>\n    <tr>\n      <th>9098</th>\n      <td>20200101</td>\n      <td>송파구</td>\n      <td>31</td>\n      <td>21</td>\n    </tr>\n    <tr>\n      <th>9099</th>\n      <td>20200101</td>\n      <td>강동구</td>\n      <td>35</td>\n      <td>27</td>\n    </tr>\n  </tbody>\n</table>\n<p>9100 rows × 4 columns</p>\n</div>"
          },
          "execution_count": 9,
          "metadata": {},
          "output_type": "execute_result"
        }
      ],
      "source": [
        "dust2020 = pd.read_csv('data/dust2020.csv')\n",
        "dust2020"
      ],
      "metadata": {
        "pycharm": {
          "name": "#%%\n"
        },
        "id": "JsJuxNQA8P-Q",
        "outputId": "248e1d21-1acc-4e7d-95ff-800f76ae9b85"
      }
    },
    {
      "cell_type": "code",
      "execution_count": null,
      "outputs": [],
      "source": [
        "dust = pd.concat([dust2016, dust2017, dust2018, dust2019, dust2020])\n",
        "dust.columns = ['측정일자', '측정소명', '미세먼지(㎍/㎥)', '초미세먼지(㎍/㎥)']\n",
        "dust.to_csv('data/dust.csv', index=False)"
      ],
      "metadata": {
        "pycharm": {
          "name": "#%%\n"
        },
        "id": "4DUNtzO38P-Q"
      }
    },
    {
      "cell_type": "code",
      "execution_count": null,
      "outputs": [
        {
          "data": {
            "text/plain": "           측정일자 측정소명  미세먼지(㎍/㎥)  초미세먼지(㎍/㎥)\n0      20160101  광진구         85          64\n1      20160101  강남구         73          44\n2      20160101  강서구         66          38\n3      20160101  구로구         56          41\n4      20160101  성북구         71          45\n...         ...  ...        ...         ...\n45414  20200101  양천구         40          26\n45415  20200101  강남구         30          22\n45416  20200101  서초구         37          23\n45417  20200101  송파구         31          21\n45418  20200101  강동구         35          27\n\n[45419 rows x 4 columns]",
            "text/html": "<div>\n<style scoped>\n    .dataframe tbody tr th:only-of-type {\n        vertical-align: middle;\n    }\n\n    .dataframe tbody tr th {\n        vertical-align: top;\n    }\n\n    .dataframe thead th {\n        text-align: right;\n    }\n</style>\n<table border=\"1\" class=\"dataframe\">\n  <thead>\n    <tr style=\"text-align: right;\">\n      <th></th>\n      <th>측정일자</th>\n      <th>측정소명</th>\n      <th>미세먼지(㎍/㎥)</th>\n      <th>초미세먼지(㎍/㎥)</th>\n    </tr>\n  </thead>\n  <tbody>\n    <tr>\n      <th>0</th>\n      <td>20160101</td>\n      <td>광진구</td>\n      <td>85</td>\n      <td>64</td>\n    </tr>\n    <tr>\n      <th>1</th>\n      <td>20160101</td>\n      <td>강남구</td>\n      <td>73</td>\n      <td>44</td>\n    </tr>\n    <tr>\n      <th>2</th>\n      <td>20160101</td>\n      <td>강서구</td>\n      <td>66</td>\n      <td>38</td>\n    </tr>\n    <tr>\n      <th>3</th>\n      <td>20160101</td>\n      <td>구로구</td>\n      <td>56</td>\n      <td>41</td>\n    </tr>\n    <tr>\n      <th>4</th>\n      <td>20160101</td>\n      <td>성북구</td>\n      <td>71</td>\n      <td>45</td>\n    </tr>\n    <tr>\n      <th>...</th>\n      <td>...</td>\n      <td>...</td>\n      <td>...</td>\n      <td>...</td>\n    </tr>\n    <tr>\n      <th>45414</th>\n      <td>20200101</td>\n      <td>양천구</td>\n      <td>40</td>\n      <td>26</td>\n    </tr>\n    <tr>\n      <th>45415</th>\n      <td>20200101</td>\n      <td>강남구</td>\n      <td>30</td>\n      <td>22</td>\n    </tr>\n    <tr>\n      <th>45416</th>\n      <td>20200101</td>\n      <td>서초구</td>\n      <td>37</td>\n      <td>23</td>\n    </tr>\n    <tr>\n      <th>45417</th>\n      <td>20200101</td>\n      <td>송파구</td>\n      <td>31</td>\n      <td>21</td>\n    </tr>\n    <tr>\n      <th>45418</th>\n      <td>20200101</td>\n      <td>강동구</td>\n      <td>35</td>\n      <td>27</td>\n    </tr>\n  </tbody>\n</table>\n<p>45419 rows × 4 columns</p>\n</div>"
          },
          "execution_count": 11,
          "metadata": {},
          "output_type": "execute_result"
        }
      ],
      "source": [
        "dust = pd.read_csv('data/dust.csv')\n",
        "dust"
      ],
      "metadata": {
        "pycharm": {
          "name": "#%%\n"
        },
        "id": "n1hIH2Zb8P-Q",
        "outputId": "8e482ba1-5ade-4e08-9c91-7891592cc341"
      }
    },
    {
      "cell_type": "code",
      "execution_count": null,
      "outputs": [],
      "source": [
        "ra = pd.read_csv('data/도로현황(도로율).csv', header=1)\n",
        "ra"
      ],
      "metadata": {
        "pycharm": {
          "name": "#%%\n"
        },
        "id": "ro_IsBC18P-Q"
      }
    },
    {
      "cell_type": "code",
      "execution_count": null,
      "outputs": [],
      "source": [
        "ra.info()"
      ],
      "metadata": {
        "pycharm": {
          "name": "#%%\n"
        },
        "id": "EnQgnMq48P-Q"
      }
    },
    {
      "cell_type": "code",
      "execution_count": null,
      "outputs": [],
      "source": [
        "ra.drop('자치구별(1)', axis=1, inplace=True)\n",
        "ra.drop('도로연장 (km)', axis=1, inplace=True)\n",
        "ra.columns = ['자치구별', '도로면적 (㎢)', '도로율 (%)']\n",
        "ra.drop([0], axis=0, inplace=True)\n",
        "ra"
      ],
      "metadata": {
        "pycharm": {
          "name": "#%%\n"
        },
        "id": "l8369LlM8P-R"
      }
    },
    {
      "cell_type": "code",
      "execution_count": null,
      "outputs": [],
      "source": [
        "ra.to_csv('data/road_area.csv', index=False)"
      ],
      "metadata": {
        "pycharm": {
          "name": "#%%\n"
        },
        "id": "MVpcfOzW8P-R"
      }
    },
    {
      "cell_type": "code",
      "execution_count": null,
      "outputs": [
        {
          "data": {
            "text/plain": "    자치구별  도로면적 (㎢)  도로율 (%)\n0    종로구  2.701070    21.44\n1     중구  1.876189    18.82\n2    용산구  3.154983    22.19\n3    성동구  3.024659    23.09\n4    광진구  3.436834    28.83\n5   동대문구  3.151074    22.16\n6    중랑구  2.861614    26.01\n7    성북구  4.225186    23.59\n8    강북구  1.984564    20.93\n9    도봉구  2.354393    19.02\n10   노원구  3.703776    23.71\n11   은평구  3.518076    22.08\n12  서대문구  2.744932    17.25\n13   마포구  4.113591    28.61\n14   양천구  3.700304    27.88\n15   강서구  4.971891    26.99\n16   구로구  3.227759    22.06\n17   금천구  2.263876    21.38\n18  영등포구  4.574217    24.23\n19   동작구  2.754623    17.29\n20   관악구  3.028487    25.41\n21   서초구  5.564352    26.35\n22   강남구  5.803381    24.06\n23   송파구  4.784694    20.68\n24   강동구  3.378733    24.00",
            "text/html": "<div>\n<style scoped>\n    .dataframe tbody tr th:only-of-type {\n        vertical-align: middle;\n    }\n\n    .dataframe tbody tr th {\n        vertical-align: top;\n    }\n\n    .dataframe thead th {\n        text-align: right;\n    }\n</style>\n<table border=\"1\" class=\"dataframe\">\n  <thead>\n    <tr style=\"text-align: right;\">\n      <th></th>\n      <th>자치구별</th>\n      <th>도로면적 (㎢)</th>\n      <th>도로율 (%)</th>\n    </tr>\n  </thead>\n  <tbody>\n    <tr>\n      <th>0</th>\n      <td>종로구</td>\n      <td>2.701070</td>\n      <td>21.44</td>\n    </tr>\n    <tr>\n      <th>1</th>\n      <td>중구</td>\n      <td>1.876189</td>\n      <td>18.82</td>\n    </tr>\n    <tr>\n      <th>2</th>\n      <td>용산구</td>\n      <td>3.154983</td>\n      <td>22.19</td>\n    </tr>\n    <tr>\n      <th>3</th>\n      <td>성동구</td>\n      <td>3.024659</td>\n      <td>23.09</td>\n    </tr>\n    <tr>\n      <th>4</th>\n      <td>광진구</td>\n      <td>3.436834</td>\n      <td>28.83</td>\n    </tr>\n    <tr>\n      <th>5</th>\n      <td>동대문구</td>\n      <td>3.151074</td>\n      <td>22.16</td>\n    </tr>\n    <tr>\n      <th>6</th>\n      <td>중랑구</td>\n      <td>2.861614</td>\n      <td>26.01</td>\n    </tr>\n    <tr>\n      <th>7</th>\n      <td>성북구</td>\n      <td>4.225186</td>\n      <td>23.59</td>\n    </tr>\n    <tr>\n      <th>8</th>\n      <td>강북구</td>\n      <td>1.984564</td>\n      <td>20.93</td>\n    </tr>\n    <tr>\n      <th>9</th>\n      <td>도봉구</td>\n      <td>2.354393</td>\n      <td>19.02</td>\n    </tr>\n    <tr>\n      <th>10</th>\n      <td>노원구</td>\n      <td>3.703776</td>\n      <td>23.71</td>\n    </tr>\n    <tr>\n      <th>11</th>\n      <td>은평구</td>\n      <td>3.518076</td>\n      <td>22.08</td>\n    </tr>\n    <tr>\n      <th>12</th>\n      <td>서대문구</td>\n      <td>2.744932</td>\n      <td>17.25</td>\n    </tr>\n    <tr>\n      <th>13</th>\n      <td>마포구</td>\n      <td>4.113591</td>\n      <td>28.61</td>\n    </tr>\n    <tr>\n      <th>14</th>\n      <td>양천구</td>\n      <td>3.700304</td>\n      <td>27.88</td>\n    </tr>\n    <tr>\n      <th>15</th>\n      <td>강서구</td>\n      <td>4.971891</td>\n      <td>26.99</td>\n    </tr>\n    <tr>\n      <th>16</th>\n      <td>구로구</td>\n      <td>3.227759</td>\n      <td>22.06</td>\n    </tr>\n    <tr>\n      <th>17</th>\n      <td>금천구</td>\n      <td>2.263876</td>\n      <td>21.38</td>\n    </tr>\n    <tr>\n      <th>18</th>\n      <td>영등포구</td>\n      <td>4.574217</td>\n      <td>24.23</td>\n    </tr>\n    <tr>\n      <th>19</th>\n      <td>동작구</td>\n      <td>2.754623</td>\n      <td>17.29</td>\n    </tr>\n    <tr>\n      <th>20</th>\n      <td>관악구</td>\n      <td>3.028487</td>\n      <td>25.41</td>\n    </tr>\n    <tr>\n      <th>21</th>\n      <td>서초구</td>\n      <td>5.564352</td>\n      <td>26.35</td>\n    </tr>\n    <tr>\n      <th>22</th>\n      <td>강남구</td>\n      <td>5.803381</td>\n      <td>24.06</td>\n    </tr>\n    <tr>\n      <th>23</th>\n      <td>송파구</td>\n      <td>4.784694</td>\n      <td>20.68</td>\n    </tr>\n    <tr>\n      <th>24</th>\n      <td>강동구</td>\n      <td>3.378733</td>\n      <td>24.00</td>\n    </tr>\n  </tbody>\n</table>\n</div>"
          },
          "execution_count": 12,
          "metadata": {},
          "output_type": "execute_result"
        }
      ],
      "source": [
        "road_area = pd.read_csv('data/road_area.csv')\n",
        "road_area"
      ],
      "metadata": {
        "pycharm": {
          "name": "#%%\n"
        },
        "id": "H1NhbtVB8P-R",
        "outputId": "9b4cef17-8267-4266-a79b-1fcc5ade4cb5"
      }
    },
    {
      "cell_type": "code",
      "execution_count": null,
      "outputs": [
        {
          "data": {
            "text/plain": "      연번              공원명                                               공원개요  \\\n0      1         남산도시자연공원  남산공원은 도심에 위치하여 서울시민에게 맑은 공기를 제공하는 자연휴식처이며 산책 꽃...   \n1      2           길동생태공원  길동생태공원은 생물의 서식처를 제공하고 종다양성을 증진시키며 자연생태계의 생물들을 ...   \n2      3            서울대공원  서울대공원은 세계 각국의 야생동물들이 살아 숨 쉬는 서울동물원과 다양한 재미와 즐거...   \n3      4              서울숲  당초 골프장 승마장 등이 있던 뚝섬일대를 주거업무 지역으로 개발할 경우 약 4조원에...   \n4      5            월드컵공원  월드컵공원은 서울의 서쪽에 위치하여 1978년부터 1993년까지 15년간 서울시민이...   \n..   ...              ...                                                ...   \n127  128  용마도시자연공원(사가정공원)  2005년 4월 13일 개장한 사가정공원은 면목동 산 50번지 일대의 면목약수터지구...   \n128  129           문화비축기지  매봉산자락에 위치한 문화비축기지는 폐산업시설인 '마포석유비축기지'를 재생하여 역사적...   \n129  130            경춘선숲길  일제 강점기때 우리 민족의 자본으로 만든 최초의 철도시설로 1939년 7월 25일 ...   \n130  131             율현공원  ? 율현공원은 보금자리주택 세곡2지구 사업의 결과물로 만들어졌다. 공원은 주택지구의...   \n131  132          서울로7017  서울로7017은 70년대 준공된 서울역 고가가 안전에 문제점이 도출되면서 철거가 될...   \n\n                                            면적         개원일  \\\n0    2896887 임 야 : 2454140 녹지대 및 기타시설 : 442747   1968.9.10   \n1                                        80683   1999.5.20   \n2                                      9132690    1984.5.1   \n3                                       480994   2005.6.18   \n4                                      2284085    2002.5.1   \n..                                         ...         ...   \n127                                    109635   2005.4.13    \n128                                     140022    2017.9.1   \n129                                     211392         NaN   \n130                                     157535   2016.11.1   \n131                                        NaN         NaN   \n\n                                                  주요시설  \\\n0    기반시설 : 광장 45950 도로 108530 산책로 6.7㎞ (북측:3.7㎞/남측...   \n1                 탐방객안내소 야외전시대 관찰대 목재데크 조류관찰대 길동생태문화센터   \n2    동물원 식물원 테마가든(장미원 어린이동물원 피크닉장) 치유숲 산림욕장 캠핑장 국립현...   \n3    4개 테마공원: 문화예술공원 자연생태숲 자연체험학습원 습지생태원 주요시설: 가족마당...   \n4    평화의 공원 월드컵공원전시관(879) 유니세프광장(2400) 평화광장(5217) 난...   \n..                                                 ...   \n127                               피크닉장 놀이터 체력단련장 체육관     \n128                                     6개의탱크와 문화마당 녹지   \n129  조경시설 : 텃밭 잔디광장 철길 산책로 등 건축시설 : 무궁화호 객차(방문자센터) ...   \n130  관리시설 : 사무실 조경시설 : 정자(4개) 조형쉼터(10개) 조형파고라(3개) 수...   \n131                                                NaN   \n\n                                                  주요식물  \\\n0                    소나무 단풍 아카시아 상수리나무 등 191종 2881870주   \n1            소나무 보리수 등 64종 31800주 산국 부들 등 138종 192800본   \n2                                                  NaN   \n3    수 목 : 소나무 섬잣나무 계수나무 외 95종 415795주 식물원 : 선인장 등 ...   \n4                                                  NaN   \n..                                                 ...   \n127                                                NaN   \n128                                                NaN   \n129                                                NaN   \n130  수목 : 소나무 이팝나무 등  110종  143069주 초화 : 맥문동 벌개미취 등...   \n131                                                NaN   \n\n                                                   안내도  \\\n0    http://parks.seoul.go.kr/upload/seditorMulti/2...   \n1    http://parks.seoul.go.kr/template/common/img/p...   \n2                                                  NaN   \n3    http://parks.seoul.go.kr/template/common/img/p...   \n4    http://parks.seoul.go.kr/template/common/img/p...   \n..                                                 ...   \n127                                                NaN   \n128  http://parks.seoul.go.kr/upload/seditorMulti/2...   \n129                                                NaN   \n130  http://parks.seoul.go.kr/upload/seditorMulti/2...   \n131                                                NaN   \n\n                                                  오시는길  \\\n0    명동역(남산케이블카 와룡묘 서울애니메이션센터 방면) 도보 명동역 3번출구 → 퍼시픽...   \n1                                                  NaN   \n2    지하철 4호선 대공원역 하차(2번 출구) 도보 15분 정도 문의처 02)500-73...   \n3                                                  NaN   \n4    지하철 6호선 월드컵경기장역 하차 → 1번 출구로 나온 후 직진 → 큰길(도로)이 ...   \n..                                                 ...   \n127                                                NaN   \n128                                                NaN   \n129  지하철 이용시 지하철 7호선 하계역 4번출구 미성/장미아파트 도로 450m직진 지하...   \n130                                                NaN   \n131  중림 만리동(서울로 종점부에서 진입) 지하철- 충정로(경기대입구) - 2 5호선 :...   \n\n                                               이용시참고사항  \\\n0    남산공원 차량통행 금지안내 2005년 5월 1일부터 남산공원에 일반승용차 택시 통행...   \n1    매주 월요일은 휴관입니다 사전예약 후 입장하실 수 있습니다. ▶ 인터넷 예약 바로가...   \n2    일반사항 공원을 깨끗하게 이용합니다. 대중교통을 이용해 주세요. 기념물 시설물 풀과...   \n3    지하철 분당선 서울숲역 3번출구 도보로 약5분 2호선 뚝섬역 8번출구 도보로 약 1...   \n4    일반사항 공원을 깨끗하게 이용합니다. 대중교통을 이용해 주세요. 기념물 시설물 풀과...   \n..                                                 ...   \n127                                                NaN   \n128   ? 일반사항  - 공원은 연중무휴이나 전시관은 월요일 휴관입니다.   - 공원을 ...   \n129  ○ 6.3km   (시 작 점 : 육사삼거리   중간지점 : 화랑대사거리 → 화랑대...   \n130  공원 인근에 서울공항 활주로가 위치하고 있어 공원 내에서 드론을 날리거나 헬륨가스 ...   \n131                                                NaN   \n\n                                                   이미지   지역  \\\n0    http://parks.seoul.go.kr/file/info/view.do?fId...   중구   \n1    http://parks.seoul.go.kr/file/info/view.do?fId...  강동구   \n2    http://parks.seoul.go.kr/file/info/view.do?fId...  과천시   \n3    http://parks.seoul.go.kr/file/info/view.do?fId...  성동구   \n4    http://parks.seoul.go.kr/file/info/view.do?fId...  마포구   \n..                                                 ...  ...   \n127  http://parks.seoul.go.kr/file/info/view.do?fId...  중랑구   \n128  http://parks.seoul.go.kr/file/info/view.do?fId...  마포구   \n129  http://parks.seoul.go.kr/file/info/view.do?fId...  NaN   \n130  http://parks.seoul.go.kr/file/info/view.do?fId...  강남구   \n131  http://parks.seoul.go.kr/file/info/view.do?fId...   중구   \n\n                              공원주소              관리부서          전화번호  \\\n0           서울특별시 중구 삼일대로 231(예장동)    서울특별시중부푸른도시사업소  02-3783-5900   \n1     서울특별시 강동구 천호대로 1291(길동생태공원)   동부공원녹지사업소 길동생태공원   02-489-2770   \n2               경기도 과천시 대공원광장로 102             전략기획실   02-500-7032   \n3       서울특별시 성동구 뚝섬로 273 (성수동1가)          서울숲 관리사무소  02-460-2905    \n4        서울특별시 마포구 하늘공원로 84(월드컵공원)             월드컵공원   02-300-5500   \n..                             ...               ...           ...   \n127            서울특별시 중랑구 면목7동 산50         중랑구청 공원녹지과  02-2094-2993   \n128               서울특별시 마포구 증산로 87            문화비축기지   02-376-8410   \n129                노원구 공릉2동 산 82-2         중부공원녹지사업소  02-2289-4012   \n130  서울특별시 강남구 율현동 밤고개로24길(율현동 56)         동부공원녹지사업소   02-459-9452   \n131                        서울로7017            서울로운영단   02-313-7017   \n\n      X좌표(GRS80TM)  Y좌표(GRS80TM)  X좌표(WGS84)  Y좌표(WGS84)  \\\n0    198364.107000  4.503956e+05  126.990377   37.550140   \n1    213554.120000  4.488527e+05  127.154779   37.540394   \n2    200994.267000  4.371640e+05  127.019846   37.426449   \n3    203695.432000  4.492907e+05  127.041798   37.543072   \n4    190658.070000  4.515988e+05  126.878907   37.571805   \n..             ...           ...         ...         ...   \n127            NaN           NaN  127.095997   37.579762   \n128  114264.460400  3.712093e+06  126.893246   37.571718   \n129     127.076482  3.762708e+01  127.076482   37.627077   \n130            NaN           NaN  127.115594   37.472332   \n131            NaN           NaN         NaN         NaN   \n\n                                                  바로가기  \n0      http://parks.seoul.go.kr/template/sub/namsan.do  \n1     http://parks.seoul.go.kr/template/sub/gildong.do  \n2                        http://grandpark.seoul.go.kr/  \n3    http://parks.seoul.go.kr/template/sub/seoulfor...  \n4    http://parks.seoul.go.kr/template/sub/worldcup...  \n..                                                 ...  \n127                                                NaN  \n128  http://parks.seoul.go.kr/template/sub/culturet...  \n129                                                NaN  \n130                                                NaN  \n131                                                NaN  \n\n[132 rows x 20 columns]",
            "text/html": "<div>\n<style scoped>\n    .dataframe tbody tr th:only-of-type {\n        vertical-align: middle;\n    }\n\n    .dataframe tbody tr th {\n        vertical-align: top;\n    }\n\n    .dataframe thead th {\n        text-align: right;\n    }\n</style>\n<table border=\"1\" class=\"dataframe\">\n  <thead>\n    <tr style=\"text-align: right;\">\n      <th></th>\n      <th>연번</th>\n      <th>공원명</th>\n      <th>공원개요</th>\n      <th>면적</th>\n      <th>개원일</th>\n      <th>주요시설</th>\n      <th>주요식물</th>\n      <th>안내도</th>\n      <th>오시는길</th>\n      <th>이용시참고사항</th>\n      <th>이미지</th>\n      <th>지역</th>\n      <th>공원주소</th>\n      <th>관리부서</th>\n      <th>전화번호</th>\n      <th>X좌표(GRS80TM)</th>\n      <th>Y좌표(GRS80TM)</th>\n      <th>X좌표(WGS84)</th>\n      <th>Y좌표(WGS84)</th>\n      <th>바로가기</th>\n    </tr>\n  </thead>\n  <tbody>\n    <tr>\n      <th>0</th>\n      <td>1</td>\n      <td>남산도시자연공원</td>\n      <td>남산공원은 도심에 위치하여 서울시민에게 맑은 공기를 제공하는 자연휴식처이며 산책 꽃...</td>\n      <td>2896887 임 야 : 2454140 녹지대 및 기타시설 : 442747</td>\n      <td>1968.9.10</td>\n      <td>기반시설 : 광장 45950 도로 108530 산책로 6.7㎞ (북측:3.7㎞/남측...</td>\n      <td>소나무 단풍 아카시아 상수리나무 등 191종 2881870주</td>\n      <td>http://parks.seoul.go.kr/upload/seditorMulti/2...</td>\n      <td>명동역(남산케이블카 와룡묘 서울애니메이션센터 방면) 도보 명동역 3번출구 → 퍼시픽...</td>\n      <td>남산공원 차량통행 금지안내 2005년 5월 1일부터 남산공원에 일반승용차 택시 통행...</td>\n      <td>http://parks.seoul.go.kr/file/info/view.do?fId...</td>\n      <td>중구</td>\n      <td>서울특별시 중구 삼일대로 231(예장동)</td>\n      <td>서울특별시중부푸른도시사업소</td>\n      <td>02-3783-5900</td>\n      <td>198364.107000</td>\n      <td>4.503956e+05</td>\n      <td>126.990377</td>\n      <td>37.550140</td>\n      <td>http://parks.seoul.go.kr/template/sub/namsan.do</td>\n    </tr>\n    <tr>\n      <th>1</th>\n      <td>2</td>\n      <td>길동생태공원</td>\n      <td>길동생태공원은 생물의 서식처를 제공하고 종다양성을 증진시키며 자연생태계의 생물들을 ...</td>\n      <td>80683</td>\n      <td>1999.5.20</td>\n      <td>탐방객안내소 야외전시대 관찰대 목재데크 조류관찰대 길동생태문화센터</td>\n      <td>소나무 보리수 등 64종 31800주 산국 부들 등 138종 192800본</td>\n      <td>http://parks.seoul.go.kr/template/common/img/p...</td>\n      <td>NaN</td>\n      <td>매주 월요일은 휴관입니다 사전예약 후 입장하실 수 있습니다. ▶ 인터넷 예약 바로가...</td>\n      <td>http://parks.seoul.go.kr/file/info/view.do?fId...</td>\n      <td>강동구</td>\n      <td>서울특별시 강동구 천호대로 1291(길동생태공원)</td>\n      <td>동부공원녹지사업소 길동생태공원</td>\n      <td>02-489-2770</td>\n      <td>213554.120000</td>\n      <td>4.488527e+05</td>\n      <td>127.154779</td>\n      <td>37.540394</td>\n      <td>http://parks.seoul.go.kr/template/sub/gildong.do</td>\n    </tr>\n    <tr>\n      <th>2</th>\n      <td>3</td>\n      <td>서울대공원</td>\n      <td>서울대공원은 세계 각국의 야생동물들이 살아 숨 쉬는 서울동물원과 다양한 재미와 즐거...</td>\n      <td>9132690</td>\n      <td>1984.5.1</td>\n      <td>동물원 식물원 테마가든(장미원 어린이동물원 피크닉장) 치유숲 산림욕장 캠핑장 국립현...</td>\n      <td>NaN</td>\n      <td>NaN</td>\n      <td>지하철 4호선 대공원역 하차(2번 출구) 도보 15분 정도 문의처 02)500-73...</td>\n      <td>일반사항 공원을 깨끗하게 이용합니다. 대중교통을 이용해 주세요. 기념물 시설물 풀과...</td>\n      <td>http://parks.seoul.go.kr/file/info/view.do?fId...</td>\n      <td>과천시</td>\n      <td>경기도 과천시 대공원광장로 102</td>\n      <td>전략기획실</td>\n      <td>02-500-7032</td>\n      <td>200994.267000</td>\n      <td>4.371640e+05</td>\n      <td>127.019846</td>\n      <td>37.426449</td>\n      <td>http://grandpark.seoul.go.kr/</td>\n    </tr>\n    <tr>\n      <th>3</th>\n      <td>4</td>\n      <td>서울숲</td>\n      <td>당초 골프장 승마장 등이 있던 뚝섬일대를 주거업무 지역으로 개발할 경우 약 4조원에...</td>\n      <td>480994</td>\n      <td>2005.6.18</td>\n      <td>4개 테마공원: 문화예술공원 자연생태숲 자연체험학습원 습지생태원 주요시설: 가족마당...</td>\n      <td>수 목 : 소나무 섬잣나무 계수나무 외 95종 415795주 식물원 : 선인장 등 ...</td>\n      <td>http://parks.seoul.go.kr/template/common/img/p...</td>\n      <td>NaN</td>\n      <td>지하철 분당선 서울숲역 3번출구 도보로 약5분 2호선 뚝섬역 8번출구 도보로 약 1...</td>\n      <td>http://parks.seoul.go.kr/file/info/view.do?fId...</td>\n      <td>성동구</td>\n      <td>서울특별시 성동구 뚝섬로 273 (성수동1가)</td>\n      <td>서울숲 관리사무소</td>\n      <td>02-460-2905</td>\n      <td>203695.432000</td>\n      <td>4.492907e+05</td>\n      <td>127.041798</td>\n      <td>37.543072</td>\n      <td>http://parks.seoul.go.kr/template/sub/seoulfor...</td>\n    </tr>\n    <tr>\n      <th>4</th>\n      <td>5</td>\n      <td>월드컵공원</td>\n      <td>월드컵공원은 서울의 서쪽에 위치하여 1978년부터 1993년까지 15년간 서울시민이...</td>\n      <td>2284085</td>\n      <td>2002.5.1</td>\n      <td>평화의 공원 월드컵공원전시관(879) 유니세프광장(2400) 평화광장(5217) 난...</td>\n      <td>NaN</td>\n      <td>http://parks.seoul.go.kr/template/common/img/p...</td>\n      <td>지하철 6호선 월드컵경기장역 하차 → 1번 출구로 나온 후 직진 → 큰길(도로)이 ...</td>\n      <td>일반사항 공원을 깨끗하게 이용합니다. 대중교통을 이용해 주세요. 기념물 시설물 풀과...</td>\n      <td>http://parks.seoul.go.kr/file/info/view.do?fId...</td>\n      <td>마포구</td>\n      <td>서울특별시 마포구 하늘공원로 84(월드컵공원)</td>\n      <td>월드컵공원</td>\n      <td>02-300-5500</td>\n      <td>190658.070000</td>\n      <td>4.515988e+05</td>\n      <td>126.878907</td>\n      <td>37.571805</td>\n      <td>http://parks.seoul.go.kr/template/sub/worldcup...</td>\n    </tr>\n    <tr>\n      <th>...</th>\n      <td>...</td>\n      <td>...</td>\n      <td>...</td>\n      <td>...</td>\n      <td>...</td>\n      <td>...</td>\n      <td>...</td>\n      <td>...</td>\n      <td>...</td>\n      <td>...</td>\n      <td>...</td>\n      <td>...</td>\n      <td>...</td>\n      <td>...</td>\n      <td>...</td>\n      <td>...</td>\n      <td>...</td>\n      <td>...</td>\n      <td>...</td>\n      <td>...</td>\n    </tr>\n    <tr>\n      <th>127</th>\n      <td>128</td>\n      <td>용마도시자연공원(사가정공원)</td>\n      <td>2005년 4월 13일 개장한 사가정공원은 면목동 산 50번지 일대의 면목약수터지구...</td>\n      <td>109635</td>\n      <td>2005.4.13</td>\n      <td>피크닉장 놀이터 체력단련장 체육관</td>\n      <td>NaN</td>\n      <td>NaN</td>\n      <td>NaN</td>\n      <td>NaN</td>\n      <td>http://parks.seoul.go.kr/file/info/view.do?fId...</td>\n      <td>중랑구</td>\n      <td>서울특별시 중랑구 면목7동 산50</td>\n      <td>중랑구청 공원녹지과</td>\n      <td>02-2094-2993</td>\n      <td>NaN</td>\n      <td>NaN</td>\n      <td>127.095997</td>\n      <td>37.579762</td>\n      <td>NaN</td>\n    </tr>\n    <tr>\n      <th>128</th>\n      <td>129</td>\n      <td>문화비축기지</td>\n      <td>매봉산자락에 위치한 문화비축기지는 폐산업시설인 '마포석유비축기지'를 재생하여 역사적...</td>\n      <td>140022</td>\n      <td>2017.9.1</td>\n      <td>6개의탱크와 문화마당 녹지</td>\n      <td>NaN</td>\n      <td>http://parks.seoul.go.kr/upload/seditorMulti/2...</td>\n      <td>NaN</td>\n      <td>? 일반사항  - 공원은 연중무휴이나 전시관은 월요일 휴관입니다.   - 공원을 ...</td>\n      <td>http://parks.seoul.go.kr/file/info/view.do?fId...</td>\n      <td>마포구</td>\n      <td>서울특별시 마포구 증산로 87</td>\n      <td>문화비축기지</td>\n      <td>02-376-8410</td>\n      <td>114264.460400</td>\n      <td>3.712093e+06</td>\n      <td>126.893246</td>\n      <td>37.571718</td>\n      <td>http://parks.seoul.go.kr/template/sub/culturet...</td>\n    </tr>\n    <tr>\n      <th>129</th>\n      <td>130</td>\n      <td>경춘선숲길</td>\n      <td>일제 강점기때 우리 민족의 자본으로 만든 최초의 철도시설로 1939년 7월 25일 ...</td>\n      <td>211392</td>\n      <td>NaN</td>\n      <td>조경시설 : 텃밭 잔디광장 철길 산책로 등 건축시설 : 무궁화호 객차(방문자센터) ...</td>\n      <td>NaN</td>\n      <td>NaN</td>\n      <td>지하철 이용시 지하철 7호선 하계역 4번출구 미성/장미아파트 도로 450m직진 지하...</td>\n      <td>○ 6.3km   (시 작 점 : 육사삼거리   중간지점 : 화랑대사거리 → 화랑대...</td>\n      <td>http://parks.seoul.go.kr/file/info/view.do?fId...</td>\n      <td>NaN</td>\n      <td>노원구 공릉2동 산 82-2</td>\n      <td>중부공원녹지사업소</td>\n      <td>02-2289-4012</td>\n      <td>127.076482</td>\n      <td>3.762708e+01</td>\n      <td>127.076482</td>\n      <td>37.627077</td>\n      <td>NaN</td>\n    </tr>\n    <tr>\n      <th>130</th>\n      <td>131</td>\n      <td>율현공원</td>\n      <td>? 율현공원은 보금자리주택 세곡2지구 사업의 결과물로 만들어졌다. 공원은 주택지구의...</td>\n      <td>157535</td>\n      <td>2016.11.1</td>\n      <td>관리시설 : 사무실 조경시설 : 정자(4개) 조형쉼터(10개) 조형파고라(3개) 수...</td>\n      <td>수목 : 소나무 이팝나무 등  110종  143069주 초화 : 맥문동 벌개미취 등...</td>\n      <td>http://parks.seoul.go.kr/upload/seditorMulti/2...</td>\n      <td>NaN</td>\n      <td>공원 인근에 서울공항 활주로가 위치하고 있어 공원 내에서 드론을 날리거나 헬륨가스 ...</td>\n      <td>http://parks.seoul.go.kr/file/info/view.do?fId...</td>\n      <td>강남구</td>\n      <td>서울특별시 강남구 율현동 밤고개로24길(율현동 56)</td>\n      <td>동부공원녹지사업소</td>\n      <td>02-459-9452</td>\n      <td>NaN</td>\n      <td>NaN</td>\n      <td>127.115594</td>\n      <td>37.472332</td>\n      <td>NaN</td>\n    </tr>\n    <tr>\n      <th>131</th>\n      <td>132</td>\n      <td>서울로7017</td>\n      <td>서울로7017은 70년대 준공된 서울역 고가가 안전에 문제점이 도출되면서 철거가 될...</td>\n      <td>NaN</td>\n      <td>NaN</td>\n      <td>NaN</td>\n      <td>NaN</td>\n      <td>NaN</td>\n      <td>중림 만리동(서울로 종점부에서 진입) 지하철- 충정로(경기대입구) - 2 5호선 :...</td>\n      <td>NaN</td>\n      <td>http://parks.seoul.go.kr/file/info/view.do?fId...</td>\n      <td>중구</td>\n      <td>서울로7017</td>\n      <td>서울로운영단</td>\n      <td>02-313-7017</td>\n      <td>NaN</td>\n      <td>NaN</td>\n      <td>NaN</td>\n      <td>NaN</td>\n      <td>NaN</td>\n    </tr>\n  </tbody>\n</table>\n<p>132 rows × 20 columns</p>\n</div>"
          },
          "execution_count": 41,
          "metadata": {},
          "output_type": "execute_result"
        }
      ],
      "source": [
        "p = pd.read_csv('data/서울시 주요 공원현황.csv', encoding='euc-kr')\n",
        "p"
      ],
      "metadata": {
        "pycharm": {
          "name": "#%%\n"
        },
        "id": "jm0NYaWt8P-R",
        "outputId": "9faa8240-dfe1-4a2e-8e3c-f3ee691d3bcb"
      }
    },
    {
      "cell_type": "code",
      "execution_count": null,
      "outputs": [
        {
          "name": "stdout",
          "output_type": "stream",
          "text": [
            "<class 'pandas.core.frame.DataFrame'>\n",
            "RangeIndex: 132 entries, 0 to 131\n",
            "Data columns (total 20 columns):\n",
            " #   Column        Non-Null Count  Dtype  \n",
            "---  ------        --------------  -----  \n",
            " 0   연번            132 non-null    int64  \n",
            " 1   공원명           132 non-null    object \n",
            " 2   공원개요          131 non-null    object \n",
            " 3   면적            129 non-null    object \n",
            " 4   개원일           122 non-null    object \n",
            " 5   주요시설          124 non-null    object \n",
            " 6   주요식물          88 non-null     object \n",
            " 7   안내도           102 non-null    object \n",
            " 8   오시는길          115 non-null    object \n",
            " 9   이용시참고사항       120 non-null    object \n",
            " 10  이미지           132 non-null    object \n",
            " 11  지역            131 non-null    object \n",
            " 12  공원주소          132 non-null    object \n",
            " 13  관리부서          132 non-null    object \n",
            " 14  전화번호          132 non-null    object \n",
            " 15  X좌표(GRS80TM)  122 non-null    float64\n",
            " 16  Y좌표(GRS80TM)  122 non-null    float64\n",
            " 17  X좌표(WGS84)    131 non-null    float64\n",
            " 18  Y좌표(WGS84)    131 non-null    float64\n",
            " 19  바로가기          18 non-null     object \n",
            "dtypes: float64(4), int64(1), object(15)\n",
            "memory usage: 20.8+ KB\n"
          ]
        }
      ],
      "source": [
        "p.info()"
      ],
      "metadata": {
        "pycharm": {
          "name": "#%%\n"
        },
        "id": "6jKkYmL68P-R",
        "outputId": "7ea6c52e-8ffb-426a-857e-5b77ada8e0b0"
      }
    },
    {
      "cell_type": "code",
      "execution_count": null,
      "outputs": [
        {
          "data": {
            "text/plain": "                 공원명                                         면적   지역  \\\n0           남산도시자연공원  2896887 임 야 : 2454140 녹지대 및 기타시설 : 442747   중구   \n1             길동생태공원                                      80683  강동구   \n2              서울대공원                                    9132690  과천시   \n3                서울숲                                     480994  성동구   \n4              월드컵공원                                    2284085  마포구   \n..               ...                                        ...  ...   \n127  용마도시자연공원(사가정공원)                                    109635   중랑구   \n128           문화비축기지                                     140022  마포구   \n129            경춘선숲길                                     211392  NaN   \n130             율현공원                                     157535  강남구   \n131          서울로7017                                        NaN   중구   \n\n                              공원주소  \n0           서울특별시 중구 삼일대로 231(예장동)  \n1     서울특별시 강동구 천호대로 1291(길동생태공원)   \n2               경기도 과천시 대공원광장로 102  \n3       서울특별시 성동구 뚝섬로 273 (성수동1가)   \n4        서울특별시 마포구 하늘공원로 84(월드컵공원)  \n..                             ...  \n127            서울특별시 중랑구 면목7동 산50   \n128               서울특별시 마포구 증산로 87  \n129                노원구 공릉2동 산 82-2  \n130  서울특별시 강남구 율현동 밤고개로24길(율현동 56)  \n131                        서울로7017  \n\n[132 rows x 4 columns]",
            "text/html": "<div>\n<style scoped>\n    .dataframe tbody tr th:only-of-type {\n        vertical-align: middle;\n    }\n\n    .dataframe tbody tr th {\n        vertical-align: top;\n    }\n\n    .dataframe thead th {\n        text-align: right;\n    }\n</style>\n<table border=\"1\" class=\"dataframe\">\n  <thead>\n    <tr style=\"text-align: right;\">\n      <th></th>\n      <th>공원명</th>\n      <th>면적</th>\n      <th>지역</th>\n      <th>공원주소</th>\n    </tr>\n  </thead>\n  <tbody>\n    <tr>\n      <th>0</th>\n      <td>남산도시자연공원</td>\n      <td>2896887 임 야 : 2454140 녹지대 및 기타시설 : 442747</td>\n      <td>중구</td>\n      <td>서울특별시 중구 삼일대로 231(예장동)</td>\n    </tr>\n    <tr>\n      <th>1</th>\n      <td>길동생태공원</td>\n      <td>80683</td>\n      <td>강동구</td>\n      <td>서울특별시 강동구 천호대로 1291(길동생태공원)</td>\n    </tr>\n    <tr>\n      <th>2</th>\n      <td>서울대공원</td>\n      <td>9132690</td>\n      <td>과천시</td>\n      <td>경기도 과천시 대공원광장로 102</td>\n    </tr>\n    <tr>\n      <th>3</th>\n      <td>서울숲</td>\n      <td>480994</td>\n      <td>성동구</td>\n      <td>서울특별시 성동구 뚝섬로 273 (성수동1가)</td>\n    </tr>\n    <tr>\n      <th>4</th>\n      <td>월드컵공원</td>\n      <td>2284085</td>\n      <td>마포구</td>\n      <td>서울특별시 마포구 하늘공원로 84(월드컵공원)</td>\n    </tr>\n    <tr>\n      <th>...</th>\n      <td>...</td>\n      <td>...</td>\n      <td>...</td>\n      <td>...</td>\n    </tr>\n    <tr>\n      <th>127</th>\n      <td>용마도시자연공원(사가정공원)</td>\n      <td>109635</td>\n      <td>중랑구</td>\n      <td>서울특별시 중랑구 면목7동 산50</td>\n    </tr>\n    <tr>\n      <th>128</th>\n      <td>문화비축기지</td>\n      <td>140022</td>\n      <td>마포구</td>\n      <td>서울특별시 마포구 증산로 87</td>\n    </tr>\n    <tr>\n      <th>129</th>\n      <td>경춘선숲길</td>\n      <td>211392</td>\n      <td>NaN</td>\n      <td>노원구 공릉2동 산 82-2</td>\n    </tr>\n    <tr>\n      <th>130</th>\n      <td>율현공원</td>\n      <td>157535</td>\n      <td>강남구</td>\n      <td>서울특별시 강남구 율현동 밤고개로24길(율현동 56)</td>\n    </tr>\n    <tr>\n      <th>131</th>\n      <td>서울로7017</td>\n      <td>NaN</td>\n      <td>중구</td>\n      <td>서울로7017</td>\n    </tr>\n  </tbody>\n</table>\n<p>132 rows × 4 columns</p>\n</div>"
          },
          "execution_count": 43,
          "metadata": {},
          "output_type": "execute_result"
        }
      ],
      "source": [
        "p.drop(['연번', '공원개요', '개원일', '주요시설',\n",
        "        '주요식물', '안내도', '오시는길', '이용시참고사항',\n",
        "        '이미지', '전화번호', '관리부서', 'X좌표(GRS80TM)', 'Y좌표(GRS80TM)', 'X좌표(WGS84)', 'Y좌표(WGS84)', '바로가기'], axis=1, inplace=True)\n",
        "p"
      ],
      "metadata": {
        "pycharm": {
          "name": "#%%\n"
        },
        "id": "gT5k9u_H8P-S",
        "outputId": "a3906b93-1b6e-4648-cf16-2a684f054649"
      }
    },
    {
      "cell_type": "code",
      "execution_count": null,
      "outputs": [
        {
          "data": {
            "text/plain": "                 공원명                                     면적 (㎡)   지역  \\\n0           남산도시자연공원  2896887 임 야 : 2454140 녹지대 및 기타시설 : 442747   중구   \n1             길동생태공원                                      80683  강동구   \n2              서울대공원                                    9132690  과천시   \n3                서울숲                                     480994  성동구   \n4              월드컵공원                                    2284085  마포구   \n..               ...                                        ...  ...   \n127  용마도시자연공원(사가정공원)                                    109635   중랑구   \n128           문화비축기지                                     140022  마포구   \n129            경춘선숲길                                     211392  NaN   \n130             율현공원                                     157535  강남구   \n131          서울로7017                                        NaN   중구   \n\n                              공원주소  \n0           서울특별시 중구 삼일대로 231(예장동)  \n1     서울특별시 강동구 천호대로 1291(길동생태공원)   \n2               경기도 과천시 대공원광장로 102  \n3       서울특별시 성동구 뚝섬로 273 (성수동1가)   \n4        서울특별시 마포구 하늘공원로 84(월드컵공원)  \n..                             ...  \n127            서울특별시 중랑구 면목7동 산50   \n128               서울특별시 마포구 증산로 87  \n129                노원구 공릉2동 산 82-2  \n130  서울특별시 강남구 율현동 밤고개로24길(율현동 56)  \n131                        서울로7017  \n\n[132 rows x 4 columns]",
            "text/html": "<div>\n<style scoped>\n    .dataframe tbody tr th:only-of-type {\n        vertical-align: middle;\n    }\n\n    .dataframe tbody tr th {\n        vertical-align: top;\n    }\n\n    .dataframe thead th {\n        text-align: right;\n    }\n</style>\n<table border=\"1\" class=\"dataframe\">\n  <thead>\n    <tr style=\"text-align: right;\">\n      <th></th>\n      <th>공원명</th>\n      <th>면적 (㎡)</th>\n      <th>지역</th>\n      <th>공원주소</th>\n    </tr>\n  </thead>\n  <tbody>\n    <tr>\n      <th>0</th>\n      <td>남산도시자연공원</td>\n      <td>2896887 임 야 : 2454140 녹지대 및 기타시설 : 442747</td>\n      <td>중구</td>\n      <td>서울특별시 중구 삼일대로 231(예장동)</td>\n    </tr>\n    <tr>\n      <th>1</th>\n      <td>길동생태공원</td>\n      <td>80683</td>\n      <td>강동구</td>\n      <td>서울특별시 강동구 천호대로 1291(길동생태공원)</td>\n    </tr>\n    <tr>\n      <th>2</th>\n      <td>서울대공원</td>\n      <td>9132690</td>\n      <td>과천시</td>\n      <td>경기도 과천시 대공원광장로 102</td>\n    </tr>\n    <tr>\n      <th>3</th>\n      <td>서울숲</td>\n      <td>480994</td>\n      <td>성동구</td>\n      <td>서울특별시 성동구 뚝섬로 273 (성수동1가)</td>\n    </tr>\n    <tr>\n      <th>4</th>\n      <td>월드컵공원</td>\n      <td>2284085</td>\n      <td>마포구</td>\n      <td>서울특별시 마포구 하늘공원로 84(월드컵공원)</td>\n    </tr>\n    <tr>\n      <th>...</th>\n      <td>...</td>\n      <td>...</td>\n      <td>...</td>\n      <td>...</td>\n    </tr>\n    <tr>\n      <th>127</th>\n      <td>용마도시자연공원(사가정공원)</td>\n      <td>109635</td>\n      <td>중랑구</td>\n      <td>서울특별시 중랑구 면목7동 산50</td>\n    </tr>\n    <tr>\n      <th>128</th>\n      <td>문화비축기지</td>\n      <td>140022</td>\n      <td>마포구</td>\n      <td>서울특별시 마포구 증산로 87</td>\n    </tr>\n    <tr>\n      <th>129</th>\n      <td>경춘선숲길</td>\n      <td>211392</td>\n      <td>NaN</td>\n      <td>노원구 공릉2동 산 82-2</td>\n    </tr>\n    <tr>\n      <th>130</th>\n      <td>율현공원</td>\n      <td>157535</td>\n      <td>강남구</td>\n      <td>서울특별시 강남구 율현동 밤고개로24길(율현동 56)</td>\n    </tr>\n    <tr>\n      <th>131</th>\n      <td>서울로7017</td>\n      <td>NaN</td>\n      <td>중구</td>\n      <td>서울로7017</td>\n    </tr>\n  </tbody>\n</table>\n<p>132 rows × 4 columns</p>\n</div>"
          },
          "execution_count": 44,
          "metadata": {},
          "output_type": "execute_result"
        }
      ],
      "source": [
        "p.columns = ['공원명', '면적 (㎡)', '지역', '공원주소']\n",
        "p"
      ],
      "metadata": {
        "pycharm": {
          "name": "#%%\n"
        },
        "id": "J5mzc6Z48P-S",
        "outputId": "6b9a1af0-4763-4e88-903d-5309cc763ec1"
      }
    },
    {
      "cell_type": "code",
      "execution_count": null,
      "outputs": [],
      "source": [
        "p.to_csv('data/park.csv', index=False)"
      ],
      "metadata": {
        "pycharm": {
          "name": "#%%\n"
        },
        "id": "iyEGKjMC8P-S"
      }
    },
    {
      "cell_type": "code",
      "execution_count": null,
      "outputs": [
        {
          "data": {
            "text/plain": "                 공원명   지역                           공원주소\n0           남산도시자연공원   중구         서울특별시 중구 삼일대로 231(예장동)\n1             길동생태공원  강동구   서울특별시 강동구 천호대로 1291(길동생태공원) \n2              서울대공원  과천시             경기도 과천시 대공원광장로 102\n3                서울숲  성동구     서울특별시 성동구 뚝섬로 273 (성수동1가) \n4              월드컵공원  마포구      서울특별시 마포구 하늘공원로 84(월드컵공원)\n..               ...  ...                            ...\n127  용마도시자연공원(사가정공원)  중랑구            서울특별시 중랑구 면목7동 산50 \n128           문화비축기지  마포구               서울특별시 마포구 증산로 87\n129            경춘선숲길  NaN                노원구 공릉2동 산 82-2\n130             율현공원  강남구  서울특별시 강남구 율현동 밤고개로24길(율현동 56)\n131          서울로7017   중구                        서울로7017\n\n[132 rows x 3 columns]",
            "text/html": "<div>\n<style scoped>\n    .dataframe tbody tr th:only-of-type {\n        vertical-align: middle;\n    }\n\n    .dataframe tbody tr th {\n        vertical-align: top;\n    }\n\n    .dataframe thead th {\n        text-align: right;\n    }\n</style>\n<table border=\"1\" class=\"dataframe\">\n  <thead>\n    <tr style=\"text-align: right;\">\n      <th></th>\n      <th>공원명</th>\n      <th>지역</th>\n      <th>공원주소</th>\n    </tr>\n  </thead>\n  <tbody>\n    <tr>\n      <th>0</th>\n      <td>남산도시자연공원</td>\n      <td>중구</td>\n      <td>서울특별시 중구 삼일대로 231(예장동)</td>\n    </tr>\n    <tr>\n      <th>1</th>\n      <td>길동생태공원</td>\n      <td>강동구</td>\n      <td>서울특별시 강동구 천호대로 1291(길동생태공원)</td>\n    </tr>\n    <tr>\n      <th>2</th>\n      <td>서울대공원</td>\n      <td>과천시</td>\n      <td>경기도 과천시 대공원광장로 102</td>\n    </tr>\n    <tr>\n      <th>3</th>\n      <td>서울숲</td>\n      <td>성동구</td>\n      <td>서울특별시 성동구 뚝섬로 273 (성수동1가)</td>\n    </tr>\n    <tr>\n      <th>4</th>\n      <td>월드컵공원</td>\n      <td>마포구</td>\n      <td>서울특별시 마포구 하늘공원로 84(월드컵공원)</td>\n    </tr>\n    <tr>\n      <th>...</th>\n      <td>...</td>\n      <td>...</td>\n      <td>...</td>\n    </tr>\n    <tr>\n      <th>127</th>\n      <td>용마도시자연공원(사가정공원)</td>\n      <td>중랑구</td>\n      <td>서울특별시 중랑구 면목7동 산50</td>\n    </tr>\n    <tr>\n      <th>128</th>\n      <td>문화비축기지</td>\n      <td>마포구</td>\n      <td>서울특별시 마포구 증산로 87</td>\n    </tr>\n    <tr>\n      <th>129</th>\n      <td>경춘선숲길</td>\n      <td>NaN</td>\n      <td>노원구 공릉2동 산 82-2</td>\n    </tr>\n    <tr>\n      <th>130</th>\n      <td>율현공원</td>\n      <td>강남구</td>\n      <td>서울특별시 강남구 율현동 밤고개로24길(율현동 56)</td>\n    </tr>\n    <tr>\n      <th>131</th>\n      <td>서울로7017</td>\n      <td>중구</td>\n      <td>서울로7017</td>\n    </tr>\n  </tbody>\n</table>\n<p>132 rows × 3 columns</p>\n</div>"
          },
          "execution_count": 13,
          "metadata": {},
          "output_type": "execute_result"
        }
      ],
      "source": [
        "park = pd.read_csv('data/park.csv')\n",
        "park"
      ],
      "metadata": {
        "pycharm": {
          "name": "#%%\n"
        },
        "id": "de8fDSVN8P-S",
        "outputId": "fe4d631a-d0bf-4428-b1c5-58dd74d51bf1"
      }
    },
    {
      "cell_type": "code",
      "execution_count": null,
      "outputs": [],
      "source": [
        "pcount = park.groupby(['지역'])['공원명'].count()"
      ],
      "metadata": {
        "pycharm": {
          "name": "#%%\n"
        },
        "id": "LYiZLWEM8P-S"
      }
    },
    {
      "cell_type": "code",
      "execution_count": null,
      "outputs": [
        {
          "data": {
            "text/plain": "<Figure size 432x288 with 1 Axes>",
            "image/png": "[encoded data removed]"
          },
          "metadata": {
            "needs_background": "light"
          },
          "output_type": "display_data"
        }
      ],
      "source": [
        "# 지역별 공원 수\n",
        "plt.plot(pcount)\n",
        "plt.xticks(rotation=90)\n",
        "plt.show()"
      ],
      "metadata": {
        "pycharm": {
          "name": "#%%\n"
        },
        "id": "Z2fi9QKe8P-T",
        "outputId": "9886dbf9-c31a-4aa2-f315-0dd19c3d04ae"
      }
    },
    {
      "cell_type": "code",
      "execution_count": null,
      "outputs": [],
      "source": [
        "gpmean = dust.groupby(['측정소명'])['미세먼지(㎍/㎥)'].mean()"
      ],
      "metadata": {
        "pycharm": {
          "name": "#%%\n"
        },
        "id": "m8MN0pfP8P-T"
      }
    },
    {
      "cell_type": "code",
      "execution_count": null,
      "outputs": [
        {
          "data": {
            "text/plain": "<Figure size 432x288 with 1 Axes>",
            "image/png": "[encoded data removed]"
          },
          "metadata": {
            "needs_background": "light"
          },
          "output_type": "display_data"
        }
      ],
      "source": [
        "# 구별 미세먼지 평균\n",
        "plt.plot(gpmean)\n",
        "plt.xticks(rotation=90)\n",
        "plt.show()"
      ],
      "metadata": {
        "pycharm": {
          "name": "#%%\n"
        },
        "id": "tlpAMhoZ8P-T",
        "outputId": "563e7857-cf35-467a-d223-93b7fa9d526b"
      }
    },
    {
      "cell_type": "code",
      "execution_count": null,
      "outputs": [],
      "source": [
        "gpmean2 = dust.groupby(['측정소명'])['초미세먼지(㎍/㎥)'].mean()"
      ],
      "metadata": {
        "pycharm": {
          "name": "#%%\n"
        },
        "id": "5EyQKE8F8P-T"
      }
    },
    {
      "cell_type": "code",
      "execution_count": null,
      "outputs": [
        {
          "data": {
            "text/plain": "<Figure size 432x288 with 1 Axes>",
            "image/png": "[encoded data removed]"
          },
          "metadata": {
            "needs_background": "light"
          },
          "output_type": "display_data"
        }
      ],
      "source": [
        "# 구별 초미세먼지 평균\n",
        "plt.plot(gpmean2)\n",
        "plt.xticks(rotation=90)\n",
        "plt.show()"
      ],
      "metadata": {
        "pycharm": {
          "name": "#%%\n"
        },
        "id": "bvhs_6gm8P-T",
        "outputId": "de5ba8d3-3b91-4adb-d37f-d1415a42fb14"
      }
    },
    {
      "cell_type": "code",
      "execution_count": null,
      "outputs": [],
      "source": [
        "gpmax = dust.groupby(['측정소명'])['미세먼지(㎍/㎥)'].max()"
      ],
      "metadata": {
        "pycharm": {
          "name": "#%%\n"
        },
        "id": "eUE09NXf8P-T"
      }
    },
    {
      "cell_type": "code",
      "execution_count": null,
      "outputs": [
        {
          "data": {
            "text/plain": "<Figure size 432x288 with 1 Axes>",
            "image/png": "[encoded data removed]"
          },
          "metadata": {
            "needs_background": "light"
          },
          "output_type": "display_data"
        }
      ],
      "source": [
        "# 구별 미세먼지 최대치\n",
        "plt.plot(gpmax)\n",
        "plt.xticks(rotation=90)\n",
        "plt.show()"
      ],
      "metadata": {
        "pycharm": {
          "name": "#%%\n"
        },
        "id": "smRWBEMP8P-T",
        "outputId": "620937ae-bb92-4d4f-aa26-a99caf610105"
      }
    },
    {
      "cell_type": "code",
      "execution_count": null,
      "outputs": [],
      "source": [
        "gpmin = dust.groupby(['측정소명'])['미세먼지(㎍/㎥)'].min()"
      ],
      "metadata": {
        "pycharm": {
          "name": "#%%\n"
        },
        "id": "nV78G1Ap8P-U"
      }
    },
    {
      "cell_type": "code",
      "execution_count": null,
      "outputs": [
        {
          "data": {
            "text/plain": "<Figure size 432x288 with 1 Axes>",
            "image/png": "[encoded data removed]"
          },
          "metadata": {
            "needs_background": "light"
          },
          "output_type": "display_data"
        }
      ],
      "source": [
        "# 구별 미세먼지 최소치\n",
        "plt.plot(gpmin)\n",
        "plt.xticks(rotation=90)\n",
        "plt.show()"
      ],
      "metadata": {
        "pycharm": {
          "name": "#%%\n"
        },
        "id": "6xVM6q7h8P-U",
        "outputId": "7408f845-0ed8-4427-db8d-dc92e1e26d46"
      }
    },
    {
      "cell_type": "code",
      "execution_count": null,
      "outputs": [],
      "source": [
        "gpmax2 = dust.groupby(['측정소명'])['초미세먼지(㎍/㎥)'].max()"
      ],
      "metadata": {
        "pycharm": {
          "name": "#%%\n"
        },
        "id": "qXY-l0RZ8P-U"
      }
    },
    {
      "cell_type": "code",
      "execution_count": null,
      "outputs": [
        {
          "data": {
            "text/plain": "<Figure size 432x288 with 1 Axes>",
            "image/png": "[encoded data removed]"
          },
          "metadata": {
            "needs_background": "light"
          },
          "output_type": "display_data"
        }
      ],
      "source": [
        "# 구별 초미세먼지 최대치\n",
        "plt.plot(gpmax2)\n",
        "plt.xticks(rotation=90)\n",
        "plt.show()"
      ],
      "metadata": {
        "pycharm": {
          "name": "#%%\n"
        },
        "id": "Fx49kdX48P-U",
        "outputId": "c3024018-9357-485c-9c1c-59e16923f714"
      }
    },
    {
      "cell_type": "code",
      "execution_count": null,
      "outputs": [],
      "source": [
        "gpmin2 = dust.groupby(['측정소명'])['초미세먼지(㎍/㎥)'].min()"
      ],
      "metadata": {
        "pycharm": {
          "name": "#%%\n"
        },
        "id": "FeX-EqA98P-U"
      }
    },
    {
      "cell_type": "code",
      "execution_count": null,
      "outputs": [
        {
          "data": {
            "text/plain": "<Figure size 432x288 with 1 Axes>",
            "image/png": "[encoded data removed]"
          },
          "metadata": {
            "needs_background": "light"
          },
          "output_type": "display_data"
        }
      ],
      "source": [
        "# 구별 초미세먼지 최소치\n",
        "plt.plot(gpmin2)\n",
        "plt.xticks(rotation=90)\n",
        "plt.show()"
      ],
      "metadata": {
        "pycharm": {
          "name": "#%%\n"
        },
        "id": "9Qzl6MRc8P-V",
        "outputId": "e5da7ad4-844a-493c-d04d-fdee71ca494d"
      }
    }
  ],
  "metadata": {
    "kernelspec": {
      "display_name": "Python 3",
      "language": "python",
      "name": "python3"
    },
    "language_info": {
      "codemirror_mode": {
        "name": "ipython",
        "version": 2
      },
      "file_extension": ".py",
      "mimetype": "text/x-python",
      "name": "python",
      "nbconvert_exporter": "python",
      "pygments_lexer": "ipython2",
      "version": "2.7.6"
    },
    "colab": {
      "provenance": [],
      "include_colab_link": true
    }
  },
  "nbformat": 4,
  "nbformat_minor": 0
}