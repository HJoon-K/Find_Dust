{
  "cells": [
    {
      "cell_type": "markdown",
      "metadata": {
        "id": "view-in-github",
        "colab_type": "text"
      },
      "source": [
        "<a href=\"https://colab.research.google.com/github/HJoon-K/Find_Dust/blob/yang/yjh.ipynb\" target=\"_parent\"><img src=\"https://colab.research.google.com/assets/colab-badge.svg\" alt=\"Open In Colab\"/></a>"
      ]
    },
    {
      "cell_type": "code",
      "execution_count": null,
      "outputs": [],
      "source": [
        "import matplotlib\n",
        "import numpy as np\n",
        "import pandas as pd\n",
        "import seaborn as sns\n",
        "import matplotlib.pyplot as plt"
      ],
      "metadata": {
        "pycharm": {
          "name": "#%%\n"
        },
        "id": "xe2j1goquveq"
      }
    },
    {
      "cell_type": "code",
      "execution_count": null,
      "outputs": [],
      "source": [
        "from sklearn.preprocessing import StandardScaler, MinMaxScaler, LabelEncoder\n",
        "\n",
        "from sklearn.model_selection import train_test_split, cross_val_score\n",
        "\n",
        "from sklearn.tree import DecisionTreeClassifier\n",
        "from sklearn.ensemble import RandomForestClassifier\n",
        "from sklearn.linear_model import LogisticRegression\n",
        "from sklearn.linear_model import LinearRegression\n",
        "from sklearn.naive_bayes import BernoulliNB, MultinomialNB\n",
        "from sklearn.neighbors import KNeighborsClassifier\n",
        "from sklearn.cluster import KMeans\n",
        "from sklearn.cluster import AgglomerativeClustering\n",
        "\n",
        "from sklearn.metrics import accuracy_score, recall_score, precision_score\n",
        "from sklearn.metrics import confusion_matrix, classification_report\n",
        "from sklearn.metrics import mean_squared_error, r2_score\n",
        "from sklearn.metrics import silhouette_score\n",
        "\n",
        "from scipy.cluster.hierarchy import dendrogram\n",
        "from scipy.cluster.hierarchy import linkage, fcluster\n",
        "\n",
        "from sklearn.feature_extraction.text import CountVectorizer\n",
        "from sklearn.feature_extraction.text import TfidfVectorizer"
      ],
      "metadata": {
        "pycharm": {
          "name": "#%%\n"
        },
        "id": "F6qRzlVkuver"
      }
    },
    {
      "cell_type": "code",
      "execution_count": null,
      "outputs": [],
      "source": [
        "# 경고 메세지 감춤\n",
        "import warnings\n",
        "warnings.filterwarnings('ignore')"
      ],
      "metadata": {
        "pycharm": {
          "name": "#%%\n"
        },
        "id": "WcK-0aGSuvet"
      }
    },
    {
      "cell_type": "code",
      "execution_count": null,
      "outputs": [],
      "source": [
        "dust16 = pd.read_excel('data/기간별_일평균_대기환경_정보_2016년.xlsx')\n",
        "dust16"
      ],
      "metadata": {
        "pycharm": {
          "name": "#%%\n",
          "is_executing": true
        },
        "id": "FjvcJpa6uvet"
      }
    },
    {
      "cell_type": "code",
      "execution_count": null,
      "outputs": [],
      "source": [
        "dust16.info()"
      ],
      "metadata": {
        "pycharm": {
          "name": "#%%\n"
        },
        "id": "WbCMWLbsuveu"
      }
    },
    {
      "cell_type": "code",
      "execution_count": null,
      "outputs": [],
      "source": [
        "dust16.drop('권역명', axis=1, inplace=True)\n",
        "dust16.drop('오존(ppm)', axis=1, inplace=True)\n",
        "dust16.drop('이산화질소농도(ppm)', axis=1, inplace=True)\n",
        "dust16.drop('일산화탄소농도(ppm)', axis=1, inplace=True)\n",
        "dust16.drop('아황산가스농도(ppm)', axis=1, inplace=True)\n",
        "dust16"
      ],
      "metadata": {
        "pycharm": {
          "name": "#%%\n"
        },
        "id": "GwRVIugouveu"
      }
    },
    {
      "cell_type": "code",
      "execution_count": null,
      "outputs": [],
      "source": [
        "dust16.columns = ['date', 'gu', 'PM10', 'PM25']\n",
        "dust16"
      ],
      "metadata": {
        "pycharm": {
          "name": "#%%\n"
        },
        "id": "337tltIRuvev"
      }
    },
    {
      "cell_type": "code",
      "execution_count": null,
      "outputs": [],
      "source": [
        "dust16.to_csv('data/dust2016.csv', index=False)"
      ],
      "metadata": {
        "pycharm": {
          "name": "#%%\n"
        },
        "id": "-SuQToqouvew"
      }
    },
    {
      "cell_type": "code",
      "execution_count": null,
      "outputs": [],
      "source": [
        "dust2016 = pd.read_csv('data/dust2016.csv')\n",
        "dust2016"
      ],
      "metadata": {
        "pycharm": {
          "name": "#%%\n"
        },
        "id": "-M2Z6xJIuvew"
      }
    },
    {
      "cell_type": "code",
      "execution_count": null,
      "outputs": [],
      "source": [
        "dust17 = pd.read_excel('data/기간별_일평균_대기환경_정보_2017년.xlsx')\n",
        "dust17"
      ],
      "metadata": {
        "pycharm": {
          "name": "#%%\n"
        },
        "id": "wPD_Kh4Auvex"
      }
    },
    {
      "cell_type": "code",
      "execution_count": null,
      "outputs": [],
      "source": [
        "dust17.info()"
      ],
      "metadata": {
        "pycharm": {
          "name": "#%%\n"
        },
        "id": "j87TXItouvey"
      }
    },
    {
      "cell_type": "code",
      "execution_count": null,
      "outputs": [],
      "source": [
        "dust17.drop('권역명', axis=1, inplace=True)\n",
        "dust17.drop('오존(ppm)', axis=1, inplace=True)\n",
        "dust17.drop('이산화질소농도(ppm)', axis=1, inplace=True)\n",
        "dust17.drop('일산화탄소농도(ppm)', axis=1, inplace=True)\n",
        "dust17.drop('아황산가스농도(ppm)', axis=1, inplace=True)\n",
        "dust17"
      ],
      "metadata": {
        "pycharm": {
          "name": "#%%\n"
        },
        "id": "2quJCVWjuvey"
      }
    },
    {
      "cell_type": "code",
      "execution_count": null,
      "outputs": [],
      "source": [
        "dust17.columns = ['date', 'gu', 'PM10', 'PM25']\n",
        "dust17"
      ],
      "metadata": {
        "pycharm": {
          "name": "#%%\n"
        },
        "id": "2rwY6Y5Xuvez"
      }
    },
    {
      "cell_type": "code",
      "execution_count": null,
      "outputs": [],
      "source": [
        "dust17.to_csv('data/dust2017.csv', index=False)"
      ],
      "metadata": {
        "pycharm": {
          "name": "#%%\n"
        },
        "id": "kHrit7UNuvez"
      }
    },
    {
      "cell_type": "code",
      "execution_count": null,
      "outputs": [],
      "source": [
        "dust2017 = pd.read_csv('data/dust2017.csv')\n",
        "dust2017"
      ],
      "metadata": {
        "pycharm": {
          "name": "#%%\n"
        },
        "id": "R1FlnZBzuvez"
      }
    },
    {
      "cell_type": "code",
      "execution_count": null,
      "outputs": [],
      "source": [
        "dust18 = pd.read_csv('data/기간별_일평균_대기환경_정보_2018년.csv', encoding='euc-kr')\n",
        "dust18"
      ],
      "metadata": {
        "pycharm": {
          "name": "#%%\n"
        },
        "id": "n9_nc4ZVuvez"
      }
    },
    {
      "cell_type": "code",
      "execution_count": null,
      "outputs": [],
      "source": [
        "dust18.info()"
      ],
      "metadata": {
        "pycharm": {
          "name": "#%%\n"
        },
        "id": "g5AG2UHCuve0"
      }
    },
    {
      "cell_type": "code",
      "execution_count": null,
      "outputs": [],
      "source": [
        "dust18.drop('권역코드', axis=1, inplace=True)\n",
        "dust18.drop('권역명', axis=1, inplace=True)\n",
        "dust18.drop('측정소코드', axis=1, inplace=True)\n",
        "dust18.drop('오존(ppm)', axis=1, inplace=True)\n",
        "dust18.drop('이산화질소농도(ppm)', axis=1, inplace=True)\n",
        "dust18.drop('일산화탄소농도(ppm)', axis=1, inplace=True)\n",
        "dust18.drop('아황산가스농도(ppm)', axis=1, inplace=True)\n",
        "dust18"
      ],
      "metadata": {
        "pycharm": {
          "name": "#%%\n"
        },
        "id": "_PeTjsQEuve0"
      }
    },
    {
      "cell_type": "code",
      "execution_count": null,
      "outputs": [],
      "source": [
        "dust18.columns = ['date', 'gu', 'PM10', 'PM25']\n",
        "dust18"
      ],
      "metadata": {
        "pycharm": {
          "name": "#%%\n"
        },
        "id": "To0E36V2uve0"
      }
    },
    {
      "cell_type": "code",
      "execution_count": null,
      "outputs": [],
      "source": [
        "dust18.to_csv('data/dust2018.csv', index=False)"
      ],
      "metadata": {
        "pycharm": {
          "name": "#%%\n"
        },
        "id": "Sx-zbqK8uve1"
      }
    },
    {
      "cell_type": "code",
      "execution_count": null,
      "outputs": [],
      "source": [
        "dust2018 = pd.read_csv('data/dust2018.csv')\n",
        "dust2018"
      ],
      "metadata": {
        "pycharm": {
          "name": "#%%\n"
        },
        "id": "VlY11l1Euve1"
      }
    },
    {
      "cell_type": "code",
      "execution_count": null,
      "outputs": [],
      "source": [
        "dust19 = pd.read_csv('data/기간별_일평균_대기환경_정보_2019년.csv', encoding='euc-kr')\n",
        "dust19"
      ],
      "metadata": {
        "pycharm": {
          "name": "#%%\n",
          "is_executing": true
        },
        "id": "gtn_8oGkuve1"
      }
    },
    {
      "cell_type": "code",
      "execution_count": null,
      "outputs": [],
      "source": [
        "dust19.info()"
      ],
      "metadata": {
        "pycharm": {
          "name": "#%%\n"
        },
        "id": "9GoGZHzvuve1"
      }
    },
    {
      "cell_type": "code",
      "execution_count": null,
      "outputs": [],
      "source": [
        "dust19.drop('권역코드', axis=1, inplace=True)\n",
        "dust19.drop('권역명', axis=1, inplace=True)\n",
        "dust19.drop('측정소코드', axis=1, inplace=True)\n",
        "dust19.drop('오존(ppm)', axis=1, inplace=True)\n",
        "dust19.drop('이산화질소농도(ppm)', axis=1, inplace=True)\n",
        "dust19.drop('일산화탄소농도(ppm)', axis=1, inplace=True)\n",
        "dust19.drop('아황산가스농도(ppm)', axis=1, inplace=True)\n",
        "dust19"
      ],
      "metadata": {
        "pycharm": {
          "name": "#%%\n"
        },
        "id": "eTvPkZpwuve2"
      }
    },
    {
      "cell_type": "code",
      "execution_count": null,
      "outputs": [],
      "source": [
        "dust19.columns = ['date', 'gu', 'PM10', 'PM25']\n",
        "dust19"
      ],
      "metadata": {
        "pycharm": {
          "name": "#%%\n"
        },
        "id": "b4fL1QVvuve2"
      }
    },
    {
      "cell_type": "code",
      "execution_count": null,
      "outputs": [],
      "source": [
        "dust19.to_csv('data/dust2019.csv', index=False)"
      ],
      "metadata": {
        "pycharm": {
          "name": "#%%\n"
        },
        "id": "SXJWCRl2uve2"
      }
    },
    {
      "cell_type": "code",
      "execution_count": null,
      "outputs": [],
      "source": [
        "dust2019 = pd.read_csv('data/dust2019.csv')\n",
        "dust2019"
      ],
      "metadata": {
        "pycharm": {
          "name": "#%%\n"
        },
        "id": "XUgsEegGuve2"
      }
    },
    {
      "cell_type": "code",
      "execution_count": null,
      "outputs": [],
      "source": [
        "dust20 = pd.read_csv('data/기간별_일평균_대기환경_정보_2020년.csv', encoding='euc-kr')\n",
        "dust20"
      ],
      "metadata": {
        "pycharm": {
          "name": "#%%\n"
        },
        "id": "C1jkoZENuve3"
      }
    },
    {
      "cell_type": "code",
      "execution_count": null,
      "outputs": [],
      "source": [
        "dust20.info()"
      ],
      "metadata": {
        "pycharm": {
          "name": "#%%\n"
        },
        "id": "GzIECImZuve3"
      }
    },
    {
      "cell_type": "code",
      "execution_count": null,
      "outputs": [],
      "source": [
        "dust20.drop('권역코드', axis=1, inplace=True)\n",
        "dust20.drop('권역명', axis=1, inplace=True)\n",
        "dust20.drop('측정소코드', axis=1, inplace=True)\n",
        "dust20.drop('오존(ppm)', axis=1, inplace=True)\n",
        "dust20.drop('이산화질소농도(ppm)', axis=1, inplace=True)\n",
        "dust20.drop('일산화탄소농도(ppm)', axis=1, inplace=True)\n",
        "dust20.drop('아황산가스농도(ppm)', axis=1, inplace=True)\n",
        "dust20"
      ],
      "metadata": {
        "pycharm": {
          "name": "#%%\n"
        },
        "id": "WJkgDvpJuve3"
      }
    },
    {
      "cell_type": "code",
      "execution_count": null,
      "outputs": [],
      "source": [
        "dust20.columns = ['date', 'gu', 'PM10', 'PM25']\n",
        "dust20"
      ],
      "metadata": {
        "pycharm": {
          "name": "#%%\n"
        },
        "id": "P0MiocNnuve3"
      }
    },
    {
      "cell_type": "code",
      "execution_count": null,
      "outputs": [],
      "source": [
        "dust20.to_csv('data/dust2020.csv', index=False)"
      ],
      "metadata": {
        "pycharm": {
          "name": "#%%\n"
        },
        "id": "3_pQfRQNuve4"
      }
    },
    {
      "cell_type": "code",
      "execution_count": null,
      "outputs": [],
      "source": [
        "dust2020 = pd.read_csv('data/dust2020.csv')\n",
        "dust2020"
      ],
      "metadata": {
        "pycharm": {
          "name": "#%%\n"
        },
        "id": "_pNRKzrTuve4"
      }
    },
    {
      "cell_type": "code",
      "execution_count": null,
      "outputs": [],
      "source": [
        "ra = pd.read_csv('data/도로현황(도로율).csv', header=1)\n",
        "ra"
      ],
      "metadata": {
        "pycharm": {
          "name": "#%%\n"
        },
        "id": "62cGQEhkuve4"
      }
    },
    {
      "cell_type": "code",
      "execution_count": null,
      "outputs": [],
      "source": [
        "ra.info()"
      ],
      "metadata": {
        "pycharm": {
          "name": "#%%\n"
        },
        "id": "RXh4fNR2uve5"
      }
    },
    {
      "cell_type": "code",
      "execution_count": null,
      "outputs": [],
      "source": [
        "ra.drop('자치구별(1)', axis=1, inplace=True)\n",
        "ra.drop('도로연장 (km)', axis=1, inplace=True)\n",
        "ra.columns = ['자치구별', '도로면적 (㎢)', '도로율 (%)']\n",
        "ra.drop([0], axis=0, inplace=True)\n",
        "ra"
      ],
      "metadata": {
        "pycharm": {
          "name": "#%%\n"
        },
        "id": "3ZIrXqJ9uve5"
      }
    },
    {
      "cell_type": "code",
      "execution_count": null,
      "outputs": [],
      "source": [
        "ra.to_csv('data/road_area.csv', index=False)"
      ],
      "metadata": {
        "pycharm": {
          "name": "#%%\n"
        },
        "id": "PeqHs7pOuve5"
      }
    },
    {
      "cell_type": "code",
      "execution_count": null,
      "outputs": [],
      "source": [
        "road_area = pd.read_csv('data/road_area.csv')\n",
        "road_area"
      ],
      "metadata": {
        "pycharm": {
          "name": "#%%\n"
        },
        "id": "V5qd4aPiuve5"
      }
    },
    {
      "cell_type": "code",
      "execution_count": null,
      "outputs": [],
      "source": [
        "p = pd.read_csv('data/서울시 주요 공원현황.csv', encoding='euc-kr')\n",
        "p"
      ],
      "metadata": {
        "pycharm": {
          "name": "#%%\n",
          "is_executing": true
        },
        "id": "Ct81z2X3uve5"
      }
    },
    {
      "cell_type": "code",
      "execution_count": null,
      "outputs": [],
      "source": [
        "p.info()"
      ],
      "metadata": {
        "pycharm": {
          "name": "#%%\n",
          "is_executing": true
        },
        "id": "4Ei29XFwuve6"
      }
    },
    {
      "cell_type": "code",
      "execution_count": null,
      "outputs": [],
      "source": [
        "p.drop(['연번', '공원개요', '면적', '개원일', '주요시설',\n",
        "        '주요식물', '안내도', '오시는길', '이용시참고사항',\n",
        "        '이미지', '전화번호', '관리부서', 'X좌표(GRS80TM)', 'Y좌표(GRS80TM)', 'X좌표(WGS84)', 'Y좌표(WGS84)', '바로가기'], axis=1, inplace=True)\n",
        "p"
      ],
      "metadata": {
        "pycharm": {
          "name": "#%%\n",
          "is_executing": true
        },
        "id": "6KGlDxApuve6"
      }
    },
    {
      "cell_type": "code",
      "execution_count": null,
      "outputs": [],
      "source": [
        "p.to_csv('data/park.csv', index=False)"
      ],
      "metadata": {
        "pycharm": {
          "name": "#%%\n"
        },
        "id": "OxdJ3ZoKuve6"
      }
    },
    {
      "cell_type": "code",
      "execution_count": null,
      "outputs": [],
      "source": [
        "park = pd.read_csv('data/park.csv')\n",
        "park"
      ],
      "metadata": {
        "pycharm": {
          "name": "#%%\n",
          "is_executing": true
        },
        "id": "v3-1DyW_uve6"
      }
    }
  ],
  "metadata": {
    "kernelspec": {
      "display_name": "Python 3",
      "language": "python",
      "name": "python3"
    },
    "language_info": {
      "codemirror_mode": {
        "name": "ipython",
        "version": 2
      },
      "file_extension": ".py",
      "mimetype": "text/x-python",
      "name": "python",
      "nbconvert_exporter": "python",
      "pygments_lexer": "ipython2",
      "version": "2.7.6"
    },
    "colab": {
      "provenance": [],
      "include_colab_link": true
    }
  },
  "nbformat": 4,
  "nbformat_minor": 0
}